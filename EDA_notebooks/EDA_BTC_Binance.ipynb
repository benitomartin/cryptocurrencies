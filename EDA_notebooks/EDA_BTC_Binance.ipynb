{
 "cells": [
  {
   "cell_type": "markdown",
   "metadata": {
    "id": "ZsFo9lg_3ZQg"
   },
   "source": [
    "# Install libraries"
   ]
  },
  {
   "cell_type": "code",
   "execution_count": 1,
   "metadata": {
    "id": "eL1TyrbpWT6Y"
   },
   "outputs": [],
   "source": [
    "# Library required for displaying static images with plotly\n",
    "\n",
    "# !pip install -U kaleido"
   ]
  },
  {
   "cell_type": "markdown",
   "metadata": {
    "id": "cfiJuMV7AjPk"
   },
   "source": [
    "# Import Libraries"
   ]
  },
  {
   "cell_type": "code",
   "execution_count": 2,
   "metadata": {
    "id": "BFrpy0jt8WXh"
   },
   "outputs": [],
   "source": [
    "#Load the required libraries\n",
    "\n",
    "import pandas as pd\n",
    "from datetime import datetime\n",
    "\n",
    "import seaborn as sns\n",
    "import matplotlib.pyplot as plt\n",
    "import plotly.express as px\n",
    "import plotly.graph_objects as go\n",
    "from plotly.subplots import make_subplots\n",
    "plt.style.use('seaborn-v0_8-darkgrid')\n",
    "\n",
    "from statsmodels.tsa.seasonal import seasonal_decompose\n",
    "from statsmodels.tsa.stattools import kpss\n",
    "from statsmodels.tsa.stattools import adfuller\n",
    "from statsmodels.graphics.tsaplots import plot_acf, plot_pacf\n",
    "\n",
    "from pmdarima.arima.utils import ndiffs\n",
    "import pmdarima as pm\n",
    "\n",
    "import warnings\n",
    "\n",
    "warnings.filterwarnings(\"ignore\")"
   ]
  },
  {
   "cell_type": "code",
   "execution_count": 3,
   "metadata": {
    "id": "zFqxtd5_8ZGw"
   },
   "outputs": [],
   "source": [
    "# # comment this cell if you don't mind to displaying static plotly charts on github\n",
    "\n",
    "# import plotly.io as pio\n",
    "# pio.renderers.default = \"png\""
   ]
  },
  {
   "cell_type": "markdown",
   "metadata": {
    "id": "rgQgYuXSAoz7"
   },
   "source": [
    "# Import Data"
   ]
  },
  {
   "cell_type": "code",
   "execution_count": 4,
   "metadata": {
    "id": "HzN89euZ8xfW"
   },
   "outputs": [],
   "source": [
    "df = pd.read_csv(\"../data/BTCUSDT_final.csv\")"
   ]
  },
  {
   "cell_type": "code",
   "execution_count": 5,
   "metadata": {
    "colab": {
     "base_uri": "https://localhost:8080/",
     "height": 206
    },
    "id": "BtZNGY9aXPnV",
    "outputId": "e5547fee-a40d-4ab6-ba27-d632b02331da"
   },
   "outputs": [
    {
     "data": {
      "text/html": [
       "<div>\n",
       "<style scoped>\n",
       "    .dataframe tbody tr th:only-of-type {\n",
       "        vertical-align: middle;\n",
       "    }\n",
       "\n",
       "    .dataframe tbody tr th {\n",
       "        vertical-align: top;\n",
       "    }\n",
       "\n",
       "    .dataframe thead th {\n",
       "        text-align: right;\n",
       "    }\n",
       "</style>\n",
       "<table border=\"1\" class=\"dataframe\">\n",
       "  <thead>\n",
       "    <tr style=\"text-align: right;\">\n",
       "      <th></th>\n",
       "      <th>open_time</th>\n",
       "      <th>open</th>\n",
       "      <th>high</th>\n",
       "      <th>low</th>\n",
       "      <th>close</th>\n",
       "      <th>volume</th>\n",
       "      <th>close_time</th>\n",
       "      <th>quote_volume</th>\n",
       "      <th>count</th>\n",
       "      <th>taker_buy_volume</th>\n",
       "      <th>taker_buy_quote_volume</th>\n",
       "    </tr>\n",
       "  </thead>\n",
       "  <tbody>\n",
       "    <tr>\n",
       "      <th>0</th>\n",
       "      <td>2020-01-01 00:00:00</td>\n",
       "      <td>7195.24</td>\n",
       "      <td>7196.25</td>\n",
       "      <td>7175.46</td>\n",
       "      <td>7177.02</td>\n",
       "      <td>511.814901</td>\n",
       "      <td>2020-01-01 00:59:59.999</td>\n",
       "      <td>3.675857e+06</td>\n",
       "      <td>7640</td>\n",
       "      <td>226.153126</td>\n",
       "      <td>1.624289e+06</td>\n",
       "    </tr>\n",
       "    <tr>\n",
       "      <th>1</th>\n",
       "      <td>2020-01-01 01:00:00</td>\n",
       "      <td>7176.47</td>\n",
       "      <td>7230.00</td>\n",
       "      <td>7175.71</td>\n",
       "      <td>7216.27</td>\n",
       "      <td>883.052603</td>\n",
       "      <td>2020-01-01 01:59:59.999</td>\n",
       "      <td>6.365953e+06</td>\n",
       "      <td>9033</td>\n",
       "      <td>570.721419</td>\n",
       "      <td>4.114804e+06</td>\n",
       "    </tr>\n",
       "    <tr>\n",
       "      <th>2</th>\n",
       "      <td>2020-01-01 02:00:00</td>\n",
       "      <td>7215.52</td>\n",
       "      <td>7244.87</td>\n",
       "      <td>7211.41</td>\n",
       "      <td>7242.85</td>\n",
       "      <td>655.156809</td>\n",
       "      <td>2020-01-01 02:59:59.999</td>\n",
       "      <td>4.736719e+06</td>\n",
       "      <td>7466</td>\n",
       "      <td>357.180263</td>\n",
       "      <td>2.582514e+06</td>\n",
       "    </tr>\n",
       "    <tr>\n",
       "      <th>3</th>\n",
       "      <td>2020-01-01 03:00:00</td>\n",
       "      <td>7242.66</td>\n",
       "      <td>7245.00</td>\n",
       "      <td>7220.00</td>\n",
       "      <td>7225.01</td>\n",
       "      <td>783.724867</td>\n",
       "      <td>2020-01-01 03:59:59.999</td>\n",
       "      <td>5.667367e+06</td>\n",
       "      <td>8337</td>\n",
       "      <td>394.810811</td>\n",
       "      <td>2.854987e+06</td>\n",
       "    </tr>\n",
       "    <tr>\n",
       "      <th>4</th>\n",
       "      <td>2020-01-01 04:00:00</td>\n",
       "      <td>7225.00</td>\n",
       "      <td>7230.00</td>\n",
       "      <td>7215.03</td>\n",
       "      <td>7217.27</td>\n",
       "      <td>467.812578</td>\n",
       "      <td>2020-01-01 04:59:59.999</td>\n",
       "      <td>3.379094e+06</td>\n",
       "      <td>5896</td>\n",
       "      <td>243.514706</td>\n",
       "      <td>1.759053e+06</td>\n",
       "    </tr>\n",
       "  </tbody>\n",
       "</table>\n",
       "</div>"
      ],
      "text/plain": [
       "             open_time     open     high      low    close      volume  \\\n",
       "0  2020-01-01 00:00:00  7195.24  7196.25  7175.46  7177.02  511.814901   \n",
       "1  2020-01-01 01:00:00  7176.47  7230.00  7175.71  7216.27  883.052603   \n",
       "2  2020-01-01 02:00:00  7215.52  7244.87  7211.41  7242.85  655.156809   \n",
       "3  2020-01-01 03:00:00  7242.66  7245.00  7220.00  7225.01  783.724867   \n",
       "4  2020-01-01 04:00:00  7225.00  7230.00  7215.03  7217.27  467.812578   \n",
       "\n",
       "                close_time  quote_volume  count  taker_buy_volume  \\\n",
       "0  2020-01-01 00:59:59.999  3.675857e+06   7640        226.153126   \n",
       "1  2020-01-01 01:59:59.999  6.365953e+06   9033        570.721419   \n",
       "2  2020-01-01 02:59:59.999  4.736719e+06   7466        357.180263   \n",
       "3  2020-01-01 03:59:59.999  5.667367e+06   8337        394.810811   \n",
       "4  2020-01-01 04:59:59.999  3.379094e+06   5896        243.514706   \n",
       "\n",
       "   taker_buy_quote_volume  \n",
       "0            1.624289e+06  \n",
       "1            4.114804e+06  \n",
       "2            2.582514e+06  \n",
       "3            2.854987e+06  \n",
       "4            1.759053e+06  "
      ]
     },
     "execution_count": 5,
     "metadata": {},
     "output_type": "execute_result"
    }
   ],
   "source": [
    "df.head()"
   ]
  },
  {
   "cell_type": "markdown",
   "metadata": {
    "id": "VtonmnjpZgov"
   },
   "source": [
    "Here's a breakdown of each feature:\n",
    "\n",
    "- **date**: This represents the opening time of a specific period\n",
    "\n",
    "- **open**: This refers to the opening price of the trading instrument at the given period.\n",
    "\n",
    "- **high**: This represents the highest price reached by the trading instrument during the specified period.\n",
    "\n",
    "- **low**: This denotes the lowest price reached by the trading instrument during the specified period.\n",
    "\n",
    "- **close**: This indicates the closing price of the trading instrument at the given period.\n",
    "\n",
    "- **volume**: This refers to the total volume, typically the quantity of the trading instrument, traded during the specified period.\n",
    "\n",
    "- **close_time**: This represents the closing time of the specific period in Unix time format.\n",
    "\n",
    "- **quote_volume**: This refers to the total volume in terms of the quote asset. The quote asset is the asset used to determine the value of the trading instrument.\n",
    "\n",
    "- **count**: This represents the number of trades that occurred during the specified period.\n",
    "\n",
    "- **taker_buy_volume**: This denotes the volume of the quote asset bought by takers (market takers) during the specified period.\n",
    "\n",
    "- **taker_buy_quote_volume**: This represents the volume of the base asset bought by takers (market takers) during the specified period."
   ]
  },
  {
   "cell_type": "code",
   "execution_count": 6,
   "metadata": {
    "id": "HohJ---lhKab"
   },
   "outputs": [],
   "source": [
    "# Renaming the open_time column to date\n",
    "\n",
    "df.rename(columns = {'open_time':'date'}, inplace = True)"
   ]
  },
  {
   "cell_type": "code",
   "execution_count": 7,
   "metadata": {
    "colab": {
     "base_uri": "https://localhost:8080/",
     "height": 112
    },
    "id": "8bemPrBKQ8tr",
    "outputId": "38544c3f-06bc-4119-bc63-347057e1aa73"
   },
   "outputs": [
    {
     "data": {
      "text/html": [
       "<div>\n",
       "<style scoped>\n",
       "    .dataframe tbody tr th:only-of-type {\n",
       "        vertical-align: middle;\n",
       "    }\n",
       "\n",
       "    .dataframe tbody tr th {\n",
       "        vertical-align: top;\n",
       "    }\n",
       "\n",
       "    .dataframe thead th {\n",
       "        text-align: right;\n",
       "    }\n",
       "</style>\n",
       "<table border=\"1\" class=\"dataframe\">\n",
       "  <thead>\n",
       "    <tr style=\"text-align: right;\">\n",
       "      <th></th>\n",
       "      <th>date</th>\n",
       "      <th>open</th>\n",
       "      <th>high</th>\n",
       "      <th>low</th>\n",
       "      <th>close</th>\n",
       "      <th>volume</th>\n",
       "      <th>close_time</th>\n",
       "      <th>quote_volume</th>\n",
       "      <th>count</th>\n",
       "      <th>taker_buy_volume</th>\n",
       "      <th>taker_buy_quote_volume</th>\n",
       "    </tr>\n",
       "  </thead>\n",
       "  <tbody>\n",
       "    <tr>\n",
       "      <th>0</th>\n",
       "      <td>2020-01-01 00:00:00</td>\n",
       "      <td>7195.24</td>\n",
       "      <td>7196.25</td>\n",
       "      <td>7175.46</td>\n",
       "      <td>7177.02</td>\n",
       "      <td>511.814901</td>\n",
       "      <td>2020-01-01 00:59:59.999</td>\n",
       "      <td>3.675857e+06</td>\n",
       "      <td>7640</td>\n",
       "      <td>226.153126</td>\n",
       "      <td>1.624289e+06</td>\n",
       "    </tr>\n",
       "    <tr>\n",
       "      <th>1</th>\n",
       "      <td>2020-01-01 01:00:00</td>\n",
       "      <td>7176.47</td>\n",
       "      <td>7230.00</td>\n",
       "      <td>7175.71</td>\n",
       "      <td>7216.27</td>\n",
       "      <td>883.052603</td>\n",
       "      <td>2020-01-01 01:59:59.999</td>\n",
       "      <td>6.365953e+06</td>\n",
       "      <td>9033</td>\n",
       "      <td>570.721419</td>\n",
       "      <td>4.114804e+06</td>\n",
       "    </tr>\n",
       "  </tbody>\n",
       "</table>\n",
       "</div>"
      ],
      "text/plain": [
       "                  date     open     high      low    close      volume  \\\n",
       "0  2020-01-01 00:00:00  7195.24  7196.25  7175.46  7177.02  511.814901   \n",
       "1  2020-01-01 01:00:00  7176.47  7230.00  7175.71  7216.27  883.052603   \n",
       "\n",
       "                close_time  quote_volume  count  taker_buy_volume  \\\n",
       "0  2020-01-01 00:59:59.999  3.675857e+06   7640        226.153126   \n",
       "1  2020-01-01 01:59:59.999  6.365953e+06   9033        570.721419   \n",
       "\n",
       "   taker_buy_quote_volume  \n",
       "0            1.624289e+06  \n",
       "1            4.114804e+06  "
      ]
     },
     "execution_count": 7,
     "metadata": {},
     "output_type": "execute_result"
    }
   ],
   "source": [
    "df.head(2)"
   ]
  },
  {
   "cell_type": "code",
   "execution_count": 8,
   "metadata": {
    "colab": {
     "base_uri": "https://localhost:8080/"
    },
    "id": "ZRq8wnx4LzSf",
    "outputId": "f209552c-c7e9-4968-ffbc-6e5654785f49"
   },
   "outputs": [
    {
     "name": "stdout",
     "output_type": "stream",
     "text": [
      "<class 'pandas.core.frame.DataFrame'>\n",
      "RangeIndex: 29897 entries, 0 to 29896\n",
      "Data columns (total 11 columns):\n",
      " #   Column                  Non-Null Count  Dtype  \n",
      "---  ------                  --------------  -----  \n",
      " 0   date                    29897 non-null  object \n",
      " 1   open                    29897 non-null  float64\n",
      " 2   high                    29897 non-null  float64\n",
      " 3   low                     29897 non-null  float64\n",
      " 4   close                   29897 non-null  float64\n",
      " 5   volume                  29897 non-null  float64\n",
      " 6   close_time              29897 non-null  object \n",
      " 7   quote_volume            29897 non-null  float64\n",
      " 8   count                   29897 non-null  int64  \n",
      " 9   taker_buy_volume        29897 non-null  float64\n",
      " 10  taker_buy_quote_volume  29897 non-null  float64\n",
      "dtypes: float64(8), int64(1), object(2)\n",
      "memory usage: 2.5+ MB\n"
     ]
    }
   ],
   "source": [
    "df.info()"
   ]
  },
  {
   "cell_type": "code",
   "execution_count": 9,
   "metadata": {
    "id": "hO97L8vsMENy"
   },
   "outputs": [],
   "source": [
    "# Removing close time column\n",
    "\n",
    "df = df.drop(columns=['close_time'])"
   ]
  },
  {
   "cell_type": "code",
   "execution_count": 10,
   "metadata": {
    "colab": {
     "base_uri": "https://localhost:8080/",
     "height": 112
    },
    "id": "nzIZ9qddRQC3",
    "outputId": "badd7c80-f898-42a2-bbc0-55d994dea0a8"
   },
   "outputs": [
    {
     "data": {
      "text/html": [
       "<div>\n",
       "<style scoped>\n",
       "    .dataframe tbody tr th:only-of-type {\n",
       "        vertical-align: middle;\n",
       "    }\n",
       "\n",
       "    .dataframe tbody tr th {\n",
       "        vertical-align: top;\n",
       "    }\n",
       "\n",
       "    .dataframe thead th {\n",
       "        text-align: right;\n",
       "    }\n",
       "</style>\n",
       "<table border=\"1\" class=\"dataframe\">\n",
       "  <thead>\n",
       "    <tr style=\"text-align: right;\">\n",
       "      <th></th>\n",
       "      <th>date</th>\n",
       "      <th>open</th>\n",
       "      <th>high</th>\n",
       "      <th>low</th>\n",
       "      <th>close</th>\n",
       "      <th>volume</th>\n",
       "      <th>quote_volume</th>\n",
       "      <th>count</th>\n",
       "      <th>taker_buy_volume</th>\n",
       "      <th>taker_buy_quote_volume</th>\n",
       "    </tr>\n",
       "  </thead>\n",
       "  <tbody>\n",
       "    <tr>\n",
       "      <th>0</th>\n",
       "      <td>2020-01-01 00:00:00</td>\n",
       "      <td>7195.24</td>\n",
       "      <td>7196.25</td>\n",
       "      <td>7175.46</td>\n",
       "      <td>7177.02</td>\n",
       "      <td>511.814901</td>\n",
       "      <td>3.675857e+06</td>\n",
       "      <td>7640</td>\n",
       "      <td>226.153126</td>\n",
       "      <td>1.624289e+06</td>\n",
       "    </tr>\n",
       "    <tr>\n",
       "      <th>1</th>\n",
       "      <td>2020-01-01 01:00:00</td>\n",
       "      <td>7176.47</td>\n",
       "      <td>7230.00</td>\n",
       "      <td>7175.71</td>\n",
       "      <td>7216.27</td>\n",
       "      <td>883.052603</td>\n",
       "      <td>6.365953e+06</td>\n",
       "      <td>9033</td>\n",
       "      <td>570.721419</td>\n",
       "      <td>4.114804e+06</td>\n",
       "    </tr>\n",
       "  </tbody>\n",
       "</table>\n",
       "</div>"
      ],
      "text/plain": [
       "                  date     open     high      low    close      volume  \\\n",
       "0  2020-01-01 00:00:00  7195.24  7196.25  7175.46  7177.02  511.814901   \n",
       "1  2020-01-01 01:00:00  7176.47  7230.00  7175.71  7216.27  883.052603   \n",
       "\n",
       "   quote_volume  count  taker_buy_volume  taker_buy_quote_volume  \n",
       "0  3.675857e+06   7640        226.153126            1.624289e+06  \n",
       "1  6.365953e+06   9033        570.721419            4.114804e+06  "
      ]
     },
     "execution_count": 10,
     "metadata": {},
     "output_type": "execute_result"
    }
   ],
   "source": [
    "df.head(2)"
   ]
  },
  {
   "cell_type": "markdown",
   "metadata": {
    "id": "aaC8yAQIAuMM"
   },
   "source": [
    "# Exploratory Data Analysis"
   ]
  },
  {
   "cell_type": "markdown",
   "metadata": {
    "id": "BB929Pzb7UuB"
   },
   "source": [
    "## Datetime Conversion"
   ]
  },
  {
   "cell_type": "code",
   "execution_count": 11,
   "metadata": {
    "id": "LwvDyF2UQn32"
   },
   "outputs": [],
   "source": [
    "# Converting the Date column from object to datetime\n",
    "df[[\"date\"]] = df[[\"date\"]].apply(pd.to_datetime)"
   ]
  },
  {
   "cell_type": "code",
   "execution_count": 12,
   "metadata": {
    "colab": {
     "base_uri": "https://localhost:8080/"
    },
    "id": "W5mLEfQqQn33",
    "outputId": "f3ad2e98-325f-4c7a-a6d4-e26692c03344"
   },
   "outputs": [
    {
     "name": "stdout",
     "output_type": "stream",
     "text": [
      "<class 'pandas.core.frame.DataFrame'>\n",
      "RangeIndex: 29897 entries, 0 to 29896\n",
      "Data columns (total 10 columns):\n",
      " #   Column                  Non-Null Count  Dtype         \n",
      "---  ------                  --------------  -----         \n",
      " 0   date                    29897 non-null  datetime64[ns]\n",
      " 1   open                    29897 non-null  float64       \n",
      " 2   high                    29897 non-null  float64       \n",
      " 3   low                     29897 non-null  float64       \n",
      " 4   close                   29897 non-null  float64       \n",
      " 5   volume                  29897 non-null  float64       \n",
      " 6   quote_volume            29897 non-null  float64       \n",
      " 7   count                   29897 non-null  int64         \n",
      " 8   taker_buy_volume        29897 non-null  float64       \n",
      " 9   taker_buy_quote_volume  29897 non-null  float64       \n",
      "dtypes: datetime64[ns](1), float64(8), int64(1)\n",
      "memory usage: 2.3 MB\n"
     ]
    }
   ],
   "source": [
    "df.info()"
   ]
  },
  {
   "cell_type": "markdown",
   "metadata": {
    "id": "l82IrVsFLIze"
   },
   "source": [
    "## Missing Hours"
   ]
  },
  {
   "cell_type": "code",
   "execution_count": 13,
   "metadata": {
    "id": "fVNCkPjZEqqq"
   },
   "outputs": [],
   "source": [
    "df = df.set_index('date')"
   ]
  },
  {
   "cell_type": "code",
   "execution_count": 14,
   "metadata": {
    "colab": {
     "base_uri": "https://localhost:8080/",
     "height": 1000
    },
    "id": "P6C2PjiYEsqQ",
    "outputId": "5ddb19cf-e2d9-4bc8-9a12-579eda5a8036"
   },
   "outputs": [
    {
     "name": "stdout",
     "output_type": "stream",
     "text": [
      "Number of missing hours: 31\n",
      "--- Missing Hours ---\n"
     ]
    },
    {
     "data": {
      "text/html": [
       "<div>\n",
       "<style scoped>\n",
       "    .dataframe tbody tr th:only-of-type {\n",
       "        vertical-align: middle;\n",
       "    }\n",
       "\n",
       "    .dataframe tbody tr th {\n",
       "        vertical-align: top;\n",
       "    }\n",
       "\n",
       "    .dataframe thead th {\n",
       "        text-align: right;\n",
       "    }\n",
       "</style>\n",
       "<table border=\"1\" class=\"dataframe\">\n",
       "  <thead>\n",
       "    <tr style=\"text-align: right;\">\n",
       "      <th></th>\n",
       "      <th>Missing Hour</th>\n",
       "      <th>Index Before</th>\n",
       "      <th>Index After</th>\n",
       "    </tr>\n",
       "  </thead>\n",
       "  <tbody>\n",
       "    <tr>\n",
       "      <th>0</th>\n",
       "      <td>2020-02-19 14:00:00</td>\n",
       "      <td>2020-02-19 11:00:00</td>\n",
       "      <td>2020-02-19 17:00:00</td>\n",
       "    </tr>\n",
       "    <tr>\n",
       "      <th>1</th>\n",
       "      <td>2020-04-25 02:00:00</td>\n",
       "      <td>2020-04-25 01:00:00</td>\n",
       "      <td>2020-04-25 04:00:00</td>\n",
       "    </tr>\n",
       "    <tr>\n",
       "      <th>2</th>\n",
       "      <td>2020-02-19 16:00:00</td>\n",
       "      <td>2020-02-19 11:00:00</td>\n",
       "      <td>2020-02-19 17:00:00</td>\n",
       "    </tr>\n",
       "    <tr>\n",
       "      <th>3</th>\n",
       "      <td>2021-04-25 07:00:00</td>\n",
       "      <td>2021-04-25 04:00:00</td>\n",
       "      <td>2021-04-25 08:00:00</td>\n",
       "    </tr>\n",
       "    <tr>\n",
       "      <th>4</th>\n",
       "      <td>2020-06-28 04:00:00</td>\n",
       "      <td>2020-06-28 01:00:00</td>\n",
       "      <td>2020-06-28 05:00:00</td>\n",
       "    </tr>\n",
       "    <tr>\n",
       "      <th>5</th>\n",
       "      <td>2021-09-29 07:00:00</td>\n",
       "      <td>2021-09-29 06:00:00</td>\n",
       "      <td>2021-09-29 09:00:00</td>\n",
       "    </tr>\n",
       "    <tr>\n",
       "      <th>6</th>\n",
       "      <td>2020-12-25 02:00:00</td>\n",
       "      <td>2020-12-25 01:00:00</td>\n",
       "      <td>2020-12-25 03:00:00</td>\n",
       "    </tr>\n",
       "    <tr>\n",
       "      <th>7</th>\n",
       "      <td>2023-03-24 13:00:00</td>\n",
       "      <td>2023-03-24 12:00:00</td>\n",
       "      <td>2023-03-24 14:00:00</td>\n",
       "    </tr>\n",
       "    <tr>\n",
       "      <th>8</th>\n",
       "      <td>2021-04-25 06:00:00</td>\n",
       "      <td>2021-04-25 04:00:00</td>\n",
       "      <td>2021-04-25 08:00:00</td>\n",
       "    </tr>\n",
       "    <tr>\n",
       "      <th>9</th>\n",
       "      <td>2021-08-13 05:00:00</td>\n",
       "      <td>2021-08-13 01:00:00</td>\n",
       "      <td>2021-08-13 06:00:00</td>\n",
       "    </tr>\n",
       "    <tr>\n",
       "      <th>10</th>\n",
       "      <td>2021-04-25 05:00:00</td>\n",
       "      <td>2021-04-25 04:00:00</td>\n",
       "      <td>2021-04-25 08:00:00</td>\n",
       "    </tr>\n",
       "    <tr>\n",
       "      <th>11</th>\n",
       "      <td>2021-08-13 02:00:00</td>\n",
       "      <td>2021-08-13 01:00:00</td>\n",
       "      <td>2021-08-13 06:00:00</td>\n",
       "    </tr>\n",
       "    <tr>\n",
       "      <th>12</th>\n",
       "      <td>2021-08-13 04:00:00</td>\n",
       "      <td>2021-08-13 01:00:00</td>\n",
       "      <td>2021-08-13 06:00:00</td>\n",
       "    </tr>\n",
       "    <tr>\n",
       "      <th>13</th>\n",
       "      <td>2021-04-20 03:00:00</td>\n",
       "      <td>2021-04-20 01:00:00</td>\n",
       "      <td>2021-04-20 04:00:00</td>\n",
       "    </tr>\n",
       "    <tr>\n",
       "      <th>14</th>\n",
       "      <td>2020-06-28 03:00:00</td>\n",
       "      <td>2020-06-28 01:00:00</td>\n",
       "      <td>2020-06-28 05:00:00</td>\n",
       "    </tr>\n",
       "    <tr>\n",
       "      <th>15</th>\n",
       "      <td>2020-11-30 06:00:00</td>\n",
       "      <td>2020-11-30 05:00:00</td>\n",
       "      <td>2020-11-30 07:00:00</td>\n",
       "    </tr>\n",
       "    <tr>\n",
       "      <th>16</th>\n",
       "      <td>2020-12-21 16:00:00</td>\n",
       "      <td>2020-12-21 14:00:00</td>\n",
       "      <td>2020-12-21 18:00:00</td>\n",
       "    </tr>\n",
       "    <tr>\n",
       "      <th>17</th>\n",
       "      <td>2021-08-13 03:00:00</td>\n",
       "      <td>2021-08-13 01:00:00</td>\n",
       "      <td>2021-08-13 06:00:00</td>\n",
       "    </tr>\n",
       "    <tr>\n",
       "      <th>18</th>\n",
       "      <td>2020-06-28 02:00:00</td>\n",
       "      <td>2020-06-28 01:00:00</td>\n",
       "      <td>2020-06-28 05:00:00</td>\n",
       "    </tr>\n",
       "    <tr>\n",
       "      <th>19</th>\n",
       "      <td>2021-03-06 02:00:00</td>\n",
       "      <td>2021-03-06 01:00:00</td>\n",
       "      <td>2021-03-06 03:00:00</td>\n",
       "    </tr>\n",
       "    <tr>\n",
       "      <th>20</th>\n",
       "      <td>2021-02-11 04:00:00</td>\n",
       "      <td>2021-02-11 03:00:00</td>\n",
       "      <td>2021-02-11 05:00:00</td>\n",
       "    </tr>\n",
       "    <tr>\n",
       "      <th>21</th>\n",
       "      <td>2021-04-20 02:00:00</td>\n",
       "      <td>2021-04-20 01:00:00</td>\n",
       "      <td>2021-04-20 04:00:00</td>\n",
       "    </tr>\n",
       "    <tr>\n",
       "      <th>22</th>\n",
       "      <td>2020-12-21 15:00:00</td>\n",
       "      <td>2020-12-21 14:00:00</td>\n",
       "      <td>2020-12-21 18:00:00</td>\n",
       "    </tr>\n",
       "    <tr>\n",
       "      <th>23</th>\n",
       "      <td>2020-02-19 12:00:00</td>\n",
       "      <td>2020-02-19 11:00:00</td>\n",
       "      <td>2020-02-19 17:00:00</td>\n",
       "    </tr>\n",
       "    <tr>\n",
       "      <th>24</th>\n",
       "      <td>2021-09-29 08:00:00</td>\n",
       "      <td>2021-09-29 06:00:00</td>\n",
       "      <td>2021-09-29 09:00:00</td>\n",
       "    </tr>\n",
       "    <tr>\n",
       "      <th>25</th>\n",
       "      <td>2020-03-04 10:00:00</td>\n",
       "      <td>2020-03-04 09:00:00</td>\n",
       "      <td>2020-03-04 11:00:00</td>\n",
       "    </tr>\n",
       "    <tr>\n",
       "      <th>26</th>\n",
       "      <td>2020-12-21 17:00:00</td>\n",
       "      <td>2020-12-21 14:00:00</td>\n",
       "      <td>2020-12-21 18:00:00</td>\n",
       "    </tr>\n",
       "    <tr>\n",
       "      <th>27</th>\n",
       "      <td>2020-02-19 15:00:00</td>\n",
       "      <td>2020-02-19 11:00:00</td>\n",
       "      <td>2020-02-19 17:00:00</td>\n",
       "    </tr>\n",
       "    <tr>\n",
       "      <th>28</th>\n",
       "      <td>2020-02-19 13:00:00</td>\n",
       "      <td>2020-02-19 11:00:00</td>\n",
       "      <td>2020-02-19 17:00:00</td>\n",
       "    </tr>\n",
       "    <tr>\n",
       "      <th>29</th>\n",
       "      <td>2020-04-25 03:00:00</td>\n",
       "      <td>2020-04-25 01:00:00</td>\n",
       "      <td>2020-04-25 04:00:00</td>\n",
       "    </tr>\n",
       "    <tr>\n",
       "      <th>30</th>\n",
       "      <td>2020-02-09 02:00:00</td>\n",
       "      <td>2020-02-09 01:00:00</td>\n",
       "      <td>2020-02-09 03:00:00</td>\n",
       "    </tr>\n",
       "  </tbody>\n",
       "</table>\n",
       "</div>"
      ],
      "text/plain": [
       "          Missing Hour        Index Before         Index After\n",
       "0  2020-02-19 14:00:00 2020-02-19 11:00:00 2020-02-19 17:00:00\n",
       "1  2020-04-25 02:00:00 2020-04-25 01:00:00 2020-04-25 04:00:00\n",
       "2  2020-02-19 16:00:00 2020-02-19 11:00:00 2020-02-19 17:00:00\n",
       "3  2021-04-25 07:00:00 2021-04-25 04:00:00 2021-04-25 08:00:00\n",
       "4  2020-06-28 04:00:00 2020-06-28 01:00:00 2020-06-28 05:00:00\n",
       "5  2021-09-29 07:00:00 2021-09-29 06:00:00 2021-09-29 09:00:00\n",
       "6  2020-12-25 02:00:00 2020-12-25 01:00:00 2020-12-25 03:00:00\n",
       "7  2023-03-24 13:00:00 2023-03-24 12:00:00 2023-03-24 14:00:00\n",
       "8  2021-04-25 06:00:00 2021-04-25 04:00:00 2021-04-25 08:00:00\n",
       "9  2021-08-13 05:00:00 2021-08-13 01:00:00 2021-08-13 06:00:00\n",
       "10 2021-04-25 05:00:00 2021-04-25 04:00:00 2021-04-25 08:00:00\n",
       "11 2021-08-13 02:00:00 2021-08-13 01:00:00 2021-08-13 06:00:00\n",
       "12 2021-08-13 04:00:00 2021-08-13 01:00:00 2021-08-13 06:00:00\n",
       "13 2021-04-20 03:00:00 2021-04-20 01:00:00 2021-04-20 04:00:00\n",
       "14 2020-06-28 03:00:00 2020-06-28 01:00:00 2020-06-28 05:00:00\n",
       "15 2020-11-30 06:00:00 2020-11-30 05:00:00 2020-11-30 07:00:00\n",
       "16 2020-12-21 16:00:00 2020-12-21 14:00:00 2020-12-21 18:00:00\n",
       "17 2021-08-13 03:00:00 2021-08-13 01:00:00 2021-08-13 06:00:00\n",
       "18 2020-06-28 02:00:00 2020-06-28 01:00:00 2020-06-28 05:00:00\n",
       "19 2021-03-06 02:00:00 2021-03-06 01:00:00 2021-03-06 03:00:00\n",
       "20 2021-02-11 04:00:00 2021-02-11 03:00:00 2021-02-11 05:00:00\n",
       "21 2021-04-20 02:00:00 2021-04-20 01:00:00 2021-04-20 04:00:00\n",
       "22 2020-12-21 15:00:00 2020-12-21 14:00:00 2020-12-21 18:00:00\n",
       "23 2020-02-19 12:00:00 2020-02-19 11:00:00 2020-02-19 17:00:00\n",
       "24 2021-09-29 08:00:00 2021-09-29 06:00:00 2021-09-29 09:00:00\n",
       "25 2020-03-04 10:00:00 2020-03-04 09:00:00 2020-03-04 11:00:00\n",
       "26 2020-12-21 17:00:00 2020-12-21 14:00:00 2020-12-21 18:00:00\n",
       "27 2020-02-19 15:00:00 2020-02-19 11:00:00 2020-02-19 17:00:00\n",
       "28 2020-02-19 13:00:00 2020-02-19 11:00:00 2020-02-19 17:00:00\n",
       "29 2020-04-25 03:00:00 2020-04-25 01:00:00 2020-04-25 04:00:00\n",
       "30 2020-02-09 02:00:00 2020-02-09 01:00:00 2020-02-09 03:00:00"
      ]
     },
     "execution_count": 14,
     "metadata": {},
     "output_type": "execute_result"
    }
   ],
   "source": [
    "# Check Missing hours in the dataframe\n",
    "\n",
    "start_date = df.index.min()\n",
    "end_date = df.index.max()\n",
    "full_range = pd.date_range(start=start_date, end=end_date, freq='1H')\n",
    "\n",
    "# Calculate the missing hours by finding the set difference between the full range and the existing dates\n",
    "missing_hours = set(full_range) - set(df.index)\n",
    "\n",
    "# Initialize a list to store the missing hours and their corresponding indices\n",
    "missing_info = []\n",
    "\n",
    "# Iterate through the missing hours and find the index before and after each missing hour\n",
    "for missing_hour in missing_hours:\n",
    "\n",
    "    index_before = df[df.index < missing_hour].index.max()\n",
    "    index_after = df[df.index > missing_hour].index.min()\n",
    "    missing_info.append((missing_hour, index_before, index_after))\n",
    "\n",
    "\n",
    "# Get the number of missing hours\n",
    "num_missing_hours = len(missing_info)\n",
    "\n",
    "# Convert the missing_info list to a DataFrame for better visualization\n",
    "missing_info_df = pd.DataFrame(missing_info, columns=['Missing Hour', 'Index Before', 'Index After'])\n",
    "\n",
    "print(f\"Number of missing hours: {num_missing_hours}\")\n",
    "print(\"--- Missing Hours ---\")\n",
    "\n",
    "missing_info_df"
   ]
  },
  {
   "cell_type": "code",
   "execution_count": 15,
   "metadata": {
    "colab": {
     "base_uri": "https://localhost:8080/",
     "height": 423
    },
    "id": "RLboWVd0HixJ",
    "outputId": "3249f1cf-ce89-4cfd-ed4f-3bdf71d79fd0"
   },
   "outputs": [
    {
     "data": {
      "text/html": [
       "<div>\n",
       "<style scoped>\n",
       "    .dataframe tbody tr th:only-of-type {\n",
       "        vertical-align: middle;\n",
       "    }\n",
       "\n",
       "    .dataframe tbody tr th {\n",
       "        vertical-align: top;\n",
       "    }\n",
       "\n",
       "    .dataframe thead th {\n",
       "        text-align: right;\n",
       "    }\n",
       "</style>\n",
       "<table border=\"1\" class=\"dataframe\">\n",
       "  <thead>\n",
       "    <tr style=\"text-align: right;\">\n",
       "      <th></th>\n",
       "      <th>date</th>\n",
       "      <th>open</th>\n",
       "      <th>high</th>\n",
       "      <th>low</th>\n",
       "      <th>close</th>\n",
       "      <th>volume</th>\n",
       "      <th>quote_volume</th>\n",
       "      <th>count</th>\n",
       "      <th>taker_buy_volume</th>\n",
       "      <th>taker_buy_quote_volume</th>\n",
       "    </tr>\n",
       "  </thead>\n",
       "  <tbody>\n",
       "    <tr>\n",
       "      <th>0</th>\n",
       "      <td>2020-01-01 00:00:00</td>\n",
       "      <td>7195.24</td>\n",
       "      <td>7196.25</td>\n",
       "      <td>7175.46</td>\n",
       "      <td>7177.02</td>\n",
       "      <td>511.814901</td>\n",
       "      <td>3.675857e+06</td>\n",
       "      <td>7640.0</td>\n",
       "      <td>226.153126</td>\n",
       "      <td>1.624289e+06</td>\n",
       "    </tr>\n",
       "    <tr>\n",
       "      <th>1</th>\n",
       "      <td>2020-01-01 01:00:00</td>\n",
       "      <td>7176.47</td>\n",
       "      <td>7230.00</td>\n",
       "      <td>7175.71</td>\n",
       "      <td>7216.27</td>\n",
       "      <td>883.052603</td>\n",
       "      <td>6.365953e+06</td>\n",
       "      <td>9033.0</td>\n",
       "      <td>570.721419</td>\n",
       "      <td>4.114804e+06</td>\n",
       "    </tr>\n",
       "    <tr>\n",
       "      <th>2</th>\n",
       "      <td>2020-01-01 02:00:00</td>\n",
       "      <td>7215.52</td>\n",
       "      <td>7244.87</td>\n",
       "      <td>7211.41</td>\n",
       "      <td>7242.85</td>\n",
       "      <td>655.156809</td>\n",
       "      <td>4.736719e+06</td>\n",
       "      <td>7466.0</td>\n",
       "      <td>357.180263</td>\n",
       "      <td>2.582514e+06</td>\n",
       "    </tr>\n",
       "    <tr>\n",
       "      <th>3</th>\n",
       "      <td>2020-01-01 03:00:00</td>\n",
       "      <td>7242.66</td>\n",
       "      <td>7245.00</td>\n",
       "      <td>7220.00</td>\n",
       "      <td>7225.01</td>\n",
       "      <td>783.724867</td>\n",
       "      <td>5.667367e+06</td>\n",
       "      <td>8337.0</td>\n",
       "      <td>394.810811</td>\n",
       "      <td>2.854987e+06</td>\n",
       "    </tr>\n",
       "    <tr>\n",
       "      <th>4</th>\n",
       "      <td>2020-01-01 04:00:00</td>\n",
       "      <td>7225.00</td>\n",
       "      <td>7230.00</td>\n",
       "      <td>7215.03</td>\n",
       "      <td>7217.27</td>\n",
       "      <td>467.812578</td>\n",
       "      <td>3.379094e+06</td>\n",
       "      <td>5896.0</td>\n",
       "      <td>243.514706</td>\n",
       "      <td>1.759053e+06</td>\n",
       "    </tr>\n",
       "    <tr>\n",
       "      <th>...</th>\n",
       "      <td>...</td>\n",
       "      <td>...</td>\n",
       "      <td>...</td>\n",
       "      <td>...</td>\n",
       "      <td>...</td>\n",
       "      <td>...</td>\n",
       "      <td>...</td>\n",
       "      <td>...</td>\n",
       "      <td>...</td>\n",
       "      <td>...</td>\n",
       "    </tr>\n",
       "    <tr>\n",
       "      <th>29923</th>\n",
       "      <td>2023-05-31 19:00:00</td>\n",
       "      <td>27037.06</td>\n",
       "      <td>27123.43</td>\n",
       "      <td>27000.20</td>\n",
       "      <td>27010.57</td>\n",
       "      <td>1064.241890</td>\n",
       "      <td>2.879819e+07</td>\n",
       "      <td>28990.0</td>\n",
       "      <td>482.385940</td>\n",
       "      <td>1.305342e+07</td>\n",
       "    </tr>\n",
       "    <tr>\n",
       "      <th>29924</th>\n",
       "      <td>2023-05-31 20:00:00</td>\n",
       "      <td>27010.57</td>\n",
       "      <td>27116.13</td>\n",
       "      <td>27005.16</td>\n",
       "      <td>27114.20</td>\n",
       "      <td>835.439160</td>\n",
       "      <td>2.262138e+07</td>\n",
       "      <td>22409.0</td>\n",
       "      <td>440.842910</td>\n",
       "      <td>1.193703e+07</td>\n",
       "    </tr>\n",
       "    <tr>\n",
       "      <th>29925</th>\n",
       "      <td>2023-05-31 21:00:00</td>\n",
       "      <td>27114.19</td>\n",
       "      <td>27119.77</td>\n",
       "      <td>27045.61</td>\n",
       "      <td>27090.79</td>\n",
       "      <td>644.019020</td>\n",
       "      <td>1.744376e+07</td>\n",
       "      <td>19452.0</td>\n",
       "      <td>254.039400</td>\n",
       "      <td>6.879695e+06</td>\n",
       "    </tr>\n",
       "    <tr>\n",
       "      <th>29926</th>\n",
       "      <td>2023-05-31 22:00:00</td>\n",
       "      <td>27090.78</td>\n",
       "      <td>27193.24</td>\n",
       "      <td>27084.92</td>\n",
       "      <td>27183.98</td>\n",
       "      <td>999.118680</td>\n",
       "      <td>2.711602e+07</td>\n",
       "      <td>26045.0</td>\n",
       "      <td>517.765690</td>\n",
       "      <td>1.405207e+07</td>\n",
       "    </tr>\n",
       "    <tr>\n",
       "      <th>29927</th>\n",
       "      <td>2023-05-31 23:00:00</td>\n",
       "      <td>27183.97</td>\n",
       "      <td>27299.99</td>\n",
       "      <td>27159.63</td>\n",
       "      <td>27210.35</td>\n",
       "      <td>1483.723750</td>\n",
       "      <td>4.038319e+07</td>\n",
       "      <td>32891.0</td>\n",
       "      <td>687.679580</td>\n",
       "      <td>1.871858e+07</td>\n",
       "    </tr>\n",
       "  </tbody>\n",
       "</table>\n",
       "<p>29928 rows × 10 columns</p>\n",
       "</div>"
      ],
      "text/plain": [
       "                     date      open      high       low     close  \\\n",
       "0     2020-01-01 00:00:00   7195.24   7196.25   7175.46   7177.02   \n",
       "1     2020-01-01 01:00:00   7176.47   7230.00   7175.71   7216.27   \n",
       "2     2020-01-01 02:00:00   7215.52   7244.87   7211.41   7242.85   \n",
       "3     2020-01-01 03:00:00   7242.66   7245.00   7220.00   7225.01   \n",
       "4     2020-01-01 04:00:00   7225.00   7230.00   7215.03   7217.27   \n",
       "...                   ...       ...       ...       ...       ...   \n",
       "29923 2023-05-31 19:00:00  27037.06  27123.43  27000.20  27010.57   \n",
       "29924 2023-05-31 20:00:00  27010.57  27116.13  27005.16  27114.20   \n",
       "29925 2023-05-31 21:00:00  27114.19  27119.77  27045.61  27090.79   \n",
       "29926 2023-05-31 22:00:00  27090.78  27193.24  27084.92  27183.98   \n",
       "29927 2023-05-31 23:00:00  27183.97  27299.99  27159.63  27210.35   \n",
       "\n",
       "            volume  quote_volume    count  taker_buy_volume  \\\n",
       "0       511.814901  3.675857e+06   7640.0        226.153126   \n",
       "1       883.052603  6.365953e+06   9033.0        570.721419   \n",
       "2       655.156809  4.736719e+06   7466.0        357.180263   \n",
       "3       783.724867  5.667367e+06   8337.0        394.810811   \n",
       "4       467.812578  3.379094e+06   5896.0        243.514706   \n",
       "...            ...           ...      ...               ...   \n",
       "29923  1064.241890  2.879819e+07  28990.0        482.385940   \n",
       "29924   835.439160  2.262138e+07  22409.0        440.842910   \n",
       "29925   644.019020  1.744376e+07  19452.0        254.039400   \n",
       "29926   999.118680  2.711602e+07  26045.0        517.765690   \n",
       "29927  1483.723750  4.038319e+07  32891.0        687.679580   \n",
       "\n",
       "       taker_buy_quote_volume  \n",
       "0                1.624289e+06  \n",
       "1                4.114804e+06  \n",
       "2                2.582514e+06  \n",
       "3                2.854987e+06  \n",
       "4                1.759053e+06  \n",
       "...                       ...  \n",
       "29923            1.305342e+07  \n",
       "29924            1.193703e+07  \n",
       "29925            6.879695e+06  \n",
       "29926            1.405207e+07  \n",
       "29927            1.871858e+07  \n",
       "\n",
       "[29928 rows x 10 columns]"
      ]
     },
     "execution_count": 15,
     "metadata": {},
     "output_type": "execute_result"
    }
   ],
   "source": [
    "# Interpolate to fill in the missing hours with the mean\n",
    "\n",
    "# Create a new DataFrame with the complete range of hours\n",
    "new_df = pd.DataFrame(index=full_range)\n",
    "\n",
    "# Merge the original DataFrame with the new DataFrame to fill in the missing hours\n",
    "bitcoin_df = new_df.merge(df, how='left', left_index=True, right_index=True)\n",
    "\n",
    "# Interpolate the missing values in each column\n",
    "columns_to_interpolate = list(df.columns)\n",
    "bitcoin_df[columns_to_interpolate] = bitcoin_df[columns_to_interpolate].interpolate()\n",
    "\n",
    "# Reset Index\n",
    "bitcoin_df.reset_index(inplace = True)\n",
    "\n",
    "# Rename the index back to date\n",
    "bitcoin_df = bitcoin_df.rename(columns={bitcoin_df.columns[0]: 'date'})\n",
    "\n",
    "bitcoin_df"
   ]
  },
  {
   "cell_type": "code",
   "execution_count": 16,
   "metadata": {
    "colab": {
     "base_uri": "https://localhost:8080/"
    },
    "id": "C2wgRuoqMEJe",
    "outputId": "71597c27-c153-4977-bd0d-dd169b192550"
   },
   "outputs": [
    {
     "data": {
      "text/plain": [
       "(29897, 29928)"
      ]
     },
     "execution_count": 16,
     "metadata": {},
     "output_type": "execute_result"
    }
   ],
   "source": [
    "len(df), len(bitcoin_df)"
   ]
  },
  {
   "cell_type": "code",
   "execution_count": 17,
   "metadata": {
    "colab": {
     "base_uri": "https://localhost:8080/",
     "height": 237
    },
    "id": "6uLxXMaXUemA",
    "outputId": "2a22e0da-c7bf-49c2-ab29-de2ffab289af"
   },
   "outputs": [
    {
     "data": {
      "text/html": [
       "<div>\n",
       "<style scoped>\n",
       "    .dataframe tbody tr th:only-of-type {\n",
       "        vertical-align: middle;\n",
       "    }\n",
       "\n",
       "    .dataframe tbody tr th {\n",
       "        vertical-align: top;\n",
       "    }\n",
       "\n",
       "    .dataframe thead th {\n",
       "        text-align: right;\n",
       "    }\n",
       "</style>\n",
       "<table border=\"1\" class=\"dataframe\">\n",
       "  <thead>\n",
       "    <tr style=\"text-align: right;\">\n",
       "      <th></th>\n",
       "      <th>date</th>\n",
       "      <th>open</th>\n",
       "      <th>high</th>\n",
       "      <th>low</th>\n",
       "      <th>close</th>\n",
       "      <th>volume</th>\n",
       "      <th>quote_volume</th>\n",
       "      <th>count</th>\n",
       "      <th>taker_buy_volume</th>\n",
       "      <th>taker_buy_quote_volume</th>\n",
       "    </tr>\n",
       "  </thead>\n",
       "  <tbody>\n",
       "    <tr>\n",
       "      <th>1189</th>\n",
       "      <td>2020-02-19 13:00:00</td>\n",
       "      <td>10133.330</td>\n",
       "      <td>10183.333333</td>\n",
       "      <td>10122.806667</td>\n",
       "      <td>10152.266667</td>\n",
       "      <td>1611.018115</td>\n",
       "      <td>1.639698e+07</td>\n",
       "      <td>14348.0</td>\n",
       "      <td>783.708038</td>\n",
       "      <td>7.977562e+06</td>\n",
       "    </tr>\n",
       "    <tr>\n",
       "      <th>1190</th>\n",
       "      <td>2020-02-19 14:00:00</td>\n",
       "      <td>10137.495</td>\n",
       "      <td>10200.000000</td>\n",
       "      <td>10125.380000</td>\n",
       "      <td>10153.935000</td>\n",
       "      <td>2213.542417</td>\n",
       "      <td>2.253890e+07</td>\n",
       "      <td>19182.0</td>\n",
       "      <td>1071.050008</td>\n",
       "      <td>1.090734e+07</td>\n",
       "    </tr>\n",
       "    <tr>\n",
       "      <th>1191</th>\n",
       "      <td>2020-02-19 15:00:00</td>\n",
       "      <td>10141.660</td>\n",
       "      <td>10216.666667</td>\n",
       "      <td>10127.953333</td>\n",
       "      <td>10155.603333</td>\n",
       "      <td>2816.066719</td>\n",
       "      <td>2.868082e+07</td>\n",
       "      <td>24016.0</td>\n",
       "      <td>1358.391979</td>\n",
       "      <td>1.383713e+07</td>\n",
       "    </tr>\n",
       "    <tr>\n",
       "      <th>1192</th>\n",
       "      <td>2020-02-19 16:00:00</td>\n",
       "      <td>10145.825</td>\n",
       "      <td>10233.333333</td>\n",
       "      <td>10130.526667</td>\n",
       "      <td>10157.271667</td>\n",
       "      <td>3418.591021</td>\n",
       "      <td>3.482274e+07</td>\n",
       "      <td>28850.0</td>\n",
       "      <td>1645.733950</td>\n",
       "      <td>1.676691e+07</td>\n",
       "    </tr>\n",
       "    <tr>\n",
       "      <th>1193</th>\n",
       "      <td>2020-02-19 17:00:00</td>\n",
       "      <td>10149.990</td>\n",
       "      <td>10250.000000</td>\n",
       "      <td>10133.100000</td>\n",
       "      <td>10158.940000</td>\n",
       "      <td>4021.115323</td>\n",
       "      <td>4.096466e+07</td>\n",
       "      <td>33684.0</td>\n",
       "      <td>1933.075921</td>\n",
       "      <td>1.969669e+07</td>\n",
       "    </tr>\n",
       "    <tr>\n",
       "      <th>1194</th>\n",
       "      <td>2020-02-19 18:00:00</td>\n",
       "      <td>10157.570</td>\n",
       "      <td>10200.000000</td>\n",
       "      <td>10131.250000</td>\n",
       "      <td>10194.770000</td>\n",
       "      <td>2036.271681</td>\n",
       "      <td>2.069327e+07</td>\n",
       "      <td>26362.0</td>\n",
       "      <td>997.160921</td>\n",
       "      <td>1.013549e+07</td>\n",
       "    </tr>\n",
       "  </tbody>\n",
       "</table>\n",
       "</div>"
      ],
      "text/plain": [
       "                    date       open          high           low         close  \\\n",
       "1189 2020-02-19 13:00:00  10133.330  10183.333333  10122.806667  10152.266667   \n",
       "1190 2020-02-19 14:00:00  10137.495  10200.000000  10125.380000  10153.935000   \n",
       "1191 2020-02-19 15:00:00  10141.660  10216.666667  10127.953333  10155.603333   \n",
       "1192 2020-02-19 16:00:00  10145.825  10233.333333  10130.526667  10157.271667   \n",
       "1193 2020-02-19 17:00:00  10149.990  10250.000000  10133.100000  10158.940000   \n",
       "1194 2020-02-19 18:00:00  10157.570  10200.000000  10131.250000  10194.770000   \n",
       "\n",
       "           volume  quote_volume    count  taker_buy_volume  \\\n",
       "1189  1611.018115  1.639698e+07  14348.0        783.708038   \n",
       "1190  2213.542417  2.253890e+07  19182.0       1071.050008   \n",
       "1191  2816.066719  2.868082e+07  24016.0       1358.391979   \n",
       "1192  3418.591021  3.482274e+07  28850.0       1645.733950   \n",
       "1193  4021.115323  4.096466e+07  33684.0       1933.075921   \n",
       "1194  2036.271681  2.069327e+07  26362.0        997.160921   \n",
       "\n",
       "      taker_buy_quote_volume  \n",
       "1189            7.977562e+06  \n",
       "1190            1.090734e+07  \n",
       "1191            1.383713e+07  \n",
       "1192            1.676691e+07  \n",
       "1193            1.969669e+07  \n",
       "1194            1.013549e+07  "
      ]
     },
     "execution_count": 17,
     "metadata": {},
     "output_type": "execute_result"
    }
   ],
   "source": [
    "# Check the index 1191 which was missing to see the interpolation\n",
    "\n",
    "bitcoin_df.iloc[1189:1195]"
   ]
  },
  {
   "cell_type": "markdown",
   "metadata": {
    "id": "6kJZWLC9BHIQ"
   },
   "source": [
    "## Missing Count"
   ]
  },
  {
   "cell_type": "code",
   "execution_count": 18,
   "metadata": {
    "id": "ZLXIupa3uXJj"
   },
   "outputs": [],
   "source": [
    "def missing_values_summary(df):\n",
    "    missing_counts = df.isnull().sum()\n",
    "    total_count = df.shape[0]  # Total number of rows in the DataFrame\n",
    "\n",
    "    missing_df = pd.DataFrame({'Column': missing_counts.index, 'Missing Count': missing_counts.values})\n",
    "    missing_df['Missing Percentage'] = (missing_df['Missing Count'] / total_count) * 100\n",
    "\n",
    "    return missing_df"
   ]
  },
  {
   "cell_type": "code",
   "execution_count": 19,
   "metadata": {
    "colab": {
     "base_uri": "https://localhost:8080/",
     "height": 363
    },
    "id": "OBDJ22Uer_8F",
    "outputId": "5b8f1b8a-b5b8-48d1-d393-e46ab70554b2"
   },
   "outputs": [
    {
     "data": {
      "text/html": [
       "<div>\n",
       "<style scoped>\n",
       "    .dataframe tbody tr th:only-of-type {\n",
       "        vertical-align: middle;\n",
       "    }\n",
       "\n",
       "    .dataframe tbody tr th {\n",
       "        vertical-align: top;\n",
       "    }\n",
       "\n",
       "    .dataframe thead th {\n",
       "        text-align: right;\n",
       "    }\n",
       "</style>\n",
       "<table border=\"1\" class=\"dataframe\">\n",
       "  <thead>\n",
       "    <tr style=\"text-align: right;\">\n",
       "      <th></th>\n",
       "      <th>Column</th>\n",
       "      <th>Missing Count</th>\n",
       "      <th>Missing Percentage</th>\n",
       "    </tr>\n",
       "  </thead>\n",
       "  <tbody>\n",
       "    <tr>\n",
       "      <th>0</th>\n",
       "      <td>date</td>\n",
       "      <td>0</td>\n",
       "      <td>0.0</td>\n",
       "    </tr>\n",
       "    <tr>\n",
       "      <th>1</th>\n",
       "      <td>open</td>\n",
       "      <td>0</td>\n",
       "      <td>0.0</td>\n",
       "    </tr>\n",
       "    <tr>\n",
       "      <th>2</th>\n",
       "      <td>high</td>\n",
       "      <td>0</td>\n",
       "      <td>0.0</td>\n",
       "    </tr>\n",
       "    <tr>\n",
       "      <th>3</th>\n",
       "      <td>low</td>\n",
       "      <td>0</td>\n",
       "      <td>0.0</td>\n",
       "    </tr>\n",
       "    <tr>\n",
       "      <th>4</th>\n",
       "      <td>close</td>\n",
       "      <td>0</td>\n",
       "      <td>0.0</td>\n",
       "    </tr>\n",
       "    <tr>\n",
       "      <th>5</th>\n",
       "      <td>volume</td>\n",
       "      <td>0</td>\n",
       "      <td>0.0</td>\n",
       "    </tr>\n",
       "    <tr>\n",
       "      <th>6</th>\n",
       "      <td>quote_volume</td>\n",
       "      <td>0</td>\n",
       "      <td>0.0</td>\n",
       "    </tr>\n",
       "    <tr>\n",
       "      <th>7</th>\n",
       "      <td>count</td>\n",
       "      <td>0</td>\n",
       "      <td>0.0</td>\n",
       "    </tr>\n",
       "    <tr>\n",
       "      <th>8</th>\n",
       "      <td>taker_buy_volume</td>\n",
       "      <td>0</td>\n",
       "      <td>0.0</td>\n",
       "    </tr>\n",
       "    <tr>\n",
       "      <th>9</th>\n",
       "      <td>taker_buy_quote_volume</td>\n",
       "      <td>0</td>\n",
       "      <td>0.0</td>\n",
       "    </tr>\n",
       "  </tbody>\n",
       "</table>\n",
       "</div>"
      ],
      "text/plain": [
       "                   Column  Missing Count  Missing Percentage\n",
       "0                    date              0                 0.0\n",
       "1                    open              0                 0.0\n",
       "2                    high              0                 0.0\n",
       "3                     low              0                 0.0\n",
       "4                   close              0                 0.0\n",
       "5                  volume              0                 0.0\n",
       "6            quote_volume              0                 0.0\n",
       "7                   count              0                 0.0\n",
       "8        taker_buy_volume              0                 0.0\n",
       "9  taker_buy_quote_volume              0                 0.0"
      ]
     },
     "execution_count": 19,
     "metadata": {},
     "output_type": "execute_result"
    }
   ],
   "source": [
    "missing_values_summary(bitcoin_df)"
   ]
  },
  {
   "cell_type": "markdown",
   "metadata": {
    "id": "rGptBL_XCCtR"
   },
   "source": [
    "## Plot and Analysis of Columns"
   ]
  },
  {
   "cell_type": "markdown",
   "metadata": {
    "id": "xxxQ5sBjthr3"
   },
   "source": [
    "### OHCL Columns"
   ]
  },
  {
   "cell_type": "code",
   "execution_count": 20,
   "metadata": {
    "colab": {
     "base_uri": "https://localhost:8080/"
    },
    "id": "U7sklqlUMGDT",
    "outputId": "4189578a-932f-45cc-8260-46d0d9985c2f"
   },
   "outputs": [
    {
     "data": {
      "text/plain": [
       "Index([1704], dtype='int64')"
      ]
     },
     "execution_count": 20,
     "metadata": {},
     "output_type": "execute_result"
    }
   ],
   "source": [
    "# Extracting the index of the Bitcoin Crash in March 2020\n",
    "\n",
    "bitcoin_df[bitcoin_df[\"date\"] == \"2020-03-12\"].index"
   ]
  },
  {
   "cell_type": "code",
   "execution_count": 21,
   "metadata": {
    "colab": {
     "base_uri": "https://localhost:8080/"
    },
    "id": "zgqBQVC2NpLh",
    "outputId": "047cc140-ce79-4188-ec80-f50d72ea3ad6"
   },
   "outputs": [
    {
     "data": {
      "text/plain": [
       "Index([25008], dtype='int64')"
      ]
     },
     "execution_count": 21,
     "metadata": {},
     "output_type": "execute_result"
    }
   ],
   "source": [
    "# Extracting the index of the Bitcoin Crash in March 2020\n",
    "\n",
    "bitcoin_df[bitcoin_df[\"date\"] == \"2022-11-08\"].index"
   ]
  },
  {
   "cell_type": "code",
   "execution_count": 22,
   "metadata": {
    "colab": {
     "base_uri": "https://localhost:8080/",
     "height": 1000
    },
    "id": "vfRh2Qgx9T9X",
    "outputId": "35a88c11-841f-417e-95cd-1b4605d8e99c"
   },
   "outputs": [
    {
     "data": {
      "image/png": "[encoded data removed]",
      "text/plain": [
       "<Figure size 2000x1400 with 4 Axes>"
      ]
     },
     "metadata": {},
     "output_type": "display_data"
    }
   ],
   "source": [
    "# Plotting OHCL\n",
    "\n",
    "# Set the figure size\n",
    "plt.figure(figsize=(20, 14))\n",
    "\n",
    "# Plotting Close price\n",
    "plt.subplot(4, 1, 1)\n",
    "plt.plot(bitcoin_df[\"date\"], bitcoin_df[\"close\"], color='blue')\n",
    "plt.title(\"Bitcoin Close Price\")\n",
    "\n",
    "# Plotting Open price\n",
    "plt.subplot(4, 1, 2)\n",
    "plt.plot(bitcoin_df[\"date\"], bitcoin_df[\"open\"], color='green')\n",
    "plt.title(\"Bitcoin Open Price\")\n",
    "\n",
    "# Plotting High price\n",
    "plt.subplot(4, 1, 3)\n",
    "plt.plot(bitcoin_df[\"date\"], bitcoin_df[\"high\"], color='red')\n",
    "plt.title(\"Bitcoin High Price\")\n",
    "\n",
    "# Plotting Low price\n",
    "plt.subplot(4, 1, 4)\n",
    "plt.plot(bitcoin_df[\"date\"], bitcoin_df[\"low\"], color='orange')\n",
    "plt.title(\"Bitcoin Low Price\")\n",
    "\n",
    "# Add annotation for Crash 2020 in first plot\n",
    "plt.subplot(4, 1, 1)  # Select the Close price subplot for annotation\n",
    "plt.annotate('Crash March 2020',\n",
    "             xy=(bitcoin_df[\"date\"][1704], bitcoin_df[\"close\"][1704]),\n",
    "             xytext=(-50, 50), textcoords='offset points', fontsize=15, color='blue',\n",
    "             arrowprops=dict(arrowstyle='->', color='black'))\n",
    "\n",
    "plt.annotate('FTX Crash November 2022',\n",
    "             xy=(bitcoin_df[\"date\"][25008], bitcoin_df[\"close\"][25008]),\n",
    "             xytext=(-50, 50), textcoords='offset points', fontsize=15, color='blue',\n",
    "             arrowprops=dict(arrowstyle='->', color='black'))\n",
    "\n",
    "\n",
    "# Adjust the layout to prevent overlapping of subplots\n",
    "plt.tight_layout()\n",
    "\n",
    "# Show the plot\n",
    "plt.show()\n",
    "\n",
    "\n"
   ]
  },
  {
   "cell_type": "code",
   "execution_count": null,
   "metadata": {
    "colab": {
     "base_uri": "https://localhost:8080/",
     "height": 517
    },
    "id": "GpO09MgQH70Y",
    "outputId": "de8bc2ca-c73a-4733-c486-76cb0a015fa9"
   },
   "outputs": [],
   "source": [
    "# Plotting Detail of the Bitcoin crash of March 2020\n",
    "\n",
    "plot_ = bitcoin_df.set_index(\"date\").loc[\"2020-03\"]\n",
    "\n",
    "fig = go.Figure(data=go.Candlestick(x= plot_.index,\n",
    "                    open=plot_['open'],\n",
    "                    high=plot_['high'],\n",
    "                    low=plot_['low'],\n",
    "                    close=plot_['close'],\n",
    "                    increasing_line_color='green',\n",
    "                    decreasing_line_color='red'))\n",
    "\n",
    "fig.update_layout(title=\"Bitcoin March 2020\",\n",
    "                  width=1400,  # Adjust the width of the figure\n",
    "                  height=500,  # Adjust the height of the figure\n",
    "                  margin=dict(l=50, r=50, t=50, b=50))  # Adjust the margin around the plot\n",
    "\n",
    "fig.show()\n",
    "\n"
   ]
  },
  {
   "cell_type": "code",
   "execution_count": null,
   "metadata": {
    "colab": {
     "base_uri": "https://localhost:8080/",
     "height": 517
    },
    "id": "fHc4x1MZH4Kw",
    "outputId": "5b3bd2d1-3f8f-414c-cf4e-05b74f28714b"
   },
   "outputs": [],
   "source": [
    "# Plottin Detail of the Bitcoin crash of Nov 2022\n",
    "\n",
    "plot_ = bitcoin_df.set_index(\"date\").loc[\"2022-11\"]\n",
    "\n",
    "fig = go.Figure(data=go.Candlestick(x= plot_.index,\n",
    "                    open=plot_['open'],\n",
    "                    high=plot_['high'],\n",
    "                    low=plot_['low'],\n",
    "                    close=plot_['close'],\n",
    "                    increasing_line_color='blue',\n",
    "                    decreasing_line_color='red'))\n",
    "\n",
    "fig.update_layout(title=\"Bitcoin November 2022\",\n",
    "                  width=1400,  # Adjust the width of the figure\n",
    "                  height=500,  # Adjust the height of the figure\n",
    "                  margin=dict(l=50, r=50, t=50, b=50))  # Adjust the margin around the plot\n",
    "\n",
    "fig.show()\n",
    "\n"
   ]
  },
  {
   "cell_type": "markdown",
   "metadata": {
    "id": "6241nlMltnLD"
   },
   "source": [
    "### Volume and Count Columns"
   ]
  },
  {
   "cell_type": "code",
   "execution_count": null,
   "metadata": {
    "colab": {
     "base_uri": "https://localhost:8080/",
     "height": 1000
    },
    "id": "QZIvLfxQQmsU",
    "outputId": "21438dd4-5d55-4903-fd5f-7616f3559944"
   },
   "outputs": [],
   "source": [
    "## Plot Volumes and Count\n",
    "\n",
    "\n",
    "# Create subplots with shared x-axis\n",
    "fig = make_subplots(rows=5, cols=1, shared_xaxes=True, vertical_spacing=0.05)\n",
    "\n",
    "# Plotting Volume\n",
    "fig.add_trace(go.Scatter(x=bitcoin_df[\"date\"], y=bitcoin_df[\"volume\"], name=\"Volume\"), row=1, col=1)\n",
    "fig.update_yaxes(title_text=\"Volume\", row=1, col=1)\n",
    "\n",
    "# Plotting Taker Buy Volume\n",
    "fig.add_trace(go.Scatter(x=bitcoin_df[\"date\"], y=bitcoin_df[\"taker_buy_volume\"], name=\"Taker Buy Volume\"), row=2, col=1)\n",
    "fig.update_yaxes(title_text=\"Taker Buy Volume\", row=2, col=1)\n",
    "\n",
    "# Plotting Quote Volume\n",
    "fig.add_trace(go.Scatter(x=bitcoin_df[\"date\"], y=bitcoin_df[\"quote_volume\"], name=\"Quote Volume\"), row=3, col=1)\n",
    "fig.update_yaxes(title_text=\"Quote Volume\", row=3, col=1)\n",
    "\n",
    "# Plotting Taker Buy Quote Volume\n",
    "fig.add_trace(go.Scatter(x=bitcoin_df[\"date\"], y=bitcoin_df[\"taker_buy_quote_volume\"], name=\"Taker Buy Quote Volume\"), row=4, col=1)\n",
    "fig.update_yaxes(title_text=\"Taker Buy Quote Volume\", row=4, col=1)\n",
    "\n",
    "# Plotting Count\n",
    "fig.add_trace(go.Scatter(x=bitcoin_df[\"date\"], y=bitcoin_df[\"count\"], name=\"Count\"), row=5, col=1)\n",
    "fig.update_yaxes(title_text=\"Count\", row=5, col=1)\n",
    "\n",
    "# Update layout\n",
    "fig.update_layout(height=1000, width=800, showlegend=False)\n",
    "\n",
    "# Set x-axis title\n",
    "fig.update_xaxes(title_text=\"Date\", row=5, col=1)\n",
    "\n",
    "\n",
    "# Show the plot\n",
    "fig.show()\n"
   ]
  },
  {
   "cell_type": "code",
   "execution_count": null,
   "metadata": {
    "colab": {
     "base_uri": "https://localhost:8080/",
     "height": 607
    },
    "id": "OibpzMU2gThu",
    "outputId": "744030f6-219f-49d9-8196-9498bfdd79ce"
   },
   "outputs": [],
   "source": [
    "# Plotting together Quote Volume and Taker Buy Quote Volume as they have similar axis\n",
    "\n",
    "plt.figure(figsize=(12, 6))\n",
    "\n",
    "# Plotting Quote Volume and Taker Buy Quote Volume\n",
    "plt.plot(bitcoin_df[\"date\"], bitcoin_df[\"quote_volume\"], label=\"Quote Volume\")\n",
    "plt.plot(bitcoin_df[\"date\"], bitcoin_df[\"taker_buy_quote_volume\"], label=\"Taker Buy Quote Volume\")\n",
    "\n",
    "\n",
    "\n",
    "plt.title(\"Bitcoin Quote Volume and Taker Buy Quote Volume\")\n",
    "plt.xlabel(\"Date\")\n",
    "plt.ylabel(\"Volume\")\n",
    "plt.legend()\n",
    "\n",
    "plt.tight_layout()\n",
    "plt.show()"
   ]
  },
  {
   "cell_type": "code",
   "execution_count": null,
   "metadata": {
    "colab": {
     "base_uri": "https://localhost:8080/",
     "height": 607
    },
    "id": "mb2b4rPyg8Ws",
    "outputId": "a344e4df-ac5a-41dc-a076-da95eaef8ecb"
   },
   "outputs": [],
   "source": [
    "# Plotting together Volume and Taker Buy Volume as they have similar axis\n",
    "\n",
    "plt.figure(figsize=(12, 6))\n",
    "\n",
    "# Plotting Quote Volume and Taker Buy Quote Volume\n",
    "plt.plot(bitcoin_df[\"date\"], bitcoin_df[\"volume\"], label=\"Volume\")\n",
    "plt.plot(bitcoin_df[\"date\"], bitcoin_df[\"taker_buy_volume\"], label=\"Taker Buy Volume\")\n",
    "\n",
    "\n",
    "plt.title(\"Bitcoin Volume and Taker Buy Volume\")\n",
    "plt.xlabel(\"Date\")\n",
    "plt.ylabel(\"Volume\")\n",
    "plt.legend()\n",
    "\n",
    "plt.tight_layout()\n",
    "plt.show()"
   ]
  },
  {
   "cell_type": "markdown",
   "metadata": {
    "id": "ESvPyUJfpGKJ"
   },
   "source": [
    "## Heatmap Correlation"
   ]
  },
  {
   "cell_type": "code",
   "execution_count": null,
   "metadata": {
    "colab": {
     "base_uri": "https://localhost:8080/",
     "height": 798
    },
    "id": "g7yrvdb4XkVt",
    "outputId": "7863c09e-5ae5-4f94-e614-93f1b1e64557"
   },
   "outputs": [],
   "source": [
    "# Plot Bitcoin correlations\n",
    "\n",
    "plt.figure(figsize=(10, 8))\n",
    "plt.title('Correlation Heatmap')\n",
    "\n",
    "# Create a custom color palette\n",
    "cmap = sns.diverging_palette(220, 10, as_cmap=True)\n",
    "\n",
    "# Plot the correlation heatmap\n",
    "sns.heatmap(bitcoin_df.corr(numeric_only=True), annot=True, cmap=cmap, fmt=\".2f\", linewidths=0.5, square=True)\n",
    "\n",
    "# Rotate the x-axis labels for better readability\n",
    "plt.xticks(rotation=45, ha='right')\n",
    "\n",
    "plt.show()\n"
   ]
  },
  {
   "cell_type": "markdown",
   "metadata": {
    "id": "75bn5hncpe1E"
   },
   "source": [
    "We can see that all OHCL are highly correlated with each other and all volumes and count as well with each other"
   ]
  },
  {
   "cell_type": "markdown",
   "metadata": {
    "id": "2-xbAZcchyZ6"
   },
   "source": [
    "## Plot Lag Correlation"
   ]
  },
  {
   "cell_type": "markdown",
   "metadata": {
    "id": "f8xLKj7WqZmD"
   },
   "source": [
    "Lag plots are most commonly used to look for patterns in time series data. We will try to find hourly, daily, weekly and monthly correlations, but will focus from now on, on the **Close Price**"
   ]
  },
  {
   "cell_type": "code",
   "execution_count": null,
   "metadata": {
    "colab": {
     "base_uri": "https://localhost:8080/",
     "height": 836
    },
    "id": "sPzDX_FQZtdv",
    "outputId": "af5b6309-b7de-4e77-89d4-b84cff6a9a61"
   },
   "outputs": [],
   "source": [
    "## Bitcoin Lag Plot\n",
    "\n",
    "import matplotlib.pyplot as plt\n",
    "import pandas as pd\n",
    "\n",
    "# Define the lag values and corresponding labels\n",
    "lags = [1, 24, 48, 168, 720]\n",
    "labels = ['1-hour Lag', '1-Day Lag', '2-Day Lag', '1-Week Lag', '1-Month Lag']\n",
    "\n",
    "# Create a color palette with different colors for each plot\n",
    "colors = ['blue', 'orange', 'green', 'red', 'purple']\n",
    "\n",
    "# Create a figure with subplots\n",
    "fig, axs = plt.subplots(3, 3, figsize=(15, 12))\n",
    "fig.suptitle('Bitcoin Lag Plots', fontsize=22)\n",
    "\n",
    "# Flatten the axs array to iterate over subplots\n",
    "axs = axs.flatten()\n",
    "\n",
    "# Plot the lag plots with different colors and labels\n",
    "for i, lag in enumerate(lags):\n",
    "    pd.plotting.lag_plot(bitcoin_df[\"close\"], lag=lag, ax=axs[i], c=colors[i])\n",
    "    axs[i].set_title(labels[i])\n",
    "\n",
    "# Remove empty subplots if the number of lags is less than 9\n",
    "if len(lags) < 9:\n",
    "    for j in range(len(lags), 9):\n",
    "        fig.delaxes(axs[j])\n",
    "\n",
    "# Adjust the spacing between subplots\n",
    "plt.tight_layout()\n",
    "\n",
    "# Show the plot\n",
    "plt.show()\n"
   ]
  },
  {
   "cell_type": "markdown",
   "metadata": {
    "id": "vnc_GMIU-1Cx"
   },
   "source": [
    "We see that the hourly and daily lag is correlated but the weekly get some noise for both currencies. Therefore we can keep working with the daily lag"
   ]
  },
  {
   "cell_type": "markdown",
   "metadata": {
    "id": "GkqCRVLU-5yZ"
   },
   "source": [
    "## Daily Resampling"
   ]
  },
  {
   "cell_type": "markdown",
   "metadata": {
    "id": "FTR8id-o-_Vp"
   },
   "source": [
    "Here we will resample based on the correlation using the resample method from pandas"
   ]
  },
  {
   "cell_type": "code",
   "execution_count": null,
   "metadata": {
    "colab": {
     "base_uri": "https://localhost:8080/",
     "height": 206
    },
    "id": "Z9m_wATGQn3-",
    "outputId": "64542f9e-6fdd-4a20-a9d3-0652938894ef"
   },
   "outputs": [],
   "source": [
    "# Bitcoin Daily resampling taking the mean value\n",
    "\n",
    "bitcoin_df.set_index('date', inplace=True)  # Set 'date' column as the index\n",
    "\n",
    "bitcoin_daily = bitcoin_df.resample('24H').mean()\n",
    "bitcoin_daily = bitcoin_daily.reset_index()\n",
    "\n",
    "bitcoin_daily.head()"
   ]
  },
  {
   "cell_type": "code",
   "execution_count": null,
   "metadata": {
    "colab": {
     "base_uri": "https://localhost:8080/",
     "height": 363
    },
    "id": "98un5edoC0hJ",
    "outputId": "3e4ac951-df44-46c8-e995-3a75f1efd6b8"
   },
   "outputs": [],
   "source": [
    "missing_values_summary(bitcoin_daily)"
   ]
  },
  {
   "cell_type": "markdown",
   "metadata": {
    "id": "QMmg5sGLCHMO"
   },
   "source": [
    "### Daily Time Series Analysis"
   ]
  },
  {
   "cell_type": "code",
   "execution_count": null,
   "metadata": {
    "colab": {
     "base_uri": "https://localhost:8080/",
     "height": 542
    },
    "id": "Cny9txIUQn3-",
    "outputId": "598ecf31-ab1d-4199-abd7-03c4936e9721"
   },
   "outputs": [],
   "source": [
    "# Bitcoin Daily Time Series\n",
    "\n",
    "fig = px.line(bitcoin_daily, x='date', y='close', title='Bitcoin Close Price with Range Slider and Selectors')\n",
    "fig.update_layout(hovermode=\"x\")\n",
    "\n",
    "fig.update_xaxes(\n",
    "    rangeslider_visible=True,\n",
    "    rangeselector=dict(\n",
    "        buttons=list([\n",
    "            dict(count=1, label=\"1m\", step=\"month\", stepmode=\"backward\"),\n",
    "            dict(count=6, label=\"6m\", step=\"month\", stepmode=\"backward\"),\n",
    "            dict(count=1, label=\"1y\", step=\"year\", stepmode=\"backward\"),\n",
    "            dict(count=2, label=\"2y\", step=\"year\", stepmode=\"backward\"),\n",
    "            dict(step=\"all\")\n",
    "\n",
    "        ])\n",
    "    )\n",
    ")\n",
    "\n",
    "fig.show()"
   ]
  },
  {
   "cell_type": "code",
   "execution_count": null,
   "metadata": {
    "colab": {
     "base_uri": "https://localhost:8080/",
     "height": 517
    },
    "id": "3-ArjlZ6Qn3_",
    "outputId": "c4ceca18-7892-4670-be3b-f22e2a28c9c9"
   },
   "outputs": [],
   "source": [
    "# Plotting Detail of the Bitcoin crash of March 2020\n",
    "\n",
    "plot_ = bitcoin_daily.set_index(\"date\").loc[\"2020-03\"]\n",
    "\n",
    "fig = go.Figure(data=go.Candlestick(x= plot_.index,\n",
    "                    open=plot_['open'],\n",
    "                    high=plot_['high'],\n",
    "                    low=plot_['low'],\n",
    "                    close=plot_['close'],\n",
    "                    increasing_line_color='green',\n",
    "                    decreasing_line_color='red'))\n",
    "\n",
    "fig.update_layout(title=\"Bitcoin March 2020\",\n",
    "                  width=1400,  # Adjust the width of the figure\n",
    "                  height=500,  # Adjust the height of the figure\n",
    "                  margin=dict(l=50, r=50, t=50, b=50))  # Adjust the margin around the plot\n",
    "\n",
    "fig.show()\n",
    "\n"
   ]
  },
  {
   "cell_type": "code",
   "execution_count": null,
   "metadata": {
    "colab": {
     "base_uri": "https://localhost:8080/",
     "height": 517
    },
    "id": "dhImAtH3bQqm",
    "outputId": "2d255f68-daaa-4838-ac5c-2bcc52d36bb8"
   },
   "outputs": [],
   "source": [
    "# Plottin Detail of the Bitcoin crash of Nov 2022\n",
    "\n",
    "plot_ = bitcoin_daily.set_index(\"date\").loc[\"2022-11\"]\n",
    "\n",
    "fig = go.Figure(data=go.Candlestick(x= plot_.index,\n",
    "                    open=plot_['open'],\n",
    "                    high=plot_['high'],\n",
    "                    low=plot_['low'],\n",
    "                    close=plot_['close'],\n",
    "                    increasing_line_color='blue',\n",
    "                    decreasing_line_color='red'))\n",
    "\n",
    "fig.update_layout(title=\"Bitcoin November 2022\",\n",
    "                  width=1400,  # Adjust the width of the figure\n",
    "                  height=500,  # Adjust the height of the figure\n",
    "                  margin=dict(l=50, r=50, t=50, b=50))  # Adjust the margin around the plot\n",
    "\n",
    "fig.show()"
   ]
  },
  {
   "cell_type": "markdown",
   "metadata": {
    "id": "uq6ZuXbDDdWv"
   },
   "source": [
    "## Time Series Decomposition and Statistical Test"
   ]
  },
  {
   "cell_type": "markdown",
   "metadata": {
    "id": "TaF-ZV6nRDS_"
   },
   "source": [
    "### Decomposition"
   ]
  },
  {
   "cell_type": "code",
   "execution_count": null,
   "metadata": {
    "colab": {
     "base_uri": "https://localhost:8080/",
     "height": 1000
    },
    "id": "A01vz50lb3mQ",
    "outputId": "03364a91-dc9c-4c90-ae25-f303a238b2bc"
   },
   "outputs": [],
   "source": [
    "# Additive Decomposition\n",
    "\n",
    "series = bitcoin_daily.close\n",
    "result = seasonal_decompose(series, model='additive', period=1)\n",
    "\n",
    "fig, axes = plt.subplots(nrows=4, ncols=1, figsize=(15, 12))\n",
    "plt.subplots_adjust(hspace=0.5)\n",
    "\n",
    "axes[0].set_title('Close Series')\n",
    "axes[0].plot(series, color='blue')\n",
    "\n",
    "axes[1].set_title('Trend Component')\n",
    "axes[1].plot(result.trend, color='green')\n",
    "\n",
    "axes[2].set_title('Seasonal Component')\n",
    "axes[2].plot(result.seasonal, color='red')\n",
    "\n",
    "axes[3].set_title('Residual Component')\n",
    "axes[3].plot(result.resid, color='orange')\n",
    "\n",
    "plt.show()\n"
   ]
  },
  {
   "cell_type": "code",
   "execution_count": null,
   "metadata": {
    "colab": {
     "base_uri": "https://localhost:8080/",
     "height": 1000
    },
    "id": "U1ZlCCP5HaZS",
    "outputId": "b4ee6a9a-4d9a-4068-99f4-bcd092152881"
   },
   "outputs": [],
   "source": [
    "# Multiplicative Decomposition\n",
    "\n",
    "series = bitcoin_daily.close\n",
    "result_mul = seasonal_decompose(series, model='multiplicative', period=1)\n",
    "\n",
    "fig, axes = plt.subplots(nrows=4, ncols=1, figsize=(15, 12))\n",
    "plt.subplots_adjust(hspace=0.5)\n",
    "\n",
    "axes[0].set_title('Close Series')\n",
    "axes[0].plot(series, color='blue')\n",
    "\n",
    "axes[1].set_title('Trend Component')\n",
    "axes[1].plot(result_mul.trend, color='green')\n",
    "\n",
    "axes[2].set_title('Seasonal Component')\n",
    "axes[2].plot(result_mul.seasonal, color='red')\n",
    "\n",
    "axes[3].set_title('Residual Component')\n",
    "axes[3].plot(result_mul.resid, color='orange')\n",
    "\n",
    "plt.show()"
   ]
  },
  {
   "cell_type": "markdown",
   "metadata": {
    "id": "zzapiJdWspH8"
   },
   "source": [
    "\n",
    "The plots show no seasonality and no variance over time (see plot seasonal).\n",
    "\n",
    "Residuals values are a around a mean with similar/no variance, so we need further to explore"
   ]
  },
  {
   "cell_type": "markdown",
   "metadata": {
    "id": "xKkpOqwPRNVc"
   },
   "source": [
    "### Autocorrelation: ACF and PACF"
   ]
  },
  {
   "cell_type": "code",
   "execution_count": null,
   "metadata": {
    "colab": {
     "base_uri": "https://localhost:8080/",
     "height": 562
    },
    "id": "_CHDHIe9eVh-",
    "outputId": "9794b02b-91af-49ef-ff4c-621d80254881"
   },
   "outputs": [],
   "source": [
    "# Plot each correlation in an autocorrelation graph (ACF) below. Correlation coefficients vs. Nr. lags\n",
    "\n",
    "def plot_autocorrelation(series, lags=50, alpha=0.05):\n",
    "    fig, ax = plt.subplots(figsize=(10, 6))\n",
    "    plot_acf(series, lags=lags, alpha=alpha, ax=ax)\n",
    "    ax.set_title(\"Autocorrelation Function (ACF) for Close Price\", size=16)\n",
    "    ax.set_xlabel(\"Lag\", size=12)\n",
    "    ax.set_ylabel(\"Autocorrelation\", size=12)\n",
    "    ax.tick_params(axis='both', labelsize=10)\n",
    "    plt.show()\n",
    "\n",
    "plot_autocorrelation(series, lags=50, alpha=0.05)\n",
    "\n",
    "# All values outside the blue area are significant. It represents like in linear regression, the significance of the beta values\n",
    "# Meaning the smaller the blue cone the better as we have more values outside and our confidence interval is higher\n",
    "\n",
    "# Peak inside of cone ➔ not statistically significant. Not applicable in our case\n",
    "\n",
    "# But we can add more lags as the more we have, the better our model will predict, as past values predict future values linearly in the ACF\n"
   ]
  },
  {
   "cell_type": "markdown",
   "metadata": {
    "id": "X2_i2xK0M35U"
   },
   "source": [
    "Analysing the ACF for a specific time lag could be a good predictor for the current value...\n",
    "\n",
    "\n",
    "...but only at face value!\n",
    "\n",
    "\n",
    "ACF measures direct & indirect effects\n",
    "\n",
    "This is why we must analyse each lag by isolation as well!\n",
    "Using our linear modelling, we can isolate each lag term\n",
    "This is known as Auto Regression (AR) and the analysis of lag terms is known as a **Partial Autocorrelation Function (PACF)**"
   ]
  },
  {
   "cell_type": "code",
   "execution_count": null,
   "metadata": {
    "colab": {
     "base_uri": "https://localhost:8080/",
     "height": 562
    },
    "id": "WOrBPX0Uety8",
    "outputId": "eaeeb96f-566c-4d92-e9fc-40bd6998c444"
   },
   "outputs": [],
   "source": [
    "# Plot each partial autocorrelation in an autocorrelation graph (PACF) below. Correlation coefficients vs. Nr. lags\n",
    "\n",
    "def plot_partial_autocorrelation(series, lags=50, alpha=0.05, method='ols'):\n",
    "    fig, ax = plt.subplots(figsize=(10, 6))\n",
    "    plot_pacf(series, lags=lags, alpha=alpha, method=method, ax=ax)\n",
    "    ax.set_title(\"Partial Autocorrelation Function (PACF) for Close Price\", size=16)\n",
    "    ax.set_xlabel(\"Lag\", size=12)\n",
    "    ax.set_ylabel(\"Partial Autocorrelation\", size=12)\n",
    "    ax.tick_params(axis='both', labelsize=10)\n",
    "    plt.show()\n",
    "\n",
    "plot_partial_autocorrelation(series, lags=50, alpha=0.05, method='ols')\n",
    "\n",
    "# Count the number of lags before the values drop below the confidence levels (blue)\n",
    "#  Note that the first lag is ignored, as it represents / between and itself\n",
    "# We see the number of lags is 2, as more than that is not statistically significant\n"
   ]
  },
  {
   "cell_type": "markdown",
   "metadata": {
    "id": "1pUSrwHjQ9Sw"
   },
   "source": [
    "### Stationarity"
   ]
  },
  {
   "cell_type": "markdown",
   "metadata": {
    "id": "TR4EgJhFSqnN"
   },
   "source": [
    "#### Kwiatkowski-Phillips-Schmidt-Shin: KPSS"
   ]
  },
  {
   "cell_type": "code",
   "execution_count": null,
   "metadata": {
    "id": "p6sR31SvVnUS"
   },
   "outputs": [],
   "source": [
    "def test_stationarity(series):\n",
    "    print('Results of KPPS Test:')\n",
    "    result = kpss(series, 'ct')\n",
    "    stats = result[0]\n",
    "    p = result[1]\n",
    "    lags = result[2]\n",
    "    critical_values = result[3]\n",
    "\n",
    "    data = {\n",
    "        'Test Statistics': [stats],\n",
    "        'p-value': [p],\n",
    "        'Lags Used': [lags],\n",
    "        'Critical Value (10%)': [critical_values['10%']],\n",
    "        'Critical Value (5%)': [critical_values['5%']],\n",
    "        'Critical Value (2.5%)': [critical_values['2.5%']],\n",
    "        'Critical Value (1%)': [critical_values['1%']]\n",
    "    }\n",
    "\n",
    "    df = pd.DataFrame(data)\n",
    "    df['Series Stationarity'] = 'Stationary' if p >= 0.05 else 'Not Stationary'\n",
    "\n",
    "    return df\n"
   ]
  },
  {
   "cell_type": "code",
   "execution_count": null,
   "metadata": {
    "colab": {
     "base_uri": "https://localhost:8080/",
     "height": 98
    },
    "id": "5WBDnGV5VrkG",
    "outputId": "40a3b07f-5593-47a7-cb4f-98abf594a422"
   },
   "outputs": [],
   "source": [
    "results_kpps = test_stationarity(series)\n",
    "results_kpps"
   ]
  },
  {
   "cell_type": "markdown",
   "metadata": {
    "id": "LYow7Qr5Svah"
   },
   "source": [
    "#### Augmented Dickey Fuller - ADF\n",
    "ADF tests the following null hypothesis:\n",
    "\n",
    "H0: The series is not-stationary\n",
    "\n",
    "A p-value close to 0 (e.g. p < 0.05) indicates stationarity"
   ]
  },
  {
   "cell_type": "code",
   "execution_count": null,
   "metadata": {
    "id": "tGFH2XMHYjVd"
   },
   "outputs": [],
   "source": [
    "def adf_test(timeseries):\n",
    "    print('Results of Dickey-Fuller Test:')\n",
    "    dftest = adfuller(timeseries, autolag='AIC')\n",
    "    p_value_adf = dftest[1]\n",
    "\n",
    "    data = {\n",
    "        'Test Statistic': [dftest[0]],\n",
    "        'p-value': [p_value_adf],\n",
    "        '#Lags Used': [dftest[2]]\n",
    "    }\n",
    "\n",
    "    for key, value in dftest[4].items():\n",
    "        data[f'Critical Value ({key})'] = [value]\n",
    "\n",
    "    data['Series Stationarity'] = ['Not Stationary' if p_value_adf > 0.05 else 'Stationary']\n",
    "\n",
    "    df = pd.DataFrame(data)\n",
    "    return df\n"
   ]
  },
  {
   "cell_type": "code",
   "execution_count": null,
   "metadata": {
    "colab": {
     "base_uri": "https://localhost:8080/",
     "height": 98
    },
    "id": "VEpvBiWaYse1",
    "outputId": "fd7f3e5c-5416-40ab-ee30-bb1f9f3b5898"
   },
   "outputs": [],
   "source": [
    "results_adf = adf_test(series)\n",
    "results_adf"
   ]
  },
  {
   "cell_type": "markdown",
   "metadata": {
    "id": "V1DoP_eyeHo-"
   },
   "source": [
    "The final result is that the series are **\"Not Stationary\"**"
   ]
  },
  {
   "cell_type": "markdown",
   "metadata": {
    "id": "h4mMcT6Rd9G8"
   },
   "source": [
    "#### Differencing"
   ]
  },
  {
   "cell_type": "markdown",
   "metadata": {
    "id": "jvRSXI8jWMVy"
   },
   "source": [
    "Here we get non-stationary. So we need to do [differencing](https://https://www.statsmodels.org/dev/examples/notebooks/generated/stationarity_detrending_adf_kpss.html) to make the series stationary\n",
    "\n",
    "Based upon the significance level of 0.05 and the p-value of ADF test, the null hypothesis cannot be rejected. Hence, the series is non stationary.\n",
    "\n",
    "Based upon the significance level of 0.05 and the p-value of KPSS test, there is evidence for rejecting the null hypothesis in favor of the alternative. Hence, the series is non-stationary as per the KPSS test.\n",
    "\n",
    "It is always better to apply both the tests, so that it can be ensured that the series is truly stationary. Possible outcomes of applying these stationary tests are as follows:\n",
    "\n",
    "- Case 1: Both tests conclude that the series is not stationary - The series is\n",
    "not stationary\n",
    "\n",
    "- Case 2: Both tests conclude that the series is stationary - The series is stationary\n",
    "\n",
    "- Case 3: KPSS indicates stationarity and ADF indicates non-stationarity - The series is trend stationary. Trend needs to be removed to make series strict stationary. The detrended series is checked for stationarity.\n",
    "\n",
    "- Case 4: KPSS indicates non-stationarity and ADF indicates stationarity - The series is difference stationary. Differencing is to be used to make series stationary. The differenced series is checked for stationarity."
   ]
  },
  {
   "cell_type": "markdown",
   "metadata": {
    "id": "UkgZDOXAegxh"
   },
   "source": [
    "**Here is an example of the procedure to follow when we need to do differencing**"
   ]
  },
  {
   "cell_type": "code",
   "execution_count": null,
   "metadata": {
    "colab": {
     "base_uri": "https://localhost:8080/",
     "height": 407
    },
    "id": "uMeblYgsgWRk",
    "outputId": "fc2edaa7-50ac-4c0e-f24c-91c5185690b1"
   },
   "outputs": [],
   "source": [
    "# Adding 1 level of differencing\n",
    "\n",
    "def plot_series_and_difference(series):\n",
    "    series_diff = series.diff(1)\n",
    "\n",
    "    plt.figure(figsize=(10, 4))\n",
    "    plt.subplot(2, 1, 1)\n",
    "    series.plot(color='blue')\n",
    "    plt.title('Original Series')\n",
    "\n",
    "    plt.subplot(2, 1, 2)\n",
    "    series_diff.dropna().plot(color='orange')\n",
    "    plt.title('Differenced Series')\n",
    "\n",
    "    plt.tight_layout()\n",
    "    plt.show()\n",
    "\n",
    "\n",
    "plot_series_and_difference(series)\n"
   ]
  },
  {
   "cell_type": "code",
   "execution_count": null,
   "metadata": {
    "colab": {
     "base_uri": "https://localhost:8080/",
     "height": 98
    },
    "id": "Uk3-vmWiXtho",
    "outputId": "f97ba04c-7855-4cd4-a29e-ba878618d229"
   },
   "outputs": [],
   "source": [
    "adf_test(series.diff(1).dropna())"
   ]
  },
  {
   "cell_type": "code",
   "execution_count": null,
   "metadata": {
    "colab": {
     "base_uri": "https://localhost:8080/",
     "height": 98
    },
    "id": "NFmjTUJBhKIN",
    "outputId": "39a99e9b-cf28-402a-c818-9046516ddfca"
   },
   "outputs": [],
   "source": [
    "test_stationarity(series.diff(1).dropna())"
   ]
  },
  {
   "cell_type": "markdown",
   "metadata": {
    "id": "2M0WwUPxkD0A"
   },
   "source": [
    "**ADF and KPPS are now stationary with one level of differencing (d = 1)**"
   ]
  },
  {
   "cell_type": "code",
   "execution_count": null,
   "metadata": {
    "colab": {
     "base_uri": "https://localhost:8080/",
     "height": 392
    },
    "id": "YidMdaVAPn4c",
    "outputId": "b88cd033-806a-4a84-80f1-2dd29fb9a641"
   },
   "outputs": [],
   "source": [
    "# ACF for d = 1\n",
    "\n",
    "def plot_acf_diff(series, lags):\n",
    "    series_diff = series.diff(1).dropna()\n",
    "\n",
    "    fig, ax = plt.subplots(figsize=(10, 4))\n",
    "    plot_acf(series_diff, lags=lags, alpha=0.05, ax=ax)\n",
    "    ax.set_title(\"ACF for Differenced Series (d=1)\", size=20)\n",
    "    plt.show()\n",
    "\n",
    "\n",
    "plot_acf_diff(series, lags=50)\n"
   ]
  },
  {
   "cell_type": "code",
   "execution_count": null,
   "metadata": {
    "colab": {
     "base_uri": "https://localhost:8080/",
     "height": 392
    },
    "id": "W_Ku5_a0P2bC",
    "outputId": "29b1760e-3ec3-42a5-c5e8-0604be13c31d"
   },
   "outputs": [],
   "source": [
    "# PACF for d = 1\n",
    "\n",
    "def plot_pacf_diff(series, lags):\n",
    "    series_diff = series.diff(1).dropna()\n",
    "    fig, ax = plt.subplots(figsize=(10, 4))\n",
    "    plot_pacf(series_diff, lags=lags, alpha=0.05, method='ols', ax=ax)\n",
    "    ax.set_title(\"PACF for Differenced Series (d=1)\", size=20)\n",
    "    plt.show()\n",
    "\n",
    "plot_pacf_diff(series, lags=50)\n"
   ]
  },
  {
   "cell_type": "markdown",
   "metadata": {
    "id": "q6fKsTmWRG5s"
   },
   "source": [
    "We use the PACF plot to calculate the value for **p = 1** (nr of lags, excluding the first, till it drops into the blue area)\n",
    "We use the ACF plot to calculate the value for **q = 1** (nr of lags, excluding the first, till it drops into the blue area)"
   ]
  },
  {
   "cell_type": "markdown",
   "metadata": {
    "id": "-HjW9qrpRjUD"
   },
   "source": [
    "This means we can use an ARIMA model (1,1,1), but we can also calculate p,q and d using `ndiffs` or `pm.auto_arima` automatically"
   ]
  },
  {
   "cell_type": "code",
   "execution_count": null,
   "metadata": {
    "colab": {
     "base_uri": "https://localhost:8080/"
    },
    "id": "HaUOefhszM9P",
    "outputId": "0892c028-e42e-4550-b169-c6fbd92bffa9"
   },
   "outputs": [],
   "source": [
    "# Automatically estimate differencing term\n",
    "\n",
    "ndiffs(series)"
   ]
  },
  {
   "cell_type": "code",
   "execution_count": null,
   "metadata": {
    "colab": {
     "base_uri": "https://localhost:8080/"
    },
    "id": "5GQ-UEGtz2Ve",
    "outputId": "8b218c22-e692-4168-c0f5-a88e60ce2939"
   },
   "outputs": [],
   "source": [
    "# Automatically estimate p,d,q terms\n",
    "\n",
    "arima_model = pm.auto_arima(series,\n",
    "                            start_p=0, max_p=3,\n",
    "                            start_q=0, max_q=3,\n",
    "                            trend='t',\n",
    "                            seasonal=False,\n",
    "                            trace=True)"
   ]
  },
  {
   "cell_type": "markdown",
   "metadata": {
    "id": "sG6yJCrJ2TKb"
   },
   "source": [
    "Here ARIMA has calculated (1,1,0).\n",
    "\n",
    "Several models have similar AIC values around 20746 and our previous estimation is also good\n",
    "\n",
    "Any of them might be the \"true\" underlying process\n",
    "\n",
    "👉 When in doubt, pick the simplest model. In this case (1,1,0) is simpler"
   ]
  },
  {
   "cell_type": "markdown",
   "metadata": {
    "id": "1P9KtlD0EPo4"
   },
   "source": [
    "## Trends: Moving Average"
   ]
  },
  {
   "cell_type": "markdown",
   "metadata": {
    "id": "ttXIGg8NEMax"
   },
   "source": [
    "Rolling or moving average is a method to average out noise, which are random short-term fluctuations in price, from data and make easier to detect trends. Splits and aggregating the data into windows accorging to functions like mean, median...\n",
    "\n",
    "For example, a 7-day moving average reflects short-term trends in the stock market, whereas a 100-day rolling average indicates major trends in the stock market.\n",
    "\n",
    "Here we calculate the **arithmetic mean** of a given set of prices over a specified period."
   ]
  },
  {
   "cell_type": "code",
   "execution_count": null,
   "metadata": {
    "id": "CvBpSSyjEc0p"
   },
   "outputs": [],
   "source": [
    "bitcoin_daily = bitcoin_daily.set_index('date')\n",
    "\n",
    "# compute a short-term 20-day moving average\n",
    "MA20 = bitcoin_daily.close.rolling(20).mean()\n",
    "\n",
    "# compute a Long-term 50-day moving average\n",
    "MA50 = bitcoin_daily.close.rolling(50).mean()\n",
    "\n",
    "# compute a Long-term 100-day moving average\n",
    "MA100 = bitcoin_daily.close.rolling(100).mean()"
   ]
  },
  {
   "cell_type": "code",
   "execution_count": null,
   "metadata": {
    "colab": {
     "base_uri": "https://localhost:8080/",
     "height": 837
    },
    "id": "a2UcJIVvbjvl",
    "outputId": "0aa67fe3-4c24-4de3-d618-f8601d5e668d"
   },
   "outputs": [],
   "source": [
    "# Create a trace for the closing price\n",
    "trace_close = go.Scatter(x=bitcoin_daily.index, y=bitcoin_daily.close, mode='lines', name='Closing')\n",
    "\n",
    "# Create traces for the moving averages\n",
    "trace_ma100 = go.Scatter(x=bitcoin_daily.index, y=MA100, mode='lines', name='MA100', line=dict(color='red'))\n",
    "trace_ma50 = go.Scatter(x=bitcoin_daily.index, y=MA50, mode='lines', name='MA50', line=dict(color='green'))\n",
    "trace_ma20 = go.Scatter(x=bitcoin_daily.index, y=MA20, mode='lines', name='MA20', line=dict(color='orange'))\n",
    "\n",
    "\n",
    "layout = go.Layout(\n",
    "    title='Bitcoin Moving Averages',\n",
    "    xaxis=dict(title='Date'),\n",
    "    yaxis=dict(title='Price'),\n",
    "    showlegend=True,\n",
    "    height = 800,\n",
    "    width=1800  # Adjust the width as per your preference\n",
    ")\n",
    "\n",
    "# Create a figure and add the traces and layout\n",
    "fig = go.Figure(data=[trace_close, trace_ma100, trace_ma50, trace_ma20], layout=layout)\n",
    "\n",
    "# Show the plot\n",
    "fig.show()\n"
   ]
  },
  {
   "cell_type": "markdown",
   "metadata": {
    "id": "KSZ3YTyaEi2R"
   },
   "source": [
    "We can observe from the chart that in March and November of 2021, the price crosses below the 50-day MA, which indicates a **downward trend**, and in October 2020, the price crosses above the MA, which shows an **upward trend**."
   ]
  },
  {
   "cell_type": "markdown",
   "metadata": {
    "id": "sZYrdZhoExGV"
   },
   "source": [
    "From the charts that around March and December of 2021, the 20-day MA crosses below the 100-day MA. It indicates that the trend is shifting downwards, and **it’s a sell signal**. Towards January 2023, the 20-day MA crosses above the 100-day MA. It shows that the trend is shifting upwards, and it’s a **buy signal**."
   ]
  },
  {
   "cell_type": "markdown",
   "metadata": {
    "id": "r5gsWIro4Ape"
   },
   "source": [
    "Further investigating the charts in detail during 2021 or 2022 separately, which are the years with more fluctuations, can bring interesting insights"
   ]
  },
  {
   "cell_type": "markdown",
   "metadata": {
    "id": "qrtDuzNHCQj_"
   },
   "source": [
    "## Daily Return Series"
   ]
  },
  {
   "cell_type": "markdown",
   "metadata": {
    "id": "ZVNoOuzzCOzw"
   },
   "source": [
    "A return, also known as a financial return, in its simplest terms, is the money made or lost on an investment over some period of time.\n",
    "\n",
    "A return is a change in the price of an asset over time.\n",
    "\n",
    "Returns can be positive, representing a profit, or negative, indicating a loss. Return series of an asset are easier to handle than price series and give a complete summary of the investment opportunity.\n",
    "\n",
    "We will use the pandas **`pct_change()`** function to compute the returns.\n",
    "\n",
    "These are relative price changes of the cryptocurrencies"
   ]
  },
  {
   "cell_type": "code",
   "execution_count": null,
   "metadata": {
    "colab": {
     "base_uri": "https://localhost:8080/",
     "height": 237
    },
    "id": "hrP06274V4lB",
    "outputId": "f843acd0-d610-4e8b-b9c9-2c4981386885"
   },
   "outputs": [],
   "source": [
    "close_bitcoin = bitcoin_daily[[\"close\"]]\n",
    "close_bitcoin.head()"
   ]
  },
  {
   "cell_type": "code",
   "execution_count": null,
   "metadata": {
    "id": "eINGvsWf9UBf"
   },
   "outputs": [],
   "source": [
    "# Returns i.e. percentage change in the adjusted close price and drop the first row with NA's\n",
    "\n",
    "returns_bitcoin = close_bitcoin.pct_change().dropna(axis=0)\n",
    "returns_bitcoin.reset_index(inplace = True)"
   ]
  },
  {
   "cell_type": "code",
   "execution_count": null,
   "metadata": {
    "colab": {
     "base_uri": "https://localhost:8080/",
     "height": 112
    },
    "id": "P_Q5s7HuSL8a",
    "outputId": "60fcb383-3fde-49ea-d92e-10d6d18d878b"
   },
   "outputs": [],
   "source": [
    "returns_bitcoin.head(2)"
   ]
  },
  {
   "cell_type": "code",
   "execution_count": null,
   "metadata": {
    "colab": {
     "base_uri": "https://localhost:8080/"
    },
    "id": "aJ4E7l7XxJx_",
    "outputId": "3b2d1a03-c28c-490c-a148-f79730458ed4"
   },
   "outputs": [],
   "source": [
    "returns_bitcoin[returns_bitcoin.date == \"2020-03-12\"].index"
   ]
  },
  {
   "cell_type": "code",
   "execution_count": null,
   "metadata": {
    "colab": {
     "base_uri": "https://localhost:8080/"
    },
    "id": "gLa0xdVty867",
    "outputId": "be191f7d-941d-4a3a-914a-85e43077311c"
   },
   "outputs": [],
   "source": [
    "returns_bitcoin[returns_bitcoin.date == \"2022-11-08\"].index"
   ]
  },
  {
   "cell_type": "code",
   "execution_count": null,
   "metadata": {
    "colab": {
     "base_uri": "https://localhost:8080/",
     "height": 607
    },
    "id": "UNfgHIzXv6Hy",
    "outputId": "62a41520-97cd-4972-acaf-4538fd4861e7"
   },
   "outputs": [],
   "source": [
    "plt.figure(figsize=(12, 6))\n",
    "\n",
    "plt.plot(returns_bitcoin.date, returns_bitcoin['close'])\n",
    "plt.title('Bitcoin Adjusted Closing Price')\n",
    "\n",
    "plt.xlabel('Date')\n",
    "plt.ylabel('Price')\n",
    "\n",
    "plt.annotate('Crash March 2020',\n",
    "             xy=(returns_bitcoin.date[70], returns_bitcoin[\"close\"][70]),\n",
    "             xytext=(50, -20), textcoords='offset points', fontsize=15, color='orange',\n",
    "             arrowprops=dict(arrowstyle='->', color='black'))\n",
    "\n",
    "plt.annotate('FTX Crash November 2022',\n",
    "             xy=(returns_bitcoin.date[1041], returns_bitcoin[\"close\"][1041]),\n",
    "             xytext=(-50, -100), textcoords='offset points', fontsize=15, color='orange',\n",
    "             arrowprops=dict(arrowstyle='->', color='black'))\n",
    "\n",
    "plt.tight_layout()\n",
    "plt.show()\n"
   ]
  },
  {
   "cell_type": "markdown",
   "metadata": {
    "id": "kXiyx6OhCjX8"
   },
   "source": [
    "For both cryptocurrencies, we can see a huge crash around March of 2020"
   ]
  },
  {
   "cell_type": "markdown",
   "metadata": {
    "id": "Fao_Sx84CvLQ"
   },
   "source": [
    "### Volatilty"
   ]
  },
  {
   "cell_type": "markdown",
   "metadata": {
    "id": "170fWrccCsAm"
   },
   "source": [
    "Volatility is a measure of change in the price of an asset over time. The higher the standard deviation, the more volatile an asset is."
   ]
  },
  {
   "cell_type": "code",
   "execution_count": null,
   "metadata": {
    "colab": {
     "base_uri": "https://localhost:8080/"
    },
    "id": "SQRRKVXS9UGl",
    "outputId": "349b089f-22b2-4849-8abc-16b5afd1fea6"
   },
   "outputs": [],
   "source": [
    "# Volatility, standard deviation of the returns\n",
    "\n",
    "returns_bitcoin.close.std()"
   ]
  },
  {
   "cell_type": "markdown",
   "metadata": {
    "id": "wCAY7XatDLZW"
   },
   "source": [
    "### Cumulative Returns"
   ]
  },
  {
   "cell_type": "markdown",
   "metadata": {
    "id": "QJ5Gxw7qDIWQ"
   },
   "source": [
    "Cumulative return express the total change in the price of an asset over time.\n",
    "\n",
    "We use the pandas **`cumprod()`** function to calculate the daily cumulative simple returns."
   ]
  },
  {
   "cell_type": "code",
   "execution_count": null,
   "metadata": {
    "colab": {
     "base_uri": "https://localhost:8080/",
     "height": 237
    },
    "id": "T3jGHNVL9UMS",
    "outputId": "3f19bc42-2f2e-4076-df42-1131644b12ca"
   },
   "outputs": [],
   "source": [
    "# Cumulative return series\n",
    "returns_bitcoin.set_index(\"date\", inplace = True)\n",
    "\n",
    "cum_returns_bitcoin = ((1 + returns_bitcoin).cumprod() - 1)*100\n",
    "cum_returns_bitcoin.head()"
   ]
  },
  {
   "cell_type": "code",
   "execution_count": null,
   "metadata": {
    "colab": {
     "base_uri": "https://localhost:8080/",
     "height": 542
    },
    "id": "DKxJTPWrnxUh",
    "outputId": "c474ab9f-5027-42fa-d217-956af34aea19"
   },
   "outputs": [],
   "source": [
    "# Plotting the cumulative returns for Bitcoin\n",
    "fig = px.line(title='Cumulative Returns - Bitcoin')\n",
    "fig.add_scatter(x=cum_returns_bitcoin.index, y=cum_returns_bitcoin['close'], name='Bitcoin Close')\n",
    "\n",
    "fig.update_xaxes(title='Date')\n",
    "fig.update_yaxes(title='Cumulative Returns')\n",
    "\n",
    "# Display the plot\n",
    "fig.show()\n"
   ]
  }
 ],
 "metadata": {
  "accelerator": "GPU",
  "colab": {
   "gpuType": "T4",
   "provenance": [],
   "toc_visible": true
  },
  "kernelspec": {
   "display_name": "crypto",
   "language": "python",
   "name": "crypto"
  },
  "language_info": {
   "codemirror_mode": {
    "name": "ipython",
    "version": 3
   },
   "file_extension": ".py",
   "mimetype": "text/x-python",
   "name": "python",
   "nbconvert_exporter": "python",
   "pygments_lexer": "ipython3",
   "version": "3.9.17"
  }
 },
 "nbformat": 4,
 "nbformat_minor": 4
}
