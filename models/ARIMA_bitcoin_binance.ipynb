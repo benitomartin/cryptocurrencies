{
  "nbformat": 4,
  "nbformat_minor": 0,
  "metadata": {
    "colab": {
      "provenance": [],
      "gpuType": "T4",
      "toc_visible": true
    },
    "kernelspec": {
      "name": "python3",
      "display_name": "Python 3"
    },
    "language_info": {
      "name": "python"
    },
    "accelerator": "GPU"
  },
  "cells": [
    {
      "cell_type": "markdown",
      "source": [
        "# Mount Drive"
      ],
      "metadata": {
        "id": "5G3jKhIkEVrE"
      }
    },
    {
      "cell_type": "code",
      "source": [
        "from google.colab import drive\n",
        "drive.mount('/content/drive')"
      ],
      "metadata": {
        "colab": {
          "base_uri": "https://localhost:8080/"
        },
        "id": "YDLqicmGEnBR",
        "outputId": "5b08cedf-04c0-4f63-9418-79a46d9c4597"
      },
      "execution_count": null,
      "outputs": [
        {
          "output_type": "stream",
          "name": "stdout",
          "text": [
            "Mounted at /content/drive\n"
          ]
        }
      ]
    },
    {
      "cell_type": "markdown",
      "source": [
        "# Install libraries"
      ],
      "metadata": {
        "id": "ZsFo9lg_3ZQg"
      }
    },
    {
      "cell_type": "code",
      "source": [],
      "metadata": {
        "id": "GRSwneAq_29t"
      },
      "execution_count": null,
      "outputs": []
    },
    {
      "cell_type": "markdown",
      "source": [
        "# Import Libraries"
      ],
      "metadata": {
        "id": "cfiJuMV7AjPk"
      }
    },
    {
      "cell_type": "code",
      "execution_count": null,
      "metadata": {
        "id": "BFrpy0jt8WXh"
      },
      "outputs": [],
      "source": [
        "#Load the required libraries\n",
        "\n",
        "import pandas as pd\n",
        "import numpy as np\n",
        "from datetime import datetime\n",
        "\n",
        "import seaborn as sns\n",
        "import matplotlib.pyplot as plt\n",
        "\n",
        "plt.style.use('seaborn-v0_8-darkgrid')\n",
        "\n",
        "\n",
        "from sklearn.metrics import mean_absolute_error, mean_squared_error,r2_score\n",
        "import joblib\n",
        "from statsmodels.tsa.arima.model import ARIMA\n",
        "\n",
        "\n",
        "import warnings\n",
        "warnings.filterwarnings(\"ignore\")"
      ]
    },
    {
      "cell_type": "markdown",
      "source": [
        "# Import Data"
      ],
      "metadata": {
        "id": "rgQgYuXSAoz7"
      }
    },
    {
      "cell_type": "code",
      "source": [
        "data_BTC = pd.read_csv(\"data/bitcoin.csv\")"
      ],
      "metadata": {
        "id": "HzN89euZ8xfW"
      },
      "execution_count": null,
      "outputs": []
    },
    {
      "cell_type": "code",
      "source": [
        "data_BTC.head()"
      ],
      "metadata": {
        "colab": {
          "base_uri": "https://localhost:8080/",
          "height": 206
        },
        "id": "a2A4FMbpXz2Q",
        "outputId": "2a744add-e0c1-4bfd-e48f-66efc329e624"
      },
      "execution_count": null,
      "outputs": [
        {
          "output_type": "execute_result",
          "data": {
            "text/plain": [
              "             open_time     open     high      low    close      volume  \\\n",
              "0  2019-09-01 00:00:00  9588.74  9630.00  9579.34  9617.06  546.960415   \n",
              "1  2019-09-01 01:00:00  9617.06  9642.58  9612.08  9614.99  453.105152   \n",
              "2  2019-09-01 02:00:00  9614.99  9616.00  9595.76  9605.78  458.004517   \n",
              "3  2019-09-01 03:00:00  9606.12  9624.01  9605.78  9623.02  633.588749   \n",
              "4  2019-09-01 04:00:00  9623.02  9630.21  9605.60  9614.46  542.260896   \n",
              "\n",
              "                close_time  quote_volume  count  taker_buy_volume  \\\n",
              "0  2019-09-01 00:59:59.999  5.257943e+06   7428        261.131656   \n",
              "1  2019-09-01 01:59:59.999  4.362498e+06   5789        258.764082   \n",
              "2  2019-09-01 02:59:59.999  4.400751e+06   5485        321.355630   \n",
              "3  2019-09-01 03:59:59.999  6.092024e+06   5500        446.853542   \n",
              "4  2019-09-01 04:59:59.999  5.216076e+06   5536        368.470786   \n",
              "\n",
              "   taker_buy_quote_volume  \n",
              "0            2.510480e+06  \n",
              "1            2.491295e+06  \n",
              "2            3.088171e+06  \n",
              "3            4.296649e+06  \n",
              "4            3.544535e+06  "
            ],
            "text/html": [
              "\n",
              "  <div id=\"df-94281437-d807-4c41-9f4f-1b9f669c0196\">\n",
              "    <div class=\"colab-df-container\">\n",
              "      <div>\n",
              "<style scoped>\n",
              "    .dataframe tbody tr th:only-of-type {\n",
              "        vertical-align: middle;\n",
              "    }\n",
              "\n",
              "    .dataframe tbody tr th {\n",
              "        vertical-align: top;\n",
              "    }\n",
              "\n",
              "    .dataframe thead th {\n",
              "        text-align: right;\n",
              "    }\n",
              "</style>\n",
              "<table border=\"1\" class=\"dataframe\">\n",
              "  <thead>\n",
              "    <tr style=\"text-align: right;\">\n",
              "      <th></th>\n",
              "      <th>open_time</th>\n",
              "      <th>open</th>\n",
              "      <th>high</th>\n",
              "      <th>low</th>\n",
              "      <th>close</th>\n",
              "      <th>volume</th>\n",
              "      <th>close_time</th>\n",
              "      <th>quote_volume</th>\n",
              "      <th>count</th>\n",
              "      <th>taker_buy_volume</th>\n",
              "      <th>taker_buy_quote_volume</th>\n",
              "    </tr>\n",
              "  </thead>\n",
              "  <tbody>\n",
              "    <tr>\n",
              "      <th>0</th>\n",
              "      <td>2019-09-01 00:00:00</td>\n",
              "      <td>9588.74</td>\n",
              "      <td>9630.00</td>\n",
              "      <td>9579.34</td>\n",
              "      <td>9617.06</td>\n",
              "      <td>546.960415</td>\n",
              "      <td>2019-09-01 00:59:59.999</td>\n",
              "      <td>5.257943e+06</td>\n",
              "      <td>7428</td>\n",
              "      <td>261.131656</td>\n",
              "      <td>2.510480e+06</td>\n",
              "    </tr>\n",
              "    <tr>\n",
              "      <th>1</th>\n",
              "      <td>2019-09-01 01:00:00</td>\n",
              "      <td>9617.06</td>\n",
              "      <td>9642.58</td>\n",
              "      <td>9612.08</td>\n",
              "      <td>9614.99</td>\n",
              "      <td>453.105152</td>\n",
              "      <td>2019-09-01 01:59:59.999</td>\n",
              "      <td>4.362498e+06</td>\n",
              "      <td>5789</td>\n",
              "      <td>258.764082</td>\n",
              "      <td>2.491295e+06</td>\n",
              "    </tr>\n",
              "    <tr>\n",
              "      <th>2</th>\n",
              "      <td>2019-09-01 02:00:00</td>\n",
              "      <td>9614.99</td>\n",
              "      <td>9616.00</td>\n",
              "      <td>9595.76</td>\n",
              "      <td>9605.78</td>\n",
              "      <td>458.004517</td>\n",
              "      <td>2019-09-01 02:59:59.999</td>\n",
              "      <td>4.400751e+06</td>\n",
              "      <td>5485</td>\n",
              "      <td>321.355630</td>\n",
              "      <td>3.088171e+06</td>\n",
              "    </tr>\n",
              "    <tr>\n",
              "      <th>3</th>\n",
              "      <td>2019-09-01 03:00:00</td>\n",
              "      <td>9606.12</td>\n",
              "      <td>9624.01</td>\n",
              "      <td>9605.78</td>\n",
              "      <td>9623.02</td>\n",
              "      <td>633.588749</td>\n",
              "      <td>2019-09-01 03:59:59.999</td>\n",
              "      <td>6.092024e+06</td>\n",
              "      <td>5500</td>\n",
              "      <td>446.853542</td>\n",
              "      <td>4.296649e+06</td>\n",
              "    </tr>\n",
              "    <tr>\n",
              "      <th>4</th>\n",
              "      <td>2019-09-01 04:00:00</td>\n",
              "      <td>9623.02</td>\n",
              "      <td>9630.21</td>\n",
              "      <td>9605.60</td>\n",
              "      <td>9614.46</td>\n",
              "      <td>542.260896</td>\n",
              "      <td>2019-09-01 04:59:59.999</td>\n",
              "      <td>5.216076e+06</td>\n",
              "      <td>5536</td>\n",
              "      <td>368.470786</td>\n",
              "      <td>3.544535e+06</td>\n",
              "    </tr>\n",
              "  </tbody>\n",
              "</table>\n",
              "</div>\n",
              "      <button class=\"colab-df-convert\" onclick=\"convertToInteractive('df-94281437-d807-4c41-9f4f-1b9f669c0196')\"\n",
              "              title=\"Convert this dataframe to an interactive table.\"\n",
              "              style=\"display:none;\">\n",
              "        \n",
              "  <svg xmlns=\"http://www.w3.org/2000/svg\" height=\"24px\"viewBox=\"0 0 24 24\"\n",
              "       width=\"24px\">\n",
              "    <path d=\"M0 0h24v24H0V0z\" fill=\"none\"/>\n",
              "    <path d=\"M18.56 5.44l.94 2.06.94-2.06 2.06-.94-2.06-.94-.94-2.06-.94 2.06-2.06.94zm-11 1L8.5 8.5l.94-2.06 2.06-.94-2.06-.94L8.5 2.5l-.94 2.06-2.06.94zm10 10l.94 2.06.94-2.06 2.06-.94-2.06-.94-.94-2.06-.94 2.06-2.06.94z\"/><path d=\"M17.41 7.96l-1.37-1.37c-.4-.4-.92-.59-1.43-.59-.52 0-1.04.2-1.43.59L10.3 9.45l-7.72 7.72c-.78.78-.78 2.05 0 2.83L4 21.41c.39.39.9.59 1.41.59.51 0 1.02-.2 1.41-.59l7.78-7.78 2.81-2.81c.8-.78.8-2.07 0-2.86zM5.41 20L4 18.59l7.72-7.72 1.47 1.35L5.41 20z\"/>\n",
              "  </svg>\n",
              "      </button>\n",
              "      \n",
              "  <style>\n",
              "    .colab-df-container {\n",
              "      display:flex;\n",
              "      flex-wrap:wrap;\n",
              "      gap: 12px;\n",
              "    }\n",
              "\n",
              "    .colab-df-convert {\n",
              "      background-color: #E8F0FE;\n",
              "      border: none;\n",
              "      border-radius: 50%;\n",
              "      cursor: pointer;\n",
              "      display: none;\n",
              "      fill: #1967D2;\n",
              "      height: 32px;\n",
              "      padding: 0 0 0 0;\n",
              "      width: 32px;\n",
              "    }\n",
              "\n",
              "    .colab-df-convert:hover {\n",
              "      background-color: #E2EBFA;\n",
              "      box-shadow: 0px 1px 2px rgba(60, 64, 67, 0.3), 0px 1px 3px 1px rgba(60, 64, 67, 0.15);\n",
              "      fill: #174EA6;\n",
              "    }\n",
              "\n",
              "    [theme=dark] .colab-df-convert {\n",
              "      background-color: #3B4455;\n",
              "      fill: #D2E3FC;\n",
              "    }\n",
              "\n",
              "    [theme=dark] .colab-df-convert:hover {\n",
              "      background-color: #434B5C;\n",
              "      box-shadow: 0px 1px 3px 1px rgba(0, 0, 0, 0.15);\n",
              "      filter: drop-shadow(0px 1px 2px rgba(0, 0, 0, 0.3));\n",
              "      fill: #FFFFFF;\n",
              "    }\n",
              "  </style>\n",
              "\n",
              "      <script>\n",
              "        const buttonEl =\n",
              "          document.querySelector('#df-94281437-d807-4c41-9f4f-1b9f669c0196 button.colab-df-convert');\n",
              "        buttonEl.style.display =\n",
              "          google.colab.kernel.accessAllowed ? 'block' : 'none';\n",
              "\n",
              "        async function convertToInteractive(key) {\n",
              "          const element = document.querySelector('#df-94281437-d807-4c41-9f4f-1b9f669c0196');\n",
              "          const dataTable =\n",
              "            await google.colab.kernel.invokeFunction('convertToInteractive',\n",
              "                                                     [key], {});\n",
              "          if (!dataTable) return;\n",
              "\n",
              "          const docLinkHtml = 'Like what you see? Visit the ' +\n",
              "            '<a target=\"_blank\" href=https://colab.research.google.com/notebooks/data_table.ipynb>data table notebook</a>'\n",
              "            + ' to learn more about interactive tables.';\n",
              "          element.innerHTML = '';\n",
              "          dataTable['output_type'] = 'display_data';\n",
              "          await google.colab.output.renderOutput(dataTable, element);\n",
              "          const docLink = document.createElement('div');\n",
              "          docLink.innerHTML = docLinkHtml;\n",
              "          element.appendChild(docLink);\n",
              "        }\n",
              "      </script>\n",
              "    </div>\n",
              "  </div>\n",
              "  "
            ]
          },
          "metadata": {},
          "execution_count": 4
        }
      ]
    },
    {
      "cell_type": "markdown",
      "source": [
        "Here's a breakdown of each feature:\n",
        "\n",
        "- **open_time**: This represents the opening time of a specific period in Unix time format. Unix time is a way to represent time as the number of seconds that have elapsed since January 1, 1970.\n",
        "\n",
        "- **open**: This refers to the opening price of the trading instrument at the given period.\n",
        "\n",
        "- **high**: This represents the highest price reached by the trading instrument during the specified period.\n",
        "\n",
        "- **low**: This denotes the lowest price reached by the trading instrument during the specified period.\n",
        "\n",
        "- **close**: This indicates the closing price of the trading instrument at the given period.\n",
        "\n",
        "- **volume**: This refers to the total volume, typically the quantity of the trading instrument, traded during the specified period.\n",
        "\n",
        "- **close_time**: This represents the closing time of the specific period in Unix time format.\n",
        "\n",
        "- **quote_volume**: This refers to the total volume in terms of the quote asset. The quote asset is the asset used to determine the value of the trading instrument.\n",
        "\n",
        "- **count**: This represents the number of trades that occurred during the specified period.\n",
        "\n",
        "- **taker_buy_volume**: This denotes the volume of the quote asset bought by takers (market takers) during the specified period.\n",
        "\n",
        "- **taker_buy_quote_volume**: This represents the volume of the base asset bought by takers (market takers) during the specified period."
      ],
      "metadata": {
        "id": "VtonmnjpZgov"
      }
    },
    {
      "cell_type": "code",
      "source": [
        "# Renaming the column open_time\n",
        "\n",
        "data_BTC.rename(columns = {'open_time':'date'}, inplace = True)"
      ],
      "metadata": {
        "id": "HohJ---lhKab"
      },
      "execution_count": null,
      "outputs": []
    },
    {
      "cell_type": "code",
      "source": [
        "data_BTC.head()"
      ],
      "metadata": {
        "colab": {
          "base_uri": "https://localhost:8080/",
          "height": 206
        },
        "id": "ZMUHxe6UQ_UT",
        "outputId": "95792a67-47f3-4d86-9567-8972595ac533"
      },
      "execution_count": null,
      "outputs": [
        {
          "output_type": "execute_result",
          "data": {
            "text/plain": [
              "                  date     open     high      low    close      Volume  \\\n",
              "0  2019-09-01 00:00:00  9588.74  9630.00  9579.34  9617.06  546.960415   \n",
              "1  2019-09-01 01:00:00  9617.06  9642.58  9612.08  9614.99  453.105152   \n",
              "2  2019-09-01 02:00:00  9614.99  9616.00  9595.76  9605.78  458.004517   \n",
              "3  2019-09-01 03:00:00  9606.12  9624.01  9605.78  9623.02  633.588749   \n",
              "4  2019-09-01 04:00:00  9623.02  9630.21  9605.60  9614.46  542.260896   \n",
              "\n",
              "                close_time  quote_volume  count  taker_buy_volume  \\\n",
              "0  2019-09-01 00:59:59.999  5.257943e+06   7428        261.131656   \n",
              "1  2019-09-01 01:59:59.999  4.362498e+06   5789        258.764082   \n",
              "2  2019-09-01 02:59:59.999  4.400751e+06   5485        321.355630   \n",
              "3  2019-09-01 03:59:59.999  6.092024e+06   5500        446.853542   \n",
              "4  2019-09-01 04:59:59.999  5.216076e+06   5536        368.470786   \n",
              "\n",
              "   taker_buy_quote_volume  \n",
              "0            2.510480e+06  \n",
              "1            2.491295e+06  \n",
              "2            3.088171e+06  \n",
              "3            4.296649e+06  \n",
              "4            3.544535e+06  "
            ],
            "text/html": [
              "\n",
              "  <div id=\"df-6394c617-a9a9-418f-80c4-9c3d278455fe\">\n",
              "    <div class=\"colab-df-container\">\n",
              "      <div>\n",
              "<style scoped>\n",
              "    .dataframe tbody tr th:only-of-type {\n",
              "        vertical-align: middle;\n",
              "    }\n",
              "\n",
              "    .dataframe tbody tr th {\n",
              "        vertical-align: top;\n",
              "    }\n",
              "\n",
              "    .dataframe thead th {\n",
              "        text-align: right;\n",
              "    }\n",
              "</style>\n",
              "<table border=\"1\" class=\"dataframe\">\n",
              "  <thead>\n",
              "    <tr style=\"text-align: right;\">\n",
              "      <th></th>\n",
              "      <th>date</th>\n",
              "      <th>open</th>\n",
              "      <th>high</th>\n",
              "      <th>low</th>\n",
              "      <th>close</th>\n",
              "      <th>Volume</th>\n",
              "      <th>close_time</th>\n",
              "      <th>quote_volume</th>\n",
              "      <th>count</th>\n",
              "      <th>taker_buy_volume</th>\n",
              "      <th>taker_buy_quote_volume</th>\n",
              "    </tr>\n",
              "  </thead>\n",
              "  <tbody>\n",
              "    <tr>\n",
              "      <th>0</th>\n",
              "      <td>2019-09-01 00:00:00</td>\n",
              "      <td>9588.74</td>\n",
              "      <td>9630.00</td>\n",
              "      <td>9579.34</td>\n",
              "      <td>9617.06</td>\n",
              "      <td>546.960415</td>\n",
              "      <td>2019-09-01 00:59:59.999</td>\n",
              "      <td>5.257943e+06</td>\n",
              "      <td>7428</td>\n",
              "      <td>261.131656</td>\n",
              "      <td>2.510480e+06</td>\n",
              "    </tr>\n",
              "    <tr>\n",
              "      <th>1</th>\n",
              "      <td>2019-09-01 01:00:00</td>\n",
              "      <td>9617.06</td>\n",
              "      <td>9642.58</td>\n",
              "      <td>9612.08</td>\n",
              "      <td>9614.99</td>\n",
              "      <td>453.105152</td>\n",
              "      <td>2019-09-01 01:59:59.999</td>\n",
              "      <td>4.362498e+06</td>\n",
              "      <td>5789</td>\n",
              "      <td>258.764082</td>\n",
              "      <td>2.491295e+06</td>\n",
              "    </tr>\n",
              "    <tr>\n",
              "      <th>2</th>\n",
              "      <td>2019-09-01 02:00:00</td>\n",
              "      <td>9614.99</td>\n",
              "      <td>9616.00</td>\n",
              "      <td>9595.76</td>\n",
              "      <td>9605.78</td>\n",
              "      <td>458.004517</td>\n",
              "      <td>2019-09-01 02:59:59.999</td>\n",
              "      <td>4.400751e+06</td>\n",
              "      <td>5485</td>\n",
              "      <td>321.355630</td>\n",
              "      <td>3.088171e+06</td>\n",
              "    </tr>\n",
              "    <tr>\n",
              "      <th>3</th>\n",
              "      <td>2019-09-01 03:00:00</td>\n",
              "      <td>9606.12</td>\n",
              "      <td>9624.01</td>\n",
              "      <td>9605.78</td>\n",
              "      <td>9623.02</td>\n",
              "      <td>633.588749</td>\n",
              "      <td>2019-09-01 03:59:59.999</td>\n",
              "      <td>6.092024e+06</td>\n",
              "      <td>5500</td>\n",
              "      <td>446.853542</td>\n",
              "      <td>4.296649e+06</td>\n",
              "    </tr>\n",
              "    <tr>\n",
              "      <th>4</th>\n",
              "      <td>2019-09-01 04:00:00</td>\n",
              "      <td>9623.02</td>\n",
              "      <td>9630.21</td>\n",
              "      <td>9605.60</td>\n",
              "      <td>9614.46</td>\n",
              "      <td>542.260896</td>\n",
              "      <td>2019-09-01 04:59:59.999</td>\n",
              "      <td>5.216076e+06</td>\n",
              "      <td>5536</td>\n",
              "      <td>368.470786</td>\n",
              "      <td>3.544535e+06</td>\n",
              "    </tr>\n",
              "  </tbody>\n",
              "</table>\n",
              "</div>\n",
              "      <button class=\"colab-df-convert\" onclick=\"convertToInteractive('df-6394c617-a9a9-418f-80c4-9c3d278455fe')\"\n",
              "              title=\"Convert this dataframe to an interactive table.\"\n",
              "              style=\"display:none;\">\n",
              "        \n",
              "  <svg xmlns=\"http://www.w3.org/2000/svg\" height=\"24px\"viewBox=\"0 0 24 24\"\n",
              "       width=\"24px\">\n",
              "    <path d=\"M0 0h24v24H0V0z\" fill=\"none\"/>\n",
              "    <path d=\"M18.56 5.44l.94 2.06.94-2.06 2.06-.94-2.06-.94-.94-2.06-.94 2.06-2.06.94zm-11 1L8.5 8.5l.94-2.06 2.06-.94-2.06-.94L8.5 2.5l-.94 2.06-2.06.94zm10 10l.94 2.06.94-2.06 2.06-.94-2.06-.94-.94-2.06-.94 2.06-2.06.94z\"/><path d=\"M17.41 7.96l-1.37-1.37c-.4-.4-.92-.59-1.43-.59-.52 0-1.04.2-1.43.59L10.3 9.45l-7.72 7.72c-.78.78-.78 2.05 0 2.83L4 21.41c.39.39.9.59 1.41.59.51 0 1.02-.2 1.41-.59l7.78-7.78 2.81-2.81c.8-.78.8-2.07 0-2.86zM5.41 20L4 18.59l7.72-7.72 1.47 1.35L5.41 20z\"/>\n",
              "  </svg>\n",
              "      </button>\n",
              "      \n",
              "  <style>\n",
              "    .colab-df-container {\n",
              "      display:flex;\n",
              "      flex-wrap:wrap;\n",
              "      gap: 12px;\n",
              "    }\n",
              "\n",
              "    .colab-df-convert {\n",
              "      background-color: #E8F0FE;\n",
              "      border: none;\n",
              "      border-radius: 50%;\n",
              "      cursor: pointer;\n",
              "      display: none;\n",
              "      fill: #1967D2;\n",
              "      height: 32px;\n",
              "      padding: 0 0 0 0;\n",
              "      width: 32px;\n",
              "    }\n",
              "\n",
              "    .colab-df-convert:hover {\n",
              "      background-color: #E2EBFA;\n",
              "      box-shadow: 0px 1px 2px rgba(60, 64, 67, 0.3), 0px 1px 3px 1px rgba(60, 64, 67, 0.15);\n",
              "      fill: #174EA6;\n",
              "    }\n",
              "\n",
              "    [theme=dark] .colab-df-convert {\n",
              "      background-color: #3B4455;\n",
              "      fill: #D2E3FC;\n",
              "    }\n",
              "\n",
              "    [theme=dark] .colab-df-convert:hover {\n",
              "      background-color: #434B5C;\n",
              "      box-shadow: 0px 1px 3px 1px rgba(0, 0, 0, 0.15);\n",
              "      filter: drop-shadow(0px 1px 2px rgba(0, 0, 0, 0.3));\n",
              "      fill: #FFFFFF;\n",
              "    }\n",
              "  </style>\n",
              "\n",
              "      <script>\n",
              "        const buttonEl =\n",
              "          document.querySelector('#df-6394c617-a9a9-418f-80c4-9c3d278455fe button.colab-df-convert');\n",
              "        buttonEl.style.display =\n",
              "          google.colab.kernel.accessAllowed ? 'block' : 'none';\n",
              "\n",
              "        async function convertToInteractive(key) {\n",
              "          const element = document.querySelector('#df-6394c617-a9a9-418f-80c4-9c3d278455fe');\n",
              "          const dataTable =\n",
              "            await google.colab.kernel.invokeFunction('convertToInteractive',\n",
              "                                                     [key], {});\n",
              "          if (!dataTable) return;\n",
              "\n",
              "          const docLinkHtml = 'Like what you see? Visit the ' +\n",
              "            '<a target=\"_blank\" href=https://colab.research.google.com/notebooks/data_table.ipynb>data table notebook</a>'\n",
              "            + ' to learn more about interactive tables.';\n",
              "          element.innerHTML = '';\n",
              "          dataTable['output_type'] = 'display_data';\n",
              "          await google.colab.output.renderOutput(dataTable, element);\n",
              "          const docLink = document.createElement('div');\n",
              "          docLink.innerHTML = docLinkHtml;\n",
              "          element.appendChild(docLink);\n",
              "        }\n",
              "      </script>\n",
              "    </div>\n",
              "  </div>\n",
              "  "
            ]
          },
          "metadata": {},
          "execution_count": 6
        }
      ]
    },
    {
      "cell_type": "code",
      "source": [
        "data_BTC.info()"
      ],
      "metadata": {
        "colab": {
          "base_uri": "https://localhost:8080/"
        },
        "id": "1GliFMaDQmFP",
        "outputId": "69905915-76ed-41e8-a492-966e2f5d8965"
      },
      "execution_count": null,
      "outputs": [
        {
          "output_type": "stream",
          "name": "stdout",
          "text": [
            "<class 'pandas.core.frame.DataFrame'>\n",
            "RangeIndex: 32821 entries, 0 to 32820\n",
            "Data columns (total 11 columns):\n",
            " #   Column                  Non-Null Count  Dtype  \n",
            "---  ------                  --------------  -----  \n",
            " 0   date                    32821 non-null  object \n",
            " 1   open                    32821 non-null  float64\n",
            " 2   high                    32821 non-null  float64\n",
            " 3   low                     32821 non-null  float64\n",
            " 4   close                   32821 non-null  float64\n",
            " 5   Volume                  32821 non-null  float64\n",
            " 6   close_time              32821 non-null  object \n",
            " 7   quote_volume            32821 non-null  float64\n",
            " 8   count                   32821 non-null  int64  \n",
            " 9   taker_buy_volume        32821 non-null  float64\n",
            " 10  taker_buy_quote_volume  32821 non-null  float64\n",
            "dtypes: float64(8), int64(1), object(2)\n",
            "memory usage: 2.8+ MB\n"
          ]
        }
      ]
    },
    {
      "cell_type": "code",
      "source": [
        "# Removing close time column\n",
        "\n",
        "data_BTC = data_BTC.drop(columns=['close_time'])"
      ],
      "metadata": {
        "id": "hO97L8vsMENy"
      },
      "execution_count": null,
      "outputs": []
    },
    {
      "cell_type": "code",
      "source": [
        "data_BTC.head()"
      ],
      "metadata": {
        "colab": {
          "base_uri": "https://localhost:8080/",
          "height": 206
        },
        "outputId": "2fea8012-6d77-457e-e486-ff9c4078ea15",
        "id": "K6FTgiZJRQC4"
      },
      "execution_count": null,
      "outputs": [
        {
          "output_type": "execute_result",
          "data": {
            "text/plain": [
              "                  date     open     high      low    close      Volume  \\\n",
              "0  2019-09-01 00:00:00  9588.74  9630.00  9579.34  9617.06  546.960415   \n",
              "1  2019-09-01 01:00:00  9617.06  9642.58  9612.08  9614.99  453.105152   \n",
              "2  2019-09-01 02:00:00  9614.99  9616.00  9595.76  9605.78  458.004517   \n",
              "3  2019-09-01 03:00:00  9606.12  9624.01  9605.78  9623.02  633.588749   \n",
              "4  2019-09-01 04:00:00  9623.02  9630.21  9605.60  9614.46  542.260896   \n",
              "\n",
              "   quote_volume  count  taker_buy_volume  taker_buy_quote_volume  \n",
              "0  5.257943e+06   7428        261.131656            2.510480e+06  \n",
              "1  4.362498e+06   5789        258.764082            2.491295e+06  \n",
              "2  4.400751e+06   5485        321.355630            3.088171e+06  \n",
              "3  6.092024e+06   5500        446.853542            4.296649e+06  \n",
              "4  5.216076e+06   5536        368.470786            3.544535e+06  "
            ],
            "text/html": [
              "\n",
              "  <div id=\"df-c02a25c9-e979-42ed-865c-90a55a1564cd\">\n",
              "    <div class=\"colab-df-container\">\n",
              "      <div>\n",
              "<style scoped>\n",
              "    .dataframe tbody tr th:only-of-type {\n",
              "        vertical-align: middle;\n",
              "    }\n",
              "\n",
              "    .dataframe tbody tr th {\n",
              "        vertical-align: top;\n",
              "    }\n",
              "\n",
              "    .dataframe thead th {\n",
              "        text-align: right;\n",
              "    }\n",
              "</style>\n",
              "<table border=\"1\" class=\"dataframe\">\n",
              "  <thead>\n",
              "    <tr style=\"text-align: right;\">\n",
              "      <th></th>\n",
              "      <th>date</th>\n",
              "      <th>open</th>\n",
              "      <th>high</th>\n",
              "      <th>low</th>\n",
              "      <th>close</th>\n",
              "      <th>Volume</th>\n",
              "      <th>quote_volume</th>\n",
              "      <th>count</th>\n",
              "      <th>taker_buy_volume</th>\n",
              "      <th>taker_buy_quote_volume</th>\n",
              "    </tr>\n",
              "  </thead>\n",
              "  <tbody>\n",
              "    <tr>\n",
              "      <th>0</th>\n",
              "      <td>2019-09-01 00:00:00</td>\n",
              "      <td>9588.74</td>\n",
              "      <td>9630.00</td>\n",
              "      <td>9579.34</td>\n",
              "      <td>9617.06</td>\n",
              "      <td>546.960415</td>\n",
              "      <td>5.257943e+06</td>\n",
              "      <td>7428</td>\n",
              "      <td>261.131656</td>\n",
              "      <td>2.510480e+06</td>\n",
              "    </tr>\n",
              "    <tr>\n",
              "      <th>1</th>\n",
              "      <td>2019-09-01 01:00:00</td>\n",
              "      <td>9617.06</td>\n",
              "      <td>9642.58</td>\n",
              "      <td>9612.08</td>\n",
              "      <td>9614.99</td>\n",
              "      <td>453.105152</td>\n",
              "      <td>4.362498e+06</td>\n",
              "      <td>5789</td>\n",
              "      <td>258.764082</td>\n",
              "      <td>2.491295e+06</td>\n",
              "    </tr>\n",
              "    <tr>\n",
              "      <th>2</th>\n",
              "      <td>2019-09-01 02:00:00</td>\n",
              "      <td>9614.99</td>\n",
              "      <td>9616.00</td>\n",
              "      <td>9595.76</td>\n",
              "      <td>9605.78</td>\n",
              "      <td>458.004517</td>\n",
              "      <td>4.400751e+06</td>\n",
              "      <td>5485</td>\n",
              "      <td>321.355630</td>\n",
              "      <td>3.088171e+06</td>\n",
              "    </tr>\n",
              "    <tr>\n",
              "      <th>3</th>\n",
              "      <td>2019-09-01 03:00:00</td>\n",
              "      <td>9606.12</td>\n",
              "      <td>9624.01</td>\n",
              "      <td>9605.78</td>\n",
              "      <td>9623.02</td>\n",
              "      <td>633.588749</td>\n",
              "      <td>6.092024e+06</td>\n",
              "      <td>5500</td>\n",
              "      <td>446.853542</td>\n",
              "      <td>4.296649e+06</td>\n",
              "    </tr>\n",
              "    <tr>\n",
              "      <th>4</th>\n",
              "      <td>2019-09-01 04:00:00</td>\n",
              "      <td>9623.02</td>\n",
              "      <td>9630.21</td>\n",
              "      <td>9605.60</td>\n",
              "      <td>9614.46</td>\n",
              "      <td>542.260896</td>\n",
              "      <td>5.216076e+06</td>\n",
              "      <td>5536</td>\n",
              "      <td>368.470786</td>\n",
              "      <td>3.544535e+06</td>\n",
              "    </tr>\n",
              "  </tbody>\n",
              "</table>\n",
              "</div>\n",
              "      <button class=\"colab-df-convert\" onclick=\"convertToInteractive('df-c02a25c9-e979-42ed-865c-90a55a1564cd')\"\n",
              "              title=\"Convert this dataframe to an interactive table.\"\n",
              "              style=\"display:none;\">\n",
              "        \n",
              "  <svg xmlns=\"http://www.w3.org/2000/svg\" height=\"24px\"viewBox=\"0 0 24 24\"\n",
              "       width=\"24px\">\n",
              "    <path d=\"M0 0h24v24H0V0z\" fill=\"none\"/>\n",
              "    <path d=\"M18.56 5.44l.94 2.06.94-2.06 2.06-.94-2.06-.94-.94-2.06-.94 2.06-2.06.94zm-11 1L8.5 8.5l.94-2.06 2.06-.94-2.06-.94L8.5 2.5l-.94 2.06-2.06.94zm10 10l.94 2.06.94-2.06 2.06-.94-2.06-.94-.94-2.06-.94 2.06-2.06.94z\"/><path d=\"M17.41 7.96l-1.37-1.37c-.4-.4-.92-.59-1.43-.59-.52 0-1.04.2-1.43.59L10.3 9.45l-7.72 7.72c-.78.78-.78 2.05 0 2.83L4 21.41c.39.39.9.59 1.41.59.51 0 1.02-.2 1.41-.59l7.78-7.78 2.81-2.81c.8-.78.8-2.07 0-2.86zM5.41 20L4 18.59l7.72-7.72 1.47 1.35L5.41 20z\"/>\n",
              "  </svg>\n",
              "      </button>\n",
              "      \n",
              "  <style>\n",
              "    .colab-df-container {\n",
              "      display:flex;\n",
              "      flex-wrap:wrap;\n",
              "      gap: 12px;\n",
              "    }\n",
              "\n",
              "    .colab-df-convert {\n",
              "      background-color: #E8F0FE;\n",
              "      border: none;\n",
              "      border-radius: 50%;\n",
              "      cursor: pointer;\n",
              "      display: none;\n",
              "      fill: #1967D2;\n",
              "      height: 32px;\n",
              "      padding: 0 0 0 0;\n",
              "      width: 32px;\n",
              "    }\n",
              "\n",
              "    .colab-df-convert:hover {\n",
              "      background-color: #E2EBFA;\n",
              "      box-shadow: 0px 1px 2px rgba(60, 64, 67, 0.3), 0px 1px 3px 1px rgba(60, 64, 67, 0.15);\n",
              "      fill: #174EA6;\n",
              "    }\n",
              "\n",
              "    [theme=dark] .colab-df-convert {\n",
              "      background-color: #3B4455;\n",
              "      fill: #D2E3FC;\n",
              "    }\n",
              "\n",
              "    [theme=dark] .colab-df-convert:hover {\n",
              "      background-color: #434B5C;\n",
              "      box-shadow: 0px 1px 3px 1px rgba(0, 0, 0, 0.15);\n",
              "      filter: drop-shadow(0px 1px 2px rgba(0, 0, 0, 0.3));\n",
              "      fill: #FFFFFF;\n",
              "    }\n",
              "  </style>\n",
              "\n",
              "      <script>\n",
              "        const buttonEl =\n",
              "          document.querySelector('#df-c02a25c9-e979-42ed-865c-90a55a1564cd button.colab-df-convert');\n",
              "        buttonEl.style.display =\n",
              "          google.colab.kernel.accessAllowed ? 'block' : 'none';\n",
              "\n",
              "        async function convertToInteractive(key) {\n",
              "          const element = document.querySelector('#df-c02a25c9-e979-42ed-865c-90a55a1564cd');\n",
              "          const dataTable =\n",
              "            await google.colab.kernel.invokeFunction('convertToInteractive',\n",
              "                                                     [key], {});\n",
              "          if (!dataTable) return;\n",
              "\n",
              "          const docLinkHtml = 'Like what you see? Visit the ' +\n",
              "            '<a target=\"_blank\" href=https://colab.research.google.com/notebooks/data_table.ipynb>data table notebook</a>'\n",
              "            + ' to learn more about interactive tables.';\n",
              "          element.innerHTML = '';\n",
              "          dataTable['output_type'] = 'display_data';\n",
              "          await google.colab.output.renderOutput(dataTable, element);\n",
              "          const docLink = document.createElement('div');\n",
              "          docLink.innerHTML = docLinkHtml;\n",
              "          element.appendChild(docLink);\n",
              "        }\n",
              "      </script>\n",
              "    </div>\n",
              "  </div>\n",
              "  "
            ]
          },
          "metadata": {},
          "execution_count": 9
        }
      ]
    },
    {
      "cell_type": "markdown",
      "source": [
        "# EDA"
      ],
      "metadata": {
        "id": "aaC8yAQIAuMM"
      }
    },
    {
      "cell_type": "markdown",
      "source": [
        "## Converting to Datetime"
      ],
      "metadata": {
        "id": "BB929Pzb7UuB"
      }
    },
    {
      "cell_type": "code",
      "execution_count": null,
      "metadata": {
        "execution": {
          "iopub.execute_input": "2022-08-24T10:14:28.442870Z",
          "iopub.status.busy": "2022-08-24T10:14:28.442474Z",
          "iopub.status.idle": "2022-08-24T10:14:39.013641Z",
          "shell.execute_reply": "2022-08-24T10:14:39.012362Z",
          "shell.execute_reply.started": "2022-08-24T10:14:28.442833Z"
        },
        "id": "LwvDyF2UQn32"
      },
      "outputs": [],
      "source": [
        "# Converting the Date column from object to datetime\n",
        "data_BTC[[\"date\"]] = data_BTC[[\"date\"]].apply(pd.to_datetime)"
      ]
    },
    {
      "cell_type": "code",
      "source": [
        "data_BTC.info()"
      ],
      "metadata": {
        "colab": {
          "base_uri": "https://localhost:8080/"
        },
        "id": "IpHWXzQBRZg0",
        "outputId": "ebadaf78-ab43-4cbe-93f0-49c125a4841f"
      },
      "execution_count": null,
      "outputs": [
        {
          "output_type": "stream",
          "name": "stdout",
          "text": [
            "<class 'pandas.core.frame.DataFrame'>\n",
            "RangeIndex: 32821 entries, 0 to 32820\n",
            "Data columns (total 10 columns):\n",
            " #   Column                  Non-Null Count  Dtype         \n",
            "---  ------                  --------------  -----         \n",
            " 0   date                    32821 non-null  datetime64[ns]\n",
            " 1   open                    32821 non-null  float64       \n",
            " 2   high                    32821 non-null  float64       \n",
            " 3   low                     32821 non-null  float64       \n",
            " 4   close                   32821 non-null  float64       \n",
            " 5   Volume                  32821 non-null  float64       \n",
            " 6   quote_volume            32821 non-null  float64       \n",
            " 7   count                   32821 non-null  int64         \n",
            " 8   taker_buy_volume        32821 non-null  float64       \n",
            " 9   taker_buy_quote_volume  32821 non-null  float64       \n",
            "dtypes: datetime64[ns](1), float64(8), int64(1)\n",
            "memory usage: 2.5 MB\n"
          ]
        }
      ]
    },
    {
      "cell_type": "markdown",
      "source": [
        "## Missing Data"
      ],
      "metadata": {
        "id": "6kJZWLC9BHIQ"
      }
    },
    {
      "cell_type": "code",
      "source": [
        "data_BTC.isnull().any()"
      ],
      "metadata": {
        "colab": {
          "base_uri": "https://localhost:8080/"
        },
        "id": "Xorx8mwnRgM2",
        "outputId": "9a38b73a-df7a-446e-ca5c-cf5ba6a17a88"
      },
      "execution_count": null,
      "outputs": [
        {
          "output_type": "execute_result",
          "data": {
            "text/plain": [
              "date                      False\n",
              "open                      False\n",
              "high                      False\n",
              "low                       False\n",
              "close                     False\n",
              "Volume                    False\n",
              "quote_volume              False\n",
              "count                     False\n",
              "taker_buy_volume          False\n",
              "taker_buy_quote_volume    False\n",
              "dtype: bool"
            ]
          },
          "metadata": {},
          "execution_count": 12
        }
      ]
    },
    {
      "cell_type": "markdown",
      "source": [
        "# Modeling"
      ],
      "metadata": {
        "id": "wUgpj4Q2_gUn"
      }
    },
    {
      "cell_type": "code",
      "source": [
        "data_BTC.head()"
      ],
      "metadata": {
        "colab": {
          "base_uri": "https://localhost:8080/",
          "height": 206
        },
        "id": "7QunwJxTBitl",
        "outputId": "15c03df6-d82b-4508-e055-b56991795883"
      },
      "execution_count": null,
      "outputs": [
        {
          "output_type": "execute_result",
          "data": {
            "text/plain": [
              "                 date     open     high      low    close      Volume  \\\n",
              "0 2019-09-01 00:00:00  9588.74  9630.00  9579.34  9617.06  546.960415   \n",
              "1 2019-09-01 01:00:00  9617.06  9642.58  9612.08  9614.99  453.105152   \n",
              "2 2019-09-01 02:00:00  9614.99  9616.00  9595.76  9605.78  458.004517   \n",
              "3 2019-09-01 03:00:00  9606.12  9624.01  9605.78  9623.02  633.588749   \n",
              "4 2019-09-01 04:00:00  9623.02  9630.21  9605.60  9614.46  542.260896   \n",
              "\n",
              "   quote_volume  count  taker_buy_volume  taker_buy_quote_volume  \n",
              "0  5.257943e+06   7428        261.131656            2.510480e+06  \n",
              "1  4.362498e+06   5789        258.764082            2.491295e+06  \n",
              "2  4.400751e+06   5485        321.355630            3.088171e+06  \n",
              "3  6.092024e+06   5500        446.853542            4.296649e+06  \n",
              "4  5.216076e+06   5536        368.470786            3.544535e+06  "
            ],
            "text/html": [
              "\n",
              "  <div id=\"df-4e78da4a-2a8b-4f05-936d-e4d9df1a910b\">\n",
              "    <div class=\"colab-df-container\">\n",
              "      <div>\n",
              "<style scoped>\n",
              "    .dataframe tbody tr th:only-of-type {\n",
              "        vertical-align: middle;\n",
              "    }\n",
              "\n",
              "    .dataframe tbody tr th {\n",
              "        vertical-align: top;\n",
              "    }\n",
              "\n",
              "    .dataframe thead th {\n",
              "        text-align: right;\n",
              "    }\n",
              "</style>\n",
              "<table border=\"1\" class=\"dataframe\">\n",
              "  <thead>\n",
              "    <tr style=\"text-align: right;\">\n",
              "      <th></th>\n",
              "      <th>date</th>\n",
              "      <th>open</th>\n",
              "      <th>high</th>\n",
              "      <th>low</th>\n",
              "      <th>close</th>\n",
              "      <th>Volume</th>\n",
              "      <th>quote_volume</th>\n",
              "      <th>count</th>\n",
              "      <th>taker_buy_volume</th>\n",
              "      <th>taker_buy_quote_volume</th>\n",
              "    </tr>\n",
              "  </thead>\n",
              "  <tbody>\n",
              "    <tr>\n",
              "      <th>0</th>\n",
              "      <td>2019-09-01 00:00:00</td>\n",
              "      <td>9588.74</td>\n",
              "      <td>9630.00</td>\n",
              "      <td>9579.34</td>\n",
              "      <td>9617.06</td>\n",
              "      <td>546.960415</td>\n",
              "      <td>5.257943e+06</td>\n",
              "      <td>7428</td>\n",
              "      <td>261.131656</td>\n",
              "      <td>2.510480e+06</td>\n",
              "    </tr>\n",
              "    <tr>\n",
              "      <th>1</th>\n",
              "      <td>2019-09-01 01:00:00</td>\n",
              "      <td>9617.06</td>\n",
              "      <td>9642.58</td>\n",
              "      <td>9612.08</td>\n",
              "      <td>9614.99</td>\n",
              "      <td>453.105152</td>\n",
              "      <td>4.362498e+06</td>\n",
              "      <td>5789</td>\n",
              "      <td>258.764082</td>\n",
              "      <td>2.491295e+06</td>\n",
              "    </tr>\n",
              "    <tr>\n",
              "      <th>2</th>\n",
              "      <td>2019-09-01 02:00:00</td>\n",
              "      <td>9614.99</td>\n",
              "      <td>9616.00</td>\n",
              "      <td>9595.76</td>\n",
              "      <td>9605.78</td>\n",
              "      <td>458.004517</td>\n",
              "      <td>4.400751e+06</td>\n",
              "      <td>5485</td>\n",
              "      <td>321.355630</td>\n",
              "      <td>3.088171e+06</td>\n",
              "    </tr>\n",
              "    <tr>\n",
              "      <th>3</th>\n",
              "      <td>2019-09-01 03:00:00</td>\n",
              "      <td>9606.12</td>\n",
              "      <td>9624.01</td>\n",
              "      <td>9605.78</td>\n",
              "      <td>9623.02</td>\n",
              "      <td>633.588749</td>\n",
              "      <td>6.092024e+06</td>\n",
              "      <td>5500</td>\n",
              "      <td>446.853542</td>\n",
              "      <td>4.296649e+06</td>\n",
              "    </tr>\n",
              "    <tr>\n",
              "      <th>4</th>\n",
              "      <td>2019-09-01 04:00:00</td>\n",
              "      <td>9623.02</td>\n",
              "      <td>9630.21</td>\n",
              "      <td>9605.60</td>\n",
              "      <td>9614.46</td>\n",
              "      <td>542.260896</td>\n",
              "      <td>5.216076e+06</td>\n",
              "      <td>5536</td>\n",
              "      <td>368.470786</td>\n",
              "      <td>3.544535e+06</td>\n",
              "    </tr>\n",
              "  </tbody>\n",
              "</table>\n",
              "</div>\n",
              "      <button class=\"colab-df-convert\" onclick=\"convertToInteractive('df-4e78da4a-2a8b-4f05-936d-e4d9df1a910b')\"\n",
              "              title=\"Convert this dataframe to an interactive table.\"\n",
              "              style=\"display:none;\">\n",
              "        \n",
              "  <svg xmlns=\"http://www.w3.org/2000/svg\" height=\"24px\"viewBox=\"0 0 24 24\"\n",
              "       width=\"24px\">\n",
              "    <path d=\"M0 0h24v24H0V0z\" fill=\"none\"/>\n",
              "    <path d=\"M18.56 5.44l.94 2.06.94-2.06 2.06-.94-2.06-.94-.94-2.06-.94 2.06-2.06.94zm-11 1L8.5 8.5l.94-2.06 2.06-.94-2.06-.94L8.5 2.5l-.94 2.06-2.06.94zm10 10l.94 2.06.94-2.06 2.06-.94-2.06-.94-.94-2.06-.94 2.06-2.06.94z\"/><path d=\"M17.41 7.96l-1.37-1.37c-.4-.4-.92-.59-1.43-.59-.52 0-1.04.2-1.43.59L10.3 9.45l-7.72 7.72c-.78.78-.78 2.05 0 2.83L4 21.41c.39.39.9.59 1.41.59.51 0 1.02-.2 1.41-.59l7.78-7.78 2.81-2.81c.8-.78.8-2.07 0-2.86zM5.41 20L4 18.59l7.72-7.72 1.47 1.35L5.41 20z\"/>\n",
              "  </svg>\n",
              "      </button>\n",
              "      \n",
              "  <style>\n",
              "    .colab-df-container {\n",
              "      display:flex;\n",
              "      flex-wrap:wrap;\n",
              "      gap: 12px;\n",
              "    }\n",
              "\n",
              "    .colab-df-convert {\n",
              "      background-color: #E8F0FE;\n",
              "      border: none;\n",
              "      border-radius: 50%;\n",
              "      cursor: pointer;\n",
              "      display: none;\n",
              "      fill: #1967D2;\n",
              "      height: 32px;\n",
              "      padding: 0 0 0 0;\n",
              "      width: 32px;\n",
              "    }\n",
              "\n",
              "    .colab-df-convert:hover {\n",
              "      background-color: #E2EBFA;\n",
              "      box-shadow: 0px 1px 2px rgba(60, 64, 67, 0.3), 0px 1px 3px 1px rgba(60, 64, 67, 0.15);\n",
              "      fill: #174EA6;\n",
              "    }\n",
              "\n",
              "    [theme=dark] .colab-df-convert {\n",
              "      background-color: #3B4455;\n",
              "      fill: #D2E3FC;\n",
              "    }\n",
              "\n",
              "    [theme=dark] .colab-df-convert:hover {\n",
              "      background-color: #434B5C;\n",
              "      box-shadow: 0px 1px 3px 1px rgba(0, 0, 0, 0.15);\n",
              "      filter: drop-shadow(0px 1px 2px rgba(0, 0, 0, 0.3));\n",
              "      fill: #FFFFFF;\n",
              "    }\n",
              "  </style>\n",
              "\n",
              "      <script>\n",
              "        const buttonEl =\n",
              "          document.querySelector('#df-4e78da4a-2a8b-4f05-936d-e4d9df1a910b button.colab-df-convert');\n",
              "        buttonEl.style.display =\n",
              "          google.colab.kernel.accessAllowed ? 'block' : 'none';\n",
              "\n",
              "        async function convertToInteractive(key) {\n",
              "          const element = document.querySelector('#df-4e78da4a-2a8b-4f05-936d-e4d9df1a910b');\n",
              "          const dataTable =\n",
              "            await google.colab.kernel.invokeFunction('convertToInteractive',\n",
              "                                                     [key], {});\n",
              "          if (!dataTable) return;\n",
              "\n",
              "          const docLinkHtml = 'Like what you see? Visit the ' +\n",
              "            '<a target=\"_blank\" href=https://colab.research.google.com/notebooks/data_table.ipynb>data table notebook</a>'\n",
              "            + ' to learn more about interactive tables.';\n",
              "          element.innerHTML = '';\n",
              "          dataTable['output_type'] = 'display_data';\n",
              "          await google.colab.output.renderOutput(dataTable, element);\n",
              "          const docLink = document.createElement('div');\n",
              "          docLink.innerHTML = docLinkHtml;\n",
              "          element.appendChild(docLink);\n",
              "        }\n",
              "      </script>\n",
              "    </div>\n",
              "  </div>\n",
              "  "
            ]
          },
          "metadata": {},
          "execution_count": 13
        }
      ]
    },
    {
      "cell_type": "markdown",
      "source": [
        "## Daily Dataframe"
      ],
      "metadata": {
        "id": "KRTMG-wPG1TZ"
      }
    },
    {
      "cell_type": "code",
      "execution_count": null,
      "metadata": {
        "colab": {
          "base_uri": "https://localhost:8080/",
          "height": 206
        },
        "execution": {
          "iopub.execute_input": "2022-08-24T10:17:14.919554Z",
          "iopub.status.busy": "2022-08-24T10:17:14.918833Z",
          "iopub.status.idle": "2022-08-24T10:17:15.117246Z",
          "shell.execute_reply": "2022-08-24T10:17:15.115823Z",
          "shell.execute_reply.started": "2022-08-24T10:17:14.919490Z"
        },
        "id": "Z9m_wATGQn3-",
        "outputId": "12429b47-8862-4928-b794-e2bb6f326134"
      },
      "outputs": [
        {
          "output_type": "execute_result",
          "data": {
            "text/plain": [
              "        date          open          high           low         close  \\\n",
              "0 2019-09-01   9608.415417   9638.866250   9587.699583   9614.007083   \n",
              "1 2019-09-02   9904.533333   9960.438333   9885.246667   9929.980000   \n",
              "2 2019-09-03  10496.003750  10552.840000  10455.567083  10507.604583   \n",
              "3 2019-09-04  10544.943333  10596.092917  10493.059583  10543.090833   \n",
              "4 2019-09-05  10549.111250  10601.045000  10507.465417  10548.702500   \n",
              "\n",
              "        Volume  quote_volume         count  taker_buy_volume  \\\n",
              "0   814.391868  7.854720e+06   7971.833333        481.067108   \n",
              "1  1864.177004  1.868592e+07  14756.458333       1047.512339   \n",
              "2  1999.932366  2.106740e+07  17336.500000       1030.595969   \n",
              "3  1830.995376  1.931360e+07  15977.375000        926.836152   \n",
              "4  1415.456693  1.495256e+07  12910.250000        688.964492   \n",
              "\n",
              "   taker_buy_quote_volume  \n",
              "0            4.644335e+06  \n",
              "1            1.049724e+07  \n",
              "2            1.085368e+07  \n",
              "3            9.780472e+06  \n",
              "4            7.287545e+06  "
            ],
            "text/html": [
              "\n",
              "  <div id=\"df-cbe08589-a38f-4d7e-9cb7-ef471a829081\">\n",
              "    <div class=\"colab-df-container\">\n",
              "      <div>\n",
              "<style scoped>\n",
              "    .dataframe tbody tr th:only-of-type {\n",
              "        vertical-align: middle;\n",
              "    }\n",
              "\n",
              "    .dataframe tbody tr th {\n",
              "        vertical-align: top;\n",
              "    }\n",
              "\n",
              "    .dataframe thead th {\n",
              "        text-align: right;\n",
              "    }\n",
              "</style>\n",
              "<table border=\"1\" class=\"dataframe\">\n",
              "  <thead>\n",
              "    <tr style=\"text-align: right;\">\n",
              "      <th></th>\n",
              "      <th>date</th>\n",
              "      <th>open</th>\n",
              "      <th>high</th>\n",
              "      <th>low</th>\n",
              "      <th>close</th>\n",
              "      <th>Volume</th>\n",
              "      <th>quote_volume</th>\n",
              "      <th>count</th>\n",
              "      <th>taker_buy_volume</th>\n",
              "      <th>taker_buy_quote_volume</th>\n",
              "    </tr>\n",
              "  </thead>\n",
              "  <tbody>\n",
              "    <tr>\n",
              "      <th>0</th>\n",
              "      <td>2019-09-01</td>\n",
              "      <td>9608.415417</td>\n",
              "      <td>9638.866250</td>\n",
              "      <td>9587.699583</td>\n",
              "      <td>9614.007083</td>\n",
              "      <td>814.391868</td>\n",
              "      <td>7.854720e+06</td>\n",
              "      <td>7971.833333</td>\n",
              "      <td>481.067108</td>\n",
              "      <td>4.644335e+06</td>\n",
              "    </tr>\n",
              "    <tr>\n",
              "      <th>1</th>\n",
              "      <td>2019-09-02</td>\n",
              "      <td>9904.533333</td>\n",
              "      <td>9960.438333</td>\n",
              "      <td>9885.246667</td>\n",
              "      <td>9929.980000</td>\n",
              "      <td>1864.177004</td>\n",
              "      <td>1.868592e+07</td>\n",
              "      <td>14756.458333</td>\n",
              "      <td>1047.512339</td>\n",
              "      <td>1.049724e+07</td>\n",
              "    </tr>\n",
              "    <tr>\n",
              "      <th>2</th>\n",
              "      <td>2019-09-03</td>\n",
              "      <td>10496.003750</td>\n",
              "      <td>10552.840000</td>\n",
              "      <td>10455.567083</td>\n",
              "      <td>10507.604583</td>\n",
              "      <td>1999.932366</td>\n",
              "      <td>2.106740e+07</td>\n",
              "      <td>17336.500000</td>\n",
              "      <td>1030.595969</td>\n",
              "      <td>1.085368e+07</td>\n",
              "    </tr>\n",
              "    <tr>\n",
              "      <th>3</th>\n",
              "      <td>2019-09-04</td>\n",
              "      <td>10544.943333</td>\n",
              "      <td>10596.092917</td>\n",
              "      <td>10493.059583</td>\n",
              "      <td>10543.090833</td>\n",
              "      <td>1830.995376</td>\n",
              "      <td>1.931360e+07</td>\n",
              "      <td>15977.375000</td>\n",
              "      <td>926.836152</td>\n",
              "      <td>9.780472e+06</td>\n",
              "    </tr>\n",
              "    <tr>\n",
              "      <th>4</th>\n",
              "      <td>2019-09-05</td>\n",
              "      <td>10549.111250</td>\n",
              "      <td>10601.045000</td>\n",
              "      <td>10507.465417</td>\n",
              "      <td>10548.702500</td>\n",
              "      <td>1415.456693</td>\n",
              "      <td>1.495256e+07</td>\n",
              "      <td>12910.250000</td>\n",
              "      <td>688.964492</td>\n",
              "      <td>7.287545e+06</td>\n",
              "    </tr>\n",
              "  </tbody>\n",
              "</table>\n",
              "</div>\n",
              "      <button class=\"colab-df-convert\" onclick=\"convertToInteractive('df-cbe08589-a38f-4d7e-9cb7-ef471a829081')\"\n",
              "              title=\"Convert this dataframe to an interactive table.\"\n",
              "              style=\"display:none;\">\n",
              "        \n",
              "  <svg xmlns=\"http://www.w3.org/2000/svg\" height=\"24px\"viewBox=\"0 0 24 24\"\n",
              "       width=\"24px\">\n",
              "    <path d=\"M0 0h24v24H0V0z\" fill=\"none\"/>\n",
              "    <path d=\"M18.56 5.44l.94 2.06.94-2.06 2.06-.94-2.06-.94-.94-2.06-.94 2.06-2.06.94zm-11 1L8.5 8.5l.94-2.06 2.06-.94-2.06-.94L8.5 2.5l-.94 2.06-2.06.94zm10 10l.94 2.06.94-2.06 2.06-.94-2.06-.94-.94-2.06-.94 2.06-2.06.94z\"/><path d=\"M17.41 7.96l-1.37-1.37c-.4-.4-.92-.59-1.43-.59-.52 0-1.04.2-1.43.59L10.3 9.45l-7.72 7.72c-.78.78-.78 2.05 0 2.83L4 21.41c.39.39.9.59 1.41.59.51 0 1.02-.2 1.41-.59l7.78-7.78 2.81-2.81c.8-.78.8-2.07 0-2.86zM5.41 20L4 18.59l7.72-7.72 1.47 1.35L5.41 20z\"/>\n",
              "  </svg>\n",
              "      </button>\n",
              "      \n",
              "  <style>\n",
              "    .colab-df-container {\n",
              "      display:flex;\n",
              "      flex-wrap:wrap;\n",
              "      gap: 12px;\n",
              "    }\n",
              "\n",
              "    .colab-df-convert {\n",
              "      background-color: #E8F0FE;\n",
              "      border: none;\n",
              "      border-radius: 50%;\n",
              "      cursor: pointer;\n",
              "      display: none;\n",
              "      fill: #1967D2;\n",
              "      height: 32px;\n",
              "      padding: 0 0 0 0;\n",
              "      width: 32px;\n",
              "    }\n",
              "\n",
              "    .colab-df-convert:hover {\n",
              "      background-color: #E2EBFA;\n",
              "      box-shadow: 0px 1px 2px rgba(60, 64, 67, 0.3), 0px 1px 3px 1px rgba(60, 64, 67, 0.15);\n",
              "      fill: #174EA6;\n",
              "    }\n",
              "\n",
              "    [theme=dark] .colab-df-convert {\n",
              "      background-color: #3B4455;\n",
              "      fill: #D2E3FC;\n",
              "    }\n",
              "\n",
              "    [theme=dark] .colab-df-convert:hover {\n",
              "      background-color: #434B5C;\n",
              "      box-shadow: 0px 1px 3px 1px rgba(0, 0, 0, 0.15);\n",
              "      filter: drop-shadow(0px 1px 2px rgba(0, 0, 0, 0.3));\n",
              "      fill: #FFFFFF;\n",
              "    }\n",
              "  </style>\n",
              "\n",
              "      <script>\n",
              "        const buttonEl =\n",
              "          document.querySelector('#df-cbe08589-a38f-4d7e-9cb7-ef471a829081 button.colab-df-convert');\n",
              "        buttonEl.style.display =\n",
              "          google.colab.kernel.accessAllowed ? 'block' : 'none';\n",
              "\n",
              "        async function convertToInteractive(key) {\n",
              "          const element = document.querySelector('#df-cbe08589-a38f-4d7e-9cb7-ef471a829081');\n",
              "          const dataTable =\n",
              "            await google.colab.kernel.invokeFunction('convertToInteractive',\n",
              "                                                     [key], {});\n",
              "          if (!dataTable) return;\n",
              "\n",
              "          const docLinkHtml = 'Like what you see? Visit the ' +\n",
              "            '<a target=\"_blank\" href=https://colab.research.google.com/notebooks/data_table.ipynb>data table notebook</a>'\n",
              "            + ' to learn more about interactive tables.';\n",
              "          element.innerHTML = '';\n",
              "          dataTable['output_type'] = 'display_data';\n",
              "          await google.colab.output.renderOutput(dataTable, element);\n",
              "          const docLink = document.createElement('div');\n",
              "          docLink.innerHTML = docLinkHtml;\n",
              "          element.appendChild(docLink);\n",
              "        }\n",
              "      </script>\n",
              "    </div>\n",
              "  </div>\n",
              "  "
            ]
          },
          "metadata": {},
          "execution_count": 14
        }
      ],
      "source": [
        "# BTC Daily resampling taking the mean value\n",
        "\n",
        "data_BTC.set_index('date', inplace=True)  # Set 'date' column as the index\n",
        "\n",
        "BTC_daily = data_BTC.resample('24H').mean()\n",
        "BTC_daily = BTC_daily.reset_index()\n",
        "\n",
        "BTC_daily.head()"
      ]
    },
    {
      "cell_type": "code",
      "source": [
        "# Train/Test Split\n",
        "\n",
        "split_date_day = \"2022-09-01\"\n",
        "\n",
        "train_split_day = BTC_daily['date'] <= split_date_day\n",
        "test_split_day = BTC_daily['date'] > split_date_day\n",
        "\n",
        "train_ar_day = BTC_daily[train_split_day]\n",
        "test_ar_day = BTC_daily[test_split_day]\n",
        "\n",
        "columns_day = ['open', 'high', 'low', 'volume', 'quote_volume', 'taker_buy_volume', 'taker_buy_quote_volume']\n",
        "\n",
        "X_train_d, y_train_d = train_ar_day[columns_day], train_ar_day.close\n",
        "X_test_d, y_test_d = test_ar_day[columns_day], test_ar_day.close"
      ],
      "metadata": {
        "id": "q4PD7AwzBX2P"
      },
      "execution_count": null,
      "outputs": []
    },
    {
      "cell_type": "code",
      "source": [
        "# Creating a list of values\n",
        "\n",
        "training_list_d = list(y_train_d)\n",
        "test_list_d = list(y_test_d)"
      ],
      "metadata": {
        "id": "BeAyyWgsBa32"
      },
      "execution_count": null,
      "outputs": []
    },
    {
      "cell_type": "code",
      "source": [
        "len(y_train_d), len(y_test_d)"
      ],
      "metadata": {
        "colab": {
          "base_uri": "https://localhost:8080/"
        },
        "id": "A8g7v5ZnBcd1",
        "outputId": "2176fd3e-d300-4228-fdaa-b77fbccb391f"
      },
      "execution_count": null,
      "outputs": [
        {
          "output_type": "execute_result",
          "data": {
            "text/plain": [
              "(1097, 272)"
            ]
          },
          "metadata": {},
          "execution_count": 17
        }
      ]
    },
    {
      "cell_type": "code",
      "source": [
        "# Predict the values aggregating to the training list, the previous calculated values in a for loop\n",
        "\n",
        "daily_predictions = []\n",
        "\n",
        "for i in range(len(y_test_d)):\n",
        "  model_d = ARIMA(training_list_d, order=(1,1,0))\n",
        "  model_fit_d = model_d.fit()\n",
        "  daily_forecast = model_fit_d.forecast()[0]\n",
        "\n",
        "  daily_predictions.append(daily_forecast)\n",
        "\n",
        "  # Value in the test set for the i iteration\n",
        "  test_i = test_list_d[i]\n",
        "\n",
        "  training_list_d.append(test_i)\n"
      ],
      "metadata": {
        "id": "sFNqILzkBe8F"
      },
      "execution_count": null,
      "outputs": []
    },
    {
      "cell_type": "code",
      "source": [
        "len(daily_predictions)"
      ],
      "metadata": {
        "colab": {
          "base_uri": "https://localhost:8080/"
        },
        "id": "rwwXq0-aDnHY",
        "outputId": "00c8b3c3-3863-46ce-fc30-a3071d74f8fd"
      },
      "execution_count": null,
      "outputs": [
        {
          "output_type": "execute_result",
          "data": {
            "text/plain": [
              "272"
            ]
          },
          "metadata": {},
          "execution_count": 19
        }
      ]
    },
    {
      "cell_type": "code",
      "source": [
        "model_fit_d.summary()"
      ],
      "metadata": {
        "colab": {
          "base_uri": "https://localhost:8080/",
          "height": 408
        },
        "id": "NXmhEZN8D8gp",
        "outputId": "368ced3f-f5c8-4827-d354-173c17a0a6e1"
      },
      "execution_count": null,
      "outputs": [
        {
          "output_type": "execute_result",
          "data": {
            "text/plain": [
              "<class 'statsmodels.iolib.summary.Summary'>\n",
              "\"\"\"\n",
              "                               SARIMAX Results                                \n",
              "==============================================================================\n",
              "Dep. Variable:                      y   No. Observations:                 1368\n",
              "Model:                 ARIMA(1, 1, 0)   Log Likelihood              -11317.028\n",
              "Date:                Wed, 21 Jun 2023   AIC                          22638.057\n",
              "Time:                        00:20:59   BIC                          22648.498\n",
              "Sample:                             0   HQIC                         22641.965\n",
              "                               - 1368                                         \n",
              "Covariance Type:                  opg                                         \n",
              "==============================================================================\n",
              "                 coef    std err          z      P>|z|      [0.025      0.975]\n",
              "------------------------------------------------------------------------------\n",
              "ar.L1          0.1779      0.018      9.788      0.000       0.142       0.214\n",
              "sigma2       9.09e+05   1.58e+04     57.555      0.000    8.78e+05     9.4e+05\n",
              "===================================================================================\n",
              "Ljung-Box (L1) (Q):                   0.03   Jarque-Bera (JB):              3921.72\n",
              "Prob(Q):                              0.86   Prob(JB):                         0.00\n",
              "Heteroskedasticity (H):               7.14   Skew:                            -0.71\n",
              "Prob(H) (two-sided):                  0.00   Kurtosis:                        11.17\n",
              "===================================================================================\n",
              "\n",
              "Warnings:\n",
              "[1] Covariance matrix calculated using the outer product of gradients (complex-step).\n",
              "\"\"\""
            ],
            "text/html": [
              "<table class=\"simpletable\">\n",
              "<caption>SARIMAX Results</caption>\n",
              "<tr>\n",
              "  <th>Dep. Variable:</th>           <td>y</td>        <th>  No. Observations:  </th>    <td>1368</td>   \n",
              "</tr>\n",
              "<tr>\n",
              "  <th>Model:</th>            <td>ARIMA(1, 1, 0)</td>  <th>  Log Likelihood     </th> <td>-11317.028</td>\n",
              "</tr>\n",
              "<tr>\n",
              "  <th>Date:</th>            <td>Wed, 21 Jun 2023</td> <th>  AIC                </th>  <td>22638.057</td>\n",
              "</tr>\n",
              "<tr>\n",
              "  <th>Time:</th>                <td>00:20:59</td>     <th>  BIC                </th>  <td>22648.498</td>\n",
              "</tr>\n",
              "<tr>\n",
              "  <th>Sample:</th>                  <td>0</td>        <th>  HQIC               </th>  <td>22641.965</td>\n",
              "</tr>\n",
              "<tr>\n",
              "  <th></th>                      <td> - 1368</td>     <th>                     </th>      <td> </td>    \n",
              "</tr>\n",
              "<tr>\n",
              "  <th>Covariance Type:</th>        <td>opg</td>       <th>                     </th>      <td> </td>    \n",
              "</tr>\n",
              "</table>\n",
              "<table class=\"simpletable\">\n",
              "<tr>\n",
              "     <td></td>       <th>coef</th>     <th>std err</th>      <th>z</th>      <th>P>|z|</th>  <th>[0.025</th>    <th>0.975]</th>  \n",
              "</tr>\n",
              "<tr>\n",
              "  <th>ar.L1</th>  <td>    0.1779</td> <td>    0.018</td> <td>    9.788</td> <td> 0.000</td> <td>    0.142</td> <td>    0.214</td>\n",
              "</tr>\n",
              "<tr>\n",
              "  <th>sigma2</th> <td>  9.09e+05</td> <td> 1.58e+04</td> <td>   57.555</td> <td> 0.000</td> <td> 8.78e+05</td> <td>  9.4e+05</td>\n",
              "</tr>\n",
              "</table>\n",
              "<table class=\"simpletable\">\n",
              "<tr>\n",
              "  <th>Ljung-Box (L1) (Q):</th>     <td>0.03</td> <th>  Jarque-Bera (JB):  </th> <td>3921.72</td>\n",
              "</tr>\n",
              "<tr>\n",
              "  <th>Prob(Q):</th>                <td>0.86</td> <th>  Prob(JB):          </th>  <td>0.00</td>  \n",
              "</tr>\n",
              "<tr>\n",
              "  <th>Heteroskedasticity (H):</th> <td>7.14</td> <th>  Skew:              </th>  <td>-0.71</td> \n",
              "</tr>\n",
              "<tr>\n",
              "  <th>Prob(H) (two-sided):</th>    <td>0.00</td> <th>  Kurtosis:          </th>  <td>11.17</td> \n",
              "</tr>\n",
              "</table><br/><br/>Warnings:<br/>[1] Covariance matrix calculated using the outer product of gradients (complex-step)."
            ]
          },
          "metadata": {},
          "execution_count": 20
        }
      ]
    },
    {
      "cell_type": "markdown",
      "source": [
        "### Plots Daily"
      ],
      "metadata": {
        "id": "17uVLgejDz5G"
      }
    },
    {
      "cell_type": "code",
      "source": [
        "# Plot whole timeframe\n",
        "\n",
        "test_ar_day['Daily_Forecast_ARIMA'] = daily_predictions\n",
        "\n",
        "day_df = pd.concat([train_ar_day, test_ar_day], sort=False)\n",
        "\n",
        "plt.figure(figsize=(15, 5))\n",
        "\n",
        "plt.plot(day_df['date'][- len(y_test_d):], day_df['close'][- len(y_test_d):], label='Actual Closing Price')\n",
        "plt.plot(day_df['date'][- len(y_test_d):], day_df['Daily_Forecast_ARIMA'][- len(y_test_d):], label='Forecasted Price')\n",
        "\n",
        "plt.xlabel('Date')\n",
        "plt.ylabel('Price')\n",
        "\n",
        "plt.title('Actual Closing Price vs. Forecasted Price (Daily)')\n",
        "\n",
        "plt.legend()\n",
        "\n",
        "plt.show();"
      ],
      "metadata": {
        "id": "NyeAyDh3YDUm",
        "colab": {
          "base_uri": "https://localhost:8080/",
          "height": 584
        },
        "outputId": "fb9aa179-ee33-4697-d8e5-bf79efeebbca"
      },
      "execution_count": null,
      "outputs": [
        {
          "output_type": "stream",
          "name": "stderr",
          "text": [
            "<ipython-input-21-6308b354ddef>:3: SettingWithCopyWarning: \n",
            "A value is trying to be set on a copy of a slice from a DataFrame.\n",
            "Try using .loc[row_indexer,col_indexer] = value instead\n",
            "\n",
            "See the caveats in the documentation: https://pandas.pydata.org/pandas-docs/stable/user_guide/indexing.html#returning-a-view-versus-a-copy\n",
            "  test_ar_day['Daily_Forecast_ARIMA'] = model_predictions_d\n"
          ]
        },
        {
          "output_type": "display_data",
          "data": {
            "text/plain": [
              "<Figure size 1500x500 with 1 Axes>"
            ],
            "image/png": "[encoded data removed]"
          },
          "metadata": {}
        }
      ]
    },
    {
      "cell_type": "code",
      "source": [
        "# Results ARIMA Daily Model\n",
        "\n",
        "test_mae_ar = round(mean_absolute_error(test_ar_day['close'], test_ar_day['Daily_Forecast_ARIMA']))\n",
        "test_rmse_ar = round(np.sqrt(mean_squared_error(test_ar_day['close'], test_ar_day['Daily_Forecast_ARIMA'])))\n",
        "test_r2_ar = round((r2_score(test_ar_day['close'], test_ar_day['Daily_Forecast_ARIMA']))*100, 2)\n",
        "\n",
        "print(f\"test MAE ARIMA : {test_mae_ar}\")\n",
        "print(f\"test RMSE ARIMA : {test_rmse_ar}\")\n",
        "print(f\"test R2 ARIMA : {test_r2_ar}\")"
      ],
      "metadata": {
        "id": "fm1pP9iB9VSM",
        "colab": {
          "base_uri": "https://localhost:8080/"
        },
        "outputId": "42cdfa98-13b1-435b-f044-2455bac5c45d"
      },
      "execution_count": null,
      "outputs": [
        {
          "output_type": "stream",
          "name": "stdout",
          "text": [
            "test MAE ARIMA : 315\n",
            "test RMSE ARIMA : 476\n",
            "test R2 ARIMA : 98.79\n"
          ]
        }
      ]
    },
    {
      "cell_type": "code",
      "source": [
        "# save model\n",
        "model_fit_d.save(\"/content/drive/MyDrive/Colab Notebooks/01 Omdena/Bahrain - Crypto/Saved Models/BTC/ARIMA_d_BTC_(1,1,0).pkl\")\n",
        "\n",
        "# # # load model\n",
        "# loaded = ARIMAResults.load('model.pkl')"
      ],
      "metadata": {
        "id": "y3qnnNSMFavB"
      },
      "execution_count": null,
      "outputs": []
    },
    {
      "cell_type": "code",
      "source": [],
      "metadata": {
        "id": "lMay3SrqH4X3"
      },
      "execution_count": null,
      "outputs": []
    },
    {
      "cell_type": "markdown",
      "source": [
        "## Hourly Dataframe"
      ],
      "metadata": {
        "id": "FxZzLs5yRzvL"
      }
    },
    {
      "cell_type": "code",
      "source": [
        "data_BTC.reset_index(inplace = True)"
      ],
      "metadata": {
        "id": "5yWXi9Q5HGGb"
      },
      "execution_count": null,
      "outputs": []
    },
    {
      "cell_type": "code",
      "source": [
        "# Train/Test Split\n",
        "\n",
        "split_date = \"2022-09-01\"\n",
        "\n",
        "train_split = data_BTC['date'] <= split_date\n",
        "test_split = data_BTC['date'] > split_date\n",
        "\n",
        "train_ar = data_BTC[train_split]\n",
        "test_ar = data_BTC[test_split]\n",
        "\n",
        "columns = ['open', 'high', 'low', 'Volume', 'quote_volume', 'taker_buy_volume', 'taker_buy_quote_volume']\n",
        "\n",
        "X_train, y_train = train_ar[columns], train_ar.close\n",
        "X_test, y_test = test_ar[columns], test_ar.close"
      ],
      "metadata": {
        "id": "wSaPwFHVT9hR"
      },
      "execution_count": null,
      "outputs": []
    },
    {
      "cell_type": "code",
      "source": [
        "# Creating a list of values\n",
        "\n",
        "training_list = list(y_train)\n",
        "test_list = list(y_test)"
      ],
      "metadata": {
        "id": "zmi99QxYyKmn"
      },
      "execution_count": null,
      "outputs": []
    },
    {
      "cell_type": "code",
      "source": [
        "len(training_list), len(test_list)"
      ],
      "metadata": {
        "colab": {
          "base_uri": "https://localhost:8080/"
        },
        "id": "ApOyjfer_Vsv",
        "outputId": "2b853700-8cda-4c42-9ec1-3ac1875a4513"
      },
      "execution_count": null,
      "outputs": [
        {
          "output_type": "execute_result",
          "data": {
            "text/plain": [
              "(26271, 6550)"
            ]
          },
          "metadata": {},
          "execution_count": 27
        }
      ]
    },
    {
      "cell_type": "code",
      "source": [
        "# Predict the values aggregating to the training list, the previous calculated values in a for loop\n",
        "\n",
        "hourly_predictions = []\n",
        "\n",
        "for i in range(len(y_test)):\n",
        "  model = ARIMA(training_list, order=(0,1,0))\n",
        "  model_fit = model.fit()\n",
        "  hourly_forecast = model_fit.forecast()[0]\n",
        "\n",
        "  hourly_predictions.append(hourly_forecast)\n",
        "\n",
        "  test_i = test_list[i]\n",
        "\n",
        "  training_list.append(test_i)\n"
      ],
      "metadata": {
        "id": "RCsQoE779HMG"
      },
      "execution_count": null,
      "outputs": []
    },
    {
      "cell_type": "code",
      "source": [
        "model_fit.summary()"
      ],
      "metadata": {
        "colab": {
          "base_uri": "https://localhost:8080/",
          "height": 386
        },
        "id": "e9PbMBeQu8Mj",
        "outputId": "1b726fa6-5679-4383-ed8c-ff7004cb1d3f"
      },
      "execution_count": null,
      "outputs": [
        {
          "output_type": "execute_result",
          "data": {
            "text/plain": [
              "<class 'statsmodels.iolib.summary.Summary'>\n",
              "\"\"\"\n",
              "                               SARIMAX Results                                \n",
              "==============================================================================\n",
              "Dep. Variable:                      y   No. Observations:                32820\n",
              "Model:                 ARIMA(0, 1, 0)   Log Likelihood             -226934.838\n",
              "Date:                Wed, 21 Jun 2023   AIC                         453871.676\n",
              "Time:                        01:07:23   BIC                         453880.075\n",
              "Sample:                             0   HQIC                        453874.360\n",
              "                              - 32820                                         \n",
              "Covariance Type:                  opg                                         \n",
              "==============================================================================\n",
              "                 coef    std err          z      P>|z|      [0.025      0.975]\n",
              "------------------------------------------------------------------------------\n",
              "sigma2      5.937e+04    133.274    445.484      0.000    5.91e+04    5.96e+04\n",
              "===================================================================================\n",
              "Ljung-Box (L1) (Q):                   0.07   Jarque-Bera (JB):            674035.83\n",
              "Prob(Q):                              0.80   Prob(JB):                         0.00\n",
              "Heteroskedasticity (H):               6.29   Skew:                            -0.36\n",
              "Prob(H) (two-sided):                  0.00   Kurtosis:                        25.19\n",
              "===================================================================================\n",
              "\n",
              "Warnings:\n",
              "[1] Covariance matrix calculated using the outer product of gradients (complex-step).\n",
              "\"\"\""
            ],
            "text/html": [
              "<table class=\"simpletable\">\n",
              "<caption>SARIMAX Results</caption>\n",
              "<tr>\n",
              "  <th>Dep. Variable:</th>           <td>y</td>        <th>  No. Observations:  </th>    <td>32820</td>   \n",
              "</tr>\n",
              "<tr>\n",
              "  <th>Model:</th>            <td>ARIMA(0, 1, 0)</td>  <th>  Log Likelihood     </th> <td>-226934.838</td>\n",
              "</tr>\n",
              "<tr>\n",
              "  <th>Date:</th>            <td>Wed, 21 Jun 2023</td> <th>  AIC                </th> <td>453871.676</td> \n",
              "</tr>\n",
              "<tr>\n",
              "  <th>Time:</th>                <td>01:07:23</td>     <th>  BIC                </th> <td>453880.075</td> \n",
              "</tr>\n",
              "<tr>\n",
              "  <th>Sample:</th>                  <td>0</td>        <th>  HQIC               </th> <td>453874.360</td> \n",
              "</tr>\n",
              "<tr>\n",
              "  <th></th>                     <td> - 32820</td>     <th>                     </th>      <td> </td>     \n",
              "</tr>\n",
              "<tr>\n",
              "  <th>Covariance Type:</th>        <td>opg</td>       <th>                     </th>      <td> </td>     \n",
              "</tr>\n",
              "</table>\n",
              "<table class=\"simpletable\">\n",
              "<tr>\n",
              "     <td></td>       <th>coef</th>     <th>std err</th>      <th>z</th>      <th>P>|z|</th>  <th>[0.025</th>    <th>0.975]</th>  \n",
              "</tr>\n",
              "<tr>\n",
              "  <th>sigma2</th> <td> 5.937e+04</td> <td>  133.274</td> <td>  445.484</td> <td> 0.000</td> <td> 5.91e+04</td> <td> 5.96e+04</td>\n",
              "</tr>\n",
              "</table>\n",
              "<table class=\"simpletable\">\n",
              "<tr>\n",
              "  <th>Ljung-Box (L1) (Q):</th>     <td>0.07</td> <th>  Jarque-Bera (JB):  </th> <td>674035.83</td>\n",
              "</tr>\n",
              "<tr>\n",
              "  <th>Prob(Q):</th>                <td>0.80</td> <th>  Prob(JB):          </th>   <td>0.00</td>   \n",
              "</tr>\n",
              "<tr>\n",
              "  <th>Heteroskedasticity (H):</th> <td>6.29</td> <th>  Skew:              </th>   <td>-0.36</td>  \n",
              "</tr>\n",
              "<tr>\n",
              "  <th>Prob(H) (two-sided):</th>    <td>0.00</td> <th>  Kurtosis:          </th>   <td>25.19</td>  \n",
              "</tr>\n",
              "</table><br/><br/>Warnings:<br/>[1] Covariance matrix calculated using the outer product of gradients (complex-step)."
            ]
          },
          "metadata": {},
          "execution_count": 29
        }
      ]
    },
    {
      "cell_type": "markdown",
      "source": [
        "### Plots Hourly"
      ],
      "metadata": {
        "id": "SmmrwHRPIjTD"
      }
    },
    {
      "cell_type": "code",
      "source": [
        "# Plot whole timeframe\n",
        "\n",
        "test_ar['Hourly_Forecast_ARIMA'] = hourly_predictions\n",
        "\n",
        "hour_df = pd.concat([train_ar, test_ar], sort=False)\n",
        "\n",
        "\n",
        "plt.figure(figsize=(15, 5))\n",
        "\n",
        "plt.plot(hour_df['date'][- len(y_test):], hour_df['close'][- len(y_test):], label='Actual Closing Price')\n",
        "plt.plot(hour_df['date'][- len(y_test):], hour_df['Hourly_Forecast_ARIMA'][- len(y_test):], label='Forecasted Price')\n",
        "\n",
        "plt.xlabel('Date')\n",
        "plt.ylabel('Price')\n",
        "\n",
        "plt.title('Actual Closing Price vs. Forecasted Price (Hourly)')\n",
        "\n",
        "plt.legend()\n",
        "\n",
        "plt.show();"
      ],
      "metadata": {
        "colab": {
          "base_uri": "https://localhost:8080/",
          "height": 584
        },
        "outputId": "24366de1-cfa4-4296-c5e6-826b13523c72",
        "id": "vbjUZLz1IjTD"
      },
      "execution_count": null,
      "outputs": [
        {
          "output_type": "stream",
          "name": "stderr",
          "text": [
            "<ipython-input-30-e2f91f72c2c9>:3: SettingWithCopyWarning: \n",
            "A value is trying to be set on a copy of a slice from a DataFrame.\n",
            "Try using .loc[row_indexer,col_indexer] = value instead\n",
            "\n",
            "See the caveats in the documentation: https://pandas.pydata.org/pandas-docs/stable/user_guide/indexing.html#returning-a-view-versus-a-copy\n",
            "  test_ar['Hourly_Forecast_ARIMA'] = model_predictions\n"
          ]
        },
        {
          "output_type": "display_data",
          "data": {
            "text/plain": [
              "<Figure size 1500x500 with 1 Axes>"
            ],
            "image/png": "[encoded data removed]"
          },
          "metadata": {}
        }
      ]
    },
    {
      "cell_type": "code",
      "source": [
        "# Results ARIMA Hourly Model\n",
        "\n",
        "test_mae_ar_h = round(mean_absolute_error(test_ar['close'], test_ar['Hourly_Forecast_ARIMA']))\n",
        "test_rmse_ar_h = round(np.sqrt(mean_squared_error(test_ar['close'], test_ar['Hourly_Forecast_ARIMA'])))\n",
        "test_r2_ar_h = round((r2_score(test_ar['close'], test_ar['Hourly_Forecast_ARIMA']))*100, 2)\n",
        "\n",
        "\n",
        "print(f\"test MAE ARIMA : {test_mae_ar_h}\")\n",
        "print(f\"test RMSE ARIMA : {test_rmse_ar_h}\")\n",
        "print(f\"test R2 ARIMA : {test_r2_ar_h}\")"
      ],
      "metadata": {
        "colab": {
          "base_uri": "https://localhost:8080/"
        },
        "outputId": "df38de70-3147-4379-f2f4-17dde597c7e4",
        "id": "c8cQgNAGIjTE"
      },
      "execution_count": null,
      "outputs": [
        {
          "output_type": "stream",
          "name": "stdout",
          "text": [
            "test MAE ARIMA : 69\n",
            "test RMSE ARIMA : 120\n",
            "test R2 ARIMA : 99.92\n"
          ]
        }
      ]
    },
    {
      "cell_type": "code",
      "source": [
        "# save model\n",
        "model_fit.save(\"/content/drive/MyDrive/Colab Notebooks/01 Omdena/Bahrain - Crypto/Saved Models/BTC/ARIMA_h_BTC_(0,1,0).pkl\")\n",
        "\n",
        "# # # load model\n",
        "# loaded = ARIMAResults.load('model.pkl')"
      ],
      "metadata": {
        "id": "GWZgxAtfIjTE"
      },
      "execution_count": null,
      "outputs": []
    },
    {
      "cell_type": "markdown",
      "source": [
        "## Results Modeling"
      ],
      "metadata": {
        "id": "tj3o2yPh-cN3"
      }
    },
    {
      "cell_type": "code",
      "source": [
        "# Overall Results\n",
        "\n",
        "results = {\n",
        "    \"METRIC\": [\"MAE\", \"RMSE\", \"R2\"],\n",
        "    \"ARIMA_Daily\": [test_mae_ar, test_rmse_ar, test_r2_ar],\n",
        "    \"ARIMA_Hourly\": [test_mae_ar_h, test_rmse_ar_h, test_r2_ar_h]\n",
        "\n",
        "}\n",
        "\n",
        "df_results = pd.DataFrame(results)\n",
        "df_results"
      ],
      "metadata": {
        "id": "ES9WngVh8Nvo",
        "colab": {
          "base_uri": "https://localhost:8080/",
          "height": 143
        },
        "outputId": "ddb4863a-798b-460f-c691-f903083ad59f"
      },
      "execution_count": null,
      "outputs": [
        {
          "output_type": "execute_result",
          "data": {
            "text/plain": [
              "  METRIC  ARIMA_Daily  ARIMA_Hourly\n",
              "0    MAE       315.00         69.00\n",
              "1   RMSE       476.00        120.00\n",
              "2     R2        98.79         99.92"
            ],
            "text/html": [
              "\n",
              "  <div id=\"df-df057579-4f16-4cd6-a0fa-085c6e11433b\">\n",
              "    <div class=\"colab-df-container\">\n",
              "      <div>\n",
              "<style scoped>\n",
              "    .dataframe tbody tr th:only-of-type {\n",
              "        vertical-align: middle;\n",
              "    }\n",
              "\n",
              "    .dataframe tbody tr th {\n",
              "        vertical-align: top;\n",
              "    }\n",
              "\n",
              "    .dataframe thead th {\n",
              "        text-align: right;\n",
              "    }\n",
              "</style>\n",
              "<table border=\"1\" class=\"dataframe\">\n",
              "  <thead>\n",
              "    <tr style=\"text-align: right;\">\n",
              "      <th></th>\n",
              "      <th>METRIC</th>\n",
              "      <th>ARIMA_Daily</th>\n",
              "      <th>ARIMA_Hourly</th>\n",
              "    </tr>\n",
              "  </thead>\n",
              "  <tbody>\n",
              "    <tr>\n",
              "      <th>0</th>\n",
              "      <td>MAE</td>\n",
              "      <td>315.00</td>\n",
              "      <td>69.00</td>\n",
              "    </tr>\n",
              "    <tr>\n",
              "      <th>1</th>\n",
              "      <td>RMSE</td>\n",
              "      <td>476.00</td>\n",
              "      <td>120.00</td>\n",
              "    </tr>\n",
              "    <tr>\n",
              "      <th>2</th>\n",
              "      <td>R2</td>\n",
              "      <td>98.79</td>\n",
              "      <td>99.92</td>\n",
              "    </tr>\n",
              "  </tbody>\n",
              "</table>\n",
              "</div>\n",
              "      <button class=\"colab-df-convert\" onclick=\"convertToInteractive('df-df057579-4f16-4cd6-a0fa-085c6e11433b')\"\n",
              "              title=\"Convert this dataframe to an interactive table.\"\n",
              "              style=\"display:none;\">\n",
              "        \n",
              "  <svg xmlns=\"http://www.w3.org/2000/svg\" height=\"24px\"viewBox=\"0 0 24 24\"\n",
              "       width=\"24px\">\n",
              "    <path d=\"M0 0h24v24H0V0z\" fill=\"none\"/>\n",
              "    <path d=\"M18.56 5.44l.94 2.06.94-2.06 2.06-.94-2.06-.94-.94-2.06-.94 2.06-2.06.94zm-11 1L8.5 8.5l.94-2.06 2.06-.94-2.06-.94L8.5 2.5l-.94 2.06-2.06.94zm10 10l.94 2.06.94-2.06 2.06-.94-2.06-.94-.94-2.06-.94 2.06-2.06.94z\"/><path d=\"M17.41 7.96l-1.37-1.37c-.4-.4-.92-.59-1.43-.59-.52 0-1.04.2-1.43.59L10.3 9.45l-7.72 7.72c-.78.78-.78 2.05 0 2.83L4 21.41c.39.39.9.59 1.41.59.51 0 1.02-.2 1.41-.59l7.78-7.78 2.81-2.81c.8-.78.8-2.07 0-2.86zM5.41 20L4 18.59l7.72-7.72 1.47 1.35L5.41 20z\"/>\n",
              "  </svg>\n",
              "      </button>\n",
              "      \n",
              "  <style>\n",
              "    .colab-df-container {\n",
              "      display:flex;\n",
              "      flex-wrap:wrap;\n",
              "      gap: 12px;\n",
              "    }\n",
              "\n",
              "    .colab-df-convert {\n",
              "      background-color: #E8F0FE;\n",
              "      border: none;\n",
              "      border-radius: 50%;\n",
              "      cursor: pointer;\n",
              "      display: none;\n",
              "      fill: #1967D2;\n",
              "      height: 32px;\n",
              "      padding: 0 0 0 0;\n",
              "      width: 32px;\n",
              "    }\n",
              "\n",
              "    .colab-df-convert:hover {\n",
              "      background-color: #E2EBFA;\n",
              "      box-shadow: 0px 1px 2px rgba(60, 64, 67, 0.3), 0px 1px 3px 1px rgba(60, 64, 67, 0.15);\n",
              "      fill: #174EA6;\n",
              "    }\n",
              "\n",
              "    [theme=dark] .colab-df-convert {\n",
              "      background-color: #3B4455;\n",
              "      fill: #D2E3FC;\n",
              "    }\n",
              "\n",
              "    [theme=dark] .colab-df-convert:hover {\n",
              "      background-color: #434B5C;\n",
              "      box-shadow: 0px 1px 3px 1px rgba(0, 0, 0, 0.15);\n",
              "      filter: drop-shadow(0px 1px 2px rgba(0, 0, 0, 0.3));\n",
              "      fill: #FFFFFF;\n",
              "    }\n",
              "  </style>\n",
              "\n",
              "      <script>\n",
              "        const buttonEl =\n",
              "          document.querySelector('#df-df057579-4f16-4cd6-a0fa-085c6e11433b button.colab-df-convert');\n",
              "        buttonEl.style.display =\n",
              "          google.colab.kernel.accessAllowed ? 'block' : 'none';\n",
              "\n",
              "        async function convertToInteractive(key) {\n",
              "          const element = document.querySelector('#df-df057579-4f16-4cd6-a0fa-085c6e11433b');\n",
              "          const dataTable =\n",
              "            await google.colab.kernel.invokeFunction('convertToInteractive',\n",
              "                                                     [key], {});\n",
              "          if (!dataTable) return;\n",
              "\n",
              "          const docLinkHtml = 'Like what you see? Visit the ' +\n",
              "            '<a target=\"_blank\" href=https://colab.research.google.com/notebooks/data_table.ipynb>data table notebook</a>'\n",
              "            + ' to learn more about interactive tables.';\n",
              "          element.innerHTML = '';\n",
              "          dataTable['output_type'] = 'display_data';\n",
              "          await google.colab.output.renderOutput(dataTable, element);\n",
              "          const docLink = document.createElement('div');\n",
              "          docLink.innerHTML = docLinkHtml;\n",
              "          element.appendChild(docLink);\n",
              "        }\n",
              "      </script>\n",
              "    </div>\n",
              "  </div>\n",
              "  "
            ]
          },
          "metadata": {},
          "execution_count": 44
        }
      ]
    }
  ]
}