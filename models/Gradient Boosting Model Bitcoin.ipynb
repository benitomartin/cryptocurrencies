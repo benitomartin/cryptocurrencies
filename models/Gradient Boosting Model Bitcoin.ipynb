{
  "nbformat": 4,
  "nbformat_minor": 0,
  "metadata": {
    "colab": {
      "provenance": [],
      "gpuType": "T4"
    },
    "kernelspec": {
      "name": "python3",
      "display_name": "Python 3"
    },
    "language_info": {
      "name": "python"
    },
    "accelerator": "GPU"
  },
  "cells": [
    {
      "cell_type": "markdown",
      "source": [
        "# Mount Drive"
      ],
      "metadata": {
        "id": "5G3jKhIkEVrE"
      }
    },
    {
      "cell_type": "code",
      "source": [
        "from google.colab import drive\n",
        "drive.mount('/content/drive')"
      ],
      "metadata": {
        "colab": {
          "base_uri": "https://localhost:8080/"
        },
        "id": "YDLqicmGEnBR",
        "outputId": "68434c81-87be-4348-f7ed-2925c60e845e"
      },
      "execution_count": null,
      "outputs": [
        {
          "output_type": "stream",
          "name": "stdout",
          "text": [
            "Drive already mounted at /content/drive; to attempt to forcibly remount, call drive.mount(\"/content/drive\", force_remount=True).\n"
          ]
        }
      ]
    },
    {
      "cell_type": "markdown",
      "source": [
        "# Install libraries"
      ],
      "metadata": {
        "id": "ZsFo9lg_3ZQg"
      }
    },
    {
      "cell_type": "code",
      "source": [
        "# Import required libraries"
      ],
      "metadata": {
        "id": "GRSwneAq_29t"
      },
      "execution_count": null,
      "outputs": []
    },
    {
      "cell_type": "markdown",
      "source": [
        "# Import Libraries"
      ],
      "metadata": {
        "id": "cfiJuMV7AjPk"
      }
    },
    {
      "cell_type": "code",
      "execution_count": null,
      "metadata": {
        "id": "BFrpy0jt8WXh"
      },
      "outputs": [],
      "source": [
        "#Load the required libraries\n",
        "\n",
        "import pandas as pd\n",
        "import numpy as np\n",
        "from datetime import datetime\n",
        "\n",
        "import seaborn as sns\n",
        "import matplotlib.pyplot as plt\n",
        "# import plotly.express as px\n",
        "# import plotly.graph_objects as go\n",
        "plt.style.use('seaborn-v0_8-darkgrid')\n",
        "\n",
        "\n",
        "from sklearn.metrics import mean_absolute_error, mean_squared_error,r2_score\n",
        "\n",
        "import joblib\n",
        "\n",
        "\n",
        "# import prophet\n",
        "# from prophet import Prophet\n",
        "# from prophet.plot import plot_plotly, plot_components_plotly\n",
        "# from prophet.plot import add_changepoints_to_plot\n",
        "\n",
        "# from sklearn.preprocessing import MinMaxScaler\n",
        "from sklearn.model_selection import RandomizedSearchCV, GridSearchCV\n",
        "from sklearn.ensemble import RandomForestRegressor, GradientBoostingRegressor\n",
        "\n",
        "\n",
        "# import xgboost as xgb\n",
        "# from xgboost import plot_importance, plot_tree\n",
        "\n",
        "# import tensorflow as tf\n",
        "# from keras.models import Sequential,load_model\n",
        "# from keras.layers import Dropout, Dense, LSTM, GRU\n",
        "# from keras.callbacks import ModelCheckpoint, EarlyStopping, LearningRateScheduler\n",
        "\n",
        "\n",
        "from pylab import rcParams\n",
        "rcParams['figure.figsize'] = 14, 8\n",
        "\n",
        "\n",
        "# from matplotlib import rc\n",
        "\n",
        "# sns.set(style='whitegrid', palette='muted', font_scale=1.5)\n",
        "\n",
        "# RANDOM_SEED = 42\n",
        "\n",
        "# np.random.seed(RANDOM_SEED)"
      ]
    },
    {
      "cell_type": "markdown",
      "source": [
        "# Import Data"
      ],
      "metadata": {
        "id": "rgQgYuXSAoz7"
      }
    },
    {
      "cell_type": "code",
      "source": [
        "data_BTC = pd.read_csv(\"data/bitcoin.csv\")"
      ],
      "metadata": {
        "id": "HzN89euZ8xfW"
      },
      "execution_count": null,
      "outputs": []
    },
    {
      "cell_type": "code",
      "source": [
        "data_BTC.head()"
      ],
      "metadata": {
        "colab": {
          "base_uri": "https://localhost:8080/",
          "height": 206
        },
        "id": "a2A4FMbpXz2Q",
        "outputId": "bbd4e0ae-0c95-42a9-ca22-0e8c48f3fd5d"
      },
      "execution_count": null,
      "outputs": [
        {
          "output_type": "execute_result",
          "data": {
            "text/plain": [
              "             open_time     open     high      low    close      volume  \\\n",
              "0  2019-09-01 00:00:00  9588.74  9630.00  9579.34  9617.06  546.960415   \n",
              "1  2019-09-01 01:00:00  9617.06  9642.58  9612.08  9614.99  453.105152   \n",
              "2  2019-09-01 02:00:00  9614.99  9616.00  9595.76  9605.78  458.004517   \n",
              "3  2019-09-01 03:00:00  9606.12  9624.01  9605.78  9623.02  633.588749   \n",
              "4  2019-09-01 04:00:00  9623.02  9630.21  9605.60  9614.46  542.260896   \n",
              "\n",
              "                close_time  quote_volume  count  taker_buy_volume  \\\n",
              "0  2019-09-01 00:59:59.999  5.257943e+06   7428        261.131656   \n",
              "1  2019-09-01 01:59:59.999  4.362498e+06   5789        258.764082   \n",
              "2  2019-09-01 02:59:59.999  4.400751e+06   5485        321.355630   \n",
              "3  2019-09-01 03:59:59.999  6.092024e+06   5500        446.853542   \n",
              "4  2019-09-01 04:59:59.999  5.216076e+06   5536        368.470786   \n",
              "\n",
              "   taker_buy_quote_volume  \n",
              "0            2.510480e+06  \n",
              "1            2.491295e+06  \n",
              "2            3.088171e+06  \n",
              "3            4.296649e+06  \n",
              "4            3.544535e+06  "
            ],
            "text/html": [
              "\n",
              "  <div id=\"df-f646bf1e-5d6c-4f92-beae-370ab9b9bd74\">\n",
              "    <div class=\"colab-df-container\">\n",
              "      <div>\n",
              "<style scoped>\n",
              "    .dataframe tbody tr th:only-of-type {\n",
              "        vertical-align: middle;\n",
              "    }\n",
              "\n",
              "    .dataframe tbody tr th {\n",
              "        vertical-align: top;\n",
              "    }\n",
              "\n",
              "    .dataframe thead th {\n",
              "        text-align: right;\n",
              "    }\n",
              "</style>\n",
              "<table border=\"1\" class=\"dataframe\">\n",
              "  <thead>\n",
              "    <tr style=\"text-align: right;\">\n",
              "      <th></th>\n",
              "      <th>open_time</th>\n",
              "      <th>open</th>\n",
              "      <th>high</th>\n",
              "      <th>low</th>\n",
              "      <th>close</th>\n",
              "      <th>volume</th>\n",
              "      <th>close_time</th>\n",
              "      <th>quote_volume</th>\n",
              "      <th>count</th>\n",
              "      <th>taker_buy_volume</th>\n",
              "      <th>taker_buy_quote_volume</th>\n",
              "    </tr>\n",
              "  </thead>\n",
              "  <tbody>\n",
              "    <tr>\n",
              "      <th>0</th>\n",
              "      <td>2019-09-01 00:00:00</td>\n",
              "      <td>9588.74</td>\n",
              "      <td>9630.00</td>\n",
              "      <td>9579.34</td>\n",
              "      <td>9617.06</td>\n",
              "      <td>546.960415</td>\n",
              "      <td>2019-09-01 00:59:59.999</td>\n",
              "      <td>5.257943e+06</td>\n",
              "      <td>7428</td>\n",
              "      <td>261.131656</td>\n",
              "      <td>2.510480e+06</td>\n",
              "    </tr>\n",
              "    <tr>\n",
              "      <th>1</th>\n",
              "      <td>2019-09-01 01:00:00</td>\n",
              "      <td>9617.06</td>\n",
              "      <td>9642.58</td>\n",
              "      <td>9612.08</td>\n",
              "      <td>9614.99</td>\n",
              "      <td>453.105152</td>\n",
              "      <td>2019-09-01 01:59:59.999</td>\n",
              "      <td>4.362498e+06</td>\n",
              "      <td>5789</td>\n",
              "      <td>258.764082</td>\n",
              "      <td>2.491295e+06</td>\n",
              "    </tr>\n",
              "    <tr>\n",
              "      <th>2</th>\n",
              "      <td>2019-09-01 02:00:00</td>\n",
              "      <td>9614.99</td>\n",
              "      <td>9616.00</td>\n",
              "      <td>9595.76</td>\n",
              "      <td>9605.78</td>\n",
              "      <td>458.004517</td>\n",
              "      <td>2019-09-01 02:59:59.999</td>\n",
              "      <td>4.400751e+06</td>\n",
              "      <td>5485</td>\n",
              "      <td>321.355630</td>\n",
              "      <td>3.088171e+06</td>\n",
              "    </tr>\n",
              "    <tr>\n",
              "      <th>3</th>\n",
              "      <td>2019-09-01 03:00:00</td>\n",
              "      <td>9606.12</td>\n",
              "      <td>9624.01</td>\n",
              "      <td>9605.78</td>\n",
              "      <td>9623.02</td>\n",
              "      <td>633.588749</td>\n",
              "      <td>2019-09-01 03:59:59.999</td>\n",
              "      <td>6.092024e+06</td>\n",
              "      <td>5500</td>\n",
              "      <td>446.853542</td>\n",
              "      <td>4.296649e+06</td>\n",
              "    </tr>\n",
              "    <tr>\n",
              "      <th>4</th>\n",
              "      <td>2019-09-01 04:00:00</td>\n",
              "      <td>9623.02</td>\n",
              "      <td>9630.21</td>\n",
              "      <td>9605.60</td>\n",
              "      <td>9614.46</td>\n",
              "      <td>542.260896</td>\n",
              "      <td>2019-09-01 04:59:59.999</td>\n",
              "      <td>5.216076e+06</td>\n",
              "      <td>5536</td>\n",
              "      <td>368.470786</td>\n",
              "      <td>3.544535e+06</td>\n",
              "    </tr>\n",
              "  </tbody>\n",
              "</table>\n",
              "</div>\n",
              "      <button class=\"colab-df-convert\" onclick=\"convertToInteractive('df-f646bf1e-5d6c-4f92-beae-370ab9b9bd74')\"\n",
              "              title=\"Convert this dataframe to an interactive table.\"\n",
              "              style=\"display:none;\">\n",
              "        \n",
              "  <svg xmlns=\"http://www.w3.org/2000/svg\" height=\"24px\"viewBox=\"0 0 24 24\"\n",
              "       width=\"24px\">\n",
              "    <path d=\"M0 0h24v24H0V0z\" fill=\"none\"/>\n",
              "    <path d=\"M18.56 5.44l.94 2.06.94-2.06 2.06-.94-2.06-.94-.94-2.06-.94 2.06-2.06.94zm-11 1L8.5 8.5l.94-2.06 2.06-.94-2.06-.94L8.5 2.5l-.94 2.06-2.06.94zm10 10l.94 2.06.94-2.06 2.06-.94-2.06-.94-.94-2.06-.94 2.06-2.06.94z\"/><path d=\"M17.41 7.96l-1.37-1.37c-.4-.4-.92-.59-1.43-.59-.52 0-1.04.2-1.43.59L10.3 9.45l-7.72 7.72c-.78.78-.78 2.05 0 2.83L4 21.41c.39.39.9.59 1.41.59.51 0 1.02-.2 1.41-.59l7.78-7.78 2.81-2.81c.8-.78.8-2.07 0-2.86zM5.41 20L4 18.59l7.72-7.72 1.47 1.35L5.41 20z\"/>\n",
              "  </svg>\n",
              "      </button>\n",
              "      \n",
              "  <style>\n",
              "    .colab-df-container {\n",
              "      display:flex;\n",
              "      flex-wrap:wrap;\n",
              "      gap: 12px;\n",
              "    }\n",
              "\n",
              "    .colab-df-convert {\n",
              "      background-color: #E8F0FE;\n",
              "      border: none;\n",
              "      border-radius: 50%;\n",
              "      cursor: pointer;\n",
              "      display: none;\n",
              "      fill: #1967D2;\n",
              "      height: 32px;\n",
              "      padding: 0 0 0 0;\n",
              "      width: 32px;\n",
              "    }\n",
              "\n",
              "    .colab-df-convert:hover {\n",
              "      background-color: #E2EBFA;\n",
              "      box-shadow: 0px 1px 2px rgba(60, 64, 67, 0.3), 0px 1px 3px 1px rgba(60, 64, 67, 0.15);\n",
              "      fill: #174EA6;\n",
              "    }\n",
              "\n",
              "    [theme=dark] .colab-df-convert {\n",
              "      background-color: #3B4455;\n",
              "      fill: #D2E3FC;\n",
              "    }\n",
              "\n",
              "    [theme=dark] .colab-df-convert:hover {\n",
              "      background-color: #434B5C;\n",
              "      box-shadow: 0px 1px 3px 1px rgba(0, 0, 0, 0.15);\n",
              "      filter: drop-shadow(0px 1px 2px rgba(0, 0, 0, 0.3));\n",
              "      fill: #FFFFFF;\n",
              "    }\n",
              "  </style>\n",
              "\n",
              "      <script>\n",
              "        const buttonEl =\n",
              "          document.querySelector('#df-f646bf1e-5d6c-4f92-beae-370ab9b9bd74 button.colab-df-convert');\n",
              "        buttonEl.style.display =\n",
              "          google.colab.kernel.accessAllowed ? 'block' : 'none';\n",
              "\n",
              "        async function convertToInteractive(key) {\n",
              "          const element = document.querySelector('#df-f646bf1e-5d6c-4f92-beae-370ab9b9bd74');\n",
              "          const dataTable =\n",
              "            await google.colab.kernel.invokeFunction('convertToInteractive',\n",
              "                                                     [key], {});\n",
              "          if (!dataTable) return;\n",
              "\n",
              "          const docLinkHtml = 'Like what you see? Visit the ' +\n",
              "            '<a target=\"_blank\" href=https://colab.research.google.com/notebooks/data_table.ipynb>data table notebook</a>'\n",
              "            + ' to learn more about interactive tables.';\n",
              "          element.innerHTML = '';\n",
              "          dataTable['output_type'] = 'display_data';\n",
              "          await google.colab.output.renderOutput(dataTable, element);\n",
              "          const docLink = document.createElement('div');\n",
              "          docLink.innerHTML = docLinkHtml;\n",
              "          element.appendChild(docLink);\n",
              "        }\n",
              "      </script>\n",
              "    </div>\n",
              "  </div>\n",
              "  "
            ]
          },
          "metadata": {},
          "execution_count": 5
        }
      ]
    },
    {
      "cell_type": "markdown",
      "source": [
        "Here's a breakdown of each feature:\n",
        "\n",
        "- **open_time**: This represents the opening time of a specific period in Unix time format. Unix time is a way to represent time as the number of seconds that have elapsed since January 1, 1970.\n",
        "\n",
        "- **open**: This refers to the opening price of the trading instrument at the given period.\n",
        "\n",
        "- **high**: This represents the highest price reached by the trading instrument during the specified period.\n",
        "\n",
        "- **low**: This denotes the lowest price reached by the trading instrument during the specified period.\n",
        "\n",
        "- **close**: This indicates the closing price of the trading instrument at the given period.\n",
        "\n",
        "- **volume**: This refers to the total volume, typically the quantity of the trading instrument, traded during the specified period.\n",
        "\n",
        "- **close_time**: This represents the closing time of the specific period in Unix time format.\n",
        "\n",
        "- **quote_volume**: This refers to the total volume in terms of the quote asset. The quote asset is the asset used to determine the value of the trading instrument.\n",
        "\n",
        "- **count**: This represents the number of trades that occurred during the specified period.\n",
        "\n",
        "- **taker_buy_volume**: This denotes the volume of the quote asset bought by takers (market takers) during the specified period.\n",
        "\n",
        "- **taker_buy_quote_volume**: This represents the volume of the base asset bought by takers (market takers) during the specified period."
      ],
      "metadata": {
        "id": "VtonmnjpZgov"
      }
    },
    {
      "cell_type": "code",
      "source": [
        "# Renaming the columns to match the name in the previous notebook with bitstamp data so that I do not have to change the whole code\n",
        "data_BTC.rename(columns = {'open_time':'date', 'volume':'Volume'}, inplace = True)"
      ],
      "metadata": {
        "id": "HohJ---lhKab"
      },
      "execution_count": null,
      "outputs": []
    },
    {
      "cell_type": "code",
      "source": [
        "data_BTC.head()"
      ],
      "metadata": {
        "colab": {
          "base_uri": "https://localhost:8080/",
          "height": 206
        },
        "id": "ZMUHxe6UQ_UT",
        "outputId": "1fac7c2f-4a37-4a85-83d7-de5b85d7904a"
      },
      "execution_count": null,
      "outputs": [
        {
          "output_type": "execute_result",
          "data": {
            "text/plain": [
              "                  date     open     high      low    close      Volume  \\\n",
              "0  2019-09-01 00:00:00  9588.74  9630.00  9579.34  9617.06  546.960415   \n",
              "1  2019-09-01 01:00:00  9617.06  9642.58  9612.08  9614.99  453.105152   \n",
              "2  2019-09-01 02:00:00  9614.99  9616.00  9595.76  9605.78  458.004517   \n",
              "3  2019-09-01 03:00:00  9606.12  9624.01  9605.78  9623.02  633.588749   \n",
              "4  2019-09-01 04:00:00  9623.02  9630.21  9605.60  9614.46  542.260896   \n",
              "\n",
              "                close_time  quote_volume  count  taker_buy_volume  \\\n",
              "0  2019-09-01 00:59:59.999  5.257943e+06   7428        261.131656   \n",
              "1  2019-09-01 01:59:59.999  4.362498e+06   5789        258.764082   \n",
              "2  2019-09-01 02:59:59.999  4.400751e+06   5485        321.355630   \n",
              "3  2019-09-01 03:59:59.999  6.092024e+06   5500        446.853542   \n",
              "4  2019-09-01 04:59:59.999  5.216076e+06   5536        368.470786   \n",
              "\n",
              "   taker_buy_quote_volume  \n",
              "0            2.510480e+06  \n",
              "1            2.491295e+06  \n",
              "2            3.088171e+06  \n",
              "3            4.296649e+06  \n",
              "4            3.544535e+06  "
            ],
            "text/html": [
              "\n",
              "  <div id=\"df-b067ef98-d408-4d04-93fb-c09e7e278bbf\">\n",
              "    <div class=\"colab-df-container\">\n",
              "      <div>\n",
              "<style scoped>\n",
              "    .dataframe tbody tr th:only-of-type {\n",
              "        vertical-align: middle;\n",
              "    }\n",
              "\n",
              "    .dataframe tbody tr th {\n",
              "        vertical-align: top;\n",
              "    }\n",
              "\n",
              "    .dataframe thead th {\n",
              "        text-align: right;\n",
              "    }\n",
              "</style>\n",
              "<table border=\"1\" class=\"dataframe\">\n",
              "  <thead>\n",
              "    <tr style=\"text-align: right;\">\n",
              "      <th></th>\n",
              "      <th>date</th>\n",
              "      <th>open</th>\n",
              "      <th>high</th>\n",
              "      <th>low</th>\n",
              "      <th>close</th>\n",
              "      <th>Volume</th>\n",
              "      <th>close_time</th>\n",
              "      <th>quote_volume</th>\n",
              "      <th>count</th>\n",
              "      <th>taker_buy_volume</th>\n",
              "      <th>taker_buy_quote_volume</th>\n",
              "    </tr>\n",
              "  </thead>\n",
              "  <tbody>\n",
              "    <tr>\n",
              "      <th>0</th>\n",
              "      <td>2019-09-01 00:00:00</td>\n",
              "      <td>9588.74</td>\n",
              "      <td>9630.00</td>\n",
              "      <td>9579.34</td>\n",
              "      <td>9617.06</td>\n",
              "      <td>546.960415</td>\n",
              "      <td>2019-09-01 00:59:59.999</td>\n",
              "      <td>5.257943e+06</td>\n",
              "      <td>7428</td>\n",
              "      <td>261.131656</td>\n",
              "      <td>2.510480e+06</td>\n",
              "    </tr>\n",
              "    <tr>\n",
              "      <th>1</th>\n",
              "      <td>2019-09-01 01:00:00</td>\n",
              "      <td>9617.06</td>\n",
              "      <td>9642.58</td>\n",
              "      <td>9612.08</td>\n",
              "      <td>9614.99</td>\n",
              "      <td>453.105152</td>\n",
              "      <td>2019-09-01 01:59:59.999</td>\n",
              "      <td>4.362498e+06</td>\n",
              "      <td>5789</td>\n",
              "      <td>258.764082</td>\n",
              "      <td>2.491295e+06</td>\n",
              "    </tr>\n",
              "    <tr>\n",
              "      <th>2</th>\n",
              "      <td>2019-09-01 02:00:00</td>\n",
              "      <td>9614.99</td>\n",
              "      <td>9616.00</td>\n",
              "      <td>9595.76</td>\n",
              "      <td>9605.78</td>\n",
              "      <td>458.004517</td>\n",
              "      <td>2019-09-01 02:59:59.999</td>\n",
              "      <td>4.400751e+06</td>\n",
              "      <td>5485</td>\n",
              "      <td>321.355630</td>\n",
              "      <td>3.088171e+06</td>\n",
              "    </tr>\n",
              "    <tr>\n",
              "      <th>3</th>\n",
              "      <td>2019-09-01 03:00:00</td>\n",
              "      <td>9606.12</td>\n",
              "      <td>9624.01</td>\n",
              "      <td>9605.78</td>\n",
              "      <td>9623.02</td>\n",
              "      <td>633.588749</td>\n",
              "      <td>2019-09-01 03:59:59.999</td>\n",
              "      <td>6.092024e+06</td>\n",
              "      <td>5500</td>\n",
              "      <td>446.853542</td>\n",
              "      <td>4.296649e+06</td>\n",
              "    </tr>\n",
              "    <tr>\n",
              "      <th>4</th>\n",
              "      <td>2019-09-01 04:00:00</td>\n",
              "      <td>9623.02</td>\n",
              "      <td>9630.21</td>\n",
              "      <td>9605.60</td>\n",
              "      <td>9614.46</td>\n",
              "      <td>542.260896</td>\n",
              "      <td>2019-09-01 04:59:59.999</td>\n",
              "      <td>5.216076e+06</td>\n",
              "      <td>5536</td>\n",
              "      <td>368.470786</td>\n",
              "      <td>3.544535e+06</td>\n",
              "    </tr>\n",
              "  </tbody>\n",
              "</table>\n",
              "</div>\n",
              "      <button class=\"colab-df-convert\" onclick=\"convertToInteractive('df-b067ef98-d408-4d04-93fb-c09e7e278bbf')\"\n",
              "              title=\"Convert this dataframe to an interactive table.\"\n",
              "              style=\"display:none;\">\n",
              "        \n",
              "  <svg xmlns=\"http://www.w3.org/2000/svg\" height=\"24px\"viewBox=\"0 0 24 24\"\n",
              "       width=\"24px\">\n",
              "    <path d=\"M0 0h24v24H0V0z\" fill=\"none\"/>\n",
              "    <path d=\"M18.56 5.44l.94 2.06.94-2.06 2.06-.94-2.06-.94-.94-2.06-.94 2.06-2.06.94zm-11 1L8.5 8.5l.94-2.06 2.06-.94-2.06-.94L8.5 2.5l-.94 2.06-2.06.94zm10 10l.94 2.06.94-2.06 2.06-.94-2.06-.94-.94-2.06-.94 2.06-2.06.94z\"/><path d=\"M17.41 7.96l-1.37-1.37c-.4-.4-.92-.59-1.43-.59-.52 0-1.04.2-1.43.59L10.3 9.45l-7.72 7.72c-.78.78-.78 2.05 0 2.83L4 21.41c.39.39.9.59 1.41.59.51 0 1.02-.2 1.41-.59l7.78-7.78 2.81-2.81c.8-.78.8-2.07 0-2.86zM5.41 20L4 18.59l7.72-7.72 1.47 1.35L5.41 20z\"/>\n",
              "  </svg>\n",
              "      </button>\n",
              "      \n",
              "  <style>\n",
              "    .colab-df-container {\n",
              "      display:flex;\n",
              "      flex-wrap:wrap;\n",
              "      gap: 12px;\n",
              "    }\n",
              "\n",
              "    .colab-df-convert {\n",
              "      background-color: #E8F0FE;\n",
              "      border: none;\n",
              "      border-radius: 50%;\n",
              "      cursor: pointer;\n",
              "      display: none;\n",
              "      fill: #1967D2;\n",
              "      height: 32px;\n",
              "      padding: 0 0 0 0;\n",
              "      width: 32px;\n",
              "    }\n",
              "\n",
              "    .colab-df-convert:hover {\n",
              "      background-color: #E2EBFA;\n",
              "      box-shadow: 0px 1px 2px rgba(60, 64, 67, 0.3), 0px 1px 3px 1px rgba(60, 64, 67, 0.15);\n",
              "      fill: #174EA6;\n",
              "    }\n",
              "\n",
              "    [theme=dark] .colab-df-convert {\n",
              "      background-color: #3B4455;\n",
              "      fill: #D2E3FC;\n",
              "    }\n",
              "\n",
              "    [theme=dark] .colab-df-convert:hover {\n",
              "      background-color: #434B5C;\n",
              "      box-shadow: 0px 1px 3px 1px rgba(0, 0, 0, 0.15);\n",
              "      filter: drop-shadow(0px 1px 2px rgba(0, 0, 0, 0.3));\n",
              "      fill: #FFFFFF;\n",
              "    }\n",
              "  </style>\n",
              "\n",
              "      <script>\n",
              "        const buttonEl =\n",
              "          document.querySelector('#df-b067ef98-d408-4d04-93fb-c09e7e278bbf button.colab-df-convert');\n",
              "        buttonEl.style.display =\n",
              "          google.colab.kernel.accessAllowed ? 'block' : 'none';\n",
              "\n",
              "        async function convertToInteractive(key) {\n",
              "          const element = document.querySelector('#df-b067ef98-d408-4d04-93fb-c09e7e278bbf');\n",
              "          const dataTable =\n",
              "            await google.colab.kernel.invokeFunction('convertToInteractive',\n",
              "                                                     [key], {});\n",
              "          if (!dataTable) return;\n",
              "\n",
              "          const docLinkHtml = 'Like what you see? Visit the ' +\n",
              "            '<a target=\"_blank\" href=https://colab.research.google.com/notebooks/data_table.ipynb>data table notebook</a>'\n",
              "            + ' to learn more about interactive tables.';\n",
              "          element.innerHTML = '';\n",
              "          dataTable['output_type'] = 'display_data';\n",
              "          await google.colab.output.renderOutput(dataTable, element);\n",
              "          const docLink = document.createElement('div');\n",
              "          docLink.innerHTML = docLinkHtml;\n",
              "          element.appendChild(docLink);\n",
              "        }\n",
              "      </script>\n",
              "    </div>\n",
              "  </div>\n",
              "  "
            ]
          },
          "metadata": {},
          "execution_count": 7
        }
      ]
    },
    {
      "cell_type": "code",
      "source": [
        "data_BTC.info()"
      ],
      "metadata": {
        "colab": {
          "base_uri": "https://localhost:8080/"
        },
        "id": "1GliFMaDQmFP",
        "outputId": "2b90e429-18b1-4356-86e4-e22d9e398aec"
      },
      "execution_count": null,
      "outputs": [
        {
          "output_type": "stream",
          "name": "stdout",
          "text": [
            "<class 'pandas.core.frame.DataFrame'>\n",
            "RangeIndex: 32821 entries, 0 to 32820\n",
            "Data columns (total 11 columns):\n",
            " #   Column                  Non-Null Count  Dtype  \n",
            "---  ------                  --------------  -----  \n",
            " 0   date                    32821 non-null  object \n",
            " 1   open                    32821 non-null  float64\n",
            " 2   high                    32821 non-null  float64\n",
            " 3   low                     32821 non-null  float64\n",
            " 4   close                   32821 non-null  float64\n",
            " 5   Volume                  32821 non-null  float64\n",
            " 6   close_time              32821 non-null  object \n",
            " 7   quote_volume            32821 non-null  float64\n",
            " 8   count                   32821 non-null  int64  \n",
            " 9   taker_buy_volume        32821 non-null  float64\n",
            " 10  taker_buy_quote_volume  32821 non-null  float64\n",
            "dtypes: float64(8), int64(1), object(2)\n",
            "memory usage: 2.8+ MB\n"
          ]
        }
      ]
    },
    {
      "cell_type": "code",
      "source": [
        "# Removing close time column\n",
        "\n",
        "data_BTC = data_BTC.drop(columns=['close_time'])"
      ],
      "metadata": {
        "id": "hO97L8vsMENy"
      },
      "execution_count": null,
      "outputs": []
    },
    {
      "cell_type": "code",
      "source": [
        "data_BTC.head()"
      ],
      "metadata": {
        "colab": {
          "base_uri": "https://localhost:8080/",
          "height": 206
        },
        "outputId": "09114a11-fb64-4a0b-bd43-3495a8d0136c",
        "id": "K6FTgiZJRQC4"
      },
      "execution_count": null,
      "outputs": [
        {
          "output_type": "execute_result",
          "data": {
            "text/plain": [
              "                  date     open     high      low    close      Volume  \\\n",
              "0  2019-09-01 00:00:00  9588.74  9630.00  9579.34  9617.06  546.960415   \n",
              "1  2019-09-01 01:00:00  9617.06  9642.58  9612.08  9614.99  453.105152   \n",
              "2  2019-09-01 02:00:00  9614.99  9616.00  9595.76  9605.78  458.004517   \n",
              "3  2019-09-01 03:00:00  9606.12  9624.01  9605.78  9623.02  633.588749   \n",
              "4  2019-09-01 04:00:00  9623.02  9630.21  9605.60  9614.46  542.260896   \n",
              "\n",
              "   quote_volume  count  taker_buy_volume  taker_buy_quote_volume  \n",
              "0  5.257943e+06   7428        261.131656            2.510480e+06  \n",
              "1  4.362498e+06   5789        258.764082            2.491295e+06  \n",
              "2  4.400751e+06   5485        321.355630            3.088171e+06  \n",
              "3  6.092024e+06   5500        446.853542            4.296649e+06  \n",
              "4  5.216076e+06   5536        368.470786            3.544535e+06  "
            ],
            "text/html": [
              "\n",
              "  <div id=\"df-34e3de15-c2f4-4dee-b697-14d249ff8408\">\n",
              "    <div class=\"colab-df-container\">\n",
              "      <div>\n",
              "<style scoped>\n",
              "    .dataframe tbody tr th:only-of-type {\n",
              "        vertical-align: middle;\n",
              "    }\n",
              "\n",
              "    .dataframe tbody tr th {\n",
              "        vertical-align: top;\n",
              "    }\n",
              "\n",
              "    .dataframe thead th {\n",
              "        text-align: right;\n",
              "    }\n",
              "</style>\n",
              "<table border=\"1\" class=\"dataframe\">\n",
              "  <thead>\n",
              "    <tr style=\"text-align: right;\">\n",
              "      <th></th>\n",
              "      <th>date</th>\n",
              "      <th>open</th>\n",
              "      <th>high</th>\n",
              "      <th>low</th>\n",
              "      <th>close</th>\n",
              "      <th>Volume</th>\n",
              "      <th>quote_volume</th>\n",
              "      <th>count</th>\n",
              "      <th>taker_buy_volume</th>\n",
              "      <th>taker_buy_quote_volume</th>\n",
              "    </tr>\n",
              "  </thead>\n",
              "  <tbody>\n",
              "    <tr>\n",
              "      <th>0</th>\n",
              "      <td>2019-09-01 00:00:00</td>\n",
              "      <td>9588.74</td>\n",
              "      <td>9630.00</td>\n",
              "      <td>9579.34</td>\n",
              "      <td>9617.06</td>\n",
              "      <td>546.960415</td>\n",
              "      <td>5.257943e+06</td>\n",
              "      <td>7428</td>\n",
              "      <td>261.131656</td>\n",
              "      <td>2.510480e+06</td>\n",
              "    </tr>\n",
              "    <tr>\n",
              "      <th>1</th>\n",
              "      <td>2019-09-01 01:00:00</td>\n",
              "      <td>9617.06</td>\n",
              "      <td>9642.58</td>\n",
              "      <td>9612.08</td>\n",
              "      <td>9614.99</td>\n",
              "      <td>453.105152</td>\n",
              "      <td>4.362498e+06</td>\n",
              "      <td>5789</td>\n",
              "      <td>258.764082</td>\n",
              "      <td>2.491295e+06</td>\n",
              "    </tr>\n",
              "    <tr>\n",
              "      <th>2</th>\n",
              "      <td>2019-09-01 02:00:00</td>\n",
              "      <td>9614.99</td>\n",
              "      <td>9616.00</td>\n",
              "      <td>9595.76</td>\n",
              "      <td>9605.78</td>\n",
              "      <td>458.004517</td>\n",
              "      <td>4.400751e+06</td>\n",
              "      <td>5485</td>\n",
              "      <td>321.355630</td>\n",
              "      <td>3.088171e+06</td>\n",
              "    </tr>\n",
              "    <tr>\n",
              "      <th>3</th>\n",
              "      <td>2019-09-01 03:00:00</td>\n",
              "      <td>9606.12</td>\n",
              "      <td>9624.01</td>\n",
              "      <td>9605.78</td>\n",
              "      <td>9623.02</td>\n",
              "      <td>633.588749</td>\n",
              "      <td>6.092024e+06</td>\n",
              "      <td>5500</td>\n",
              "      <td>446.853542</td>\n",
              "      <td>4.296649e+06</td>\n",
              "    </tr>\n",
              "    <tr>\n",
              "      <th>4</th>\n",
              "      <td>2019-09-01 04:00:00</td>\n",
              "      <td>9623.02</td>\n",
              "      <td>9630.21</td>\n",
              "      <td>9605.60</td>\n",
              "      <td>9614.46</td>\n",
              "      <td>542.260896</td>\n",
              "      <td>5.216076e+06</td>\n",
              "      <td>5536</td>\n",
              "      <td>368.470786</td>\n",
              "      <td>3.544535e+06</td>\n",
              "    </tr>\n",
              "  </tbody>\n",
              "</table>\n",
              "</div>\n",
              "      <button class=\"colab-df-convert\" onclick=\"convertToInteractive('df-34e3de15-c2f4-4dee-b697-14d249ff8408')\"\n",
              "              title=\"Convert this dataframe to an interactive table.\"\n",
              "              style=\"display:none;\">\n",
              "        \n",
              "  <svg xmlns=\"http://www.w3.org/2000/svg\" height=\"24px\"viewBox=\"0 0 24 24\"\n",
              "       width=\"24px\">\n",
              "    <path d=\"M0 0h24v24H0V0z\" fill=\"none\"/>\n",
              "    <path d=\"M18.56 5.44l.94 2.06.94-2.06 2.06-.94-2.06-.94-.94-2.06-.94 2.06-2.06.94zm-11 1L8.5 8.5l.94-2.06 2.06-.94-2.06-.94L8.5 2.5l-.94 2.06-2.06.94zm10 10l.94 2.06.94-2.06 2.06-.94-2.06-.94-.94-2.06-.94 2.06-2.06.94z\"/><path d=\"M17.41 7.96l-1.37-1.37c-.4-.4-.92-.59-1.43-.59-.52 0-1.04.2-1.43.59L10.3 9.45l-7.72 7.72c-.78.78-.78 2.05 0 2.83L4 21.41c.39.39.9.59 1.41.59.51 0 1.02-.2 1.41-.59l7.78-7.78 2.81-2.81c.8-.78.8-2.07 0-2.86zM5.41 20L4 18.59l7.72-7.72 1.47 1.35L5.41 20z\"/>\n",
              "  </svg>\n",
              "      </button>\n",
              "      \n",
              "  <style>\n",
              "    .colab-df-container {\n",
              "      display:flex;\n",
              "      flex-wrap:wrap;\n",
              "      gap: 12px;\n",
              "    }\n",
              "\n",
              "    .colab-df-convert {\n",
              "      background-color: #E8F0FE;\n",
              "      border: none;\n",
              "      border-radius: 50%;\n",
              "      cursor: pointer;\n",
              "      display: none;\n",
              "      fill: #1967D2;\n",
              "      height: 32px;\n",
              "      padding: 0 0 0 0;\n",
              "      width: 32px;\n",
              "    }\n",
              "\n",
              "    .colab-df-convert:hover {\n",
              "      background-color: #E2EBFA;\n",
              "      box-shadow: 0px 1px 2px rgba(60, 64, 67, 0.3), 0px 1px 3px 1px rgba(60, 64, 67, 0.15);\n",
              "      fill: #174EA6;\n",
              "    }\n",
              "\n",
              "    [theme=dark] .colab-df-convert {\n",
              "      background-color: #3B4455;\n",
              "      fill: #D2E3FC;\n",
              "    }\n",
              "\n",
              "    [theme=dark] .colab-df-convert:hover {\n",
              "      background-color: #434B5C;\n",
              "      box-shadow: 0px 1px 3px 1px rgba(0, 0, 0, 0.15);\n",
              "      filter: drop-shadow(0px 1px 2px rgba(0, 0, 0, 0.3));\n",
              "      fill: #FFFFFF;\n",
              "    }\n",
              "  </style>\n",
              "\n",
              "      <script>\n",
              "        const buttonEl =\n",
              "          document.querySelector('#df-34e3de15-c2f4-4dee-b697-14d249ff8408 button.colab-df-convert');\n",
              "        buttonEl.style.display =\n",
              "          google.colab.kernel.accessAllowed ? 'block' : 'none';\n",
              "\n",
              "        async function convertToInteractive(key) {\n",
              "          const element = document.querySelector('#df-34e3de15-c2f4-4dee-b697-14d249ff8408');\n",
              "          const dataTable =\n",
              "            await google.colab.kernel.invokeFunction('convertToInteractive',\n",
              "                                                     [key], {});\n",
              "          if (!dataTable) return;\n",
              "\n",
              "          const docLinkHtml = 'Like what you see? Visit the ' +\n",
              "            '<a target=\"_blank\" href=https://colab.research.google.com/notebooks/data_table.ipynb>data table notebook</a>'\n",
              "            + ' to learn more about interactive tables.';\n",
              "          element.innerHTML = '';\n",
              "          dataTable['output_type'] = 'display_data';\n",
              "          await google.colab.output.renderOutput(dataTable, element);\n",
              "          const docLink = document.createElement('div');\n",
              "          docLink.innerHTML = docLinkHtml;\n",
              "          element.appendChild(docLink);\n",
              "        }\n",
              "      </script>\n",
              "    </div>\n",
              "  </div>\n",
              "  "
            ]
          },
          "metadata": {},
          "execution_count": 12
        }
      ]
    },
    {
      "cell_type": "markdown",
      "source": [
        "# EDA"
      ],
      "metadata": {
        "id": "aaC8yAQIAuMM"
      }
    },
    {
      "cell_type": "markdown",
      "source": [
        "## Converting to Datetime"
      ],
      "metadata": {
        "id": "BB929Pzb7UuB"
      }
    },
    {
      "cell_type": "code",
      "execution_count": null,
      "metadata": {
        "execution": {
          "iopub.execute_input": "2022-08-24T10:14:28.442870Z",
          "iopub.status.busy": "2022-08-24T10:14:28.442474Z",
          "iopub.status.idle": "2022-08-24T10:14:39.013641Z",
          "shell.execute_reply": "2022-08-24T10:14:39.012362Z",
          "shell.execute_reply.started": "2022-08-24T10:14:28.442833Z"
        },
        "id": "LwvDyF2UQn32"
      },
      "outputs": [],
      "source": [
        "# Converting the Date column from object to datetime\n",
        "data_BTC[[\"date\"]] = data_BTC[[\"date\"]].apply(pd.to_datetime)"
      ]
    },
    {
      "cell_type": "code",
      "source": [
        "data_BTC.info()"
      ],
      "metadata": {
        "colab": {
          "base_uri": "https://localhost:8080/"
        },
        "id": "IpHWXzQBRZg0",
        "outputId": "a1b5b127-8f17-4adb-e687-d26bed6f2d4f"
      },
      "execution_count": null,
      "outputs": [
        {
          "output_type": "stream",
          "name": "stdout",
          "text": [
            "<class 'pandas.core.frame.DataFrame'>\n",
            "RangeIndex: 32821 entries, 0 to 32820\n",
            "Data columns (total 10 columns):\n",
            " #   Column                  Non-Null Count  Dtype         \n",
            "---  ------                  --------------  -----         \n",
            " 0   date                    32821 non-null  datetime64[ns]\n",
            " 1   open                    32821 non-null  float64       \n",
            " 2   high                    32821 non-null  float64       \n",
            " 3   low                     32821 non-null  float64       \n",
            " 4   close                   32821 non-null  float64       \n",
            " 5   Volume                  32821 non-null  float64       \n",
            " 6   quote_volume            32821 non-null  float64       \n",
            " 7   count                   32821 non-null  int64         \n",
            " 8   taker_buy_volume        32821 non-null  float64       \n",
            " 9   taker_buy_quote_volume  32821 non-null  float64       \n",
            "dtypes: datetime64[ns](1), float64(8), int64(1)\n",
            "memory usage: 2.5 MB\n"
          ]
        }
      ]
    },
    {
      "cell_type": "markdown",
      "source": [
        "## Missing Data"
      ],
      "metadata": {
        "id": "6kJZWLC9BHIQ"
      }
    },
    {
      "cell_type": "code",
      "source": [
        "data_BTC.isnull().any()"
      ],
      "metadata": {
        "colab": {
          "base_uri": "https://localhost:8080/"
        },
        "id": "Xorx8mwnRgM2",
        "outputId": "b7e89be4-5cdd-4957-f1cc-102523b62a60"
      },
      "execution_count": null,
      "outputs": [
        {
          "output_type": "execute_result",
          "data": {
            "text/plain": [
              "date                      False\n",
              "open                      False\n",
              "high                      False\n",
              "low                       False\n",
              "close                     False\n",
              "Volume                    False\n",
              "quote_volume              False\n",
              "count                     False\n",
              "taker_buy_volume          False\n",
              "taker_buy_quote_volume    False\n",
              "dtype: bool"
            ]
          },
          "metadata": {},
          "execution_count": 15
        }
      ]
    },
    {
      "cell_type": "markdown",
      "source": [
        "# Modeling"
      ],
      "metadata": {
        "id": "wUgpj4Q2_gUn"
      }
    },
    {
      "cell_type": "code",
      "source": [
        "data_BTC.shape"
      ],
      "metadata": {
        "colab": {
          "base_uri": "https://localhost:8080/"
        },
        "id": "7QunwJxTBitl",
        "outputId": "d690e6eb-9e12-4884-d712-17e01b448eb1"
      },
      "execution_count": null,
      "outputs": [
        {
          "output_type": "execute_result",
          "data": {
            "text/plain": [
              "(32821, 10)"
            ]
          },
          "metadata": {},
          "execution_count": 16
        }
      ]
    },
    {
      "cell_type": "code",
      "source": [
        "# Train/Test Split\n",
        "\n",
        "split_date = \"2022-09-01\"\n",
        "\n",
        "train_split = data_BTC['date'] <= split_date\n",
        "test_split = data_BTC['date'] > split_date\n",
        "\n",
        "train_rf = data_BTC[train_split]\n",
        "test_rf = data_BTC[test_split]\n",
        "\n",
        "columns = ['open', 'high', 'low', 'Volume', 'quote_volume', 'taker_buy_volume', 'taker_buy_quote_volume']\n",
        "\n",
        "X_train, y_train = train_rf[columns], train_rf.close\n",
        "X_test, y_test = test_rf[columns], test_rf.close"
      ],
      "metadata": {
        "id": "wSaPwFHVT9hR"
      },
      "execution_count": null,
      "outputs": []
    },
    {
      "cell_type": "code",
      "source": [
        "### GridSearchCV\n",
        "\n",
        "# Parameters\n",
        "num_estimators = [120, 130]\n",
        "learn_rates = [0.07, 0.06]\n",
        "max_depths = [4, 3]\n",
        "min_samples_leaf = [1,2]\n",
        "\n",
        "# Model\n",
        "regressor = GradientBoostingRegressor(loss='huber')\n",
        "\n",
        "\n",
        "# Param Grid\n",
        "param_grid = {\n",
        "              'n_estimators': num_estimators,\n",
        "              'learning_rate': learn_rates,\n",
        "              'max_depth': max_depths,\n",
        "              'min_samples_leaf': min_samples_leaf,\n",
        "              }\n",
        "\n",
        "# Model Fit\n",
        "grid_search = GridSearchCV(\n",
        "                           regressor,\n",
        "                           param_grid,\n",
        "                           cv=5,\n",
        "                           )\n",
        "\n",
        "grid_search.fit(X_train, y_train)"
      ],
      "metadata": {
        "colab": {
          "base_uri": "https://localhost:8080/",
          "height": 118
        },
        "id": "QLRsG3JW16YT",
        "outputId": "bf29a17a-09fb-4144-cd87-743069ae46e5"
      },
      "execution_count": null,
      "outputs": [
        {
          "output_type": "execute_result",
          "data": {
            "text/plain": [
              "GridSearchCV(cv=5, estimator=GradientBoostingRegressor(loss='huber'),\n",
              "             param_grid={'learning_rate': [0.07, 0.06], 'max_depth': [4, 3],\n",
              "                         'min_samples_leaf': [1, 2],\n",
              "                         'n_estimators': [120, 130]})"
            ],
            "text/html": [
              "<style>#sk-container-id-1 {color: black;background-color: white;}#sk-container-id-1 pre{padding: 0;}#sk-container-id-1 div.sk-toggleable {background-color: white;}#sk-container-id-1 label.sk-toggleable__label {cursor: pointer;display: block;width: 100%;margin-bottom: 0;padding: 0.3em;box-sizing: border-box;text-align: center;}#sk-container-id-1 label.sk-toggleable__label-arrow:before {content: \"▸\";float: left;margin-right: 0.25em;color: #696969;}#sk-container-id-1 label.sk-toggleable__label-arrow:hover:before {color: black;}#sk-container-id-1 div.sk-estimator:hover label.sk-toggleable__label-arrow:before {color: black;}#sk-container-id-1 div.sk-toggleable__content {max-height: 0;max-width: 0;overflow: hidden;text-align: left;background-color: #f0f8ff;}#sk-container-id-1 div.sk-toggleable__content pre {margin: 0.2em;color: black;border-radius: 0.25em;background-color: #f0f8ff;}#sk-container-id-1 input.sk-toggleable__control:checked~div.sk-toggleable__content {max-height: 200px;max-width: 100%;overflow: auto;}#sk-container-id-1 input.sk-toggleable__control:checked~label.sk-toggleable__label-arrow:before {content: \"▾\";}#sk-container-id-1 div.sk-estimator input.sk-toggleable__control:checked~label.sk-toggleable__label {background-color: #d4ebff;}#sk-container-id-1 div.sk-label input.sk-toggleable__control:checked~label.sk-toggleable__label {background-color: #d4ebff;}#sk-container-id-1 input.sk-hidden--visually {border: 0;clip: rect(1px 1px 1px 1px);clip: rect(1px, 1px, 1px, 1px);height: 1px;margin: -1px;overflow: hidden;padding: 0;position: absolute;width: 1px;}#sk-container-id-1 div.sk-estimator {font-family: monospace;background-color: #f0f8ff;border: 1px dotted black;border-radius: 0.25em;box-sizing: border-box;margin-bottom: 0.5em;}#sk-container-id-1 div.sk-estimator:hover {background-color: #d4ebff;}#sk-container-id-1 div.sk-parallel-item::after {content: \"\";width: 100%;border-bottom: 1px solid gray;flex-grow: 1;}#sk-container-id-1 div.sk-label:hover label.sk-toggleable__label {background-color: #d4ebff;}#sk-container-id-1 div.sk-serial::before {content: \"\";position: absolute;border-left: 1px solid gray;box-sizing: border-box;top: 0;bottom: 0;left: 50%;z-index: 0;}#sk-container-id-1 div.sk-serial {display: flex;flex-direction: column;align-items: center;background-color: white;padding-right: 0.2em;padding-left: 0.2em;position: relative;}#sk-container-id-1 div.sk-item {position: relative;z-index: 1;}#sk-container-id-1 div.sk-parallel {display: flex;align-items: stretch;justify-content: center;background-color: white;position: relative;}#sk-container-id-1 div.sk-item::before, #sk-container-id-1 div.sk-parallel-item::before {content: \"\";position: absolute;border-left: 1px solid gray;box-sizing: border-box;top: 0;bottom: 0;left: 50%;z-index: -1;}#sk-container-id-1 div.sk-parallel-item {display: flex;flex-direction: column;z-index: 1;position: relative;background-color: white;}#sk-container-id-1 div.sk-parallel-item:first-child::after {align-self: flex-end;width: 50%;}#sk-container-id-1 div.sk-parallel-item:last-child::after {align-self: flex-start;width: 50%;}#sk-container-id-1 div.sk-parallel-item:only-child::after {width: 0;}#sk-container-id-1 div.sk-dashed-wrapped {border: 1px dashed gray;margin: 0 0.4em 0.5em 0.4em;box-sizing: border-box;padding-bottom: 0.4em;background-color: white;}#sk-container-id-1 div.sk-label label {font-family: monospace;font-weight: bold;display: inline-block;line-height: 1.2em;}#sk-container-id-1 div.sk-label-container {text-align: center;}#sk-container-id-1 div.sk-container {/* jupyter's `normalize.less` sets `[hidden] { display: none; }` but bootstrap.min.css set `[hidden] { display: none !important; }` so we also need the `!important` here to be able to override the default hidden behavior on the sphinx rendered scikit-learn.org. See: https://github.com/scikit-learn/scikit-learn/issues/21755 */display: inline-block !important;position: relative;}#sk-container-id-1 div.sk-text-repr-fallback {display: none;}</style><div id=\"sk-container-id-1\" class=\"sk-top-container\"><div class=\"sk-text-repr-fallback\"><pre>GridSearchCV(cv=5, estimator=GradientBoostingRegressor(loss=&#x27;huber&#x27;),\n",
              "             param_grid={&#x27;learning_rate&#x27;: [0.07, 0.06], &#x27;max_depth&#x27;: [4, 3],\n",
              "                         &#x27;min_samples_leaf&#x27;: [1, 2],\n",
              "                         &#x27;n_estimators&#x27;: [120, 130]})</pre><b>In a Jupyter environment, please rerun this cell to show the HTML representation or trust the notebook. <br />On GitHub, the HTML representation is unable to render, please try loading this page with nbviewer.org.</b></div><div class=\"sk-container\" hidden><div class=\"sk-item sk-dashed-wrapped\"><div class=\"sk-label-container\"><div class=\"sk-label sk-toggleable\"><input class=\"sk-toggleable__control sk-hidden--visually\" id=\"sk-estimator-id-1\" type=\"checkbox\" ><label for=\"sk-estimator-id-1\" class=\"sk-toggleable__label sk-toggleable__label-arrow\">GridSearchCV</label><div class=\"sk-toggleable__content\"><pre>GridSearchCV(cv=5, estimator=GradientBoostingRegressor(loss=&#x27;huber&#x27;),\n",
              "             param_grid={&#x27;learning_rate&#x27;: [0.07, 0.06], &#x27;max_depth&#x27;: [4, 3],\n",
              "                         &#x27;min_samples_leaf&#x27;: [1, 2],\n",
              "                         &#x27;n_estimators&#x27;: [120, 130]})</pre></div></div></div><div class=\"sk-parallel\"><div class=\"sk-parallel-item\"><div class=\"sk-item\"><div class=\"sk-label-container\"><div class=\"sk-label sk-toggleable\"><input class=\"sk-toggleable__control sk-hidden--visually\" id=\"sk-estimator-id-2\" type=\"checkbox\" ><label for=\"sk-estimator-id-2\" class=\"sk-toggleable__label sk-toggleable__label-arrow\">estimator: GradientBoostingRegressor</label><div class=\"sk-toggleable__content\"><pre>GradientBoostingRegressor(loss=&#x27;huber&#x27;)</pre></div></div></div><div class=\"sk-serial\"><div class=\"sk-item\"><div class=\"sk-estimator sk-toggleable\"><input class=\"sk-toggleable__control sk-hidden--visually\" id=\"sk-estimator-id-3\" type=\"checkbox\" ><label for=\"sk-estimator-id-3\" class=\"sk-toggleable__label sk-toggleable__label-arrow\">GradientBoostingRegressor</label><div class=\"sk-toggleable__content\"><pre>GradientBoostingRegressor(loss=&#x27;huber&#x27;)</pre></div></div></div></div></div></div></div></div></div></div>"
            ]
          },
          "metadata": {},
          "execution_count": 18
        }
      ]
    },
    {
      "cell_type": "code",
      "source": [
        "print(f\"Model Best Score : {grid_search.best_score_}\")\n",
        "print(f\"Model Best Estimator : {grid_search.best_estimator_}\")\n",
        "print(f\"Model Best Parameters : {grid_search.best_params_}\")"
      ],
      "metadata": {
        "id": "xuyYdHHQVorn",
        "colab": {
          "base_uri": "https://localhost:8080/"
        },
        "outputId": "1b6e9908-ee03-463e-e078-4ba10f467a1d"
      },
      "execution_count": null,
      "outputs": [
        {
          "output_type": "stream",
          "name": "stdout",
          "text": [
            "Model Best Score : 0.968997154939564\n",
            "Model Best Estimator : GradientBoostingRegressor(learning_rate=0.06, loss='huber', n_estimators=130)\n",
            "Model Best Parameters : {'learning_rate': 0.06, 'max_depth': 3, 'min_samples_leaf': 1, 'n_estimators': 130}\n"
          ]
        }
      ]
    },
    {
      "cell_type": "code",
      "source": [
        "best_rf_model = grid_search.best_estimator_"
      ],
      "metadata": {
        "id": "RCsQoE779HMG"
      },
      "execution_count": null,
      "outputs": []
    },
    {
      "cell_type": "code",
      "source": [
        "# best_rf_model = joblib.load(\"/content/drive/MyDrive/Colab Notebooks/01 Omdena/Bahrain - Crypto/Saved Models/BTC/grb_btc.pkl\")"
      ],
      "metadata": {
        "id": "TcFKO3rY1uM8"
      },
      "execution_count": null,
      "outputs": []
    },
    {
      "cell_type": "code",
      "source": [
        "# Plot Actual vs Prediction\n",
        "\n",
        "train_rf = train_rf.copy() # This avoids a warning\n",
        "\n",
        "train_rf['Predicted_close'] = best_rf_model.predict(X_train)\n",
        "\n",
        "train_rf[['close','Predicted_close']].plot(figsize=(15, 5));"
      ],
      "metadata": {
        "id": "gIcZquBYV2O7",
        "colab": {
          "base_uri": "https://localhost:8080/",
          "height": 440
        },
        "outputId": "2ea8fea1-ee32-4fb3-b066-4f7ee511814a"
      },
      "execution_count": null,
      "outputs": [
        {
          "output_type": "display_data",
          "data": {
            "text/plain": [
              "<Figure size 1500x500 with 1 Axes>"
            ],
            "image/png": "[encoded data removed]"
          },
          "metadata": {}
        }
      ]
    },
    {
      "cell_type": "code",
      "source": [
        "test_rf = test_rf.copy() # This avoids a warning\n",
        "\n",
        "test_rf['Forecast_GBR'] = best_rf_model.predict(X_test)\n",
        "\n",
        "overall_data = pd.concat([train_rf, test_rf], sort=False)\n",
        "\n",
        "# Plot whole timeframe\n",
        "\n",
        "overall_data[['close', 'Forecast_GBR']].plot(figsize=(15, 5));"
      ],
      "metadata": {
        "id": "ZZ5b0q0wWTSm",
        "colab": {
          "base_uri": "https://localhost:8080/",
          "height": 440
        },
        "outputId": "a0f226ee-f7df-4bed-ef96-affc2d592193"
      },
      "execution_count": null,
      "outputs": [
        {
          "output_type": "display_data",
          "data": {
            "text/plain": [
              "<Figure size 1500x500 with 1 Axes>"
            ],
            "image/png": "[encoded data removed]"
          },
          "metadata": {}
        }
      ]
    },
    {
      "cell_type": "code",
      "source": [
        "#save your model or results\n",
        "\n",
        "joblib.dump(best_rf_model, \"/content/drive/MyDrive/Colab Notebooks/01 Omdena/Bahrain - Crypto/Saved Models/BTC/gbr_btc.pkl\")"
      ],
      "metadata": {
        "id": "WylKonC_Zy6P",
        "colab": {
          "base_uri": "https://localhost:8080/"
        },
        "outputId": "26db356e-50d5-4423-b1c1-a963d63bdf7d"
      },
      "execution_count": null,
      "outputs": [
        {
          "output_type": "execute_result",
          "data": {
            "text/plain": [
              "['/content/drive/MyDrive/Colab Notebooks/01 Omdena/Bahrain - Crypto/Saved Models/BTC/gbr_btc.pkl']"
            ]
          },
          "metadata": {},
          "execution_count": 24
        }
      ]
    },
    {
      "cell_type": "code",
      "source": [
        "#load your model for further usage\n",
        "\n",
        "# best_rf_model = joblib.load(\"/content/drive/MyDrive/Colab Notebooks/01 Omdena/Bahrain - Crypto/Saved Models/ETH/gbr_btc.pkl\")"
      ],
      "metadata": {
        "id": "Sd15LkDiYdST"
      },
      "execution_count": null,
      "outputs": []
    },
    {
      "cell_type": "code",
      "source": [
        "# Results GBR Model\n",
        "\n",
        "test_mae_rf = round(mean_absolute_error(test_rf['close'], test_rf['Forecast_GBR']))\n",
        "test_rmse_rf = round(np.sqrt(mean_squared_error(test_rf['close'], test_rf['Forecast_GBR'])))\n",
        "test_r2_rf = r2_score(test_rf['close'], test_rf['Forecast_GBR'])\n",
        "\n",
        "print(f\"test MAE GBR : {test_mae_rf}\")\n",
        "print(f\"test RMSE GBR : {test_rmse_rf}\")\n",
        "print(f\"test R2 GBR : {test_r2_rf}\")"
      ],
      "metadata": {
        "colab": {
          "base_uri": "https://localhost:8080/"
        },
        "id": "fm1pP9iB9VSM",
        "outputId": "81cea29a-dbd5-4285-f45b-3deaa4d67f7c"
      },
      "execution_count": null,
      "outputs": [
        {
          "output_type": "stream",
          "name": "stdout",
          "text": [
            "test MAE GBR : 107\n",
            "test RMSE GBR : 148\n",
            "test R2 GBR : 0.9988219285793174\n"
          ]
        }
      ]
    },
    {
      "cell_type": "markdown",
      "source": [
        "## Results Modeling"
      ],
      "metadata": {
        "id": "tj3o2yPh-cN3"
      }
    },
    {
      "cell_type": "code",
      "source": [
        "# Overall Results\n",
        "\n",
        "results = {\n",
        "    \"METRIC\": [\"MAE\", \"RMSE\", \"R2\"],\n",
        "    \"GradientBoostingRegressor\": [test_mae_rf, test_rmse_rf, test_r2_rf]\n",
        "}\n",
        "\n",
        "\n",
        "df_results = pd.DataFrame(results).round(1)\n",
        "df_results"
      ],
      "metadata": {
        "id": "ES9WngVh8Nvo",
        "colab": {
          "base_uri": "https://localhost:8080/",
          "height": 143
        },
        "outputId": "a94f7cd5-7969-48a8-b066-f391206377fd"
      },
      "execution_count": null,
      "outputs": [
        {
          "output_type": "execute_result",
          "data": {
            "text/plain": [
              "  METRIC  GradientBoostingRegressor\n",
              "0    MAE                      107.0\n",
              "1   RMSE                      148.0\n",
              "2     R2                        1.0"
            ],
            "text/html": [
              "\n",
              "  <div id=\"df-abc48af6-0b94-4237-b278-843dbd973f8e\">\n",
              "    <div class=\"colab-df-container\">\n",
              "      <div>\n",
              "<style scoped>\n",
              "    .dataframe tbody tr th:only-of-type {\n",
              "        vertical-align: middle;\n",
              "    }\n",
              "\n",
              "    .dataframe tbody tr th {\n",
              "        vertical-align: top;\n",
              "    }\n",
              "\n",
              "    .dataframe thead th {\n",
              "        text-align: right;\n",
              "    }\n",
              "</style>\n",
              "<table border=\"1\" class=\"dataframe\">\n",
              "  <thead>\n",
              "    <tr style=\"text-align: right;\">\n",
              "      <th></th>\n",
              "      <th>METRIC</th>\n",
              "      <th>GradientBoostingRegressor</th>\n",
              "    </tr>\n",
              "  </thead>\n",
              "  <tbody>\n",
              "    <tr>\n",
              "      <th>0</th>\n",
              "      <td>MAE</td>\n",
              "      <td>107.0</td>\n",
              "    </tr>\n",
              "    <tr>\n",
              "      <th>1</th>\n",
              "      <td>RMSE</td>\n",
              "      <td>148.0</td>\n",
              "    </tr>\n",
              "    <tr>\n",
              "      <th>2</th>\n",
              "      <td>R2</td>\n",
              "      <td>1.0</td>\n",
              "    </tr>\n",
              "  </tbody>\n",
              "</table>\n",
              "</div>\n",
              "      <button class=\"colab-df-convert\" onclick=\"convertToInteractive('df-abc48af6-0b94-4237-b278-843dbd973f8e')\"\n",
              "              title=\"Convert this dataframe to an interactive table.\"\n",
              "              style=\"display:none;\">\n",
              "        \n",
              "  <svg xmlns=\"http://www.w3.org/2000/svg\" height=\"24px\"viewBox=\"0 0 24 24\"\n",
              "       width=\"24px\">\n",
              "    <path d=\"M0 0h24v24H0V0z\" fill=\"none\"/>\n",
              "    <path d=\"M18.56 5.44l.94 2.06.94-2.06 2.06-.94-2.06-.94-.94-2.06-.94 2.06-2.06.94zm-11 1L8.5 8.5l.94-2.06 2.06-.94-2.06-.94L8.5 2.5l-.94 2.06-2.06.94zm10 10l.94 2.06.94-2.06 2.06-.94-2.06-.94-.94-2.06-.94 2.06-2.06.94z\"/><path d=\"M17.41 7.96l-1.37-1.37c-.4-.4-.92-.59-1.43-.59-.52 0-1.04.2-1.43.59L10.3 9.45l-7.72 7.72c-.78.78-.78 2.05 0 2.83L4 21.41c.39.39.9.59 1.41.59.51 0 1.02-.2 1.41-.59l7.78-7.78 2.81-2.81c.8-.78.8-2.07 0-2.86zM5.41 20L4 18.59l7.72-7.72 1.47 1.35L5.41 20z\"/>\n",
              "  </svg>\n",
              "      </button>\n",
              "      \n",
              "  <style>\n",
              "    .colab-df-container {\n",
              "      display:flex;\n",
              "      flex-wrap:wrap;\n",
              "      gap: 12px;\n",
              "    }\n",
              "\n",
              "    .colab-df-convert {\n",
              "      background-color: #E8F0FE;\n",
              "      border: none;\n",
              "      border-radius: 50%;\n",
              "      cursor: pointer;\n",
              "      display: none;\n",
              "      fill: #1967D2;\n",
              "      height: 32px;\n",
              "      padding: 0 0 0 0;\n",
              "      width: 32px;\n",
              "    }\n",
              "\n",
              "    .colab-df-convert:hover {\n",
              "      background-color: #E2EBFA;\n",
              "      box-shadow: 0px 1px 2px rgba(60, 64, 67, 0.3), 0px 1px 3px 1px rgba(60, 64, 67, 0.15);\n",
              "      fill: #174EA6;\n",
              "    }\n",
              "\n",
              "    [theme=dark] .colab-df-convert {\n",
              "      background-color: #3B4455;\n",
              "      fill: #D2E3FC;\n",
              "    }\n",
              "\n",
              "    [theme=dark] .colab-df-convert:hover {\n",
              "      background-color: #434B5C;\n",
              "      box-shadow: 0px 1px 3px 1px rgba(0, 0, 0, 0.15);\n",
              "      filter: drop-shadow(0px 1px 2px rgba(0, 0, 0, 0.3));\n",
              "      fill: #FFFFFF;\n",
              "    }\n",
              "  </style>\n",
              "\n",
              "      <script>\n",
              "        const buttonEl =\n",
              "          document.querySelector('#df-abc48af6-0b94-4237-b278-843dbd973f8e button.colab-df-convert');\n",
              "        buttonEl.style.display =\n",
              "          google.colab.kernel.accessAllowed ? 'block' : 'none';\n",
              "\n",
              "        async function convertToInteractive(key) {\n",
              "          const element = document.querySelector('#df-abc48af6-0b94-4237-b278-843dbd973f8e');\n",
              "          const dataTable =\n",
              "            await google.colab.kernel.invokeFunction('convertToInteractive',\n",
              "                                                     [key], {});\n",
              "          if (!dataTable) return;\n",
              "\n",
              "          const docLinkHtml = 'Like what you see? Visit the ' +\n",
              "            '<a target=\"_blank\" href=https://colab.research.google.com/notebooks/data_table.ipynb>data table notebook</a>'\n",
              "            + ' to learn more about interactive tables.';\n",
              "          element.innerHTML = '';\n",
              "          dataTable['output_type'] = 'display_data';\n",
              "          await google.colab.output.renderOutput(dataTable, element);\n",
              "          const docLink = document.createElement('div');\n",
              "          docLink.innerHTML = docLinkHtml;\n",
              "          element.appendChild(docLink);\n",
              "        }\n",
              "      </script>\n",
              "    </div>\n",
              "  </div>\n",
              "  "
            ]
          },
          "metadata": {},
          "execution_count": 30
        }
      ]
    }
  ]
}