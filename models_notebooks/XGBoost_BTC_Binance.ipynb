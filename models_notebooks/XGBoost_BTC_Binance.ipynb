{
 "cells": [
  {
   "cell_type": "markdown",
   "metadata": {
    "id": "cfiJuMV7AjPk"
   },
   "source": [
    "# Import Libraries"
   ]
  },
  {
   "cell_type": "code",
   "execution_count": 1,
   "metadata": {
    "executionInfo": {
     "elapsed": 1364,
     "status": "ok",
     "timestamp": 1688468911067,
     "user": {
      "displayName": "Benito Martin",
      "userId": "08045010802119786323"
     },
     "user_tz": -120
    },
    "id": "BFrpy0jt8WXh"
   },
   "outputs": [],
   "source": [
    "#Load the required libraries\n",
    "\n",
    "import pandas as pd\n",
    "import numpy as np\n",
    "\n",
    "from datetime import datetime\n",
    "\n",
    "import matplotlib.pyplot as plt\n",
    "plt.style.use('seaborn-v0_8-darkgrid')\n",
    "\n",
    "\n",
    "import prophet\n",
    "from prophet import Prophet\n",
    "from prophet.plot import plot_plotly, plot_components_plotly, add_changepoints_to_plot\n",
    "\n",
    "from sklearn.preprocessing import MinMaxScaler\n",
    "from sklearn.model_selection import RandomizedSearchCV\n",
    "from sklearn.model_selection import train_test_split\n",
    "from sklearn.metrics import mean_absolute_error, mean_squared_error,r2_score\n",
    "\n",
    "\n",
    "import xgboost as xgb\n",
    "from xgboost import plot_importance, plot_tree\n",
    "\n",
    "import warnings\n",
    "warnings.filterwarnings(\"ignore\")"
   ]
  },
  {
   "cell_type": "markdown",
   "metadata": {
    "id": "rgQgYuXSAoz7"
   },
   "source": [
    "# Import Data"
   ]
  },
  {
   "cell_type": "code",
   "execution_count": 2,
   "metadata": {
    "executionInfo": {
     "elapsed": 22,
     "status": "ok",
     "timestamp": 1688468911067,
     "user": {
      "displayName": "Benito Martin",
      "userId": "08045010802119786323"
     },
     "user_tz": -120
    },
    "id": "HzN89euZ8xfW"
   },
   "outputs": [],
   "source": [
    "bitcoin_df = pd.read_csv(\"../data/BTCUSDT_final_clean.csv\")"
   ]
  },
  {
   "cell_type": "code",
   "execution_count": 3,
   "metadata": {
    "colab": {
     "base_uri": "https://localhost:8080/",
     "height": 206
    },
    "executionInfo": {
     "elapsed": 23,
     "status": "ok",
     "timestamp": 1688468911068,
     "user": {
      "displayName": "Benito Martin",
      "userId": "08045010802119786323"
     },
     "user_tz": -120
    },
    "id": "a2A4FMbpXz2Q",
    "outputId": "9330f97e-fbfb-41c1-bffa-aee357542762"
   },
   "outputs": [
    {
     "data": {
      "text/html": [
       "<div>\n",
       "<style scoped>\n",
       "    .dataframe tbody tr th:only-of-type {\n",
       "        vertical-align: middle;\n",
       "    }\n",
       "\n",
       "    .dataframe tbody tr th {\n",
       "        vertical-align: top;\n",
       "    }\n",
       "\n",
       "    .dataframe thead th {\n",
       "        text-align: right;\n",
       "    }\n",
       "</style>\n",
       "<table border=\"1\" class=\"dataframe\">\n",
       "  <thead>\n",
       "    <tr style=\"text-align: right;\">\n",
       "      <th></th>\n",
       "      <th>date</th>\n",
       "      <th>open</th>\n",
       "      <th>high</th>\n",
       "      <th>low</th>\n",
       "      <th>close</th>\n",
       "      <th>volume</th>\n",
       "      <th>quote_volume</th>\n",
       "      <th>count</th>\n",
       "      <th>taker_buy_volume</th>\n",
       "      <th>taker_buy_quote_volume</th>\n",
       "    </tr>\n",
       "  </thead>\n",
       "  <tbody>\n",
       "    <tr>\n",
       "      <th>0</th>\n",
       "      <td>2020-01-01 00:00:00</td>\n",
       "      <td>7195.24</td>\n",
       "      <td>7196.25</td>\n",
       "      <td>7175.46</td>\n",
       "      <td>7177.02</td>\n",
       "      <td>511.814901</td>\n",
       "      <td>3.675857e+06</td>\n",
       "      <td>7640.0</td>\n",
       "      <td>226.153126</td>\n",
       "      <td>1.624289e+06</td>\n",
       "    </tr>\n",
       "    <tr>\n",
       "      <th>1</th>\n",
       "      <td>2020-01-01 01:00:00</td>\n",
       "      <td>7176.47</td>\n",
       "      <td>7230.00</td>\n",
       "      <td>7175.71</td>\n",
       "      <td>7216.27</td>\n",
       "      <td>883.052603</td>\n",
       "      <td>6.365953e+06</td>\n",
       "      <td>9033.0</td>\n",
       "      <td>570.721419</td>\n",
       "      <td>4.114804e+06</td>\n",
       "    </tr>\n",
       "    <tr>\n",
       "      <th>2</th>\n",
       "      <td>2020-01-01 02:00:00</td>\n",
       "      <td>7215.52</td>\n",
       "      <td>7244.87</td>\n",
       "      <td>7211.41</td>\n",
       "      <td>7242.85</td>\n",
       "      <td>655.156809</td>\n",
       "      <td>4.736719e+06</td>\n",
       "      <td>7466.0</td>\n",
       "      <td>357.180263</td>\n",
       "      <td>2.582514e+06</td>\n",
       "    </tr>\n",
       "    <tr>\n",
       "      <th>3</th>\n",
       "      <td>2020-01-01 03:00:00</td>\n",
       "      <td>7242.66</td>\n",
       "      <td>7245.00</td>\n",
       "      <td>7220.00</td>\n",
       "      <td>7225.01</td>\n",
       "      <td>783.724867</td>\n",
       "      <td>5.667367e+06</td>\n",
       "      <td>8337.0</td>\n",
       "      <td>394.810811</td>\n",
       "      <td>2.854987e+06</td>\n",
       "    </tr>\n",
       "    <tr>\n",
       "      <th>4</th>\n",
       "      <td>2020-01-01 04:00:00</td>\n",
       "      <td>7225.00</td>\n",
       "      <td>7230.00</td>\n",
       "      <td>7215.03</td>\n",
       "      <td>7217.27</td>\n",
       "      <td>467.812578</td>\n",
       "      <td>3.379094e+06</td>\n",
       "      <td>5896.0</td>\n",
       "      <td>243.514706</td>\n",
       "      <td>1.759053e+06</td>\n",
       "    </tr>\n",
       "  </tbody>\n",
       "</table>\n",
       "</div>"
      ],
      "text/plain": [
       "                  date     open     high      low    close      volume  \\\n",
       "0  2020-01-01 00:00:00  7195.24  7196.25  7175.46  7177.02  511.814901   \n",
       "1  2020-01-01 01:00:00  7176.47  7230.00  7175.71  7216.27  883.052603   \n",
       "2  2020-01-01 02:00:00  7215.52  7244.87  7211.41  7242.85  655.156809   \n",
       "3  2020-01-01 03:00:00  7242.66  7245.00  7220.00  7225.01  783.724867   \n",
       "4  2020-01-01 04:00:00  7225.00  7230.00  7215.03  7217.27  467.812578   \n",
       "\n",
       "   quote_volume   count  taker_buy_volume  taker_buy_quote_volume  \n",
       "0  3.675857e+06  7640.0        226.153126            1.624289e+06  \n",
       "1  6.365953e+06  9033.0        570.721419            4.114804e+06  \n",
       "2  4.736719e+06  7466.0        357.180263            2.582514e+06  \n",
       "3  5.667367e+06  8337.0        394.810811            2.854987e+06  \n",
       "4  3.379094e+06  5896.0        243.514706            1.759053e+06  "
      ]
     },
     "execution_count": 3,
     "metadata": {},
     "output_type": "execute_result"
    }
   ],
   "source": [
    "bitcoin_df.head()"
   ]
  },
  {
   "cell_type": "markdown",
   "metadata": {
    "id": "VtonmnjpZgov"
   },
   "source": [
    "Here's a breakdown of each feature:\n",
    "\n",
    "- **date**: This represents the opening time \n",
    "- **open**: This refers to the opening price of the trading instrument at the given period.\n",
    "\n",
    "- **high**: This represents the highest price reached by the trading instrument during the specified period.\n",
    "\n",
    "- **low**: This denotes the lowest price reached by the trading instrument during the specified period.\n",
    "\n",
    "- **close**: This indicates the closing price of the trading instrument at the given period.\n",
    "\n",
    "- **volume**: This refers to the total volume, typically the quantity of the trading instrument, traded during the specified period.\n",
    "\n",
    "\n",
    "- **quote_volume**: This refers to the total volume in terms of the quote asset. The quote asset is the asset used to determine the value of the trading instrument.\n",
    "\n",
    "- **count**: This represents the number of trades that occurred during the specified period.\n",
    "\n",
    "- **taker_buy_volume**: This denotes the volume of the quote asset bought by takers (market takers) during the specified period.\n",
    "\n",
    "- **taker_buy_quote_volume**: This represents the volume of the base asset bought by takers (market takers) during the specified period."
   ]
  },
  {
   "cell_type": "code",
   "execution_count": 4,
   "metadata": {
    "colab": {
     "base_uri": "https://localhost:8080/"
    },
    "executionInfo": {
     "elapsed": 21,
     "status": "ok",
     "timestamp": 1688468911068,
     "user": {
      "displayName": "Benito Martin",
      "userId": "08045010802119786323"
     },
     "user_tz": -120
    },
    "id": "1GliFMaDQmFP",
    "outputId": "db3395e7-2cdd-41fc-d321-9ab1affe904b"
   },
   "outputs": [
    {
     "name": "stdout",
     "output_type": "stream",
     "text": [
      "<class 'pandas.core.frame.DataFrame'>\n",
      "RangeIndex: 29928 entries, 0 to 29927\n",
      "Data columns (total 10 columns):\n",
      " #   Column                  Non-Null Count  Dtype  \n",
      "---  ------                  --------------  -----  \n",
      " 0   date                    29928 non-null  object \n",
      " 1   open                    29928 non-null  float64\n",
      " 2   high                    29928 non-null  float64\n",
      " 3   low                     29928 non-null  float64\n",
      " 4   close                   29928 non-null  float64\n",
      " 5   volume                  29928 non-null  float64\n",
      " 6   quote_volume            29928 non-null  float64\n",
      " 7   count                   29928 non-null  float64\n",
      " 8   taker_buy_volume        29928 non-null  float64\n",
      " 9   taker_buy_quote_volume  29928 non-null  float64\n",
      "dtypes: float64(9), object(1)\n",
      "memory usage: 2.3+ MB\n"
     ]
    }
   ],
   "source": [
    "bitcoin_df.info()"
   ]
  },
  {
   "cell_type": "markdown",
   "metadata": {
    "id": "BB929Pzb7UuB"
   },
   "source": [
    "# Datetime Conversion"
   ]
  },
  {
   "cell_type": "code",
   "execution_count": 5,
   "metadata": {
    "executionInfo": {
     "elapsed": 18,
     "status": "ok",
     "timestamp": 1688468911069,
     "user": {
      "displayName": "Benito Martin",
      "userId": "08045010802119786323"
     },
     "user_tz": -120
    },
    "id": "LwvDyF2UQn32"
   },
   "outputs": [],
   "source": [
    "# Converting the Date column from object to datetime\n",
    "bitcoin_df[[\"date\"]] = bitcoin_df[[\"date\"]].apply(pd.to_datetime)"
   ]
  },
  {
   "cell_type": "code",
   "execution_count": 6,
   "metadata": {
    "colab": {
     "base_uri": "https://localhost:8080/"
    },
    "executionInfo": {
     "elapsed": 18,
     "status": "ok",
     "timestamp": 1688468911069,
     "user": {
      "displayName": "Benito Martin",
      "userId": "08045010802119786323"
     },
     "user_tz": -120
    },
    "id": "IpHWXzQBRZg0",
    "outputId": "ec2b483d-5fc6-413c-de7e-bffdf25ea1c7"
   },
   "outputs": [
    {
     "name": "stdout",
     "output_type": "stream",
     "text": [
      "<class 'pandas.core.frame.DataFrame'>\n",
      "RangeIndex: 29928 entries, 0 to 29927\n",
      "Data columns (total 10 columns):\n",
      " #   Column                  Non-Null Count  Dtype         \n",
      "---  ------                  --------------  -----         \n",
      " 0   date                    29928 non-null  datetime64[ns]\n",
      " 1   open                    29928 non-null  float64       \n",
      " 2   high                    29928 non-null  float64       \n",
      " 3   low                     29928 non-null  float64       \n",
      " 4   close                   29928 non-null  float64       \n",
      " 5   volume                  29928 non-null  float64       \n",
      " 6   quote_volume            29928 non-null  float64       \n",
      " 7   count                   29928 non-null  float64       \n",
      " 8   taker_buy_volume        29928 non-null  float64       \n",
      " 9   taker_buy_quote_volume  29928 non-null  float64       \n",
      "dtypes: datetime64[ns](1), float64(9)\n",
      "memory usage: 2.3 MB\n"
     ]
    }
   ],
   "source": [
    "bitcoin_df.info()"
   ]
  },
  {
   "cell_type": "markdown",
   "metadata": {
    "id": "wUgpj4Q2_gUn"
   },
   "source": [
    "# Modeling"
   ]
  },
  {
   "cell_type": "code",
   "execution_count": 7,
   "metadata": {
    "colab": {
     "base_uri": "https://localhost:8080/"
    },
    "executionInfo": {
     "elapsed": 15,
     "status": "ok",
     "timestamp": 1688468911070,
     "user": {
      "displayName": "Benito Martin",
      "userId": "08045010802119786323"
     },
     "user_tz": -120
    },
    "id": "0foqlIn_frTk",
    "outputId": "88b92ffe-6254-48eb-d94a-e27241658929"
   },
   "outputs": [
    {
     "data": {
      "text/plain": [
       "(29928, 10)"
      ]
     },
     "execution_count": 7,
     "metadata": {},
     "output_type": "execute_result"
    }
   ],
   "source": [
    "bitcoin_df.shape"
   ]
  },
  {
   "cell_type": "code",
   "execution_count": 8,
   "metadata": {
    "colab": {
     "base_uri": "https://localhost:8080/"
    },
    "executionInfo": {
     "elapsed": 14,
     "status": "ok",
     "timestamp": 1688468911070,
     "user": {
      "displayName": "Benito Martin",
      "userId": "08045010802119786323"
     },
     "user_tz": -120
    },
    "id": "wSaPwFHVT9hR",
    "outputId": "85fb4ab1-0491-467d-d0f2-1953c85b0ee9"
   },
   "outputs": [
    {
     "name": "stdout",
     "output_type": "stream",
     "text": [
      "(23942, 7)\n",
      "(5986, 7)\n",
      "(23942,)\n",
      "(5986,)\n"
     ]
    }
   ],
   "source": [
    "# Train Test Split\n",
    "\n",
    "columns = ['open', 'high', 'low', 'volume', 'quote_volume', 'taker_buy_volume', 'taker_buy_quote_volume']\n",
    "\n",
    "X = bitcoin_df[columns]\n",
    "y = bitcoin_df['close']\n",
    "\n",
    "X_train, X_test, y_train, y_test = train_test_split(X, y, test_size=0.2, shuffle=False)\n",
    "\n",
    "print(X_train.shape)\n",
    "print(X_test.shape)\n",
    "print(y_train.shape)\n",
    "print(y_test.shape)"
   ]
  },
  {
   "cell_type": "code",
   "execution_count": 9,
   "metadata": {
    "executionInfo": {
     "elapsed": 12,
     "status": "ok",
     "timestamp": 1688468911070,
     "user": {
      "displayName": "Benito Martin",
      "userId": "08045010802119786323"
     },
     "user_tz": -120
    },
    "id": "fMtJXo3fRqwA"
   },
   "outputs": [],
   "source": [
    "# Modelling\n",
    "\n",
    "regressor = xgb.XGBRegressor()\n",
    "\n",
    "params={\n",
    "        \"learning_rate\"    : [0.05, 0.10, 0.15, 0.20, 0.25, 0.30],\n",
    "        \"max_depth\"        : [1, 3, 4, 5, 6, 7],\n",
    "        \"n_estimators\"     : [int(x) for x in np.linspace(start=100, stop=2000, num=10)],\n",
    "        \"min_child_weight\" : [int(x) for x in np.arange(3, 15, 1)],\n",
    "        \"gamma\"            : [ 0.0, 0.1, 0.2 , 0.3, 0.4, 0.5, 0.6, 0.7, 0.8, 0.9, 1],\n",
    "        \"subsample\"        : [0.1, 0.2, 0.3, 0.4, 0.5, 0.6, 0.7, 0.8, 0.9, 1],\n",
    "        \"colsample_bytree\" : [0.5, 0.6, 0.7, 0.8, 0.9, 1],\n",
    "        \"colsample_bylevel\": [0.5, 0.6, 0.7, 0.8, 0.9, 1],\n",
    "\n",
    "}"
   ]
  },
  {
   "cell_type": "code",
   "execution_count": 10,
   "metadata": {
    "executionInfo": {
     "elapsed": 12,
     "status": "ok",
     "timestamp": 1688468911071,
     "user": {
      "displayName": "Benito Martin",
      "userId": "08045010802119786323"
     },
     "user_tz": -120
    },
    "id": "dg3p9nZbRqzm"
   },
   "outputs": [],
   "source": [
    "model = RandomizedSearchCV(regressor,\n",
    "                            param_distributions=params,\n",
    "                            n_iter=10,\n",
    "                            n_jobs=-1,\n",
    "                            cv=5,\n",
    "                            verbose=3)"
   ]
  },
  {
   "cell_type": "code",
   "execution_count": 11,
   "metadata": {
    "colab": {
     "base_uri": "https://localhost:8080/",
     "height": 135
    },
    "executionInfo": {
     "elapsed": 340589,
     "status": "ok",
     "timestamp": 1688469251648,
     "user": {
      "displayName": "Benito Martin",
      "userId": "08045010802119786323"
     },
     "user_tz": -120
    },
    "id": "frRUNaVXUxtU",
    "outputId": "fbf08f9a-fda8-40a7-ff8d-f1de47039325"
   },
   "outputs": [
    {
     "name": "stdout",
     "output_type": "stream",
     "text": [
      "Fitting 5 folds for each of 10 candidates, totalling 50 fits\n"
     ]
    },
    {
     "data": {
      "text/html": [
       "<style>#sk-container-id-1 {color: black;}#sk-container-id-1 pre{padding: 0;}#sk-container-id-1 div.sk-toggleable {background-color: white;}#sk-container-id-1 label.sk-toggleable__label {cursor: pointer;display: block;width: 100%;margin-bottom: 0;padding: 0.3em;box-sizing: border-box;text-align: center;}#sk-container-id-1 label.sk-toggleable__label-arrow:before {content: \"▸\";float: left;margin-right: 0.25em;color: #696969;}#sk-container-id-1 label.sk-toggleable__label-arrow:hover:before {color: black;}#sk-container-id-1 div.sk-estimator:hover label.sk-toggleable__label-arrow:before {color: black;}#sk-container-id-1 div.sk-toggleable__content {max-height: 0;max-width: 0;overflow: hidden;text-align: left;background-color: #f0f8ff;}#sk-container-id-1 div.sk-toggleable__content pre {margin: 0.2em;color: black;border-radius: 0.25em;background-color: #f0f8ff;}#sk-container-id-1 input.sk-toggleable__control:checked~div.sk-toggleable__content {max-height: 200px;max-width: 100%;overflow: auto;}#sk-container-id-1 input.sk-toggleable__control:checked~label.sk-toggleable__label-arrow:before {content: \"▾\";}#sk-container-id-1 div.sk-estimator input.sk-toggleable__control:checked~label.sk-toggleable__label {background-color: #d4ebff;}#sk-container-id-1 div.sk-label input.sk-toggleable__control:checked~label.sk-toggleable__label {background-color: #d4ebff;}#sk-container-id-1 input.sk-hidden--visually {border: 0;clip: rect(1px 1px 1px 1px);clip: rect(1px, 1px, 1px, 1px);height: 1px;margin: -1px;overflow: hidden;padding: 0;position: absolute;width: 1px;}#sk-container-id-1 div.sk-estimator {font-family: monospace;background-color: #f0f8ff;border: 1px dotted black;border-radius: 0.25em;box-sizing: border-box;margin-bottom: 0.5em;}#sk-container-id-1 div.sk-estimator:hover {background-color: #d4ebff;}#sk-container-id-1 div.sk-parallel-item::after {content: \"\";width: 100%;border-bottom: 1px solid gray;flex-grow: 1;}#sk-container-id-1 div.sk-label:hover label.sk-toggleable__label {background-color: #d4ebff;}#sk-container-id-1 div.sk-serial::before {content: \"\";position: absolute;border-left: 1px solid gray;box-sizing: border-box;top: 0;bottom: 0;left: 50%;z-index: 0;}#sk-container-id-1 div.sk-serial {display: flex;flex-direction: column;align-items: center;background-color: white;padding-right: 0.2em;padding-left: 0.2em;position: relative;}#sk-container-id-1 div.sk-item {position: relative;z-index: 1;}#sk-container-id-1 div.sk-parallel {display: flex;align-items: stretch;justify-content: center;background-color: white;position: relative;}#sk-container-id-1 div.sk-item::before, #sk-container-id-1 div.sk-parallel-item::before {content: \"\";position: absolute;border-left: 1px solid gray;box-sizing: border-box;top: 0;bottom: 0;left: 50%;z-index: -1;}#sk-container-id-1 div.sk-parallel-item {display: flex;flex-direction: column;z-index: 1;position: relative;background-color: white;}#sk-container-id-1 div.sk-parallel-item:first-child::after {align-self: flex-end;width: 50%;}#sk-container-id-1 div.sk-parallel-item:last-child::after {align-self: flex-start;width: 50%;}#sk-container-id-1 div.sk-parallel-item:only-child::after {width: 0;}#sk-container-id-1 div.sk-dashed-wrapped {border: 1px dashed gray;margin: 0 0.4em 0.5em 0.4em;box-sizing: border-box;padding-bottom: 0.4em;background-color: white;}#sk-container-id-1 div.sk-label label {font-family: monospace;font-weight: bold;display: inline-block;line-height: 1.2em;}#sk-container-id-1 div.sk-label-container {text-align: center;}#sk-container-id-1 div.sk-container {/* jupyter's `normalize.less` sets `[hidden] { display: none; }` but bootstrap.min.css set `[hidden] { display: none !important; }` so we also need the `!important` here to be able to override the default hidden behavior on the sphinx rendered scikit-learn.org. See: https://github.com/scikit-learn/scikit-learn/issues/21755 */display: inline-block !important;position: relative;}#sk-container-id-1 div.sk-text-repr-fallback {display: none;}</style><div id=\"sk-container-id-1\" class=\"sk-top-container\"><div class=\"sk-text-repr-fallback\"><pre>RandomizedSearchCV(cv=5,\n",
       "                   estimator=XGBRegressor(base_score=None, booster=None,\n",
       "                                          callbacks=None,\n",
       "                                          colsample_bylevel=None,\n",
       "                                          colsample_bynode=None,\n",
       "                                          colsample_bytree=None,\n",
       "                                          early_stopping_rounds=None,\n",
       "                                          enable_categorical=False,\n",
       "                                          eval_metric=None, feature_types=None,\n",
       "                                          gamma=None, gpu_id=None,\n",
       "                                          grow_policy=None,\n",
       "                                          importance_type=None,\n",
       "                                          interaction_constraints=None,\n",
       "                                          learning_rate=...\n",
       "                                                              0.8, 0.9, 1],\n",
       "                                        &#x27;colsample_bytree&#x27;: [0.5, 0.6, 0.7, 0.8,\n",
       "                                                             0.9, 1],\n",
       "                                        &#x27;gamma&#x27;: [0.0, 0.1, 0.2, 0.3, 0.4, 0.5,\n",
       "                                                  0.6, 0.7, 0.8, 0.9, 1],\n",
       "                                        &#x27;learning_rate&#x27;: [0.05, 0.1, 0.15, 0.2,\n",
       "                                                          0.25, 0.3],\n",
       "                                        &#x27;max_depth&#x27;: [1, 3, 4, 5, 6, 7],\n",
       "                                        &#x27;min_child_weight&#x27;: [3, 4, 5, 6, 7, 8,\n",
       "                                                             9, 10, 11, 12, 13,\n",
       "                                                             14],\n",
       "                                        &#x27;n_estimators&#x27;: [100, 311, 522, 733,\n",
       "                                                         944, 1155, 1366, 1577,\n",
       "                                                         1788, 2000],\n",
       "                                        &#x27;subsample&#x27;: [0.1, 0.2, 0.3, 0.4, 0.5,\n",
       "                                                      0.6, 0.7, 0.8, 0.9, 1]},\n",
       "                   verbose=3)</pre><b>In a Jupyter environment, please rerun this cell to show the HTML representation or trust the notebook. <br />On GitHub, the HTML representation is unable to render, please try loading this page with nbviewer.org.</b></div><div class=\"sk-container\" hidden><div class=\"sk-item sk-dashed-wrapped\"><div class=\"sk-label-container\"><div class=\"sk-label sk-toggleable\"><input class=\"sk-toggleable__control sk-hidden--visually\" id=\"sk-estimator-id-1\" type=\"checkbox\" ><label for=\"sk-estimator-id-1\" class=\"sk-toggleable__label sk-toggleable__label-arrow\">RandomizedSearchCV</label><div class=\"sk-toggleable__content\"><pre>RandomizedSearchCV(cv=5,\n",
       "                   estimator=XGBRegressor(base_score=None, booster=None,\n",
       "                                          callbacks=None,\n",
       "                                          colsample_bylevel=None,\n",
       "                                          colsample_bynode=None,\n",
       "                                          colsample_bytree=None,\n",
       "                                          early_stopping_rounds=None,\n",
       "                                          enable_categorical=False,\n",
       "                                          eval_metric=None, feature_types=None,\n",
       "                                          gamma=None, gpu_id=None,\n",
       "                                          grow_policy=None,\n",
       "                                          importance_type=None,\n",
       "                                          interaction_constraints=None,\n",
       "                                          learning_rate=...\n",
       "                                                              0.8, 0.9, 1],\n",
       "                                        &#x27;colsample_bytree&#x27;: [0.5, 0.6, 0.7, 0.8,\n",
       "                                                             0.9, 1],\n",
       "                                        &#x27;gamma&#x27;: [0.0, 0.1, 0.2, 0.3, 0.4, 0.5,\n",
       "                                                  0.6, 0.7, 0.8, 0.9, 1],\n",
       "                                        &#x27;learning_rate&#x27;: [0.05, 0.1, 0.15, 0.2,\n",
       "                                                          0.25, 0.3],\n",
       "                                        &#x27;max_depth&#x27;: [1, 3, 4, 5, 6, 7],\n",
       "                                        &#x27;min_child_weight&#x27;: [3, 4, 5, 6, 7, 8,\n",
       "                                                             9, 10, 11, 12, 13,\n",
       "                                                             14],\n",
       "                                        &#x27;n_estimators&#x27;: [100, 311, 522, 733,\n",
       "                                                         944, 1155, 1366, 1577,\n",
       "                                                         1788, 2000],\n",
       "                                        &#x27;subsample&#x27;: [0.1, 0.2, 0.3, 0.4, 0.5,\n",
       "                                                      0.6, 0.7, 0.8, 0.9, 1]},\n",
       "                   verbose=3)</pre></div></div></div><div class=\"sk-parallel\"><div class=\"sk-parallel-item\"><div class=\"sk-item\"><div class=\"sk-label-container\"><div class=\"sk-label sk-toggleable\"><input class=\"sk-toggleable__control sk-hidden--visually\" id=\"sk-estimator-id-2\" type=\"checkbox\" ><label for=\"sk-estimator-id-2\" class=\"sk-toggleable__label sk-toggleable__label-arrow\">estimator: XGBRegressor</label><div class=\"sk-toggleable__content\"><pre>XGBRegressor(base_score=None, booster=None, callbacks=None,\n",
       "             colsample_bylevel=None, colsample_bynode=None,\n",
       "             colsample_bytree=None, early_stopping_rounds=None,\n",
       "             enable_categorical=False, eval_metric=None, feature_types=None,\n",
       "             gamma=None, gpu_id=None, grow_policy=None, importance_type=None,\n",
       "             interaction_constraints=None, learning_rate=None, max_bin=None,\n",
       "             max_cat_threshold=None, max_cat_to_onehot=None,\n",
       "             max_delta_step=None, max_depth=None, max_leaves=None,\n",
       "             min_child_weight=None, missing=nan, monotone_constraints=None,\n",
       "             n_estimators=100, n_jobs=None, num_parallel_tree=None,\n",
       "             predictor=None, random_state=None, ...)</pre></div></div></div><div class=\"sk-serial\"><div class=\"sk-item\"><div class=\"sk-estimator sk-toggleable\"><input class=\"sk-toggleable__control sk-hidden--visually\" id=\"sk-estimator-id-3\" type=\"checkbox\" ><label for=\"sk-estimator-id-3\" class=\"sk-toggleable__label sk-toggleable__label-arrow\">XGBRegressor</label><div class=\"sk-toggleable__content\"><pre>XGBRegressor(base_score=None, booster=None, callbacks=None,\n",
       "             colsample_bylevel=None, colsample_bynode=None,\n",
       "             colsample_bytree=None, early_stopping_rounds=None,\n",
       "             enable_categorical=False, eval_metric=None, feature_types=None,\n",
       "             gamma=None, gpu_id=None, grow_policy=None, importance_type=None,\n",
       "             interaction_constraints=None, learning_rate=None, max_bin=None,\n",
       "             max_cat_threshold=None, max_cat_to_onehot=None,\n",
       "             max_delta_step=None, max_depth=None, max_leaves=None,\n",
       "             min_child_weight=None, missing=nan, monotone_constraints=None,\n",
       "             n_estimators=100, n_jobs=None, num_parallel_tree=None,\n",
       "             predictor=None, random_state=None, ...)</pre></div></div></div></div></div></div></div></div></div></div>"
      ],
      "text/plain": [
       "RandomizedSearchCV(cv=5,\n",
       "                   estimator=XGBRegressor(base_score=None, booster=None,\n",
       "                                          callbacks=None,\n",
       "                                          colsample_bylevel=None,\n",
       "                                          colsample_bynode=None,\n",
       "                                          colsample_bytree=None,\n",
       "                                          early_stopping_rounds=None,\n",
       "                                          enable_categorical=False,\n",
       "                                          eval_metric=None, feature_types=None,\n",
       "                                          gamma=None, gpu_id=None,\n",
       "                                          grow_policy=None,\n",
       "                                          importance_type=None,\n",
       "                                          interaction_constraints=None,\n",
       "                                          learning_rate=...\n",
       "                                                              0.8, 0.9, 1],\n",
       "                                        'colsample_bytree': [0.5, 0.6, 0.7, 0.8,\n",
       "                                                             0.9, 1],\n",
       "                                        'gamma': [0.0, 0.1, 0.2, 0.3, 0.4, 0.5,\n",
       "                                                  0.6, 0.7, 0.8, 0.9, 1],\n",
       "                                        'learning_rate': [0.05, 0.1, 0.15, 0.2,\n",
       "                                                          0.25, 0.3],\n",
       "                                        'max_depth': [1, 3, 4, 5, 6, 7],\n",
       "                                        'min_child_weight': [3, 4, 5, 6, 7, 8,\n",
       "                                                             9, 10, 11, 12, 13,\n",
       "                                                             14],\n",
       "                                        'n_estimators': [100, 311, 522, 733,\n",
       "                                                         944, 1155, 1366, 1577,\n",
       "                                                         1788, 2000],\n",
       "                                        'subsample': [0.1, 0.2, 0.3, 0.4, 0.5,\n",
       "                                                      0.6, 0.7, 0.8, 0.9, 1]},\n",
       "                   verbose=3)"
      ]
     },
     "execution_count": 11,
     "metadata": {},
     "output_type": "execute_result"
    }
   ],
   "source": [
    "model.fit(X_train, y_train)"
   ]
  },
  {
   "cell_type": "code",
   "execution_count": 12,
   "metadata": {
    "colab": {
     "base_uri": "https://localhost:8080/"
    },
    "executionInfo": {
     "elapsed": 37,
     "status": "ok",
     "timestamp": 1688469251649,
     "user": {
      "displayName": "Benito Martin",
      "userId": "08045010802119786323"
     },
     "user_tz": -120
    },
    "id": "xuyYdHHQVorn",
    "outputId": "e218907a-e738-4cc6-f86a-236df6d8f125"
   },
   "outputs": [
    {
     "name": "stdout",
     "output_type": "stream",
     "text": [
      "Model Best Score : 0.8161663563790637\n",
      "Model Best Stimator : XGBRegressor(base_score=None, booster=None, callbacks=None,\n",
      "             colsample_bylevel=0.6, colsample_bynode=None, colsample_bytree=0.5,\n",
      "             early_stopping_rounds=None, enable_categorical=False,\n",
      "             eval_metric=None, feature_types=None, gamma=0.8, gpu_id=None,\n",
      "             grow_policy=None, importance_type=None,\n",
      "             interaction_constraints=None, learning_rate=0.3, max_bin=None,\n",
      "             max_cat_threshold=None, max_cat_to_onehot=None,\n",
      "             max_delta_step=None, max_depth=4, max_leaves=None,\n",
      "             min_child_weight=6, missing=nan, monotone_constraints=None,\n",
      "             n_estimators=1577, n_jobs=None, num_parallel_tree=None,\n",
      "             predictor=None, random_state=None, ...)\n",
      "Model Best Parameters : {'objective': 'reg:squarederror', 'base_score': None, 'booster': None, 'callbacks': None, 'colsample_bylevel': 0.6, 'colsample_bynode': None, 'colsample_bytree': 0.5, 'early_stopping_rounds': None, 'enable_categorical': False, 'eval_metric': None, 'feature_types': None, 'gamma': 0.8, 'gpu_id': None, 'grow_policy': None, 'importance_type': None, 'interaction_constraints': None, 'learning_rate': 0.3, 'max_bin': None, 'max_cat_threshold': None, 'max_cat_to_onehot': None, 'max_delta_step': None, 'max_depth': 4, 'max_leaves': None, 'min_child_weight': 6, 'missing': nan, 'monotone_constraints': None, 'n_estimators': 1577, 'n_jobs': None, 'num_parallel_tree': None, 'predictor': None, 'random_state': None, 'reg_alpha': None, 'reg_lambda': None, 'sampling_method': None, 'scale_pos_weight': None, 'subsample': 0.4, 'tree_method': None, 'validate_parameters': None, 'verbosity': None}\n"
     ]
    }
   ],
   "source": [
    "print(f\"Model Best Score : {model.best_score_}\")\n",
    "print(f\"Model Best Stimator : {model.best_estimator_}\")\n",
    "print(f\"Model Best Parameters : {model.best_estimator_.get_params()}\")"
   ]
  },
  {
   "cell_type": "code",
   "execution_count": 13,
   "metadata": {
    "executionInfo": {
     "elapsed": 31,
     "status": "ok",
     "timestamp": 1688469251649,
     "user": {
      "displayName": "Benito Martin",
      "userId": "08045010802119786323"
     },
     "user_tz": -120
    },
    "id": "RCsQoE779HMG"
   },
   "outputs": [],
   "source": [
    "best_model = model.best_estimator_"
   ]
  },
  {
   "cell_type": "code",
   "execution_count": 14,
   "metadata": {
    "executionInfo": {
     "elapsed": 30,
     "status": "ok",
     "timestamp": 1688469251649,
     "user": {
      "displayName": "Benito Martin",
      "userId": "08045010802119786323"
     },
     "user_tz": -120
    },
    "id": "P9nlnEc5sZKc"
   },
   "outputs": [],
   "source": [
    "# Load Model\n",
    "\n",
    "# best_model = joblib.load(\"/content/drive/MyDrive/Colab Notebooks/01 Omdena/Bahrain - Crypto/Saved Models/BTC/xg_boost_ran_btc.pkl\")"
   ]
  },
  {
   "cell_type": "code",
   "execution_count": 15,
   "metadata": {
    "colab": {
     "base_uri": "https://localhost:8080/",
     "height": 423
    },
    "executionInfo": {
     "elapsed": 31,
     "status": "ok",
     "timestamp": 1688469251650,
     "user": {
      "displayName": "Benito Martin",
      "userId": "08045010802119786323"
     },
     "user_tz": -120
    },
    "id": "SrbOOZDwjT_1",
    "outputId": "4a9c6a73-346a-44b9-e287-5b002427f574"
   },
   "outputs": [
    {
     "data": {
      "text/html": [
       "<div>\n",
       "<style scoped>\n",
       "    .dataframe tbody tr th:only-of-type {\n",
       "        vertical-align: middle;\n",
       "    }\n",
       "\n",
       "    .dataframe tbody tr th {\n",
       "        vertical-align: top;\n",
       "    }\n",
       "\n",
       "    .dataframe thead th {\n",
       "        text-align: right;\n",
       "    }\n",
       "</style>\n",
       "<table border=\"1\" class=\"dataframe\">\n",
       "  <thead>\n",
       "    <tr style=\"text-align: right;\">\n",
       "      <th></th>\n",
       "      <th>open</th>\n",
       "      <th>high</th>\n",
       "      <th>low</th>\n",
       "      <th>volume</th>\n",
       "      <th>quote_volume</th>\n",
       "      <th>taker_buy_volume</th>\n",
       "      <th>taker_buy_quote_volume</th>\n",
       "      <th>Forecast_XGBoost</th>\n",
       "    </tr>\n",
       "  </thead>\n",
       "  <tbody>\n",
       "    <tr>\n",
       "      <th>23942</th>\n",
       "      <td>19119.78</td>\n",
       "      <td>19140.17</td>\n",
       "      <td>19057.56</td>\n",
       "      <td>10611.83304</td>\n",
       "      <td>2.026860e+08</td>\n",
       "      <td>5438.67906</td>\n",
       "      <td>1.038834e+08</td>\n",
       "      <td>19410.158203</td>\n",
       "    </tr>\n",
       "    <tr>\n",
       "      <th>23943</th>\n",
       "      <td>19085.91</td>\n",
       "      <td>19127.56</td>\n",
       "      <td>19012.49</td>\n",
       "      <td>10809.44926</td>\n",
       "      <td>2.061057e+08</td>\n",
       "      <td>5583.64795</td>\n",
       "      <td>1.064735e+08</td>\n",
       "      <td>19433.449219</td>\n",
       "    </tr>\n",
       "    <tr>\n",
       "      <th>23944</th>\n",
       "      <td>19124.14</td>\n",
       "      <td>19195.00</td>\n",
       "      <td>19080.52</td>\n",
       "      <td>10860.59728</td>\n",
       "      <td>2.076957e+08</td>\n",
       "      <td>5465.74968</td>\n",
       "      <td>1.045341e+08</td>\n",
       "      <td>19021.988281</td>\n",
       "    </tr>\n",
       "    <tr>\n",
       "      <th>23945</th>\n",
       "      <td>19093.65</td>\n",
       "      <td>19173.12</td>\n",
       "      <td>19054.20</td>\n",
       "      <td>8420.20654</td>\n",
       "      <td>1.609225e+08</td>\n",
       "      <td>4192.95450</td>\n",
       "      <td>8.013675e+07</td>\n",
       "      <td>19632.191406</td>\n",
       "    </tr>\n",
       "    <tr>\n",
       "      <th>23946</th>\n",
       "      <td>19085.65</td>\n",
       "      <td>19136.87</td>\n",
       "      <td>19050.03</td>\n",
       "      <td>7357.97517</td>\n",
       "      <td>1.404388e+08</td>\n",
       "      <td>3715.56132</td>\n",
       "      <td>7.092034e+07</td>\n",
       "      <td>19035.181641</td>\n",
       "    </tr>\n",
       "    <tr>\n",
       "      <th>...</th>\n",
       "      <td>...</td>\n",
       "      <td>...</td>\n",
       "      <td>...</td>\n",
       "      <td>...</td>\n",
       "      <td>...</td>\n",
       "      <td>...</td>\n",
       "      <td>...</td>\n",
       "      <td>...</td>\n",
       "    </tr>\n",
       "    <tr>\n",
       "      <th>29923</th>\n",
       "      <td>27037.06</td>\n",
       "      <td>27123.43</td>\n",
       "      <td>27000.20</td>\n",
       "      <td>1064.24189</td>\n",
       "      <td>2.879819e+07</td>\n",
       "      <td>482.38594</td>\n",
       "      <td>1.305342e+07</td>\n",
       "      <td>30575.666016</td>\n",
       "    </tr>\n",
       "    <tr>\n",
       "      <th>29924</th>\n",
       "      <td>27010.57</td>\n",
       "      <td>27116.13</td>\n",
       "      <td>27005.16</td>\n",
       "      <td>835.43916</td>\n",
       "      <td>2.262138e+07</td>\n",
       "      <td>440.84291</td>\n",
       "      <td>1.193703e+07</td>\n",
       "      <td>30889.181641</td>\n",
       "    </tr>\n",
       "    <tr>\n",
       "      <th>29925</th>\n",
       "      <td>27114.19</td>\n",
       "      <td>27119.77</td>\n",
       "      <td>27045.61</td>\n",
       "      <td>644.01902</td>\n",
       "      <td>1.744376e+07</td>\n",
       "      <td>254.03940</td>\n",
       "      <td>6.879695e+06</td>\n",
       "      <td>29749.876953</td>\n",
       "    </tr>\n",
       "    <tr>\n",
       "      <th>29926</th>\n",
       "      <td>27090.78</td>\n",
       "      <td>27193.24</td>\n",
       "      <td>27084.92</td>\n",
       "      <td>999.11868</td>\n",
       "      <td>2.711602e+07</td>\n",
       "      <td>517.76569</td>\n",
       "      <td>1.405207e+07</td>\n",
       "      <td>30869.298828</td>\n",
       "    </tr>\n",
       "    <tr>\n",
       "      <th>29927</th>\n",
       "      <td>27183.97</td>\n",
       "      <td>27299.99</td>\n",
       "      <td>27159.63</td>\n",
       "      <td>1483.72375</td>\n",
       "      <td>4.038319e+07</td>\n",
       "      <td>687.67958</td>\n",
       "      <td>1.871858e+07</td>\n",
       "      <td>26461.382812</td>\n",
       "    </tr>\n",
       "  </tbody>\n",
       "</table>\n",
       "<p>5986 rows × 8 columns</p>\n",
       "</div>"
      ],
      "text/plain": [
       "           open      high       low       volume  quote_volume  \\\n",
       "23942  19119.78  19140.17  19057.56  10611.83304  2.026860e+08   \n",
       "23943  19085.91  19127.56  19012.49  10809.44926  2.061057e+08   \n",
       "23944  19124.14  19195.00  19080.52  10860.59728  2.076957e+08   \n",
       "23945  19093.65  19173.12  19054.20   8420.20654  1.609225e+08   \n",
       "23946  19085.65  19136.87  19050.03   7357.97517  1.404388e+08   \n",
       "...         ...       ...       ...          ...           ...   \n",
       "29923  27037.06  27123.43  27000.20   1064.24189  2.879819e+07   \n",
       "29924  27010.57  27116.13  27005.16    835.43916  2.262138e+07   \n",
       "29925  27114.19  27119.77  27045.61    644.01902  1.744376e+07   \n",
       "29926  27090.78  27193.24  27084.92    999.11868  2.711602e+07   \n",
       "29927  27183.97  27299.99  27159.63   1483.72375  4.038319e+07   \n",
       "\n",
       "       taker_buy_volume  taker_buy_quote_volume  Forecast_XGBoost  \n",
       "23942        5438.67906            1.038834e+08      19410.158203  \n",
       "23943        5583.64795            1.064735e+08      19433.449219  \n",
       "23944        5465.74968            1.045341e+08      19021.988281  \n",
       "23945        4192.95450            8.013675e+07      19632.191406  \n",
       "23946        3715.56132            7.092034e+07      19035.181641  \n",
       "...                 ...                     ...               ...  \n",
       "29923         482.38594            1.305342e+07      30575.666016  \n",
       "29924         440.84291            1.193703e+07      30889.181641  \n",
       "29925         254.03940            6.879695e+06      29749.876953  \n",
       "29926         517.76569            1.405207e+07      30869.298828  \n",
       "29927         687.67958            1.871858e+07      26461.382812  \n",
       "\n",
       "[5986 rows x 8 columns]"
      ]
     },
     "execution_count": 15,
     "metadata": {},
     "output_type": "execute_result"
    }
   ],
   "source": [
    "X_test['Forecast_XGBoost']= best_model.predict(X_test)\n",
    "\n",
    "X_test"
   ]
  },
  {
   "cell_type": "code",
   "execution_count": 16,
   "metadata": {
    "colab": {
     "base_uri": "https://localhost:8080/",
     "height": 423
    },
    "executionInfo": {
     "elapsed": 28,
     "status": "ok",
     "timestamp": 1688469251650,
     "user": {
      "displayName": "Benito Martin",
      "userId": "08045010802119786323"
     },
     "user_tz": -120
    },
    "id": "LHZdHsLWku_5",
    "outputId": "cd162597-9209-4d32-a3bd-f679c4129283"
   },
   "outputs": [
    {
     "data": {
      "text/html": [
       "<div>\n",
       "<style scoped>\n",
       "    .dataframe tbody tr th:only-of-type {\n",
       "        vertical-align: middle;\n",
       "    }\n",
       "\n",
       "    .dataframe tbody tr th {\n",
       "        vertical-align: top;\n",
       "    }\n",
       "\n",
       "    .dataframe thead th {\n",
       "        text-align: right;\n",
       "    }\n",
       "</style>\n",
       "<table border=\"1\" class=\"dataframe\">\n",
       "  <thead>\n",
       "    <tr style=\"text-align: right;\">\n",
       "      <th></th>\n",
       "      <th>date</th>\n",
       "      <th>close</th>\n",
       "      <th>Forecast_XGBoost</th>\n",
       "    </tr>\n",
       "  </thead>\n",
       "  <tbody>\n",
       "    <tr>\n",
       "      <th>23942</th>\n",
       "      <td>2022-09-24 14:00:00</td>\n",
       "      <td>19085.36</td>\n",
       "      <td>19410.158203</td>\n",
       "    </tr>\n",
       "    <tr>\n",
       "      <th>23943</th>\n",
       "      <td>2022-09-24 15:00:00</td>\n",
       "      <td>19124.14</td>\n",
       "      <td>19433.449219</td>\n",
       "    </tr>\n",
       "    <tr>\n",
       "      <th>23944</th>\n",
       "      <td>2022-09-24 16:00:00</td>\n",
       "      <td>19093.86</td>\n",
       "      <td>19021.988281</td>\n",
       "    </tr>\n",
       "    <tr>\n",
       "      <th>23945</th>\n",
       "      <td>2022-09-24 17:00:00</td>\n",
       "      <td>19085.65</td>\n",
       "      <td>19632.191406</td>\n",
       "    </tr>\n",
       "    <tr>\n",
       "      <th>23946</th>\n",
       "      <td>2022-09-24 18:00:00</td>\n",
       "      <td>19128.11</td>\n",
       "      <td>19035.181641</td>\n",
       "    </tr>\n",
       "    <tr>\n",
       "      <th>...</th>\n",
       "      <td>...</td>\n",
       "      <td>...</td>\n",
       "      <td>...</td>\n",
       "    </tr>\n",
       "    <tr>\n",
       "      <th>29923</th>\n",
       "      <td>2023-05-31 19:00:00</td>\n",
       "      <td>27010.57</td>\n",
       "      <td>30575.666016</td>\n",
       "    </tr>\n",
       "    <tr>\n",
       "      <th>29924</th>\n",
       "      <td>2023-05-31 20:00:00</td>\n",
       "      <td>27114.20</td>\n",
       "      <td>30889.181641</td>\n",
       "    </tr>\n",
       "    <tr>\n",
       "      <th>29925</th>\n",
       "      <td>2023-05-31 21:00:00</td>\n",
       "      <td>27090.79</td>\n",
       "      <td>29749.876953</td>\n",
       "    </tr>\n",
       "    <tr>\n",
       "      <th>29926</th>\n",
       "      <td>2023-05-31 22:00:00</td>\n",
       "      <td>27183.98</td>\n",
       "      <td>30869.298828</td>\n",
       "    </tr>\n",
       "    <tr>\n",
       "      <th>29927</th>\n",
       "      <td>2023-05-31 23:00:00</td>\n",
       "      <td>27210.35</td>\n",
       "      <td>26461.382812</td>\n",
       "    </tr>\n",
       "  </tbody>\n",
       "</table>\n",
       "<p>5986 rows × 3 columns</p>\n",
       "</div>"
      ],
      "text/plain": [
       "                     date     close  Forecast_XGBoost\n",
       "23942 2022-09-24 14:00:00  19085.36      19410.158203\n",
       "23943 2022-09-24 15:00:00  19124.14      19433.449219\n",
       "23944 2022-09-24 16:00:00  19093.86      19021.988281\n",
       "23945 2022-09-24 17:00:00  19085.65      19632.191406\n",
       "23946 2022-09-24 18:00:00  19128.11      19035.181641\n",
       "...                   ...       ...               ...\n",
       "29923 2023-05-31 19:00:00  27010.57      30575.666016\n",
       "29924 2023-05-31 20:00:00  27114.20      30889.181641\n",
       "29925 2023-05-31 21:00:00  27090.79      29749.876953\n",
       "29926 2023-05-31 22:00:00  27183.98      30869.298828\n",
       "29927 2023-05-31 23:00:00  27210.35      26461.382812\n",
       "\n",
       "[5986 rows x 3 columns]"
      ]
     },
     "execution_count": 16,
     "metadata": {},
     "output_type": "execute_result"
    }
   ],
   "source": [
    "merged_df = pd.merge(bitcoin_df[[\"date\", \"close\"]], X_test['Forecast_XGBoost'], left_index=True, right_index=True)\n",
    "\n",
    "merged_df"
   ]
  },
  {
   "cell_type": "code",
   "execution_count": 17,
   "metadata": {
    "colab": {
     "base_uri": "https://localhost:8080/",
     "height": 480
    },
    "executionInfo": {
     "elapsed": 1444,
     "status": "ok",
     "timestamp": 1688469422191,
     "user": {
      "displayName": "Benito Martin",
      "userId": "08045010802119786323"
     },
     "user_tz": -120
    },
    "id": "uv-zpuYKk2R_",
    "outputId": "60efd662-676c-4782-e0ab-22bc9b4a4fd7"
   },
   "outputs": [
    {
     "data": {
      "image/png": "[encoded data removed]",
      "text/plain": [
       "<Figure size 1500x500 with 1 Axes>"
      ]
     },
     "metadata": {},
     "output_type": "display_data"
    }
   ],
   "source": [
    "plt.figure(figsize=(15, 5))\n",
    "\n",
    "plt.plot(merged_df['date'], merged_df['Forecast_XGBoost'], label='Forecasted Price')\n",
    "plt.plot(merged_df['date'], merged_df['close'], label='Actual Closing Price')\n",
    "\n",
    "plt.xlabel('Date')\n",
    "plt.ylabel('Price')\n",
    "\n",
    "plt.title('Actual Closing Price vs. Forecasted Price (Hourly)')\n",
    "\n",
    "plt.legend()\n",
    "\n",
    "plt.show()"
   ]
  },
  {
   "cell_type": "code",
   "execution_count": 21,
   "metadata": {
    "colab": {
     "base_uri": "https://localhost:8080/"
    },
    "executionInfo": {
     "elapsed": 14,
     "status": "ok",
     "timestamp": 1688469252796,
     "user": {
      "displayName": "Benito Martin",
      "userId": "08045010802119786323"
     },
     "user_tz": -120
    },
    "id": "fm1pP9iB9VSM",
    "outputId": "a52db86b-7062-407c-f48d-ef4493df1654"
   },
   "outputs": [
    {
     "name": "stdout",
     "output_type": "stream",
     "text": [
      "test MAE XGBOOST : 709\n",
      "test RMSE XGBOOST : 1174\n",
      "test R2 XGBOOST : 0.9308637550506341\n"
     ]
    }
   ],
   "source": [
    "# Results XGBoost Model\n",
    "\n",
    "test_mae_xgboost = round(mean_absolute_error(merged_df['close'], merged_df['Forecast_XGBoost']))\n",
    "test_rmse_xgboost = round(np.sqrt(mean_squared_error(merged_df['close'], merged_df['Forecast_XGBoost'])))\n",
    "test_r2_xgboost = r2_score(merged_df['close'], merged_df['Forecast_XGBoost'])\n",
    "\n",
    "print(f\"test MAE XGBOOST : {test_mae_xgboost}\")\n",
    "print(f\"test RMSE XGBOOST : {test_rmse_xgboost}\")\n",
    "print(f\"test R2 XGBOOST : {test_r2_xgboost}\")"
   ]
  }
 ],
 "metadata": {
  "accelerator": "GPU",
  "colab": {
   "authorship_tag": "ABX9TyMMlaccDQ8qq/tiQol0MrbN",
   "collapsed_sections": [
    "5G3jKhIkEVrE",
    "ZsFo9lg_3ZQg",
    "cfiJuMV7AjPk",
    "rgQgYuXSAoz7",
    "BB929Pzb7UuB",
    "FxZzLs5yRzvL",
    "n7WY3BDOytcF",
    "tj3o2yPh-cN3"
   ],
   "gpuType": "T4",
   "provenance": [
    {
     "file_id": "13Xw99IhvcQB5RzdV7GsTWZYM7qy3NlEJ",
     "timestamp": 1686597829802
    }
   ],
   "toc_visible": true
  },
  "kernelspec": {
   "display_name": "crypto",
   "language": "python",
   "name": "crypto"
  },
  "language_info": {
   "codemirror_mode": {
    "name": "ipython",
    "version": 3
   },
   "file_extension": ".py",
   "mimetype": "text/x-python",
   "name": "python",
   "nbconvert_exporter": "python",
   "pygments_lexer": "ipython3",
   "version": "3.9.17"
  }
 },
 "nbformat": 4,
 "nbformat_minor": 4
}
