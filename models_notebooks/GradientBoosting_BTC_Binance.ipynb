{
 "cells": [
  {
   "cell_type": "markdown",
   "metadata": {
    "id": "cfiJuMV7AjPk"
   },
   "source": [
    "# Import Libraries"
   ]
  },
  {
   "cell_type": "code",
   "execution_count": null,
   "metadata": {
    "id": "BFrpy0jt8WXh"
   },
   "outputs": [],
   "source": [
    "#Load the required libraries\n",
    "\n",
    "import pandas as pd\n",
    "import numpy as np\n",
    "from datetime import datetime\n",
    "\n",
    "import seaborn as sns\n",
    "import matplotlib.pyplot as plt\n",
    "# import plotly.express as px\n",
    "# import plotly.graph_objects as go\n",
    "plt.style.use('seaborn-v0_8-darkgrid')\n",
    "\n",
    "\n",
    "from sklearn.metrics import mean_absolute_error, mean_squared_error,r2_score\n",
    "\n",
    "\n",
    "# from sklearn.preprocessing import MinMaxScaler\n",
    "from sklearn.model_selection import GridSearchCV\n",
    "from sklearn.ensemble import GradientBoostingRegressor\n"
   ]
  },
  {
   "cell_type": "markdown",
   "metadata": {
    "id": "rgQgYuXSAoz7"
   },
   "source": [
    "# Import Data"
   ]
  },
  {
   "cell_type": "code",
   "execution_count": null,
   "metadata": {
    "id": "HzN89euZ8xfW"
   },
   "outputs": [],
   "source": [
    "data_BTC = pd.read_csv(\"../data/BTCUSDT_final_clean.csv\")"
   ]
  },
  {
   "cell_type": "code",
   "execution_count": null,
   "metadata": {
    "colab": {
     "base_uri": "https://localhost:8080/",
     "height": 206
    },
    "id": "a2A4FMbpXz2Q",
    "outputId": "bbd4e0ae-0c95-42a9-ca22-0e8c48f3fd5d"
   },
   "outputs": [],
   "source": [
    "data_BTC.head()"
   ]
  },
  {
   "cell_type": "markdown",
   "metadata": {
    "id": "VtonmnjpZgov"
   },
   "source": [
    "Here's a breakdown of each feature:\n",
    "\n",
    "- **open_time**: This represents the opening time \n",
    "\n",
    "- **open**: This refers to the opening price of the trading instrument at the given period.\n",
    "\n",
    "- **high**: This represents the highest price reached by the trading instrument during the specified period.\n",
    "\n",
    "- **low**: This denotes the lowest price reached by the trading instrument during the specified period.\n",
    "\n",
    "- **close**: This indicates the closing price of the trading instrument at the given period.\n",
    "\n",
    "- **volume**: This refers to the total volume, typically the quantity of the trading instrument, traded during the specified period.\n",
    "\n",
    "- **quote_volume**: This refers to the total volume in terms of the quote asset. The quote asset is the asset used to determine the value of the trading instrument.\n",
    "\n",
    "- **count**: This represents the number of trades that occurred during the specified period.\n",
    "\n",
    "- **taker_buy_volume**: This denotes the volume of the quote asset bought by takers (market takers) during the specified period.\n",
    "\n",
    "- **taker_buy_quote_volume**: This represents the volume of the base asset bought by takers (market takers) during the specified period."
   ]
  },
  {
   "cell_type": "code",
   "execution_count": null,
   "metadata": {
    "id": "HohJ---lhKab"
   },
   "outputs": [],
   "source": [
    "# Renaming the columns to match the name in the previous notebook with bitstamp data so that I do not have to change the whole code\n",
    "data_BTC.rename(columns = {'open_time':'date', 'volume':'Volume'}, inplace = True)"
   ]
  },
  {
   "cell_type": "code",
   "execution_count": null,
   "metadata": {
    "colab": {
     "base_uri": "https://localhost:8080/",
     "height": 206
    },
    "id": "ZMUHxe6UQ_UT",
    "outputId": "1fac7c2f-4a37-4a85-83d7-de5b85d7904a"
   },
   "outputs": [],
   "source": [
    "data_BTC.head()"
   ]
  },
  {
   "cell_type": "code",
   "execution_count": null,
   "metadata": {
    "colab": {
     "base_uri": "https://localhost:8080/"
    },
    "id": "1GliFMaDQmFP",
    "outputId": "2b90e429-18b1-4356-86e4-e22d9e398aec"
   },
   "outputs": [],
   "source": [
    "data_BTC.info()"
   ]
  },
  {
   "cell_type": "code",
   "execution_count": null,
   "metadata": {
    "colab": {
     "base_uri": "https://localhost:8080/",
     "height": 206
    },
    "id": "K6FTgiZJRQC4",
    "outputId": "09114a11-fb64-4a0b-bd43-3495a8d0136c"
   },
   "outputs": [],
   "source": [
    "data_BTC.head()"
   ]
  },
  {
   "cell_type": "markdown",
   "metadata": {
    "id": "aaC8yAQIAuMM"
   },
   "source": [
    "# Datetime Conversion"
   ]
  },
  {
   "cell_type": "code",
   "execution_count": null,
   "metadata": {
    "id": "LwvDyF2UQn32"
   },
   "outputs": [],
   "source": [
    "# Converting the Date column from object to datetime\n",
    "data_BTC[[\"date\"]] = data_BTC[[\"date\"]].apply(pd.to_datetime)"
   ]
  },
  {
   "cell_type": "code",
   "execution_count": null,
   "metadata": {
    "colab": {
     "base_uri": "https://localhost:8080/"
    },
    "id": "IpHWXzQBRZg0",
    "outputId": "a1b5b127-8f17-4adb-e687-d26bed6f2d4f"
   },
   "outputs": [],
   "source": [
    "data_BTC.info()"
   ]
  },
  {
   "cell_type": "markdown",
   "metadata": {
    "id": "wUgpj4Q2_gUn"
   },
   "source": [
    "# Modeling"
   ]
  },
  {
   "cell_type": "code",
   "execution_count": null,
   "metadata": {
    "colab": {
     "base_uri": "https://localhost:8080/"
    },
    "id": "7QunwJxTBitl",
    "outputId": "d690e6eb-9e12-4884-d712-17e01b448eb1"
   },
   "outputs": [],
   "source": [
    "data_BTC.shape"
   ]
  },
  {
   "cell_type": "code",
   "execution_count": null,
   "metadata": {
    "id": "wSaPwFHVT9hR"
   },
   "outputs": [],
   "source": [
    "# Train/Test Split\n",
    "\n",
    "split_date = \"2022-09-01\"\n",
    "\n",
    "train_split = data_BTC['date'] <= split_date\n",
    "test_split = data_BTC['date'] > split_date\n",
    "\n",
    "train_rf = data_BTC[train_split]\n",
    "test_rf = data_BTC[test_split]\n",
    "\n",
    "columns = ['open', 'high', 'low', 'Volume', 'quote_volume', 'taker_buy_volume', 'taker_buy_quote_volume']\n",
    "\n",
    "X_train, y_train = train_rf[columns], train_rf.close\n",
    "X_test, y_test = test_rf[columns], test_rf.close"
   ]
  },
  {
   "cell_type": "code",
   "execution_count": null,
   "metadata": {
    "colab": {
     "base_uri": "https://localhost:8080/",
     "height": 118
    },
    "id": "QLRsG3JW16YT",
    "outputId": "bf29a17a-09fb-4144-cd87-743069ae46e5"
   },
   "outputs": [],
   "source": [
    "### GridSearchCV\n",
    "\n",
    "# Parameters\n",
    "num_estimators = [120, 130]\n",
    "learn_rates = [0.07, 0.06]\n",
    "max_depths = [4, 3]\n",
    "min_samples_leaf = [1,2]\n",
    "\n",
    "# Model\n",
    "regressor = GradientBoostingRegressor(loss='huber')\n",
    "\n",
    "\n",
    "# Param Grid\n",
    "param_grid = {\n",
    "              'n_estimators': num_estimators,\n",
    "              'learning_rate': learn_rates,\n",
    "              'max_depth': max_depths,\n",
    "              'min_samples_leaf': min_samples_leaf,\n",
    "              }\n",
    "\n",
    "# Model Fit\n",
    "grid_search = GridSearchCV(\n",
    "                           regressor,\n",
    "                           param_grid,\n",
    "                           cv=5,\n",
    "                           )\n",
    "\n",
    "grid_search.fit(X_train, y_train)"
   ]
  },
  {
   "cell_type": "code",
   "execution_count": null,
   "metadata": {
    "colab": {
     "base_uri": "https://localhost:8080/"
    },
    "id": "xuyYdHHQVorn",
    "outputId": "1b6e9908-ee03-463e-e078-4ba10f467a1d"
   },
   "outputs": [],
   "source": [
    "print(f\"Model Best Score : {grid_search.best_score_}\")\n",
    "print(f\"Model Best Estimator : {grid_search.best_estimator_}\")\n",
    "print(f\"Model Best Parameters : {grid_search.best_params_}\")"
   ]
  },
  {
   "cell_type": "code",
   "execution_count": null,
   "metadata": {
    "id": "RCsQoE779HMG"
   },
   "outputs": [],
   "source": [
    "best_rf_model = grid_search.best_estimator_"
   ]
  },
  {
   "cell_type": "code",
   "execution_count": null,
   "metadata": {
    "colab": {
     "base_uri": "https://localhost:8080/",
     "height": 440
    },
    "id": "gIcZquBYV2O7",
    "outputId": "2ea8fea1-ee32-4fb3-b066-4f7ee511814a"
   },
   "outputs": [],
   "source": [
    "# Plot Actual vs Prediction\n",
    "\n",
    "train_rf = train_rf.copy() # This avoids a warning\n",
    "\n",
    "train_rf['Predicted_close'] = best_rf_model.predict(X_train)\n",
    "\n",
    "train_rf[['close','Predicted_close']].plot(figsize=(15, 5));"
   ]
  },
  {
   "cell_type": "code",
   "execution_count": null,
   "metadata": {
    "colab": {
     "base_uri": "https://localhost:8080/",
     "height": 440
    },
    "id": "ZZ5b0q0wWTSm",
    "outputId": "a0f226ee-f7df-4bed-ef96-affc2d592193"
   },
   "outputs": [],
   "source": [
    "test_rf = test_rf.copy() # This avoids a warning\n",
    "\n",
    "test_rf['Forecast_GBR'] = best_rf_model.predict(X_test)\n",
    "\n",
    "overall_data = pd.concat([train_rf, test_rf], sort=False)\n",
    "\n",
    "# Plot whole timeframe\n",
    "\n",
    "overall_data[['close', 'Forecast_GBR']].plot(figsize=(15, 5));"
   ]
  },
  {
   "cell_type": "code",
   "execution_count": null,
   "metadata": {
    "colab": {
     "base_uri": "https://localhost:8080/"
    },
    "id": "fm1pP9iB9VSM",
    "outputId": "81cea29a-dbd5-4285-f45b-3deaa4d67f7c"
   },
   "outputs": [],
   "source": [
    "# Results GBR Model\n",
    "\n",
    "test_mae_rf = round(mean_absolute_error(test_rf['close'], test_rf['Forecast_GBR']))\n",
    "test_rmse_rf = round(np.sqrt(mean_squared_error(test_rf['close'], test_rf['Forecast_GBR'])))\n",
    "test_r2_rf = r2_score(test_rf['close'], test_rf['Forecast_GBR'])\n",
    "\n",
    "print(f\"test MAE GBR : {test_mae_rf}\")\n",
    "print(f\"test RMSE GBR : {test_rmse_rf}\")\n",
    "print(f\"test R2 GBR : {test_r2_rf}\")"
   ]
  },
  {
   "cell_type": "markdown",
   "metadata": {
    "id": "tj3o2yPh-cN3"
   },
   "source": [
    "## Results Modeling"
   ]
  },
  {
   "cell_type": "code",
   "execution_count": null,
   "metadata": {
    "colab": {
     "base_uri": "https://localhost:8080/",
     "height": 143
    },
    "id": "ES9WngVh8Nvo",
    "outputId": "a94f7cd5-7969-48a8-b066-f391206377fd"
   },
   "outputs": [],
   "source": [
    "# Overall Results\n",
    "\n",
    "results = {\n",
    "    \"METRIC\": [\"MAE\", \"RMSE\", \"R2\"],\n",
    "    \"GradientBoostingRegressor\": [test_mae_rf, test_rmse_rf, test_r2_rf]\n",
    "}\n",
    "\n",
    "\n",
    "df_results = pd.DataFrame(results).round(1)\n",
    "df_results"
   ]
  }
 ],
 "metadata": {
  "accelerator": "GPU",
  "colab": {
   "gpuType": "T4",
   "provenance": []
  },
  "kernelspec": {
   "display_name": "crypto",
   "language": "python",
   "name": "crypto"
  },
  "language_info": {
   "codemirror_mode": {
    "name": "ipython",
    "version": 3
   },
   "file_extension": ".py",
   "mimetype": "text/x-python",
   "name": "python",
   "nbconvert_exporter": "python",
   "pygments_lexer": "ipython3",
   "version": "3.9.17"
  }
 },
 "nbformat": 4,
 "nbformat_minor": 4
}
