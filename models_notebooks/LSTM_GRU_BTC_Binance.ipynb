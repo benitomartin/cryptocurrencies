{
 "cells": [
  {
   "cell_type": "markdown",
   "metadata": {
    "id": "cfiJuMV7AjPk"
   },
   "source": [
    "# Import Libraries"
   ]
  },
  {
   "cell_type": "code",
   "execution_count": 1,
   "metadata": {
    "executionInfo": {
     "elapsed": 3,
     "status": "ok",
     "timestamp": 1688471517044,
     "user": {
      "displayName": "Benito Martin",
      "userId": "08045010802119786323"
     },
     "user_tz": -120
    },
    "id": "BFrpy0jt8WXh"
   },
   "outputs": [],
   "source": [
    "#Load the required libraries\n",
    "\n",
    "import pandas as pd\n",
    "import numpy as np\n",
    "from datetime import datetime\n",
    "\n",
    "import seaborn as sns\n",
    "import matplotlib.pyplot as plt\n",
    "plt.style.use('seaborn-v0_8-darkgrid')\n",
    "\n",
    "from sklearn.metrics import mean_absolute_error, mean_squared_error,r2_score\n",
    "from sklearn.model_selection import train_test_split\n",
    "from sklearn.preprocessing import MinMaxScaler\n",
    "\n",
    "\n",
    "import tensorflow as tf\n",
    "from keras.models import Sequential,load_model\n",
    "from keras.layers import Dropout, Dense, LSTM, GRU\n",
    "from keras.callbacks import ModelCheckpoint, EarlyStopping, LearningRateScheduler\n",
    "\n",
    "\n",
    "import warnings\n",
    "warnings.filterwarnings(\"ignore\")\n"
   ]
  },
  {
   "cell_type": "markdown",
   "metadata": {
    "id": "rgQgYuXSAoz7"
   },
   "source": [
    "# Import Data"
   ]
  },
  {
   "cell_type": "code",
   "execution_count": 2,
   "metadata": {
    "executionInfo": {
     "elapsed": 1463,
     "status": "ok",
     "timestamp": 1688471461110,
     "user": {
      "displayName": "Benito Martin",
      "userId": "08045010802119786323"
     },
     "user_tz": -120
    },
    "id": "HzN89euZ8xfW"
   },
   "outputs": [],
   "source": [
    "bitcoin_df = pd.read_csv(\"../data/BTCUSDT_final_clean.csv\")"
   ]
  },
  {
   "cell_type": "code",
   "execution_count": 3,
   "metadata": {
    "colab": {
     "base_uri": "https://localhost:8080/",
     "height": 206
    },
    "executionInfo": {
     "elapsed": 23,
     "status": "ok",
     "timestamp": 1688471461111,
     "user": {
      "displayName": "Benito Martin",
      "userId": "08045010802119786323"
     },
     "user_tz": -120
    },
    "id": "a2A4FMbpXz2Q",
    "outputId": "77176e0c-f58e-4813-d861-a94ae2572da1"
   },
   "outputs": [
    {
     "data": {
      "text/html": [
       "<div>\n",
       "<style scoped>\n",
       "    .dataframe tbody tr th:only-of-type {\n",
       "        vertical-align: middle;\n",
       "    }\n",
       "\n",
       "    .dataframe tbody tr th {\n",
       "        vertical-align: top;\n",
       "    }\n",
       "\n",
       "    .dataframe thead th {\n",
       "        text-align: right;\n",
       "    }\n",
       "</style>\n",
       "<table border=\"1\" class=\"dataframe\">\n",
       "  <thead>\n",
       "    <tr style=\"text-align: right;\">\n",
       "      <th></th>\n",
       "      <th>date</th>\n",
       "      <th>open</th>\n",
       "      <th>high</th>\n",
       "      <th>low</th>\n",
       "      <th>close</th>\n",
       "      <th>volume</th>\n",
       "      <th>quote_volume</th>\n",
       "      <th>count</th>\n",
       "      <th>taker_buy_volume</th>\n",
       "      <th>taker_buy_quote_volume</th>\n",
       "    </tr>\n",
       "  </thead>\n",
       "  <tbody>\n",
       "    <tr>\n",
       "      <th>0</th>\n",
       "      <td>2020-01-01 00:00:00</td>\n",
       "      <td>7195.24</td>\n",
       "      <td>7196.25</td>\n",
       "      <td>7175.46</td>\n",
       "      <td>7177.02</td>\n",
       "      <td>511.814901</td>\n",
       "      <td>3.675857e+06</td>\n",
       "      <td>7640.0</td>\n",
       "      <td>226.153126</td>\n",
       "      <td>1.624289e+06</td>\n",
       "    </tr>\n",
       "    <tr>\n",
       "      <th>1</th>\n",
       "      <td>2020-01-01 01:00:00</td>\n",
       "      <td>7176.47</td>\n",
       "      <td>7230.00</td>\n",
       "      <td>7175.71</td>\n",
       "      <td>7216.27</td>\n",
       "      <td>883.052603</td>\n",
       "      <td>6.365953e+06</td>\n",
       "      <td>9033.0</td>\n",
       "      <td>570.721419</td>\n",
       "      <td>4.114804e+06</td>\n",
       "    </tr>\n",
       "    <tr>\n",
       "      <th>2</th>\n",
       "      <td>2020-01-01 02:00:00</td>\n",
       "      <td>7215.52</td>\n",
       "      <td>7244.87</td>\n",
       "      <td>7211.41</td>\n",
       "      <td>7242.85</td>\n",
       "      <td>655.156809</td>\n",
       "      <td>4.736719e+06</td>\n",
       "      <td>7466.0</td>\n",
       "      <td>357.180263</td>\n",
       "      <td>2.582514e+06</td>\n",
       "    </tr>\n",
       "    <tr>\n",
       "      <th>3</th>\n",
       "      <td>2020-01-01 03:00:00</td>\n",
       "      <td>7242.66</td>\n",
       "      <td>7245.00</td>\n",
       "      <td>7220.00</td>\n",
       "      <td>7225.01</td>\n",
       "      <td>783.724867</td>\n",
       "      <td>5.667367e+06</td>\n",
       "      <td>8337.0</td>\n",
       "      <td>394.810811</td>\n",
       "      <td>2.854987e+06</td>\n",
       "    </tr>\n",
       "    <tr>\n",
       "      <th>4</th>\n",
       "      <td>2020-01-01 04:00:00</td>\n",
       "      <td>7225.00</td>\n",
       "      <td>7230.00</td>\n",
       "      <td>7215.03</td>\n",
       "      <td>7217.27</td>\n",
       "      <td>467.812578</td>\n",
       "      <td>3.379094e+06</td>\n",
       "      <td>5896.0</td>\n",
       "      <td>243.514706</td>\n",
       "      <td>1.759053e+06</td>\n",
       "    </tr>\n",
       "  </tbody>\n",
       "</table>\n",
       "</div>"
      ],
      "text/plain": [
       "                  date     open     high      low    close      volume  \\\n",
       "0  2020-01-01 00:00:00  7195.24  7196.25  7175.46  7177.02  511.814901   \n",
       "1  2020-01-01 01:00:00  7176.47  7230.00  7175.71  7216.27  883.052603   \n",
       "2  2020-01-01 02:00:00  7215.52  7244.87  7211.41  7242.85  655.156809   \n",
       "3  2020-01-01 03:00:00  7242.66  7245.00  7220.00  7225.01  783.724867   \n",
       "4  2020-01-01 04:00:00  7225.00  7230.00  7215.03  7217.27  467.812578   \n",
       "\n",
       "   quote_volume   count  taker_buy_volume  taker_buy_quote_volume  \n",
       "0  3.675857e+06  7640.0        226.153126            1.624289e+06  \n",
       "1  6.365953e+06  9033.0        570.721419            4.114804e+06  \n",
       "2  4.736719e+06  7466.0        357.180263            2.582514e+06  \n",
       "3  5.667367e+06  8337.0        394.810811            2.854987e+06  \n",
       "4  3.379094e+06  5896.0        243.514706            1.759053e+06  "
      ]
     },
     "execution_count": 3,
     "metadata": {},
     "output_type": "execute_result"
    }
   ],
   "source": [
    "bitcoin_df.head()"
   ]
  },
  {
   "cell_type": "markdown",
   "metadata": {
    "id": "VtonmnjpZgov"
   },
   "source": [
    "Here's a breakdown of each feature:\n",
    "\n",
    "- **date**: This represents the opening time \n",
    "\n",
    "- **open**: This refers to the opening price of the trading instrument at the given period.\n",
    "\n",
    "- **high**: This represents the highest price reached by the trading instrument during the specified period.\n",
    "\n",
    "- **low**: This denotes the lowest price reached by the trading instrument during the specified period.\n",
    "\n",
    "- **close**: This indicates the closing price of the trading instrument at the given period.\n",
    "\n",
    "- **volume**: This refers to the total volume, typically the quantity of the trading instrument, traded during the specified period.\n",
    "\n",
    "\n",
    "- **quote_volume**: This refers to the total volume in terms of the quote asset. The quote asset is the asset used to determine the value of the trading instrument.\n",
    "\n",
    "- **count**: This represents the number of trades that occurred during the specified period.\n",
    "\n",
    "- **taker_buy_volume**: This denotes the volume of the quote asset bought by takers (market takers) during the specified period.\n",
    "\n",
    "- **taker_buy_quote_volume**: This represents the volume of the base asset bought by takers (market takers) during the specified period."
   ]
  },
  {
   "cell_type": "code",
   "execution_count": 4,
   "metadata": {
    "colab": {
     "base_uri": "https://localhost:8080/"
    },
    "executionInfo": {
     "elapsed": 20,
     "status": "ok",
     "timestamp": 1688471461112,
     "user": {
      "displayName": "Benito Martin",
      "userId": "08045010802119786323"
     },
     "user_tz": -120
    },
    "id": "1GliFMaDQmFP",
    "outputId": "803fa08f-39d3-4915-86c6-4b93e456f97b"
   },
   "outputs": [
    {
     "name": "stdout",
     "output_type": "stream",
     "text": [
      "<class 'pandas.core.frame.DataFrame'>\n",
      "RangeIndex: 29928 entries, 0 to 29927\n",
      "Data columns (total 10 columns):\n",
      " #   Column                  Non-Null Count  Dtype  \n",
      "---  ------                  --------------  -----  \n",
      " 0   date                    29928 non-null  object \n",
      " 1   open                    29928 non-null  float64\n",
      " 2   high                    29928 non-null  float64\n",
      " 3   low                     29928 non-null  float64\n",
      " 4   close                   29928 non-null  float64\n",
      " 5   volume                  29928 non-null  float64\n",
      " 6   quote_volume            29928 non-null  float64\n",
      " 7   count                   29928 non-null  float64\n",
      " 8   taker_buy_volume        29928 non-null  float64\n",
      " 9   taker_buy_quote_volume  29928 non-null  float64\n",
      "dtypes: float64(9), object(1)\n",
      "memory usage: 2.3+ MB\n"
     ]
    }
   ],
   "source": [
    "bitcoin_df.info()"
   ]
  },
  {
   "cell_type": "markdown",
   "metadata": {
    "id": "BB929Pzb7UuB"
   },
   "source": [
    "# Datetime Conversion"
   ]
  },
  {
   "cell_type": "code",
   "execution_count": 5,
   "metadata": {
    "executionInfo": {
     "elapsed": 18,
     "status": "ok",
     "timestamp": 1688471461112,
     "user": {
      "displayName": "Benito Martin",
      "userId": "08045010802119786323"
     },
     "user_tz": -120
    },
    "id": "LwvDyF2UQn32"
   },
   "outputs": [],
   "source": [
    "# Converting the Date column from object to datetime\n",
    "bitcoin_df[[\"date\"]] = bitcoin_df[[\"date\"]].apply(pd.to_datetime)"
   ]
  },
  {
   "cell_type": "code",
   "execution_count": 6,
   "metadata": {
    "colab": {
     "base_uri": "https://localhost:8080/"
    },
    "executionInfo": {
     "elapsed": 18,
     "status": "ok",
     "timestamp": 1688471461113,
     "user": {
      "displayName": "Benito Martin",
      "userId": "08045010802119786323"
     },
     "user_tz": -120
    },
    "id": "IpHWXzQBRZg0",
    "outputId": "afddc6cf-fb90-4e57-c7a7-afc7790185e4"
   },
   "outputs": [
    {
     "name": "stdout",
     "output_type": "stream",
     "text": [
      "<class 'pandas.core.frame.DataFrame'>\n",
      "RangeIndex: 29928 entries, 0 to 29927\n",
      "Data columns (total 10 columns):\n",
      " #   Column                  Non-Null Count  Dtype         \n",
      "---  ------                  --------------  -----         \n",
      " 0   date                    29928 non-null  datetime64[ns]\n",
      " 1   open                    29928 non-null  float64       \n",
      " 2   high                    29928 non-null  float64       \n",
      " 3   low                     29928 non-null  float64       \n",
      " 4   close                   29928 non-null  float64       \n",
      " 5   volume                  29928 non-null  float64       \n",
      " 6   quote_volume            29928 non-null  float64       \n",
      " 7   count                   29928 non-null  float64       \n",
      " 8   taker_buy_volume        29928 non-null  float64       \n",
      " 9   taker_buy_quote_volume  29928 non-null  float64       \n",
      "dtypes: datetime64[ns](1), float64(9)\n",
      "memory usage: 2.3 MB\n"
     ]
    }
   ],
   "source": [
    "bitcoin_df.info()"
   ]
  },
  {
   "cell_type": "markdown",
   "metadata": {
    "id": "wUgpj4Q2_gUn"
   },
   "source": [
    "# Modeling"
   ]
  },
  {
   "cell_type": "code",
   "execution_count": 7,
   "metadata": {
    "colab": {
     "base_uri": "https://localhost:8080/",
     "height": 423
    },
    "executionInfo": {
     "elapsed": 16,
     "status": "ok",
     "timestamp": 1688471461113,
     "user": {
      "displayName": "Benito Martin",
      "userId": "08045010802119786323"
     },
     "user_tz": -120
    },
    "id": "H0KxnYGuiAq8",
    "outputId": "afab942c-7e97-4de7-959a-616c0e04279b"
   },
   "outputs": [
    {
     "data": {
      "text/html": [
       "<div>\n",
       "<style scoped>\n",
       "    .dataframe tbody tr th:only-of-type {\n",
       "        vertical-align: middle;\n",
       "    }\n",
       "\n",
       "    .dataframe tbody tr th {\n",
       "        vertical-align: top;\n",
       "    }\n",
       "\n",
       "    .dataframe thead th {\n",
       "        text-align: right;\n",
       "    }\n",
       "</style>\n",
       "<table border=\"1\" class=\"dataframe\">\n",
       "  <thead>\n",
       "    <tr style=\"text-align: right;\">\n",
       "      <th></th>\n",
       "      <th>date</th>\n",
       "      <th>open</th>\n",
       "      <th>high</th>\n",
       "      <th>low</th>\n",
       "      <th>close</th>\n",
       "      <th>volume</th>\n",
       "    </tr>\n",
       "  </thead>\n",
       "  <tbody>\n",
       "    <tr>\n",
       "      <th>0</th>\n",
       "      <td>2020-01-01 00:00:00</td>\n",
       "      <td>7195.24</td>\n",
       "      <td>7196.25</td>\n",
       "      <td>7175.46</td>\n",
       "      <td>7177.02</td>\n",
       "      <td>511.814901</td>\n",
       "    </tr>\n",
       "    <tr>\n",
       "      <th>1</th>\n",
       "      <td>2020-01-01 01:00:00</td>\n",
       "      <td>7176.47</td>\n",
       "      <td>7230.00</td>\n",
       "      <td>7175.71</td>\n",
       "      <td>7216.27</td>\n",
       "      <td>883.052603</td>\n",
       "    </tr>\n",
       "    <tr>\n",
       "      <th>2</th>\n",
       "      <td>2020-01-01 02:00:00</td>\n",
       "      <td>7215.52</td>\n",
       "      <td>7244.87</td>\n",
       "      <td>7211.41</td>\n",
       "      <td>7242.85</td>\n",
       "      <td>655.156809</td>\n",
       "    </tr>\n",
       "    <tr>\n",
       "      <th>3</th>\n",
       "      <td>2020-01-01 03:00:00</td>\n",
       "      <td>7242.66</td>\n",
       "      <td>7245.00</td>\n",
       "      <td>7220.00</td>\n",
       "      <td>7225.01</td>\n",
       "      <td>783.724867</td>\n",
       "    </tr>\n",
       "    <tr>\n",
       "      <th>4</th>\n",
       "      <td>2020-01-01 04:00:00</td>\n",
       "      <td>7225.00</td>\n",
       "      <td>7230.00</td>\n",
       "      <td>7215.03</td>\n",
       "      <td>7217.27</td>\n",
       "      <td>467.812578</td>\n",
       "    </tr>\n",
       "    <tr>\n",
       "      <th>...</th>\n",
       "      <td>...</td>\n",
       "      <td>...</td>\n",
       "      <td>...</td>\n",
       "      <td>...</td>\n",
       "      <td>...</td>\n",
       "      <td>...</td>\n",
       "    </tr>\n",
       "    <tr>\n",
       "      <th>29923</th>\n",
       "      <td>2023-05-31 19:00:00</td>\n",
       "      <td>27037.06</td>\n",
       "      <td>27123.43</td>\n",
       "      <td>27000.20</td>\n",
       "      <td>27010.57</td>\n",
       "      <td>1064.241890</td>\n",
       "    </tr>\n",
       "    <tr>\n",
       "      <th>29924</th>\n",
       "      <td>2023-05-31 20:00:00</td>\n",
       "      <td>27010.57</td>\n",
       "      <td>27116.13</td>\n",
       "      <td>27005.16</td>\n",
       "      <td>27114.20</td>\n",
       "      <td>835.439160</td>\n",
       "    </tr>\n",
       "    <tr>\n",
       "      <th>29925</th>\n",
       "      <td>2023-05-31 21:00:00</td>\n",
       "      <td>27114.19</td>\n",
       "      <td>27119.77</td>\n",
       "      <td>27045.61</td>\n",
       "      <td>27090.79</td>\n",
       "      <td>644.019020</td>\n",
       "    </tr>\n",
       "    <tr>\n",
       "      <th>29926</th>\n",
       "      <td>2023-05-31 22:00:00</td>\n",
       "      <td>27090.78</td>\n",
       "      <td>27193.24</td>\n",
       "      <td>27084.92</td>\n",
       "      <td>27183.98</td>\n",
       "      <td>999.118680</td>\n",
       "    </tr>\n",
       "    <tr>\n",
       "      <th>29927</th>\n",
       "      <td>2023-05-31 23:00:00</td>\n",
       "      <td>27183.97</td>\n",
       "      <td>27299.99</td>\n",
       "      <td>27159.63</td>\n",
       "      <td>27210.35</td>\n",
       "      <td>1483.723750</td>\n",
       "    </tr>\n",
       "  </tbody>\n",
       "</table>\n",
       "<p>29928 rows × 6 columns</p>\n",
       "</div>"
      ],
      "text/plain": [
       "                     date      open      high       low     close       volume\n",
       "0     2020-01-01 00:00:00   7195.24   7196.25   7175.46   7177.02   511.814901\n",
       "1     2020-01-01 01:00:00   7176.47   7230.00   7175.71   7216.27   883.052603\n",
       "2     2020-01-01 02:00:00   7215.52   7244.87   7211.41   7242.85   655.156809\n",
       "3     2020-01-01 03:00:00   7242.66   7245.00   7220.00   7225.01   783.724867\n",
       "4     2020-01-01 04:00:00   7225.00   7230.00   7215.03   7217.27   467.812578\n",
       "...                   ...       ...       ...       ...       ...          ...\n",
       "29923 2023-05-31 19:00:00  27037.06  27123.43  27000.20  27010.57  1064.241890\n",
       "29924 2023-05-31 20:00:00  27010.57  27116.13  27005.16  27114.20   835.439160\n",
       "29925 2023-05-31 21:00:00  27114.19  27119.77  27045.61  27090.79   644.019020\n",
       "29926 2023-05-31 22:00:00  27090.78  27193.24  27084.92  27183.98   999.118680\n",
       "29927 2023-05-31 23:00:00  27183.97  27299.99  27159.63  27210.35  1483.723750\n",
       "\n",
       "[29928 rows x 6 columns]"
      ]
     },
     "execution_count": 7,
     "metadata": {},
     "output_type": "execute_result"
    }
   ],
   "source": [
    "bitcoin_df = bitcoin_df.drop(columns=[\"count\", \"quote_volume\", \"taker_buy_volume\", \"taker_buy_quote_volume\"])\n",
    "bitcoin_df"
   ]
  },
  {
   "cell_type": "code",
   "execution_count": 8,
   "metadata": {
    "colab": {
     "base_uri": "https://localhost:8080/"
    },
    "executionInfo": {
     "elapsed": 16,
     "status": "ok",
     "timestamp": 1688471461114,
     "user": {
      "displayName": "Benito Martin",
      "userId": "08045010802119786323"
     },
     "user_tz": -120
    },
    "id": "t-xB1zK0C0mG",
    "outputId": "3e3ca4dd-a44a-4c36-a0f0-1f0ab657bc78"
   },
   "outputs": [
    {
     "data": {
      "text/plain": [
       "(29928, 6)"
      ]
     },
     "execution_count": 8,
     "metadata": {},
     "output_type": "execute_result"
    }
   ],
   "source": [
    "bitcoin_df.shape"
   ]
  },
  {
   "cell_type": "markdown",
   "metadata": {
    "id": "CQgrA2va4Jzx"
   },
   "source": [
    "### Preprocessing"
   ]
  },
  {
   "cell_type": "code",
   "execution_count": 9,
   "metadata": {
    "executionInfo": {
     "elapsed": 256,
     "status": "ok",
     "timestamp": 1688476073042,
     "user": {
      "displayName": "Benito Martin",
      "userId": "08045010802119786323"
     },
     "user_tz": -120
    },
    "id": "zNTdIRLv0TgR"
   },
   "outputs": [],
   "source": [
    "# Scaling\n",
    "\n",
    "scaler = MinMaxScaler()\n",
    "\n",
    "scaled_close = scaler.fit_transform(bitcoin_df['close'].values.reshape(-1, 1))\n",
    "\n",
    "\n",
    "# Creating Sequences and 3-D as requered for LSTM\n",
    "\n",
    "seq_len = 100\n",
    "\n",
    "def create_sequences(data, seq_len):\n",
    "    sequences = []\n",
    "\n",
    "    for i in range(len(data) - seq_len):\n",
    "        sequences.append(data[i:i+seq_len])\n",
    "\n",
    "    return np.array(sequences)\n",
    "\n",
    "def preprocess_data(data_raw, seq_len, train_split):\n",
    "    sequences = create_sequences(data_raw, seq_len)\n",
    "\n",
    "    num_train = int(train_split * sequences.shape[0])\n",
    "\n",
    "    X_train = sequences[:num_train, :-1, :]\n",
    "    y_train = sequences[:num_train, -1, :]\n",
    "\n",
    "    X_test = sequences[num_train:, :-1, :]\n",
    "    y_test = sequences[num_train:, -1, :]\n",
    "\n",
    "    return X_train, y_train, X_test, y_test\n",
    "\n",
    "X_train, y_train, X_test, y_test = preprocess_data(scaled_close, seq_len, train_split=0.8)\n"
   ]
  },
  {
   "cell_type": "code",
   "execution_count": 10,
   "metadata": {
    "colab": {
     "base_uri": "https://localhost:8080/"
    },
    "executionInfo": {
     "elapsed": 249,
     "status": "ok",
     "timestamp": 1688471527544,
     "user": {
      "displayName": "Benito Martin",
      "userId": "08045010802119786323"
     },
     "user_tz": -120
    },
    "id": "XNBTUeaXreni",
    "outputId": "f27e49e7-2af8-4898-ca34-80d1d35cb251"
   },
   "outputs": [
    {
     "data": {
      "text/plain": [
       "(23862, 99, 1)"
      ]
     },
     "execution_count": 10,
     "metadata": {},
     "output_type": "execute_result"
    }
   ],
   "source": [
    "X_train.shape"
   ]
  },
  {
   "cell_type": "code",
   "execution_count": 11,
   "metadata": {
    "colab": {
     "base_uri": "https://localhost:8080/"
    },
    "executionInfo": {
     "elapsed": 230,
     "status": "ok",
     "timestamp": 1688471528991,
     "user": {
      "displayName": "Benito Martin",
      "userId": "08045010802119786323"
     },
     "user_tz": -120
    },
    "id": "4IOoiN3pUUgO",
    "outputId": "8ae626b0-8b40-497e-cd16-175a7e89de72"
   },
   "outputs": [
    {
     "data": {
      "text/plain": [
       "(5966, 99, 1)"
      ]
     },
     "execution_count": 11,
     "metadata": {},
     "output_type": "execute_result"
    }
   ],
   "source": [
    "X_test.shape"
   ]
  },
  {
   "cell_type": "markdown",
   "metadata": {
    "id": "Yhhv26c34YTW"
   },
   "source": [
    "### Training"
   ]
  },
  {
   "cell_type": "code",
   "execution_count": 12,
   "metadata": {
    "id": "2OUNXvdiFmwZ"
   },
   "outputs": [
    {
     "name": "stdout",
     "output_type": "stream",
     "text": [
      "Epoch 1/100\n",
      "149/150 [============================>.] - ETA: 0s - loss: 0.2489\n",
      "Epoch 1: val_loss improved from inf to 0.16317, saving model to LSTM_best_model.hdf5\n",
      "150/150 [==============================] - 26s 151ms/step - loss: 0.2489 - val_loss: 0.1632 - lr: 1.0000e-08\n",
      "Epoch 2/100\n",
      "150/150 [==============================] - ETA: 0s - loss: 0.2490\n",
      "Epoch 2: val_loss improved from 0.16317 to 0.16304, saving model to LSTM_best_model.hdf5\n",
      "150/150 [==============================] - 20s 134ms/step - loss: 0.2490 - val_loss: 0.1630 - lr: 1.1220e-08\n",
      "Epoch 3/100\n",
      "150/150 [==============================] - ETA: 0s - loss: 0.2487\n",
      "Epoch 3: val_loss improved from 0.16304 to 0.16291, saving model to LSTM_best_model.hdf5\n",
      "150/150 [==============================] - 20s 132ms/step - loss: 0.2487 - val_loss: 0.1629 - lr: 1.2589e-08\n",
      "Epoch 4/100\n",
      "150/150 [==============================] - ETA: 0s - loss: 0.2485\n",
      "Epoch 4: val_loss improved from 0.16291 to 0.16276, saving model to LSTM_best_model.hdf5\n",
      "150/150 [==============================] - 22s 148ms/step - loss: 0.2485 - val_loss: 0.1628 - lr: 1.4125e-08\n",
      "Epoch 5/100\n",
      "149/150 [============================>.] - ETA: 0s - loss: 0.2483\n",
      "Epoch 5: val_loss improved from 0.16276 to 0.16260, saving model to LSTM_best_model.hdf5\n",
      "150/150 [==============================] - 21s 138ms/step - loss: 0.2483 - val_loss: 0.1626 - lr: 1.5849e-08\n",
      "Epoch 6/100\n",
      "149/150 [============================>.] - ETA: 0s - loss: 0.2481\n",
      "Epoch 6: val_loss improved from 0.16260 to 0.16242, saving model to LSTM_best_model.hdf5\n",
      "150/150 [==============================] - 20s 136ms/step - loss: 0.2481 - val_loss: 0.1624 - lr: 1.7783e-08\n",
      "Epoch 7/100\n",
      "149/150 [============================>.] - ETA: 0s - loss: 0.2478\n",
      "Epoch 7: val_loss improved from 0.16242 to 0.16222, saving model to LSTM_best_model.hdf5\n",
      "150/150 [==============================] - 20s 132ms/step - loss: 0.2478 - val_loss: 0.1622 - lr: 1.9953e-08\n",
      "Epoch 8/100\n",
      "150/150 [==============================] - ETA: 0s - loss: 0.2478\n",
      "Epoch 8: val_loss improved from 0.16222 to 0.16199, saving model to LSTM_best_model.hdf5\n",
      "150/150 [==============================] - 20s 130ms/step - loss: 0.2478 - val_loss: 0.1620 - lr: 2.2387e-08\n",
      "Epoch 9/100\n",
      "149/150 [============================>.] - ETA: 0s - loss: 0.2472\n",
      "Epoch 9: val_loss improved from 0.16199 to 0.16172, saving model to LSTM_best_model.hdf5\n",
      "150/150 [==============================] - 19s 128ms/step - loss: 0.2472 - val_loss: 0.1617 - lr: 2.5119e-08\n",
      "Epoch 10/100\n",
      "149/150 [============================>.] - ETA: 0s - loss: 0.2472\n",
      "Epoch 10: val_loss improved from 0.16172 to 0.16143, saving model to LSTM_best_model.hdf5\n",
      "150/150 [==============================] - 19s 130ms/step - loss: 0.2471 - val_loss: 0.1614 - lr: 2.8184e-08\n",
      "Epoch 11/100\n",
      "149/150 [============================>.] - ETA: 0s - loss: 0.2465\n",
      "Epoch 11: val_loss improved from 0.16143 to 0.16111, saving model to LSTM_best_model.hdf5\n",
      "150/150 [==============================] - 20s 132ms/step - loss: 0.2465 - val_loss: 0.1611 - lr: 3.1623e-08\n",
      "Epoch 12/100\n",
      "149/150 [============================>.] - ETA: 0s - loss: 0.2458\n",
      "Epoch 12: val_loss improved from 0.16111 to 0.16075, saving model to LSTM_best_model.hdf5\n",
      "150/150 [==============================] - 19s 128ms/step - loss: 0.2459 - val_loss: 0.1607 - lr: 3.5481e-08\n",
      "Epoch 13/100\n",
      "149/150 [============================>.] - ETA: 0s - loss: 0.2456\n",
      "Epoch 13: val_loss improved from 0.16075 to 0.16034, saving model to LSTM_best_model.hdf5\n",
      "150/150 [==============================] - 20s 132ms/step - loss: 0.2456 - val_loss: 0.1603 - lr: 3.9811e-08\n",
      "Epoch 14/100\n",
      "149/150 [============================>.] - ETA: 0s - loss: 0.2447\n",
      "Epoch 14: val_loss improved from 0.16034 to 0.15988, saving model to LSTM_best_model.hdf5\n",
      "150/150 [==============================] - 19s 130ms/step - loss: 0.2447 - val_loss: 0.1599 - lr: 4.4668e-08\n",
      "Epoch 15/100\n",
      "149/150 [============================>.] - ETA: 0s - loss: 0.2442\n",
      "Epoch 15: val_loss improved from 0.15988 to 0.15937, saving model to LSTM_best_model.hdf5\n",
      "150/150 [==============================] - 19s 128ms/step - loss: 0.2442 - val_loss: 0.1594 - lr: 5.0119e-08\n",
      "Epoch 16/100\n",
      "150/150 [==============================] - ETA: 0s - loss: 0.2436\n",
      "Epoch 16: val_loss improved from 0.15937 to 0.15879, saving model to LSTM_best_model.hdf5\n",
      "150/150 [==============================] - 19s 129ms/step - loss: 0.2436 - val_loss: 0.1588 - lr: 5.6234e-08\n",
      "Epoch 17/100\n",
      "149/150 [============================>.] - ETA: 0s - loss: 0.2429\n",
      "Epoch 17: val_loss improved from 0.15879 to 0.15816, saving model to LSTM_best_model.hdf5\n",
      "150/150 [==============================] - 20s 132ms/step - loss: 0.2429 - val_loss: 0.1582 - lr: 6.3096e-08\n",
      "Epoch 18/100\n",
      "149/150 [============================>.] - ETA: 0s - loss: 0.2420\n",
      "Epoch 18: val_loss improved from 0.15816 to 0.15744, saving model to LSTM_best_model.hdf5\n",
      "150/150 [==============================] - 19s 130ms/step - loss: 0.2420 - val_loss: 0.1574 - lr: 7.0795e-08\n",
      "Epoch 19/100\n",
      "150/150 [==============================] - ETA: 0s - loss: 0.2407\n",
      "Epoch 19: val_loss improved from 0.15744 to 0.15664, saving model to LSTM_best_model.hdf5\n",
      "150/150 [==============================] - 19s 128ms/step - loss: 0.2407 - val_loss: 0.1566 - lr: 7.9433e-08\n",
      "Epoch 20/100\n",
      "150/150 [==============================] - ETA: 0s - loss: 0.2396\n",
      "Epoch 20: val_loss improved from 0.15664 to 0.15574, saving model to LSTM_best_model.hdf5\n",
      "150/150 [==============================] - 20s 133ms/step - loss: 0.2396 - val_loss: 0.1557 - lr: 8.9125e-08\n",
      "Epoch 21/100\n",
      "149/150 [============================>.] - ETA: 0s - loss: 0.2384\n",
      "Epoch 21: val_loss improved from 0.15574 to 0.15473, saving model to LSTM_best_model.hdf5\n",
      "150/150 [==============================] - 19s 128ms/step - loss: 0.2384 - val_loss: 0.1547 - lr: 1.0000e-07\n",
      "Epoch 22/100\n",
      "149/150 [============================>.] - ETA: 0s - loss: 0.2370\n",
      "Epoch 22: val_loss improved from 0.15473 to 0.15362, saving model to LSTM_best_model.hdf5\n",
      "150/150 [==============================] - 19s 128ms/step - loss: 0.2370 - val_loss: 0.1536 - lr: 1.1220e-07\n",
      "Epoch 23/100\n",
      "149/150 [============================>.] - ETA: 0s - loss: 0.2353\n",
      "Epoch 23: val_loss improved from 0.15362 to 0.15237, saving model to LSTM_best_model.hdf5\n",
      "150/150 [==============================] - 19s 127ms/step - loss: 0.2353 - val_loss: 0.1524 - lr: 1.2589e-07\n",
      "Epoch 24/100\n",
      "149/150 [============================>.] - ETA: 0s - loss: 0.2335\n",
      "Epoch 24: val_loss improved from 0.15237 to 0.15098, saving model to LSTM_best_model.hdf5\n",
      "150/150 [==============================] - 19s 129ms/step - loss: 0.2335 - val_loss: 0.1510 - lr: 1.4125e-07\n",
      "Epoch 25/100\n",
      "149/150 [============================>.] - ETA: 0s - loss: 0.2314\n",
      "Epoch 25: val_loss improved from 0.15098 to 0.14942, saving model to LSTM_best_model.hdf5\n",
      "150/150 [==============================] - 19s 127ms/step - loss: 0.2314 - val_loss: 0.1494 - lr: 1.5849e-07\n",
      "Epoch 26/100\n",
      "149/150 [============================>.] - ETA: 0s - loss: 0.2292\n",
      "Epoch 26: val_loss improved from 0.14942 to 0.14770, saving model to LSTM_best_model.hdf5\n",
      "150/150 [==============================] - 19s 128ms/step - loss: 0.2292 - val_loss: 0.1477 - lr: 1.7783e-07\n",
      "Epoch 27/100\n",
      "149/150 [============================>.] - ETA: 0s - loss: 0.2268\n",
      "Epoch 27: val_loss improved from 0.14770 to 0.14578, saving model to LSTM_best_model.hdf5\n",
      "150/150 [==============================] - 20s 134ms/step - loss: 0.2267 - val_loss: 0.1458 - lr: 1.9953e-07\n",
      "Epoch 28/100\n",
      "149/150 [============================>.] - ETA: 0s - loss: 0.2240\n",
      "Epoch 28: val_loss improved from 0.14578 to 0.14364, saving model to LSTM_best_model.hdf5\n",
      "150/150 [==============================] - 20s 131ms/step - loss: 0.2241 - val_loss: 0.1436 - lr: 2.2387e-07\n",
      "Epoch 29/100\n",
      "150/150 [==============================] - ETA: 0s - loss: 0.2211\n",
      "Epoch 29: val_loss improved from 0.14364 to 0.14126, saving model to LSTM_best_model.hdf5\n",
      "150/150 [==============================] - 20s 136ms/step - loss: 0.2211 - val_loss: 0.1413 - lr: 2.5119e-07\n",
      "Epoch 30/100\n",
      "150/150 [==============================] - ETA: 0s - loss: 0.2178\n",
      "Epoch 30: val_loss improved from 0.14126 to 0.13863, saving model to LSTM_best_model.hdf5\n",
      "150/150 [==============================] - 20s 136ms/step - loss: 0.2178 - val_loss: 0.1386 - lr: 2.8184e-07\n",
      "Epoch 31/100\n",
      "150/150 [==============================] - ETA: 0s - loss: 0.2140\n",
      "Epoch 31: val_loss improved from 0.13863 to 0.13570, saving model to LSTM_best_model.hdf5\n",
      "150/150 [==============================] - 21s 140ms/step - loss: 0.2140 - val_loss: 0.1357 - lr: 3.1623e-07\n",
      "Epoch 32/100\n",
      "150/150 [==============================] - ETA: 0s - loss: 0.2095\n",
      "Epoch 32: val_loss improved from 0.13570 to 0.13246, saving model to LSTM_best_model.hdf5\n",
      "150/150 [==============================] - 21s 139ms/step - loss: 0.2095 - val_loss: 0.1325 - lr: 3.5481e-07\n",
      "Epoch 33/100\n",
      "149/150 [============================>.] - ETA: 0s - loss: 0.2049\n",
      "Epoch 33: val_loss improved from 0.13246 to 0.12888, saving model to LSTM_best_model.hdf5\n",
      "150/150 [==============================] - 20s 134ms/step - loss: 0.2049 - val_loss: 0.1289 - lr: 3.9811e-07\n",
      "Epoch 34/100\n",
      "149/150 [============================>.] - ETA: 0s - loss: 0.2000\n",
      "Epoch 34: val_loss improved from 0.12888 to 0.12492, saving model to LSTM_best_model.hdf5\n",
      "150/150 [==============================] - 20s 135ms/step - loss: 0.1999 - val_loss: 0.1249 - lr: 4.4668e-07\n",
      "Epoch 35/100\n",
      "149/150 [============================>.] - ETA: 0s - loss: 0.1945\n",
      "Epoch 35: val_loss improved from 0.12492 to 0.12056, saving model to LSTM_best_model.hdf5\n",
      "150/150 [==============================] - 21s 137ms/step - loss: 0.1944 - val_loss: 0.1206 - lr: 5.0119e-07\n",
      "Epoch 36/100\n",
      "149/150 [============================>.] - ETA: 0s - loss: 0.1879\n",
      "Epoch 36: val_loss improved from 0.12056 to 0.11577, saving model to LSTM_best_model.hdf5\n",
      "150/150 [==============================] - 20s 134ms/step - loss: 0.1879 - val_loss: 0.1158 - lr: 5.6234e-07\n",
      "Epoch 37/100\n",
      "150/150 [==============================] - ETA: 0s - loss: 0.1811\n",
      "Epoch 37: val_loss improved from 0.11577 to 0.11047, saving model to LSTM_best_model.hdf5\n",
      "150/150 [==============================] - 20s 135ms/step - loss: 0.1811 - val_loss: 0.1105 - lr: 6.3096e-07\n",
      "Epoch 38/100\n",
      "149/150 [============================>.] - ETA: 0s - loss: 0.1735\n",
      "Epoch 38: val_loss improved from 0.11047 to 0.10468, saving model to LSTM_best_model.hdf5\n",
      "150/150 [==============================] - 20s 136ms/step - loss: 0.1734 - val_loss: 0.1047 - lr: 7.0795e-07\n",
      "Epoch 39/100\n",
      "150/150 [==============================] - ETA: 0s - loss: 0.1652\n",
      "Epoch 39: val_loss improved from 0.10468 to 0.09838, saving model to LSTM_best_model.hdf5\n",
      "150/150 [==============================] - 21s 139ms/step - loss: 0.1652 - val_loss: 0.0984 - lr: 7.9433e-07\n",
      "Epoch 40/100\n",
      "149/150 [============================>.] - ETA: 0s - loss: 0.1559\n",
      "Epoch 40: val_loss improved from 0.09838 to 0.09148, saving model to LSTM_best_model.hdf5\n",
      "150/150 [==============================] - 19s 128ms/step - loss: 0.1559 - val_loss: 0.0915 - lr: 8.9125e-07\n",
      "Epoch 41/100\n",
      "150/150 [==============================] - ETA: 0s - loss: 0.1460\n",
      "Epoch 41: val_loss improved from 0.09148 to 0.08401, saving model to LSTM_best_model.hdf5\n",
      "150/150 [==============================] - 20s 130ms/step - loss: 0.1460 - val_loss: 0.0840 - lr: 1.0000e-06\n",
      "Epoch 42/100\n",
      "150/150 [==============================] - ETA: 0s - loss: 0.1352\n",
      "Epoch 42: val_loss improved from 0.08401 to 0.07593, saving model to LSTM_best_model.hdf5\n",
      "150/150 [==============================] - 19s 129ms/step - loss: 0.1352 - val_loss: 0.0759 - lr: 1.1220e-06\n",
      "Epoch 43/100\n",
      "149/150 [============================>.] - ETA: 0s - loss: 0.1233\n",
      "Epoch 43: val_loss improved from 0.07593 to 0.06733, saving model to LSTM_best_model.hdf5\n",
      "150/150 [==============================] - 19s 127ms/step - loss: 0.1233 - val_loss: 0.0673 - lr: 1.2589e-06\n",
      "Epoch 44/100\n",
      "149/150 [============================>.] - ETA: 0s - loss: 0.1109\n",
      "Epoch 44: val_loss improved from 0.06733 to 0.05819, saving model to LSTM_best_model.hdf5\n",
      "150/150 [==============================] - 20s 130ms/step - loss: 0.1109 - val_loss: 0.0582 - lr: 1.4125e-06\n",
      "Epoch 45/100\n",
      "149/150 [============================>.] - ETA: 0s - loss: 0.0975\n",
      "Epoch 45: val_loss improved from 0.05819 to 0.04868, saving model to LSTM_best_model.hdf5\n",
      "150/150 [==============================] - 19s 130ms/step - loss: 0.0975 - val_loss: 0.0487 - lr: 1.5849e-06\n",
      "Epoch 46/100\n",
      "150/150 [==============================] - ETA: 0s - loss: 0.0833\n",
      "Epoch 46: val_loss improved from 0.04868 to 0.03906, saving model to LSTM_best_model.hdf5\n",
      "150/150 [==============================] - 20s 133ms/step - loss: 0.0833 - val_loss: 0.0391 - lr: 1.7783e-06\n",
      "Epoch 47/100\n",
      "150/150 [==============================] - ETA: 0s - loss: 0.0690\n",
      "Epoch 47: val_loss improved from 0.03906 to 0.02953, saving model to LSTM_best_model.hdf5\n",
      "150/150 [==============================] - 20s 130ms/step - loss: 0.0690 - val_loss: 0.0295 - lr: 1.9953e-06\n",
      "Epoch 48/100\n",
      "150/150 [==============================] - ETA: 0s - loss: 0.0547\n",
      "Epoch 48: val_loss improved from 0.02953 to 0.02069, saving model to LSTM_best_model.hdf5\n",
      "150/150 [==============================] - 22s 144ms/step - loss: 0.0547 - val_loss: 0.0207 - lr: 2.2387e-06\n",
      "Epoch 49/100\n",
      "149/150 [============================>.] - ETA: 0s - loss: 0.0415\n",
      "Epoch 49: val_loss improved from 0.02069 to 0.01310, saving model to LSTM_best_model.hdf5\n",
      "150/150 [==============================] - 20s 131ms/step - loss: 0.0415 - val_loss: 0.0131 - lr: 2.5119e-06\n",
      "Epoch 50/100\n",
      "150/150 [==============================] - ETA: 0s - loss: 0.0299\n",
      "Epoch 50: val_loss improved from 0.01310 to 0.00742, saving model to LSTM_best_model.hdf5\n",
      "150/150 [==============================] - 20s 133ms/step - loss: 0.0299 - val_loss: 0.0074 - lr: 2.8184e-06\n",
      "Epoch 51/100\n",
      "149/150 [============================>.] - ETA: 0s - loss: 0.0208\n",
      "Epoch 51: val_loss improved from 0.00742 to 0.00398, saving model to LSTM_best_model.hdf5\n",
      "150/150 [==============================] - 23s 153ms/step - loss: 0.0208 - val_loss: 0.0040 - lr: 3.1623e-06\n",
      "Epoch 52/100\n",
      "149/150 [============================>.] - ETA: 0s - loss: 0.0145\n",
      "Epoch 52: val_loss improved from 0.00398 to 0.00260, saving model to LSTM_best_model.hdf5\n",
      "150/150 [==============================] - 20s 134ms/step - loss: 0.0145 - val_loss: 0.0026 - lr: 3.5481e-06\n",
      "Epoch 53/100\n",
      "149/150 [============================>.] - ETA: 0s - loss: 0.0109\n",
      "Epoch 53: val_loss improved from 0.00260 to 0.00251, saving model to LSTM_best_model.hdf5\n",
      "150/150 [==============================] - 21s 138ms/step - loss: 0.0109 - val_loss: 0.0025 - lr: 3.9811e-06\n",
      "Epoch 54/100\n",
      "149/150 [============================>.] - ETA: 0s - loss: 0.0089\n",
      "Epoch 54: val_loss did not improve from 0.00251\n",
      "150/150 [==============================] - 21s 138ms/step - loss: 0.0089 - val_loss: 0.0027 - lr: 4.4668e-06\n",
      "Epoch 55/100\n",
      "150/150 [==============================] - ETA: 0s - loss: 0.0077\n",
      "Epoch 55: val_loss did not improve from 0.00251\n",
      "150/150 [==============================] - 20s 136ms/step - loss: 0.0077 - val_loss: 0.0027 - lr: 5.0119e-06\n",
      "Epoch 56/100\n",
      "150/150 [==============================] - ETA: 0s - loss: 0.0065\n",
      "Epoch 56: val_loss improved from 0.00251 to 0.00236, saving model to LSTM_best_model.hdf5\n",
      "150/150 [==============================] - 21s 142ms/step - loss: 0.0065 - val_loss: 0.0024 - lr: 5.6234e-06\n",
      "Epoch 57/100\n",
      "149/150 [============================>.] - ETA: 0s - loss: 0.0054\n",
      "Epoch 57: val_loss improved from 0.00236 to 0.00197, saving model to LSTM_best_model.hdf5\n",
      "150/150 [==============================] - 20s 133ms/step - loss: 0.0054 - val_loss: 0.0020 - lr: 6.3096e-06\n",
      "Epoch 58/100\n",
      "149/150 [============================>.] - ETA: 0s - loss: 0.0043\n",
      "Epoch 58: val_loss improved from 0.00197 to 0.00152, saving model to LSTM_best_model.hdf5\n",
      "150/150 [==============================] - 20s 133ms/step - loss: 0.0043 - val_loss: 0.0015 - lr: 7.0795e-06\n",
      "Epoch 59/100\n",
      "149/150 [============================>.] - ETA: 0s - loss: 0.0032\n",
      "Epoch 59: val_loss improved from 0.00152 to 0.00107, saving model to LSTM_best_model.hdf5\n",
      "150/150 [==============================] - 20s 136ms/step - loss: 0.0032 - val_loss: 0.0011 - lr: 7.9433e-06\n",
      "Epoch 60/100\n",
      "150/150 [==============================] - ETA: 0s - loss: 0.0024\n",
      "Epoch 60: val_loss improved from 0.00107 to 0.00070, saving model to LSTM_best_model.hdf5\n",
      "150/150 [==============================] - 20s 136ms/step - loss: 0.0024 - val_loss: 7.0267e-04 - lr: 8.9125e-06\n",
      "Epoch 61/100\n",
      "149/150 [============================>.] - ETA: 0s - loss: 0.0016\n",
      "Epoch 61: val_loss improved from 0.00070 to 0.00041, saving model to LSTM_best_model.hdf5\n",
      "150/150 [==============================] - 20s 132ms/step - loss: 0.0016 - val_loss: 4.0712e-04 - lr: 1.0000e-05\n",
      "Epoch 62/100\n",
      "149/150 [============================>.] - ETA: 0s - loss: 0.0011\n",
      "Epoch 62: val_loss improved from 0.00041 to 0.00021, saving model to LSTM_best_model.hdf5\n",
      "150/150 [==============================] - 20s 133ms/step - loss: 0.0011 - val_loss: 2.0960e-04 - lr: 1.1220e-05\n",
      "Epoch 63/100\n",
      "149/150 [============================>.] - ETA: 0s - loss: 8.0617e-04\n",
      "Epoch 63: val_loss improved from 0.00021 to 0.00010, saving model to LSTM_best_model.hdf5\n",
      "150/150 [==============================] - 20s 132ms/step - loss: 8.0595e-04 - val_loss: 1.0073e-04 - lr: 1.2589e-05\n",
      "Epoch 64/100\n",
      "149/150 [============================>.] - ETA: 0s - loss: 6.3794e-04\n",
      "Epoch 64: val_loss improved from 0.00010 to 0.00007, saving model to LSTM_best_model.hdf5\n",
      "150/150 [==============================] - 22s 150ms/step - loss: 6.3788e-04 - val_loss: 6.7839e-05 - lr: 1.4125e-05\n",
      "Epoch 65/100\n",
      "149/150 [============================>.] - ETA: 0s - loss: 5.8084e-04\n",
      "Epoch 65: val_loss improved from 0.00007 to 0.00005, saving model to LSTM_best_model.hdf5\n",
      "150/150 [==============================] - 20s 135ms/step - loss: 5.8085e-04 - val_loss: 4.9193e-05 - lr: 1.5849e-05\n",
      "Epoch 66/100\n",
      "149/150 [============================>.] - ETA: 0s - loss: 5.5387e-04\n",
      "Epoch 66: val_loss improved from 0.00005 to 0.00004, saving model to LSTM_best_model.hdf5\n",
      "150/150 [==============================] - 19s 130ms/step - loss: 5.5393e-04 - val_loss: 4.4219e-05 - lr: 1.7783e-05\n",
      "Epoch 67/100\n",
      "149/150 [============================>.] - ETA: 0s - loss: 5.4243e-04\n",
      "Epoch 67: val_loss improved from 0.00004 to 0.00004, saving model to LSTM_best_model.hdf5\n",
      "150/150 [==============================] - 21s 142ms/step - loss: 5.4217e-04 - val_loss: 4.3926e-05 - lr: 1.9953e-05\n",
      "Epoch 68/100\n",
      "149/150 [============================>.] - ETA: 0s - loss: 5.4638e-04\n",
      "Epoch 68: val_loss did not improve from 0.00004\n",
      "150/150 [==============================] - 20s 132ms/step - loss: 5.4693e-04 - val_loss: 4.4513e-05 - lr: 2.2387e-05\n",
      "Epoch 69/100\n",
      "150/150 [==============================] - ETA: 0s - loss: 5.2722e-04\n",
      "Epoch 69: val_loss did not improve from 0.00004\n",
      "150/150 [==============================] - 20s 132ms/step - loss: 5.2722e-04 - val_loss: 4.5175e-05 - lr: 2.5119e-05\n",
      "Epoch 70/100\n",
      "149/150 [============================>.] - ETA: 0s - loss: 5.0523e-04\n",
      "Epoch 70: val_loss did not improve from 0.00004\n",
      "150/150 [==============================] - 20s 133ms/step - loss: 5.0510e-04 - val_loss: 4.5465e-05 - lr: 2.8184e-05\n",
      "Epoch 71/100\n",
      "149/150 [============================>.] - ETA: 0s - loss: 4.9937e-04\n",
      "Epoch 71: val_loss did not improve from 0.00004\n",
      "150/150 [==============================] - 20s 131ms/step - loss: 4.9936e-04 - val_loss: 4.5606e-05 - lr: 3.1623e-05\n",
      "Epoch 72/100\n",
      "149/150 [============================>.] - ETA: 0s - loss: 4.8463e-04\n",
      "Epoch 72: val_loss did not improve from 0.00004\n",
      "150/150 [==============================] - 20s 135ms/step - loss: 4.8471e-04 - val_loss: 4.5537e-05 - lr: 3.5481e-05\n",
      "Epoch 73/100\n",
      "150/150 [==============================] - ETA: 0s - loss: 4.7382e-04\n",
      "Epoch 73: val_loss improved from 0.00004 to 0.00004, saving model to LSTM_best_model.hdf5\n",
      "150/150 [==============================] - 21s 141ms/step - loss: 4.7382e-04 - val_loss: 4.3258e-05 - lr: 3.9811e-05\n",
      "Epoch 74/100\n",
      "149/150 [============================>.] - ETA: 0s - loss: 4.5250e-04\n",
      "Epoch 74: val_loss did not improve from 0.00004\n",
      "150/150 [==============================] - 20s 135ms/step - loss: 4.5235e-04 - val_loss: 4.3432e-05 - lr: 4.4668e-05\n",
      "Epoch 75/100\n",
      "149/150 [============================>.] - ETA: 0s - loss: 4.3983e-04\n",
      "Epoch 75: val_loss did not improve from 0.00004\n",
      "150/150 [==============================] - 20s 133ms/step - loss: 4.3992e-04 - val_loss: 4.3354e-05 - lr: 5.0119e-05\n",
      "Epoch 76/100\n",
      "149/150 [============================>.] - ETA: 0s - loss: 4.1169e-04\n",
      "Epoch 76: val_loss did not improve from 0.00004\n",
      "150/150 [==============================] - 20s 135ms/step - loss: 4.1151e-04 - val_loss: 4.4481e-05 - lr: 5.6234e-05\n",
      "Epoch 77/100\n",
      "149/150 [============================>.] - ETA: 0s - loss: 3.9318e-04\n",
      "Epoch 77: val_loss did not improve from 0.00004\n",
      "150/150 [==============================] - 21s 137ms/step - loss: 3.9316e-04 - val_loss: 4.3721e-05 - lr: 6.3096e-05\n",
      "Epoch 78/100\n",
      "149/150 [============================>.] - ETA: 0s - loss: 3.7374e-04\n",
      "Epoch 78: val_loss did not improve from 0.00004\n",
      "150/150 [==============================] - 20s 133ms/step - loss: 3.7385e-04 - val_loss: 4.8146e-05 - lr: 7.0795e-05\n",
      "Epoch 79/100\n",
      "149/150 [============================>.] - ETA: 0s - loss: 3.6666e-04\n",
      "Epoch 79: val_loss did not improve from 0.00004\n",
      "150/150 [==============================] - 20s 133ms/step - loss: 3.6692e-04 - val_loss: 4.3502e-05 - lr: 7.9433e-05\n",
      "Epoch 80/100\n",
      "149/150 [============================>.] - ETA: 0s - loss: 3.3564e-04\n",
      "Epoch 80: val_loss did not improve from 0.00004\n",
      "150/150 [==============================] - 20s 132ms/step - loss: 3.3571e-04 - val_loss: 4.3818e-05 - lr: 8.9125e-05\n",
      "Epoch 81/100\n",
      "149/150 [============================>.] - ETA: 0s - loss: 3.2439e-04\n",
      "Epoch 81: val_loss did not improve from 0.00004\n",
      "150/150 [==============================] - 20s 135ms/step - loss: 3.2458e-04 - val_loss: 5.8662e-05 - lr: 1.0000e-04\n",
      "Epoch 82/100\n",
      "149/150 [============================>.] - ETA: 0s - loss: 2.9565e-04\n",
      "Epoch 82: val_loss did not improve from 0.00004\n",
      "150/150 [==============================] - 20s 136ms/step - loss: 2.9556e-04 - val_loss: 5.1052e-05 - lr: 1.1220e-04\n",
      "Epoch 83/100\n",
      "149/150 [============================>.] - ETA: 0s - loss: 2.8120e-04\n",
      "Epoch 83: val_loss did not improve from 0.00004\n",
      "150/150 [==============================] - 20s 133ms/step - loss: 2.8119e-04 - val_loss: 6.5707e-05 - lr: 1.2589e-04\n"
     ]
    }
   ],
   "source": [
    "# Modeling\n",
    "\n",
    "window = seq_len - 1\n",
    "\n",
    "model=Sequential()\n",
    "\n",
    "model.add(GRU(50,return_sequences=True,input_shape=(window, X_train.shape[-1])))\n",
    "model.add(Dropout(0.20))\n",
    "\n",
    "model.add(GRU(50,return_sequences=True))\n",
    "\n",
    "model.add(GRU(50))\n",
    "\n",
    "model.add(Dense(1))\n",
    "\n",
    "\n",
    "model.compile(\n",
    "    loss='mean_squared_error',\n",
    "    optimizer='adam'\n",
    ")\n",
    "\n",
    "\n",
    "# Callbacks\n",
    "\n",
    "checkpoint_path = 'LSTM_best_model.hdf5'\n",
    "\n",
    "checkpoint = ModelCheckpoint(filepath=checkpoint_path,\n",
    "                             monitor='val_loss',\n",
    "                             verbose=1,\n",
    "                             save_best_only=True,\n",
    "                             mode='min')\n",
    "\n",
    "lr_schedule = LearningRateScheduler(lambda epoch: 1e-8 * 10**(epoch/20))\n",
    "\n",
    "earlystopping = EarlyStopping(monitor='val_loss', patience=10, restore_best_weights=True)\n",
    "\n",
    "callbacks = [checkpoint, earlystopping, lr_schedule]\n",
    "\n",
    "\n",
    "# Fitting\n",
    "\n",
    "batches = 128\n",
    "\n",
    "history = model.fit(\n",
    "                    X_train,\n",
    "                    y_train,\n",
    "                    epochs = 100,\n",
    "                    batch_size = batches,\n",
    "                    shuffle = True,\n",
    "                    validation_split = 0.2,\n",
    "                    callbacks = callbacks\n",
    "                )\n"
   ]
  },
  {
   "cell_type": "code",
   "execution_count": 13,
   "metadata": {
    "colab": {
     "base_uri": "https://localhost:8080/",
     "height": 557
    },
    "executionInfo": {
     "elapsed": 1474,
     "status": "ok",
     "timestamp": 1688475676741,
     "user": {
      "displayName": "Benito Martin",
      "userId": "08045010802119786323"
     },
     "user_tz": -120
    },
    "id": "cUDzHwCL_bC2",
    "outputId": "78850a39-dfa2-4e6d-bfcb-1a04c745e9a1"
   },
   "outputs": [
    {
     "data": {
      "image/png": "[encoded data removed]",
      "text/plain": [
       "<Figure size 1400x600 with 1 Axes>"
      ]
     },
     "metadata": {},
     "output_type": "display_data"
    }
   ],
   "source": [
    "# Train/Val Curves\n",
    "\n",
    "fig, ax = plt.subplots(figsize=(14, 6))\n",
    "\n",
    "ax.plot(history.history['loss'], label='Training Loss')\n",
    "ax.plot(history.history['val_loss'], label='Validation Loss')\n",
    "\n",
    "ax.set_title('Training and Validation Loss Curves')\n",
    "ax.set_xlabel('Epoch')\n",
    "ax.set_ylabel('Loss')\n",
    "\n",
    "ax.legend(loc='upper right')\n",
    "\n",
    "plt.show()"
   ]
  },
  {
   "cell_type": "markdown",
   "metadata": {
    "id": "Xf9STH2D4_hP"
   },
   "source": [
    "### Prediction"
   ]
  },
  {
   "cell_type": "code",
   "execution_count": 14,
   "metadata": {
    "colab": {
     "base_uri": "https://localhost:8080/"
    },
    "executionInfo": {
     "elapsed": 20958,
     "status": "ok",
     "timestamp": 1688475748838,
     "user": {
      "displayName": "Benito Martin",
      "userId": "08045010802119786323"
     },
     "user_tz": -120
    },
    "id": "DAAOoS5K-KBr",
    "outputId": "3a928f77-5c5a-4717-cf40-33aaabeb59fe"
   },
   "outputs": [
    {
     "name": "stdout",
     "output_type": "stream",
     "text": [
      "187/187 [==============================] - 3s 12ms/step\n"
     ]
    }
   ],
   "source": [
    "# Prediction\n",
    "\n",
    "y_pred = model.predict(X_test)"
   ]
  },
  {
   "cell_type": "code",
   "execution_count": 15,
   "metadata": {
    "executionInfo": {
     "elapsed": 254,
     "status": "ok",
     "timestamp": 1688475750702,
     "user": {
      "displayName": "Benito Martin",
      "userId": "08045010802119786323"
     },
     "user_tz": -120
    },
    "id": "53pwD-Ct-Twq"
   },
   "outputs": [],
   "source": [
    "# Rescaling\n",
    "\n",
    "y_test_inverse = scaler.inverse_transform(y_test)\n",
    "y_pred_inverse = scaler.inverse_transform(y_pred)"
   ]
  },
  {
   "cell_type": "code",
   "execution_count": 16,
   "metadata": {
    "colab": {
     "base_uri": "https://localhost:8080/",
     "height": 557
    },
    "executionInfo": {
     "elapsed": 1813,
     "status": "ok",
     "timestamp": 1688475820948,
     "user": {
      "displayName": "Benito Martin",
      "userId": "08045010802119786323"
     },
     "user_tz": -120
    },
    "id": "6Z-8RQm1ADs9",
    "outputId": "e05c5da6-8287-4efc-e359-d5e09cd93d6a"
   },
   "outputs": [
    {
     "data": {
      "image/png": "[encoded data removed]",
      "text/plain": [
       "<Figure size 1400x600 with 1 Axes>"
      ]
     },
     "metadata": {},
     "output_type": "display_data"
    }
   ],
   "source": [
    "# Plotting Actual vs. Predicted\n",
    "\n",
    "fig, ax = plt.subplots(figsize=(14, 6))\n",
    "\n",
    "ax.plot(bitcoin_df.date.iloc[-len(X_test):], y_test_inverse, label=\"Actual Price\", color='green')\n",
    "ax.plot(bitcoin_df.date.iloc[-len(X_test):], y_pred_inverse, label=\"Predicted Price\", color='red')\n",
    "\n",
    "ax.set_title('Bitcoin Price Prediction')\n",
    "ax.set_xlabel('Date')\n",
    "ax.set_ylabel('Price')\n",
    "\n",
    "ax.legend()\n",
    "\n",
    "plt.show()"
   ]
  },
  {
   "cell_type": "code",
   "execution_count": 17,
   "metadata": {
    "colab": {
     "base_uri": "https://localhost:8080/"
    },
    "executionInfo": {
     "elapsed": 264,
     "status": "ok",
     "timestamp": 1688475865287,
     "user": {
      "displayName": "Benito Martin",
      "userId": "08045010802119786323"
     },
     "user_tz": -120
    },
    "id": "OvaSxP_gHIRr",
    "outputId": "0a5d2e41-89fd-481b-d65d-e8a17f2070c0"
   },
   "outputs": [
    {
     "name": "stdout",
     "output_type": "stream",
     "text": [
      "test MAE LSTM : 153.19\n",
      "test RMSE LSTM : 250.58\n",
      "test R2 LSTM : 99.69\n"
     ]
    }
   ],
   "source": [
    "# Results LSTM\n",
    "\n",
    "test_mae_LSTM = round(mean_absolute_error(y_test_inverse, y_pred_inverse), 2)\n",
    "test_rmse_LSTM = round(np.sqrt(mean_squared_error(y_test_inverse, y_pred_inverse)), 2)\n",
    "test_r2_LSTM = round(r2_score(y_test_inverse, y_pred_inverse)*100, 2)\n",
    "\n",
    "print(f\"test MAE LSTM : {test_mae_LSTM}\")\n",
    "print(f\"test RMSE LSTM : {test_rmse_LSTM}\")\n",
    "print(f\"test R2 LSTM : {test_r2_LSTM}\")"
   ]
  }
 ],
 "metadata": {
  "accelerator": "GPU",
  "colab": {
   "authorship_tag": "ABX9TyMU1FTQ4/y627m8RN1IdoZE",
   "collapsed_sections": [
    "5G3jKhIkEVrE",
    "rgQgYuXSAoz7",
    "pjBan-K27L8d"
   ],
   "gpuType": "T4",
   "provenance": [
    {
     "file_id": "13Xw99IhvcQB5RzdV7GsTWZYM7qy3NlEJ",
     "timestamp": 1686597829802
    }
   ],
   "toc_visible": true
  },
  "kernelspec": {
   "display_name": "crypto",
   "language": "python",
   "name": "crypto"
  },
  "language_info": {
   "codemirror_mode": {
    "name": "ipython",
    "version": 3
   },
   "file_extension": ".py",
   "mimetype": "text/x-python",
   "name": "python",
   "nbconvert_exporter": "python",
   "pygments_lexer": "ipython3",
   "version": "3.9.17"
  }
 },
 "nbformat": 4,
 "nbformat_minor": 4
}
