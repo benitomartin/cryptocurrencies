{
 "cells": [
  {
   "cell_type": "markdown",
   "metadata": {
    "id": "cfiJuMV7AjPk"
   },
   "source": [
    "# Import Libraries"
   ]
  },
  {
   "cell_type": "code",
   "execution_count": 1,
   "metadata": {
    "id": "BFrpy0jt8WXh"
   },
   "outputs": [],
   "source": [
    "#Load the required libraries\n",
    "\n",
    "import pandas as pd\n",
    "import numpy as np\n",
    "from datetime import datetime\n",
    "\n",
    "import seaborn as sns\n",
    "import matplotlib.pyplot as plt\n",
    "plt.style.use('seaborn-v0_8-darkgrid')\n",
    "\n",
    "from sklearn.model_selection import train_test_split\n",
    "from sklearn.metrics import mean_absolute_error, mean_squared_error,r2_score\n",
    "\n",
    "from statsmodels.tsa.arima.model import ARIMA\n",
    "import pmdarima as pm\n",
    "\n",
    "import time\n",
    "\n",
    "\n",
    "import warnings\n",
    "warnings.filterwarnings(\"ignore\")"
   ]
  },
  {
   "cell_type": "markdown",
   "metadata": {
    "id": "rgQgYuXSAoz7"
   },
   "source": [
    "# Import Data"
   ]
  },
  {
   "cell_type": "code",
   "execution_count": 2,
   "metadata": {
    "id": "HzN89euZ8xfW"
   },
   "outputs": [],
   "source": [
    "bitcoin_df = pd.read_csv(\"../data/BTCUSDT_final_clean.csv\")"
   ]
  },
  {
   "cell_type": "code",
   "execution_count": 3,
   "metadata": {
    "colab": {
     "base_uri": "https://localhost:8080/",
     "height": 206
    },
    "id": "a2A4FMbpXz2Q",
    "outputId": "445d3cf2-e86a-4a0e-f9b4-17bd8e72a208"
   },
   "outputs": [
    {
     "data": {
      "text/html": [
       "<div>\n",
       "<style scoped>\n",
       "    .dataframe tbody tr th:only-of-type {\n",
       "        vertical-align: middle;\n",
       "    }\n",
       "\n",
       "    .dataframe tbody tr th {\n",
       "        vertical-align: top;\n",
       "    }\n",
       "\n",
       "    .dataframe thead th {\n",
       "        text-align: right;\n",
       "    }\n",
       "</style>\n",
       "<table border=\"1\" class=\"dataframe\">\n",
       "  <thead>\n",
       "    <tr style=\"text-align: right;\">\n",
       "      <th></th>\n",
       "      <th>date</th>\n",
       "      <th>open</th>\n",
       "      <th>high</th>\n",
       "      <th>low</th>\n",
       "      <th>close</th>\n",
       "      <th>volume</th>\n",
       "      <th>quote_volume</th>\n",
       "      <th>count</th>\n",
       "      <th>taker_buy_volume</th>\n",
       "      <th>taker_buy_quote_volume</th>\n",
       "    </tr>\n",
       "  </thead>\n",
       "  <tbody>\n",
       "    <tr>\n",
       "      <th>0</th>\n",
       "      <td>2020-01-01 00:00:00</td>\n",
       "      <td>7195.24</td>\n",
       "      <td>7196.25</td>\n",
       "      <td>7175.46</td>\n",
       "      <td>7177.02</td>\n",
       "      <td>511.814901</td>\n",
       "      <td>3.675857e+06</td>\n",
       "      <td>7640.0</td>\n",
       "      <td>226.153126</td>\n",
       "      <td>1.624289e+06</td>\n",
       "    </tr>\n",
       "    <tr>\n",
       "      <th>1</th>\n",
       "      <td>2020-01-01 01:00:00</td>\n",
       "      <td>7176.47</td>\n",
       "      <td>7230.00</td>\n",
       "      <td>7175.71</td>\n",
       "      <td>7216.27</td>\n",
       "      <td>883.052603</td>\n",
       "      <td>6.365953e+06</td>\n",
       "      <td>9033.0</td>\n",
       "      <td>570.721419</td>\n",
       "      <td>4.114804e+06</td>\n",
       "    </tr>\n",
       "    <tr>\n",
       "      <th>2</th>\n",
       "      <td>2020-01-01 02:00:00</td>\n",
       "      <td>7215.52</td>\n",
       "      <td>7244.87</td>\n",
       "      <td>7211.41</td>\n",
       "      <td>7242.85</td>\n",
       "      <td>655.156809</td>\n",
       "      <td>4.736719e+06</td>\n",
       "      <td>7466.0</td>\n",
       "      <td>357.180263</td>\n",
       "      <td>2.582514e+06</td>\n",
       "    </tr>\n",
       "    <tr>\n",
       "      <th>3</th>\n",
       "      <td>2020-01-01 03:00:00</td>\n",
       "      <td>7242.66</td>\n",
       "      <td>7245.00</td>\n",
       "      <td>7220.00</td>\n",
       "      <td>7225.01</td>\n",
       "      <td>783.724867</td>\n",
       "      <td>5.667367e+06</td>\n",
       "      <td>8337.0</td>\n",
       "      <td>394.810811</td>\n",
       "      <td>2.854987e+06</td>\n",
       "    </tr>\n",
       "    <tr>\n",
       "      <th>4</th>\n",
       "      <td>2020-01-01 04:00:00</td>\n",
       "      <td>7225.00</td>\n",
       "      <td>7230.00</td>\n",
       "      <td>7215.03</td>\n",
       "      <td>7217.27</td>\n",
       "      <td>467.812578</td>\n",
       "      <td>3.379094e+06</td>\n",
       "      <td>5896.0</td>\n",
       "      <td>243.514706</td>\n",
       "      <td>1.759053e+06</td>\n",
       "    </tr>\n",
       "  </tbody>\n",
       "</table>\n",
       "</div>"
      ],
      "text/plain": [
       "                  date     open     high      low    close      volume  \\\n",
       "0  2020-01-01 00:00:00  7195.24  7196.25  7175.46  7177.02  511.814901   \n",
       "1  2020-01-01 01:00:00  7176.47  7230.00  7175.71  7216.27  883.052603   \n",
       "2  2020-01-01 02:00:00  7215.52  7244.87  7211.41  7242.85  655.156809   \n",
       "3  2020-01-01 03:00:00  7242.66  7245.00  7220.00  7225.01  783.724867   \n",
       "4  2020-01-01 04:00:00  7225.00  7230.00  7215.03  7217.27  467.812578   \n",
       "\n",
       "   quote_volume   count  taker_buy_volume  taker_buy_quote_volume  \n",
       "0  3.675857e+06  7640.0        226.153126            1.624289e+06  \n",
       "1  6.365953e+06  9033.0        570.721419            4.114804e+06  \n",
       "2  4.736719e+06  7466.0        357.180263            2.582514e+06  \n",
       "3  5.667367e+06  8337.0        394.810811            2.854987e+06  \n",
       "4  3.379094e+06  5896.0        243.514706            1.759053e+06  "
      ]
     },
     "execution_count": 3,
     "metadata": {},
     "output_type": "execute_result"
    }
   ],
   "source": [
    "bitcoin_df.head()"
   ]
  },
  {
   "cell_type": "markdown",
   "metadata": {
    "id": "VtonmnjpZgov"
   },
   "source": [
    "Here's a breakdown of each feature:\n",
    "\n",
    "- **date**: This represents the opening time\n",
    "\n",
    "- **open**: This refers to the opening price of the trading instrument at the given period.\n",
    "\n",
    "- **high**: This represents the highest price reached by the trading instrument during the specified period.\n",
    "\n",
    "- **low**: This denotes the lowest price reached by the trading instrument during the specified period.\n",
    "\n",
    "- **close**: This indicates the closing price of the trading instrument at the given period.\n",
    "\n",
    "- **volume**: This refers to the total volume, typically the quantity of the trading instrument, traded during the specified period.\n",
    "\n",
    "\n",
    "- **quote_volume**: This refers to the total volume in terms of the quote asset. The quote asset is the asset used to determine the value of the trading instrument.\n",
    "\n",
    "- **count**: This represents the number of trades that occurred during the specified period.\n",
    "\n",
    "- **taker_buy_volume**: This denotes the volume of the quote asset bought by takers (market takers) during the specified period.\n",
    "\n",
    "- **taker_buy_quote_volume**: This represents the volume of the base asset bought by takers (market takers) during the specified period."
   ]
  },
  {
   "cell_type": "code",
   "execution_count": 4,
   "metadata": {
    "colab": {
     "base_uri": "https://localhost:8080/"
    },
    "id": "1GliFMaDQmFP",
    "outputId": "2d65ca32-951a-4cf3-fa0e-f128dcea1f6a"
   },
   "outputs": [
    {
     "name": "stdout",
     "output_type": "stream",
     "text": [
      "<class 'pandas.core.frame.DataFrame'>\n",
      "RangeIndex: 29928 entries, 0 to 29927\n",
      "Data columns (total 10 columns):\n",
      " #   Column                  Non-Null Count  Dtype  \n",
      "---  ------                  --------------  -----  \n",
      " 0   date                    29928 non-null  object \n",
      " 1   open                    29928 non-null  float64\n",
      " 2   high                    29928 non-null  float64\n",
      " 3   low                     29928 non-null  float64\n",
      " 4   close                   29928 non-null  float64\n",
      " 5   volume                  29928 non-null  float64\n",
      " 6   quote_volume            29928 non-null  float64\n",
      " 7   count                   29928 non-null  float64\n",
      " 8   taker_buy_volume        29928 non-null  float64\n",
      " 9   taker_buy_quote_volume  29928 non-null  float64\n",
      "dtypes: float64(9), object(1)\n",
      "memory usage: 2.3+ MB\n"
     ]
    }
   ],
   "source": [
    "bitcoin_df.info()"
   ]
  },
  {
   "cell_type": "markdown",
   "metadata": {
    "id": "BB929Pzb7UuB"
   },
   "source": [
    "# Datetime Conversion"
   ]
  },
  {
   "cell_type": "code",
   "execution_count": 5,
   "metadata": {
    "id": "LwvDyF2UQn32"
   },
   "outputs": [],
   "source": [
    "# Converting the Date column from object to datetime\n",
    "bitcoin_df[[\"date\"]] = bitcoin_df[[\"date\"]].apply(pd.to_datetime)"
   ]
  },
  {
   "cell_type": "code",
   "execution_count": 6,
   "metadata": {
    "colab": {
     "base_uri": "https://localhost:8080/"
    },
    "id": "IpHWXzQBRZg0",
    "outputId": "37df3d0b-3226-4add-9f1e-a03113a262e5"
   },
   "outputs": [
    {
     "name": "stdout",
     "output_type": "stream",
     "text": [
      "<class 'pandas.core.frame.DataFrame'>\n",
      "RangeIndex: 29928 entries, 0 to 29927\n",
      "Data columns (total 10 columns):\n",
      " #   Column                  Non-Null Count  Dtype         \n",
      "---  ------                  --------------  -----         \n",
      " 0   date                    29928 non-null  datetime64[ns]\n",
      " 1   open                    29928 non-null  float64       \n",
      " 2   high                    29928 non-null  float64       \n",
      " 3   low                     29928 non-null  float64       \n",
      " 4   close                   29928 non-null  float64       \n",
      " 5   volume                  29928 non-null  float64       \n",
      " 6   quote_volume            29928 non-null  float64       \n",
      " 7   count                   29928 non-null  float64       \n",
      " 8   taker_buy_volume        29928 non-null  float64       \n",
      " 9   taker_buy_quote_volume  29928 non-null  float64       \n",
      "dtypes: datetime64[ns](1), float64(9)\n",
      "memory usage: 2.3 MB\n"
     ]
    }
   ],
   "source": [
    "bitcoin_df.info()"
   ]
  },
  {
   "cell_type": "markdown",
   "metadata": {
    "id": "wUgpj4Q2_gUn"
   },
   "source": [
    "# Modeling"
   ]
  },
  {
   "cell_type": "code",
   "execution_count": 7,
   "metadata": {
    "colab": {
     "base_uri": "https://localhost:8080/",
     "height": 206
    },
    "id": "7QunwJxTBitl",
    "outputId": "f1210738-8009-4082-eb65-4020565934ef"
   },
   "outputs": [
    {
     "data": {
      "text/html": [
       "<div>\n",
       "<style scoped>\n",
       "    .dataframe tbody tr th:only-of-type {\n",
       "        vertical-align: middle;\n",
       "    }\n",
       "\n",
       "    .dataframe tbody tr th {\n",
       "        vertical-align: top;\n",
       "    }\n",
       "\n",
       "    .dataframe thead th {\n",
       "        text-align: right;\n",
       "    }\n",
       "</style>\n",
       "<table border=\"1\" class=\"dataframe\">\n",
       "  <thead>\n",
       "    <tr style=\"text-align: right;\">\n",
       "      <th></th>\n",
       "      <th>date</th>\n",
       "      <th>open</th>\n",
       "      <th>high</th>\n",
       "      <th>low</th>\n",
       "      <th>close</th>\n",
       "      <th>volume</th>\n",
       "      <th>quote_volume</th>\n",
       "      <th>count</th>\n",
       "      <th>taker_buy_volume</th>\n",
       "      <th>taker_buy_quote_volume</th>\n",
       "    </tr>\n",
       "  </thead>\n",
       "  <tbody>\n",
       "    <tr>\n",
       "      <th>0</th>\n",
       "      <td>2020-01-01 00:00:00</td>\n",
       "      <td>7195.24</td>\n",
       "      <td>7196.25</td>\n",
       "      <td>7175.46</td>\n",
       "      <td>7177.02</td>\n",
       "      <td>511.814901</td>\n",
       "      <td>3.675857e+06</td>\n",
       "      <td>7640.0</td>\n",
       "      <td>226.153126</td>\n",
       "      <td>1.624289e+06</td>\n",
       "    </tr>\n",
       "    <tr>\n",
       "      <th>1</th>\n",
       "      <td>2020-01-01 01:00:00</td>\n",
       "      <td>7176.47</td>\n",
       "      <td>7230.00</td>\n",
       "      <td>7175.71</td>\n",
       "      <td>7216.27</td>\n",
       "      <td>883.052603</td>\n",
       "      <td>6.365953e+06</td>\n",
       "      <td>9033.0</td>\n",
       "      <td>570.721419</td>\n",
       "      <td>4.114804e+06</td>\n",
       "    </tr>\n",
       "    <tr>\n",
       "      <th>2</th>\n",
       "      <td>2020-01-01 02:00:00</td>\n",
       "      <td>7215.52</td>\n",
       "      <td>7244.87</td>\n",
       "      <td>7211.41</td>\n",
       "      <td>7242.85</td>\n",
       "      <td>655.156809</td>\n",
       "      <td>4.736719e+06</td>\n",
       "      <td>7466.0</td>\n",
       "      <td>357.180263</td>\n",
       "      <td>2.582514e+06</td>\n",
       "    </tr>\n",
       "    <tr>\n",
       "      <th>3</th>\n",
       "      <td>2020-01-01 03:00:00</td>\n",
       "      <td>7242.66</td>\n",
       "      <td>7245.00</td>\n",
       "      <td>7220.00</td>\n",
       "      <td>7225.01</td>\n",
       "      <td>783.724867</td>\n",
       "      <td>5.667367e+06</td>\n",
       "      <td>8337.0</td>\n",
       "      <td>394.810811</td>\n",
       "      <td>2.854987e+06</td>\n",
       "    </tr>\n",
       "    <tr>\n",
       "      <th>4</th>\n",
       "      <td>2020-01-01 04:00:00</td>\n",
       "      <td>7225.00</td>\n",
       "      <td>7230.00</td>\n",
       "      <td>7215.03</td>\n",
       "      <td>7217.27</td>\n",
       "      <td>467.812578</td>\n",
       "      <td>3.379094e+06</td>\n",
       "      <td>5896.0</td>\n",
       "      <td>243.514706</td>\n",
       "      <td>1.759053e+06</td>\n",
       "    </tr>\n",
       "  </tbody>\n",
       "</table>\n",
       "</div>"
      ],
      "text/plain": [
       "                 date     open     high      low    close      volume  \\\n",
       "0 2020-01-01 00:00:00  7195.24  7196.25  7175.46  7177.02  511.814901   \n",
       "1 2020-01-01 01:00:00  7176.47  7230.00  7175.71  7216.27  883.052603   \n",
       "2 2020-01-01 02:00:00  7215.52  7244.87  7211.41  7242.85  655.156809   \n",
       "3 2020-01-01 03:00:00  7242.66  7245.00  7220.00  7225.01  783.724867   \n",
       "4 2020-01-01 04:00:00  7225.00  7230.00  7215.03  7217.27  467.812578   \n",
       "\n",
       "   quote_volume   count  taker_buy_volume  taker_buy_quote_volume  \n",
       "0  3.675857e+06  7640.0        226.153126            1.624289e+06  \n",
       "1  6.365953e+06  9033.0        570.721419            4.114804e+06  \n",
       "2  4.736719e+06  7466.0        357.180263            2.582514e+06  \n",
       "3  5.667367e+06  8337.0        394.810811            2.854987e+06  \n",
       "4  3.379094e+06  5896.0        243.514706            1.759053e+06  "
      ]
     },
     "execution_count": 7,
     "metadata": {},
     "output_type": "execute_result"
    }
   ],
   "source": [
    "bitcoin_df.head()"
   ]
  },
  {
   "cell_type": "markdown",
   "metadata": {
    "id": "FxZzLs5yRzvL"
   },
   "source": [
    "## Hourly Dataframe"
   ]
  },
  {
   "cell_type": "code",
   "execution_count": 8,
   "metadata": {
    "colab": {
     "base_uri": "https://localhost:8080/"
    },
    "id": "aPjIQjS3y4gC",
    "outputId": "62b9a295-899a-4879-8d74-ccbc65ab3820"
   },
   "outputs": [
    {
     "name": "stdout",
     "output_type": "stream",
     "text": [
      "X_train shape: (28730, 7)\n",
      "y_train shape: (28730,)\n",
      "X_test shape: (1198, 7)\n",
      "y_test shape: (1198,)\n"
     ]
    }
   ],
   "source": [
    "# Define the features and target variable\n",
    "columns = ['open', 'high', 'low', 'volume', 'quote_volume', 'taker_buy_volume', 'taker_buy_quote_volume']\n",
    "\n",
    "X = bitcoin_df[columns]\n",
    "y = bitcoin_df['close']\n",
    "\n",
    "# Split the data into training and test sets (we select a small test set due to the length of the iterations)\n",
    "X_train, X_test, y_train, y_test = train_test_split(X, y, test_size=0.04, shuffle=False)\n",
    "\n",
    "# Print the shape of the training and test sets\n",
    "print(\"X_train shape:\", X_train.shape)\n",
    "print(\"y_train shape:\", y_train.shape)\n",
    "print(\"X_test shape:\", X_test.shape)\n",
    "print(\"y_test shape:\", y_test.shape)\n"
   ]
  },
  {
   "cell_type": "code",
   "execution_count": 9,
   "metadata": {
    "id": "zmi99QxYyKmn"
   },
   "outputs": [],
   "source": [
    "# Creating a list of values\n",
    "\n",
    "training_list = list(y_train)\n",
    "test_list = list(y_test)"
   ]
  },
  {
   "cell_type": "code",
   "execution_count": 10,
   "metadata": {
    "colab": {
     "base_uri": "https://localhost:8080/"
    },
    "id": "0-XNfE7ezj3p",
    "outputId": "7ac90a3d-c162-4b60-856e-3ed424ae1703"
   },
   "outputs": [
    {
     "name": "stdout",
     "output_type": "stream",
     "text": [
      "Performing stepwise search to minimize aic\n",
      " ARIMA(0,1,0)(0,0,0)[0] intercept   : AIC=416496.964, Time=5.86 sec\n",
      " ARIMA(1,1,0)(0,0,0)[0] intercept   : AIC=416498.889, Time=7.65 sec\n",
      " ARIMA(0,1,1)(0,0,0)[0] intercept   : AIC=416498.887, Time=6.39 sec\n",
      " ARIMA(0,1,0)(0,0,0)[0]             : AIC=416496.964, Time=3.86 sec\n",
      " ARIMA(1,1,1)(0,0,0)[0] intercept   : AIC=416501.367, Time=1.88 sec\n",
      "\n",
      "Best model:  ARIMA(0,1,0)(0,0,0)[0]          \n",
      "Total fit time: 25.648 seconds\n"
     ]
    }
   ],
   "source": [
    "series = bitcoin_df.close\n",
    "\n",
    "arima_model = pm.auto_arima(series,\n",
    "                            start_p=0, max_p=3,\n",
    "                            start_q=0, max_q=3,\n",
    "                            trend='t',\n",
    "                            seasonal=False,\n",
    "                            trace=True)"
   ]
  },
  {
   "cell_type": "code",
   "execution_count": 11,
   "metadata": {
    "colab": {
     "base_uri": "https://localhost:8080/"
    },
    "id": "RCsQoE779HMG",
    "outputId": "0830e5fc-bece-4c08-ad58-f9a5ec67dc6f"
   },
   "outputs": [
    {
     "name": "stdout",
     "output_type": "stream",
     "text": [
      "Iteration: 100\n",
      "Iteration time: 0.5456366697947185 minutes\n",
      "Iteration: 200\n",
      "Iteration time: 1.0435349782307943 minutes\n",
      "Iteration: 300\n",
      "Iteration time: 1.5260432918866476 minutes\n",
      "Iteration: 400\n",
      "Iteration time: 2.0823103109995524 minutes\n",
      "Iteration: 500\n",
      "Iteration time: 2.5860448400179545 minutes\n",
      "Iteration: 600\n",
      "Iteration time: 3.092129286130269 minutes\n",
      "Iteration: 700\n",
      "Iteration time: 3.731871036688487 minutes\n",
      "Iteration: 800\n",
      "Iteration time: 4.2538381536801655 minutes\n",
      "Iteration: 900\n",
      "Iteration time: 4.754377011458079 minutes\n",
      "Iteration: 1000\n",
      "Iteration time: 5.221885279814402 minutes\n",
      "Iteration: 1100\n",
      "Iteration time: 5.698587640126546 minutes\n"
     ]
    }
   ],
   "source": [
    "hourly_predictions = []\n",
    "\n",
    "start_time = time.time()  # Start measuring iteration start time\n",
    "\n",
    "for i in range(len(y_test)):\n",
    "    model = ARIMA(training_list, order=(0, 1, 0))\n",
    "    model_fit = model.fit()\n",
    "    hourly_forecast = model_fit.forecast()[0]  # Use steps=1 to forecast only one step ahead\n",
    "\n",
    "    hourly_predictions.append(hourly_forecast)\n",
    "\n",
    "    test_i = test_list[i]\n",
    "    training_list.append(test_i)\n",
    "\n",
    "\n",
    "    # Print the current iteration number every 100 iterations\n",
    "    if (i + 1) % 100 == 0:\n",
    "        print(\"Iteration:\", i + 1)\n",
    "        end_time = time.time()  # Record iteration end time\n",
    "        iteration_time = end_time - start_time  # Calculate iteration time\n",
    "        print(\"Iteration time:\", iteration_time / 60, \"minutes\")  # Convert iteration time to minutes\n"
   ]
  },
  {
   "cell_type": "code",
   "execution_count": 12,
   "metadata": {
    "colab": {
     "base_uri": "https://localhost:8080/",
     "height": 386
    },
    "id": "e9PbMBeQu8Mj",
    "outputId": "a903abfa-c7a9-4349-bf35-6a2913bdefd3"
   },
   "outputs": [
    {
     "data": {
      "text/html": [
       "<table class=\"simpletable\">\n",
       "<caption>SARIMAX Results</caption>\n",
       "<tr>\n",
       "  <th>Dep. Variable:</th>           <td>y</td>        <th>  No. Observations:  </th>    <td>29927</td>   \n",
       "</tr>\n",
       "<tr>\n",
       "  <th>Model:</th>            <td>ARIMA(0, 1, 0)</td>  <th>  Log Likelihood     </th> <td>-208240.019</td>\n",
       "</tr>\n",
       "<tr>\n",
       "  <th>Date:</th>            <td>Sun, 13 Aug 2023</td> <th>  AIC                </th> <td>416482.039</td> \n",
       "</tr>\n",
       "<tr>\n",
       "  <th>Time:</th>                <td>16:37:23</td>     <th>  BIC                </th> <td>416490.345</td> \n",
       "</tr>\n",
       "<tr>\n",
       "  <th>Sample:</th>                  <td>0</td>        <th>  HQIC               </th> <td>416484.704</td> \n",
       "</tr>\n",
       "<tr>\n",
       "  <th></th>                     <td> - 29927</td>     <th>                     </th>      <td> </td>     \n",
       "</tr>\n",
       "<tr>\n",
       "  <th>Covariance Type:</th>        <td>opg</td>       <th>                     </th>      <td> </td>     \n",
       "</tr>\n",
       "</table>\n",
       "<table class=\"simpletable\">\n",
       "<tr>\n",
       "     <td></td>       <th>coef</th>     <th>std err</th>      <th>z</th>      <th>P>|z|</th>  <th>[0.025</th>    <th>0.975]</th>  \n",
       "</tr>\n",
       "<tr>\n",
       "  <th>sigma2</th> <td>  6.48e+04</td> <td>  159.121</td> <td>  407.249</td> <td> 0.000</td> <td> 6.45e+04</td> <td> 6.51e+04</td>\n",
       "</tr>\n",
       "</table>\n",
       "<table class=\"simpletable\">\n",
       "<tr>\n",
       "  <th>Ljung-Box (L1) (Q):</th>     <td>0.08</td> <th>  Jarque-Bera (JB):  </th> <td>507931.01</td>\n",
       "</tr>\n",
       "<tr>\n",
       "  <th>Prob(Q):</th>                <td>0.78</td> <th>  Prob(JB):          </th>   <td>0.00</td>   \n",
       "</tr>\n",
       "<tr>\n",
       "  <th>Heteroskedasticity (H):</th> <td>0.76</td> <th>  Skew:              </th>   <td>-0.35</td>  \n",
       "</tr>\n",
       "<tr>\n",
       "  <th>Prob(H) (two-sided):</th>    <td>0.00</td> <th>  Kurtosis:          </th>   <td>23.17</td>  \n",
       "</tr>\n",
       "</table><br/><br/>Warnings:<br/>[1] Covariance matrix calculated using the outer product of gradients (complex-step)."
      ],
      "text/latex": [
       "\\begin{center}\n",
       "\\begin{tabular}{lclc}\n",
       "\\toprule\n",
       "\\textbf{Dep. Variable:}          &        y         & \\textbf{  No. Observations:  } &    29927     \\\\\n",
       "\\textbf{Model:}                  &  ARIMA(0, 1, 0)  & \\textbf{  Log Likelihood     } & -208240.019  \\\\\n",
       "\\textbf{Date:}                   & Sun, 13 Aug 2023 & \\textbf{  AIC                } &  416482.039  \\\\\n",
       "\\textbf{Time:}                   &     16:37:23     & \\textbf{  BIC                } &  416490.345  \\\\\n",
       "\\textbf{Sample:}                 &        0         & \\textbf{  HQIC               } &  416484.704  \\\\\n",
       "\\textbf{}                        &      - 29927     & \\textbf{                     } &              \\\\\n",
       "\\textbf{Covariance Type:}        &       opg        & \\textbf{                     } &              \\\\\n",
       "\\bottomrule\n",
       "\\end{tabular}\n",
       "\\begin{tabular}{lcccccc}\n",
       "                & \\textbf{coef} & \\textbf{std err} & \\textbf{z} & \\textbf{P$> |$z$|$} & \\textbf{[0.025} & \\textbf{0.975]}  \\\\\n",
       "\\midrule\n",
       "\\textbf{sigma2} &     6.48e+04  &      159.121     &   407.249  &         0.000        &     6.45e+04    &     6.51e+04     \\\\\n",
       "\\bottomrule\n",
       "\\end{tabular}\n",
       "\\begin{tabular}{lclc}\n",
       "\\textbf{Ljung-Box (L1) (Q):}     & 0.08 & \\textbf{  Jarque-Bera (JB):  } & 507931.01  \\\\\n",
       "\\textbf{Prob(Q):}                & 0.78 & \\textbf{  Prob(JB):          } &    0.00    \\\\\n",
       "\\textbf{Heteroskedasticity (H):} & 0.76 & \\textbf{  Skew:              } &   -0.35    \\\\\n",
       "\\textbf{Prob(H) (two-sided):}    & 0.00 & \\textbf{  Kurtosis:          } &   23.17    \\\\\n",
       "\\bottomrule\n",
       "\\end{tabular}\n",
       "%\\caption{SARIMAX Results}\n",
       "\\end{center}\n",
       "\n",
       "Warnings: \\newline\n",
       " [1] Covariance matrix calculated using the outer product of gradients (complex-step)."
      ],
      "text/plain": [
       "<class 'statsmodels.iolib.summary.Summary'>\n",
       "\"\"\"\n",
       "                               SARIMAX Results                                \n",
       "==============================================================================\n",
       "Dep. Variable:                      y   No. Observations:                29927\n",
       "Model:                 ARIMA(0, 1, 0)   Log Likelihood             -208240.019\n",
       "Date:                Sun, 13 Aug 2023   AIC                         416482.039\n",
       "Time:                        16:37:23   BIC                         416490.345\n",
       "Sample:                             0   HQIC                        416484.704\n",
       "                              - 29927                                         \n",
       "Covariance Type:                  opg                                         \n",
       "==============================================================================\n",
       "                 coef    std err          z      P>|z|      [0.025      0.975]\n",
       "------------------------------------------------------------------------------\n",
       "sigma2       6.48e+04    159.121    407.249      0.000    6.45e+04    6.51e+04\n",
       "===================================================================================\n",
       "Ljung-Box (L1) (Q):                   0.08   Jarque-Bera (JB):            507931.01\n",
       "Prob(Q):                              0.78   Prob(JB):                         0.00\n",
       "Heteroskedasticity (H):               0.76   Skew:                            -0.35\n",
       "Prob(H) (two-sided):                  0.00   Kurtosis:                        23.17\n",
       "===================================================================================\n",
       "\n",
       "Warnings:\n",
       "[1] Covariance matrix calculated using the outer product of gradients (complex-step).\n",
       "\"\"\""
      ]
     },
     "execution_count": 12,
     "metadata": {},
     "output_type": "execute_result"
    }
   ],
   "source": [
    "model_fit.summary()"
   ]
  },
  {
   "cell_type": "markdown",
   "metadata": {
    "id": "SmmrwHRPIjTD"
   },
   "source": [
    "### Plots Hourly"
   ]
  },
  {
   "cell_type": "code",
   "execution_count": 13,
   "metadata": {
    "colab": {
     "base_uri": "https://localhost:8080/",
     "height": 423
    },
    "id": "w-kXmiej87HU",
    "outputId": "1d8f438d-c748-4919-9f58-1dccdae3aeb2"
   },
   "outputs": [
    {
     "data": {
      "text/html": [
       "<div>\n",
       "<style scoped>\n",
       "    .dataframe tbody tr th:only-of-type {\n",
       "        vertical-align: middle;\n",
       "    }\n",
       "\n",
       "    .dataframe tbody tr th {\n",
       "        vertical-align: top;\n",
       "    }\n",
       "\n",
       "    .dataframe thead th {\n",
       "        text-align: right;\n",
       "    }\n",
       "</style>\n",
       "<table border=\"1\" class=\"dataframe\">\n",
       "  <thead>\n",
       "    <tr style=\"text-align: right;\">\n",
       "      <th></th>\n",
       "      <th>open</th>\n",
       "      <th>high</th>\n",
       "      <th>low</th>\n",
       "      <th>volume</th>\n",
       "      <th>quote_volume</th>\n",
       "      <th>taker_buy_volume</th>\n",
       "      <th>taker_buy_quote_volume</th>\n",
       "      <th>Hourly_Forecast_ARIMA</th>\n",
       "    </tr>\n",
       "  </thead>\n",
       "  <tbody>\n",
       "    <tr>\n",
       "      <th>28730</th>\n",
       "      <td>30170.80</td>\n",
       "      <td>30170.80</td>\n",
       "      <td>29811.82</td>\n",
       "      <td>5625.33965</td>\n",
       "      <td>1.685406e+08</td>\n",
       "      <td>2518.73553</td>\n",
       "      <td>7.545659e+07</td>\n",
       "      <td>30170.80</td>\n",
       "    </tr>\n",
       "    <tr>\n",
       "      <th>28731</th>\n",
       "      <td>29916.16</td>\n",
       "      <td>29989.19</td>\n",
       "      <td>29858.19</td>\n",
       "      <td>2277.12119</td>\n",
       "      <td>6.814636e+07</td>\n",
       "      <td>1202.31434</td>\n",
       "      <td>3.598152e+07</td>\n",
       "      <td>29916.16</td>\n",
       "    </tr>\n",
       "    <tr>\n",
       "      <th>28732</th>\n",
       "      <td>29922.04</td>\n",
       "      <td>29995.35</td>\n",
       "      <td>29887.03</td>\n",
       "      <td>1539.74214</td>\n",
       "      <td>4.610840e+07</td>\n",
       "      <td>819.31869</td>\n",
       "      <td>2.453503e+07</td>\n",
       "      <td>29922.04</td>\n",
       "    </tr>\n",
       "    <tr>\n",
       "      <th>28733</th>\n",
       "      <td>29978.59</td>\n",
       "      <td>29999.23</td>\n",
       "      <td>29891.46</td>\n",
       "      <td>1493.93185</td>\n",
       "      <td>4.472736e+07</td>\n",
       "      <td>685.80936</td>\n",
       "      <td>2.053273e+07</td>\n",
       "      <td>29978.58</td>\n",
       "    </tr>\n",
       "    <tr>\n",
       "      <th>28734</th>\n",
       "      <td>29919.99</td>\n",
       "      <td>29956.81</td>\n",
       "      <td>29850.00</td>\n",
       "      <td>1412.52475</td>\n",
       "      <td>4.224635e+07</td>\n",
       "      <td>732.40167</td>\n",
       "      <td>2.190569e+07</td>\n",
       "      <td>29920.00</td>\n",
       "    </tr>\n",
       "    <tr>\n",
       "      <th>...</th>\n",
       "      <td>...</td>\n",
       "      <td>...</td>\n",
       "      <td>...</td>\n",
       "      <td>...</td>\n",
       "      <td>...</td>\n",
       "      <td>...</td>\n",
       "      <td>...</td>\n",
       "      <td>...</td>\n",
       "    </tr>\n",
       "    <tr>\n",
       "      <th>29923</th>\n",
       "      <td>27037.06</td>\n",
       "      <td>27123.43</td>\n",
       "      <td>27000.20</td>\n",
       "      <td>1064.24189</td>\n",
       "      <td>2.879819e+07</td>\n",
       "      <td>482.38594</td>\n",
       "      <td>1.305342e+07</td>\n",
       "      <td>27037.06</td>\n",
       "    </tr>\n",
       "    <tr>\n",
       "      <th>29924</th>\n",
       "      <td>27010.57</td>\n",
       "      <td>27116.13</td>\n",
       "      <td>27005.16</td>\n",
       "      <td>835.43916</td>\n",
       "      <td>2.262138e+07</td>\n",
       "      <td>440.84291</td>\n",
       "      <td>1.193703e+07</td>\n",
       "      <td>27010.57</td>\n",
       "    </tr>\n",
       "    <tr>\n",
       "      <th>29925</th>\n",
       "      <td>27114.19</td>\n",
       "      <td>27119.77</td>\n",
       "      <td>27045.61</td>\n",
       "      <td>644.01902</td>\n",
       "      <td>1.744376e+07</td>\n",
       "      <td>254.03940</td>\n",
       "      <td>6.879695e+06</td>\n",
       "      <td>27114.20</td>\n",
       "    </tr>\n",
       "    <tr>\n",
       "      <th>29926</th>\n",
       "      <td>27090.78</td>\n",
       "      <td>27193.24</td>\n",
       "      <td>27084.92</td>\n",
       "      <td>999.11868</td>\n",
       "      <td>2.711602e+07</td>\n",
       "      <td>517.76569</td>\n",
       "      <td>1.405207e+07</td>\n",
       "      <td>27090.79</td>\n",
       "    </tr>\n",
       "    <tr>\n",
       "      <th>29927</th>\n",
       "      <td>27183.97</td>\n",
       "      <td>27299.99</td>\n",
       "      <td>27159.63</td>\n",
       "      <td>1483.72375</td>\n",
       "      <td>4.038319e+07</td>\n",
       "      <td>687.67958</td>\n",
       "      <td>1.871858e+07</td>\n",
       "      <td>27183.98</td>\n",
       "    </tr>\n",
       "  </tbody>\n",
       "</table>\n",
       "<p>1198 rows × 8 columns</p>\n",
       "</div>"
      ],
      "text/plain": [
       "           open      high       low      volume  quote_volume  \\\n",
       "28730  30170.80  30170.80  29811.82  5625.33965  1.685406e+08   \n",
       "28731  29916.16  29989.19  29858.19  2277.12119  6.814636e+07   \n",
       "28732  29922.04  29995.35  29887.03  1539.74214  4.610840e+07   \n",
       "28733  29978.59  29999.23  29891.46  1493.93185  4.472736e+07   \n",
       "28734  29919.99  29956.81  29850.00  1412.52475  4.224635e+07   \n",
       "...         ...       ...       ...         ...           ...   \n",
       "29923  27037.06  27123.43  27000.20  1064.24189  2.879819e+07   \n",
       "29924  27010.57  27116.13  27005.16   835.43916  2.262138e+07   \n",
       "29925  27114.19  27119.77  27045.61   644.01902  1.744376e+07   \n",
       "29926  27090.78  27193.24  27084.92   999.11868  2.711602e+07   \n",
       "29927  27183.97  27299.99  27159.63  1483.72375  4.038319e+07   \n",
       "\n",
       "       taker_buy_volume  taker_buy_quote_volume  Hourly_Forecast_ARIMA  \n",
       "28730        2518.73553            7.545659e+07               30170.80  \n",
       "28731        1202.31434            3.598152e+07               29916.16  \n",
       "28732         819.31869            2.453503e+07               29922.04  \n",
       "28733         685.80936            2.053273e+07               29978.58  \n",
       "28734         732.40167            2.190569e+07               29920.00  \n",
       "...                 ...                     ...                    ...  \n",
       "29923         482.38594            1.305342e+07               27037.06  \n",
       "29924         440.84291            1.193703e+07               27010.57  \n",
       "29925         254.03940            6.879695e+06               27114.20  \n",
       "29926         517.76569            1.405207e+07               27090.79  \n",
       "29927         687.67958            1.871858e+07               27183.98  \n",
       "\n",
       "[1198 rows x 8 columns]"
      ]
     },
     "execution_count": 13,
     "metadata": {},
     "output_type": "execute_result"
    }
   ],
   "source": [
    "X_test['Hourly_Forecast_ARIMA']= hourly_predictions\n",
    "\n",
    "X_test"
   ]
  },
  {
   "cell_type": "code",
   "execution_count": 14,
   "metadata": {
    "colab": {
     "base_uri": "https://localhost:8080/",
     "height": 423
    },
    "id": "S4cIUyz79ozI",
    "outputId": "54856b4c-31f7-420e-c787-a954aec6ce66"
   },
   "outputs": [
    {
     "data": {
      "text/html": [
       "<div>\n",
       "<style scoped>\n",
       "    .dataframe tbody tr th:only-of-type {\n",
       "        vertical-align: middle;\n",
       "    }\n",
       "\n",
       "    .dataframe tbody tr th {\n",
       "        vertical-align: top;\n",
       "    }\n",
       "\n",
       "    .dataframe thead th {\n",
       "        text-align: right;\n",
       "    }\n",
       "</style>\n",
       "<table border=\"1\" class=\"dataframe\">\n",
       "  <thead>\n",
       "    <tr style=\"text-align: right;\">\n",
       "      <th></th>\n",
       "      <th>date</th>\n",
       "      <th>close</th>\n",
       "      <th>Hourly_Forecast_ARIMA</th>\n",
       "    </tr>\n",
       "  </thead>\n",
       "  <tbody>\n",
       "    <tr>\n",
       "      <th>28730</th>\n",
       "      <td>2023-04-12 02:00:00</td>\n",
       "      <td>29916.16</td>\n",
       "      <td>30170.80</td>\n",
       "    </tr>\n",
       "    <tr>\n",
       "      <th>28731</th>\n",
       "      <td>2023-04-12 03:00:00</td>\n",
       "      <td>29922.04</td>\n",
       "      <td>29916.16</td>\n",
       "    </tr>\n",
       "    <tr>\n",
       "      <th>28732</th>\n",
       "      <td>2023-04-12 04:00:00</td>\n",
       "      <td>29978.58</td>\n",
       "      <td>29922.04</td>\n",
       "    </tr>\n",
       "    <tr>\n",
       "      <th>28733</th>\n",
       "      <td>2023-04-12 05:00:00</td>\n",
       "      <td>29920.00</td>\n",
       "      <td>29978.58</td>\n",
       "    </tr>\n",
       "    <tr>\n",
       "      <th>28734</th>\n",
       "      <td>2023-04-12 06:00:00</td>\n",
       "      <td>29932.89</td>\n",
       "      <td>29920.00</td>\n",
       "    </tr>\n",
       "    <tr>\n",
       "      <th>...</th>\n",
       "      <td>...</td>\n",
       "      <td>...</td>\n",
       "      <td>...</td>\n",
       "    </tr>\n",
       "    <tr>\n",
       "      <th>29923</th>\n",
       "      <td>2023-05-31 19:00:00</td>\n",
       "      <td>27010.57</td>\n",
       "      <td>27037.06</td>\n",
       "    </tr>\n",
       "    <tr>\n",
       "      <th>29924</th>\n",
       "      <td>2023-05-31 20:00:00</td>\n",
       "      <td>27114.20</td>\n",
       "      <td>27010.57</td>\n",
       "    </tr>\n",
       "    <tr>\n",
       "      <th>29925</th>\n",
       "      <td>2023-05-31 21:00:00</td>\n",
       "      <td>27090.79</td>\n",
       "      <td>27114.20</td>\n",
       "    </tr>\n",
       "    <tr>\n",
       "      <th>29926</th>\n",
       "      <td>2023-05-31 22:00:00</td>\n",
       "      <td>27183.98</td>\n",
       "      <td>27090.79</td>\n",
       "    </tr>\n",
       "    <tr>\n",
       "      <th>29927</th>\n",
       "      <td>2023-05-31 23:00:00</td>\n",
       "      <td>27210.35</td>\n",
       "      <td>27183.98</td>\n",
       "    </tr>\n",
       "  </tbody>\n",
       "</table>\n",
       "<p>1198 rows × 3 columns</p>\n",
       "</div>"
      ],
      "text/plain": [
       "                     date     close  Hourly_Forecast_ARIMA\n",
       "28730 2023-04-12 02:00:00  29916.16               30170.80\n",
       "28731 2023-04-12 03:00:00  29922.04               29916.16\n",
       "28732 2023-04-12 04:00:00  29978.58               29922.04\n",
       "28733 2023-04-12 05:00:00  29920.00               29978.58\n",
       "28734 2023-04-12 06:00:00  29932.89               29920.00\n",
       "...                   ...       ...                    ...\n",
       "29923 2023-05-31 19:00:00  27010.57               27037.06\n",
       "29924 2023-05-31 20:00:00  27114.20               27010.57\n",
       "29925 2023-05-31 21:00:00  27090.79               27114.20\n",
       "29926 2023-05-31 22:00:00  27183.98               27090.79\n",
       "29927 2023-05-31 23:00:00  27210.35               27183.98\n",
       "\n",
       "[1198 rows x 3 columns]"
      ]
     },
     "execution_count": 14,
     "metadata": {},
     "output_type": "execute_result"
    }
   ],
   "source": [
    "merged_df = pd.merge(bitcoin_df[[\"date\", \"close\"]], X_test['Hourly_Forecast_ARIMA'], left_index=True, right_index=True)\n",
    "\n",
    "merged_df"
   ]
  },
  {
   "cell_type": "code",
   "execution_count": 15,
   "metadata": {
    "colab": {
     "base_uri": "https://localhost:8080/",
     "height": 480
    },
    "id": "vbjUZLz1IjTD",
    "outputId": "72b8720d-3979-49ce-9351-60fff78268ec"
   },
   "outputs": [
    {
     "data": {
      "image/png": "[encoded data removed]",
      "text/plain": [
       "<Figure size 1500x500 with 1 Axes>"
      ]
     },
     "metadata": {},
     "output_type": "display_data"
    }
   ],
   "source": [
    "plt.figure(figsize=(15, 5))\n",
    "\n",
    "plt.plot(merged_df['date'], merged_df['close'], label='Actual Closing Price')\n",
    "plt.plot(merged_df['date'], merged_df['Hourly_Forecast_ARIMA'], label='Forecasted Price')\n",
    "\n",
    "plt.xlabel('Date')\n",
    "plt.ylabel('Price')\n",
    "\n",
    "plt.title('Actual Closing Price vs. Forecasted Price (Hourly)')\n",
    "\n",
    "plt.legend()\n",
    "\n",
    "plt.show()\n"
   ]
  },
  {
   "cell_type": "code",
   "execution_count": 16,
   "metadata": {
    "colab": {
     "base_uri": "https://localhost:8080/"
    },
    "id": "c8cQgNAGIjTE",
    "outputId": "d2896556-b6ab-423c-cdde-7aefaad52243"
   },
   "outputs": [
    {
     "name": "stdout",
     "output_type": "stream",
     "text": [
      "test MAE ARIMA : 77\n",
      "test RMSE ARIMA : 131\n",
      "test R2 ARIMA : 98.86\n"
     ]
    }
   ],
   "source": [
    "# Results ARIMA Hourly Model\n",
    "\n",
    "test_mae_ar_h = round(mean_absolute_error(merged_df['close'], merged_df['Hourly_Forecast_ARIMA']))\n",
    "test_rmse_ar_h = round(np.sqrt(mean_squared_error(merged_df['close'], merged_df['Hourly_Forecast_ARIMA'])))\n",
    "test_r2_ar_h = round((r2_score(merged_df['close'], merged_df['Hourly_Forecast_ARIMA']))*100, 2)\n",
    "\n",
    "\n",
    "print(f\"test MAE ARIMA : {test_mae_ar_h}\")\n",
    "print(f\"test RMSE ARIMA : {test_rmse_ar_h}\")\n",
    "print(f\"test R2 ARIMA : {test_r2_ar_h}\")"
   ]
  },
  {
   "cell_type": "markdown",
   "metadata": {
    "id": "KRTMG-wPG1TZ"
   },
   "source": [
    "## Daily Resampling"
   ]
  },
  {
   "cell_type": "code",
   "execution_count": 18,
   "metadata": {
    "colab": {
     "base_uri": "https://localhost:8080/",
     "height": 206
    },
    "id": "Z9m_wATGQn3-",
    "outputId": "c3137069-44fc-4e34-b57b-9e8b529a9dad"
   },
   "outputs": [
    {
     "data": {
      "text/html": [
       "<div>\n",
       "<style scoped>\n",
       "    .dataframe tbody tr th:only-of-type {\n",
       "        vertical-align: middle;\n",
       "    }\n",
       "\n",
       "    .dataframe tbody tr th {\n",
       "        vertical-align: top;\n",
       "    }\n",
       "\n",
       "    .dataframe thead th {\n",
       "        text-align: right;\n",
       "    }\n",
       "</style>\n",
       "<table border=\"1\" class=\"dataframe\">\n",
       "  <thead>\n",
       "    <tr style=\"text-align: right;\">\n",
       "      <th></th>\n",
       "      <th>date</th>\n",
       "      <th>open</th>\n",
       "      <th>high</th>\n",
       "      <th>low</th>\n",
       "      <th>close</th>\n",
       "      <th>volume</th>\n",
       "      <th>quote_volume</th>\n",
       "      <th>count</th>\n",
       "      <th>taker_buy_volume</th>\n",
       "      <th>taker_buy_quote_volume</th>\n",
       "    </tr>\n",
       "  </thead>\n",
       "  <tbody>\n",
       "    <tr>\n",
       "      <th>0</th>\n",
       "      <td>2020-01-01</td>\n",
       "      <td>7218.471667</td>\n",
       "      <td>7232.376667</td>\n",
       "      <td>7204.774583</td>\n",
       "      <td>7218.757917</td>\n",
       "      <td>699.682840</td>\n",
       "      <td>5.050602e+06</td>\n",
       "      <td>8083.750000</td>\n",
       "      <td>372.789814</td>\n",
       "      <td>2.691574e+06</td>\n",
       "    </tr>\n",
       "    <tr>\n",
       "      <th>1</th>\n",
       "      <td>2020-01-02</td>\n",
       "      <td>7103.439167</td>\n",
       "      <td>7116.637500</td>\n",
       "      <td>7074.882083</td>\n",
       "      <td>7093.695833</td>\n",
       "      <td>1331.311831</td>\n",
       "      <td>9.415931e+06</td>\n",
       "      <td>12611.125000</td>\n",
       "      <td>630.900472</td>\n",
       "      <td>4.460868e+06</td>\n",
       "    </tr>\n",
       "    <tr>\n",
       "      <th>2</th>\n",
       "      <td>2020-01-03</td>\n",
       "      <td>7224.012083</td>\n",
       "      <td>7270.752500</td>\n",
       "      <td>7191.156250</td>\n",
       "      <td>7239.666250</td>\n",
       "      <td>2851.187519</td>\n",
       "      <td>2.062911e+07</td>\n",
       "      <td>21660.583333</td>\n",
       "      <td>1483.145678</td>\n",
       "      <td>1.073805e+07</td>\n",
       "    </tr>\n",
       "    <tr>\n",
       "      <th>3</th>\n",
       "      <td>2020-01-04</td>\n",
       "      <td>7331.726667</td>\n",
       "      <td>7350.464583</td>\n",
       "      <td>7309.783750</td>\n",
       "      <td>7332.066667</td>\n",
       "      <td>1249.498957</td>\n",
       "      <td>9.161427e+06</td>\n",
       "      <td>11640.416667</td>\n",
       "      <td>682.057594</td>\n",
       "      <td>5.001463e+06</td>\n",
       "    </tr>\n",
       "    <tr>\n",
       "      <th>4</th>\n",
       "      <td>2020-01-05</td>\n",
       "      <td>7433.009167</td>\n",
       "      <td>7452.992500</td>\n",
       "      <td>7410.550833</td>\n",
       "      <td>7433.206667</td>\n",
       "      <td>1597.128567</td>\n",
       "      <td>1.186870e+07</td>\n",
       "      <td>13717.041667</td>\n",
       "      <td>810.640399</td>\n",
       "      <td>6.025004e+06</td>\n",
       "    </tr>\n",
       "  </tbody>\n",
       "</table>\n",
       "</div>"
      ],
      "text/plain": [
       "        date         open         high          low        close       volume  \\\n",
       "0 2020-01-01  7218.471667  7232.376667  7204.774583  7218.757917   699.682840   \n",
       "1 2020-01-02  7103.439167  7116.637500  7074.882083  7093.695833  1331.311831   \n",
       "2 2020-01-03  7224.012083  7270.752500  7191.156250  7239.666250  2851.187519   \n",
       "3 2020-01-04  7331.726667  7350.464583  7309.783750  7332.066667  1249.498957   \n",
       "4 2020-01-05  7433.009167  7452.992500  7410.550833  7433.206667  1597.128567   \n",
       "\n",
       "   quote_volume         count  taker_buy_volume  taker_buy_quote_volume  \n",
       "0  5.050602e+06   8083.750000        372.789814            2.691574e+06  \n",
       "1  9.415931e+06  12611.125000        630.900472            4.460868e+06  \n",
       "2  2.062911e+07  21660.583333       1483.145678            1.073805e+07  \n",
       "3  9.161427e+06  11640.416667        682.057594            5.001463e+06  \n",
       "4  1.186870e+07  13717.041667        810.640399            6.025004e+06  "
      ]
     },
     "execution_count": 18,
     "metadata": {},
     "output_type": "execute_result"
    }
   ],
   "source": [
    "# BTC Daily resampling taking the mean value\n",
    "\n",
    "bitcoin_df.set_index('date', inplace=True)  # Set 'date' column as the index\n",
    "\n",
    "bitcoin_daily = bitcoin_df.resample('24H').mean()\n",
    "bitcoin_daily = bitcoin_daily.reset_index()\n",
    "\n",
    "bitcoin_daily.head()"
   ]
  },
  {
   "cell_type": "code",
   "execution_count": 19,
   "metadata": {
    "colab": {
     "base_uri": "https://localhost:8080/"
    },
    "id": "N4O-qYjSEHEP",
    "outputId": "c886e6cf-2536-4c84-e14c-9f1dec6bfdae"
   },
   "outputs": [
    {
     "name": "stdout",
     "output_type": "stream",
     "text": [
      "X_train shape: (997, 7)\n",
      "y_train shape: (997,)\n",
      "X_test shape: (250, 7)\n",
      "y_test shape: (250,)\n"
     ]
    }
   ],
   "source": [
    "# Define the features and target variable\n",
    "columns = ['open', 'high', 'low', 'volume', 'quote_volume', 'taker_buy_volume', 'taker_buy_quote_volume']\n",
    "\n",
    "X = bitcoin_daily[columns]\n",
    "y = bitcoin_daily['close']\n",
    "\n",
    "# Split the data into training and test sets (we select a small test set due to the length of the iterations)\n",
    "X_train, X_test, y_train, y_test = train_test_split(X, y, test_size=0.2, shuffle=False)\n",
    "\n",
    "# Print the shape of the training and test sets\n",
    "print(\"X_train shape:\", X_train.shape)\n",
    "print(\"y_train shape:\", y_train.shape)\n",
    "print(\"X_test shape:\", X_test.shape)\n",
    "print(\"y_test shape:\", y_test.shape)\n"
   ]
  },
  {
   "cell_type": "code",
   "execution_count": 20,
   "metadata": {
    "id": "BeAyyWgsBa32"
   },
   "outputs": [],
   "source": [
    "# Creating a list of values\n",
    "\n",
    "training_list = list(y_train)\n",
    "test_list = list(y_test)"
   ]
  },
  {
   "cell_type": "code",
   "execution_count": 21,
   "metadata": {
    "colab": {
     "base_uri": "https://localhost:8080/"
    },
    "id": "AXNMOpbQEeg-",
    "outputId": "e777c065-ba42-4df7-e050-1586fb12190c"
   },
   "outputs": [
    {
     "name": "stdout",
     "output_type": "stream",
     "text": [
      "Performing stepwise search to minimize aic\n",
      " ARIMA(0,1,0)(0,0,0)[0] intercept   : AIC=20784.759, Time=0.02 sec\n",
      " ARIMA(1,1,0)(0,0,0)[0] intercept   : AIC=20746.704, Time=0.04 sec\n",
      " ARIMA(0,1,1)(0,0,0)[0] intercept   : AIC=20747.195, Time=0.07 sec\n",
      " ARIMA(0,1,0)(0,0,0)[0]             : AIC=20784.759, Time=0.02 sec\n",
      " ARIMA(2,1,0)(0,0,0)[0] intercept   : AIC=20748.289, Time=0.05 sec\n",
      " ARIMA(1,1,1)(0,0,0)[0] intercept   : AIC=20748.424, Time=0.12 sec\n",
      " ARIMA(2,1,1)(0,0,0)[0] intercept   : AIC=20750.142, Time=0.24 sec\n",
      " ARIMA(1,1,0)(0,0,0)[0]             : AIC=20746.704, Time=0.04 sec\n",
      "\n",
      "Best model:  ARIMA(1,1,0)(0,0,0)[0]          \n",
      "Total fit time: 0.597 seconds\n"
     ]
    }
   ],
   "source": [
    "series = bitcoin_daily.close\n",
    "\n",
    "arima_model = pm.auto_arima(series,\n",
    "                            start_p=0, max_p=3,\n",
    "                            start_q=0, max_q=3,\n",
    "                            trend='t',\n",
    "                            seasonal=False,\n",
    "                            trace=True)"
   ]
  },
  {
   "cell_type": "code",
   "execution_count": 22,
   "metadata": {
    "colab": {
     "base_uri": "https://localhost:8080/"
    },
    "id": "sFNqILzkBe8F",
    "outputId": "4221e12f-3d76-44ec-bfaf-7705d7649737"
   },
   "outputs": [
    {
     "name": "stdout",
     "output_type": "stream",
     "text": [
      "Iteration: 100\n",
      "Iteration time: 0.024519181251525878 minutes\n",
      "Iteration: 200\n",
      "Iteration time: 0.05007400910059611 minutes\n"
     ]
    }
   ],
   "source": [
    "# Predict the values aggregating to the training list, the previous calculated values in a for loop\n",
    "\n",
    "daily_predictions = []\n",
    "\n",
    "start_time = time.time()  # Start measuring iteration start time\n",
    "\n",
    "for i in range(len(y_test)):\n",
    "    model = ARIMA(training_list, order=(1, 1, 0))\n",
    "    model_fit = model.fit()\n",
    "    daily_forecast = model_fit.forecast()[0]  # Use steps=1 to forecast only one step ahead\n",
    "\n",
    "    daily_predictions.append(daily_forecast)\n",
    "\n",
    "    test_i = test_list[i]\n",
    "    training_list.append(test_i)\n",
    "\n",
    "\n",
    "    # Print the current iteration number every 100 iterations\n",
    "    if (i + 1) % 100 == 0:\n",
    "        print(\"Iteration:\", i + 1)\n",
    "        end_time = time.time()  # Record iteration end time\n",
    "        iteration_time = end_time - start_time  # Calculate iteration time\n",
    "        print(\"Iteration time:\", iteration_time / 60, \"minutes\")  # Convert iteration time to minutes\n"
   ]
  },
  {
   "cell_type": "code",
   "execution_count": 23,
   "metadata": {
    "colab": {
     "base_uri": "https://localhost:8080/",
     "height": 408
    },
    "id": "NXmhEZN8D8gp",
    "outputId": "a356c099-63c5-451a-9f54-abca0d526528"
   },
   "outputs": [
    {
     "data": {
      "text/html": [
       "<table class=\"simpletable\">\n",
       "<caption>SARIMAX Results</caption>\n",
       "<tr>\n",
       "  <th>Dep. Variable:</th>           <td>y</td>        <th>  No. Observations:  </th>    <td>1246</td>   \n",
       "</tr>\n",
       "<tr>\n",
       "  <th>Model:</th>            <td>ARIMA(1, 1, 0)</td>  <th>  Log Likelihood     </th> <td>-10362.368</td>\n",
       "</tr>\n",
       "<tr>\n",
       "  <th>Date:</th>            <td>Sun, 13 Aug 2023</td> <th>  AIC                </th>  <td>20728.736</td>\n",
       "</tr>\n",
       "<tr>\n",
       "  <th>Time:</th>                <td>16:44:45</td>     <th>  BIC                </th>  <td>20738.990</td>\n",
       "</tr>\n",
       "<tr>\n",
       "  <th>Sample:</th>                  <td>0</td>        <th>  HQIC               </th>  <td>20732.592</td>\n",
       "</tr>\n",
       "<tr>\n",
       "  <th></th>                      <td> - 1246</td>     <th>                     </th>      <td> </td>    \n",
       "</tr>\n",
       "<tr>\n",
       "  <th>Covariance Type:</th>        <td>opg</td>       <th>                     </th>      <td> </td>    \n",
       "</tr>\n",
       "</table>\n",
       "<table class=\"simpletable\">\n",
       "<tr>\n",
       "     <td></td>       <th>coef</th>     <th>std err</th>      <th>z</th>      <th>P>|z|</th>  <th>[0.025</th>    <th>0.975]</th>  \n",
       "</tr>\n",
       "<tr>\n",
       "  <th>ar.L1</th>  <td>    0.1769</td> <td>    0.020</td> <td>    8.894</td> <td> 0.000</td> <td>    0.138</td> <td>    0.216</td>\n",
       "</tr>\n",
       "<tr>\n",
       "  <th>sigma2</th> <td> 9.933e+05</td> <td>  1.9e+04</td> <td>   52.381</td> <td> 0.000</td> <td> 9.56e+05</td> <td> 1.03e+06</td>\n",
       "</tr>\n",
       "</table>\n",
       "<table class=\"simpletable\">\n",
       "<tr>\n",
       "  <th>Ljung-Box (L1) (Q):</th>     <td>0.03</td> <th>  Jarque-Bera (JB):  </th> <td>2843.52</td>\n",
       "</tr>\n",
       "<tr>\n",
       "  <th>Prob(Q):</th>                <td>0.85</td> <th>  Prob(JB):          </th>  <td>0.00</td>  \n",
       "</tr>\n",
       "<tr>\n",
       "  <th>Heteroskedasticity (H):</th> <td>0.72</td> <th>  Skew:              </th>  <td>-0.70</td> \n",
       "</tr>\n",
       "<tr>\n",
       "  <th>Prob(H) (two-sided):</th>    <td>0.00</td> <th>  Kurtosis:          </th>  <td>10.27</td> \n",
       "</tr>\n",
       "</table><br/><br/>Warnings:<br/>[1] Covariance matrix calculated using the outer product of gradients (complex-step)."
      ],
      "text/latex": [
       "\\begin{center}\n",
       "\\begin{tabular}{lclc}\n",
       "\\toprule\n",
       "\\textbf{Dep. Variable:}          &        y         & \\textbf{  No. Observations:  } &    1246     \\\\\n",
       "\\textbf{Model:}                  &  ARIMA(1, 1, 0)  & \\textbf{  Log Likelihood     } & -10362.368  \\\\\n",
       "\\textbf{Date:}                   & Sun, 13 Aug 2023 & \\textbf{  AIC                } & 20728.736   \\\\\n",
       "\\textbf{Time:}                   &     16:44:45     & \\textbf{  BIC                } & 20738.990   \\\\\n",
       "\\textbf{Sample:}                 &        0         & \\textbf{  HQIC               } & 20732.592   \\\\\n",
       "\\textbf{}                        &      - 1246      & \\textbf{                     } &             \\\\\n",
       "\\textbf{Covariance Type:}        &       opg        & \\textbf{                     } &             \\\\\n",
       "\\bottomrule\n",
       "\\end{tabular}\n",
       "\\begin{tabular}{lcccccc}\n",
       "                & \\textbf{coef} & \\textbf{std err} & \\textbf{z} & \\textbf{P$> |$z$|$} & \\textbf{[0.025} & \\textbf{0.975]}  \\\\\n",
       "\\midrule\n",
       "\\textbf{ar.L1}  &       0.1769  &        0.020     &     8.894  &         0.000        &        0.138    &        0.216     \\\\\n",
       "\\textbf{sigma2} &    9.933e+05  &      1.9e+04     &    52.381  &         0.000        &     9.56e+05    &     1.03e+06     \\\\\n",
       "\\bottomrule\n",
       "\\end{tabular}\n",
       "\\begin{tabular}{lclc}\n",
       "\\textbf{Ljung-Box (L1) (Q):}     & 0.03 & \\textbf{  Jarque-Bera (JB):  } & 2843.52  \\\\\n",
       "\\textbf{Prob(Q):}                & 0.85 & \\textbf{  Prob(JB):          } &   0.00   \\\\\n",
       "\\textbf{Heteroskedasticity (H):} & 0.72 & \\textbf{  Skew:              } &  -0.70   \\\\\n",
       "\\textbf{Prob(H) (two-sided):}    & 0.00 & \\textbf{  Kurtosis:          } &  10.27   \\\\\n",
       "\\bottomrule\n",
       "\\end{tabular}\n",
       "%\\caption{SARIMAX Results}\n",
       "\\end{center}\n",
       "\n",
       "Warnings: \\newline\n",
       " [1] Covariance matrix calculated using the outer product of gradients (complex-step)."
      ],
      "text/plain": [
       "<class 'statsmodels.iolib.summary.Summary'>\n",
       "\"\"\"\n",
       "                               SARIMAX Results                                \n",
       "==============================================================================\n",
       "Dep. Variable:                      y   No. Observations:                 1246\n",
       "Model:                 ARIMA(1, 1, 0)   Log Likelihood              -10362.368\n",
       "Date:                Sun, 13 Aug 2023   AIC                          20728.736\n",
       "Time:                        16:44:45   BIC                          20738.990\n",
       "Sample:                             0   HQIC                         20732.592\n",
       "                               - 1246                                         \n",
       "Covariance Type:                  opg                                         \n",
       "==============================================================================\n",
       "                 coef    std err          z      P>|z|      [0.025      0.975]\n",
       "------------------------------------------------------------------------------\n",
       "ar.L1          0.1769      0.020      8.894      0.000       0.138       0.216\n",
       "sigma2      9.933e+05    1.9e+04     52.381      0.000    9.56e+05    1.03e+06\n",
       "===================================================================================\n",
       "Ljung-Box (L1) (Q):                   0.03   Jarque-Bera (JB):              2843.52\n",
       "Prob(Q):                              0.85   Prob(JB):                         0.00\n",
       "Heteroskedasticity (H):               0.72   Skew:                            -0.70\n",
       "Prob(H) (two-sided):                  0.00   Kurtosis:                        10.27\n",
       "===================================================================================\n",
       "\n",
       "Warnings:\n",
       "[1] Covariance matrix calculated using the outer product of gradients (complex-step).\n",
       "\"\"\""
      ]
     },
     "execution_count": 23,
     "metadata": {},
     "output_type": "execute_result"
    }
   ],
   "source": [
    "model_fit.summary()"
   ]
  },
  {
   "cell_type": "markdown",
   "metadata": {
    "id": "17uVLgejDz5G"
   },
   "source": [
    "### Plots Daily"
   ]
  },
  {
   "cell_type": "code",
   "execution_count": 24,
   "metadata": {
    "colab": {
     "base_uri": "https://localhost:8080/",
     "height": 423
    },
    "id": "GSz05nlIE6tg",
    "outputId": "4c0742f6-bfa6-4ef4-c3aa-66da31808632"
   },
   "outputs": [
    {
     "data": {
      "text/html": [
       "<div>\n",
       "<style scoped>\n",
       "    .dataframe tbody tr th:only-of-type {\n",
       "        vertical-align: middle;\n",
       "    }\n",
       "\n",
       "    .dataframe tbody tr th {\n",
       "        vertical-align: top;\n",
       "    }\n",
       "\n",
       "    .dataframe thead th {\n",
       "        text-align: right;\n",
       "    }\n",
       "</style>\n",
       "<table border=\"1\" class=\"dataframe\">\n",
       "  <thead>\n",
       "    <tr style=\"text-align: right;\">\n",
       "      <th></th>\n",
       "      <th>open</th>\n",
       "      <th>high</th>\n",
       "      <th>low</th>\n",
       "      <th>volume</th>\n",
       "      <th>quote_volume</th>\n",
       "      <th>taker_buy_volume</th>\n",
       "      <th>taker_buy_quote_volume</th>\n",
       "      <th>Daily_Forecast_ARIMA</th>\n",
       "    </tr>\n",
       "  </thead>\n",
       "  <tbody>\n",
       "    <tr>\n",
       "      <th>997</th>\n",
       "      <td>19093.700417</td>\n",
       "      <td>19142.074167</td>\n",
       "      <td>19015.950833</td>\n",
       "      <td>9979.023644</td>\n",
       "      <td>1.903720e+08</td>\n",
       "      <td>5020.887738</td>\n",
       "      <td>9.579082e+07</td>\n",
       "      <td>19051.010007</td>\n",
       "    </tr>\n",
       "    <tr>\n",
       "      <th>998</th>\n",
       "      <td>18978.675417</td>\n",
       "      <td>19035.545000</td>\n",
       "      <td>18913.307917</td>\n",
       "      <td>7966.310383</td>\n",
       "      <td>1.510474e+08</td>\n",
       "      <td>3957.891519</td>\n",
       "      <td>7.505123e+07</td>\n",
       "      <td>19084.216627</td>\n",
       "    </tr>\n",
       "    <tr>\n",
       "      <th>999</th>\n",
       "      <td>19006.716250</td>\n",
       "      <td>19106.247500</td>\n",
       "      <td>18929.165833</td>\n",
       "      <td>18301.634143</td>\n",
       "      <td>3.482063e+08</td>\n",
       "      <td>9192.637464</td>\n",
       "      <td>1.749169e+08</td>\n",
       "      <td>18956.064212</td>\n",
       "    </tr>\n",
       "    <tr>\n",
       "      <th>1000</th>\n",
       "      <td>19746.612083</td>\n",
       "      <td>19867.830833</td>\n",
       "      <td>19609.894167</td>\n",
       "      <td>24719.197567</td>\n",
       "      <td>4.877404e+08</td>\n",
       "      <td>12363.654608</td>\n",
       "      <td>2.440269e+08</td>\n",
       "      <td>19032.708982</td>\n",
       "    </tr>\n",
       "    <tr>\n",
       "      <th>1001</th>\n",
       "      <td>19111.386250</td>\n",
       "      <td>19241.439583</td>\n",
       "      <td>19004.565000</td>\n",
       "      <td>21724.393978</td>\n",
       "      <td>4.151858e+08</td>\n",
       "      <td>10872.682549</td>\n",
       "      <td>2.078431e+08</td>\n",
       "      <td>19863.129809</td>\n",
       "    </tr>\n",
       "    <tr>\n",
       "      <th>...</th>\n",
       "      <td>...</td>\n",
       "      <td>...</td>\n",
       "      <td>...</td>\n",
       "      <td>...</td>\n",
       "      <td>...</td>\n",
       "      <td>...</td>\n",
       "      <td>...</td>\n",
       "      <td>...</td>\n",
       "    </tr>\n",
       "    <tr>\n",
       "      <th>1242</th>\n",
       "      <td>26715.187083</td>\n",
       "      <td>26756.950417</td>\n",
       "      <td>26684.626667</td>\n",
       "      <td>628.986946</td>\n",
       "      <td>1.680572e+07</td>\n",
       "      <td>298.012532</td>\n",
       "      <td>7.963192e+06</td>\n",
       "      <td>26614.262273</td>\n",
       "    </tr>\n",
       "    <tr>\n",
       "      <th>1243</th>\n",
       "      <td>27281.582083</td>\n",
       "      <td>27402.955833</td>\n",
       "      <td>27251.260833</td>\n",
       "      <td>1829.833690</td>\n",
       "      <td>5.024010e+07</td>\n",
       "      <td>972.773278</td>\n",
       "      <td>2.670289e+07</td>\n",
       "      <td>26748.529021</td>\n",
       "    </tr>\n",
       "    <tr>\n",
       "      <th>1244</th>\n",
       "      <td>27863.837917</td>\n",
       "      <td>27929.289583</td>\n",
       "      <td>27789.503750</td>\n",
       "      <td>1766.059144</td>\n",
       "      <td>4.927827e+07</td>\n",
       "      <td>841.660555</td>\n",
       "      <td>2.348842e+07</td>\n",
       "      <td>27439.966563</td>\n",
       "    </tr>\n",
       "    <tr>\n",
       "      <th>1245</th>\n",
       "      <td>27778.508333</td>\n",
       "      <td>27848.399583</td>\n",
       "      <td>27708.763750</td>\n",
       "      <td>1361.948071</td>\n",
       "      <td>3.786058e+07</td>\n",
       "      <td>633.188516</td>\n",
       "      <td>1.760161e+07</td>\n",
       "      <td>27941.828688</td>\n",
       "    </tr>\n",
       "    <tr>\n",
       "      <th>1246</th>\n",
       "      <td>27216.077917</td>\n",
       "      <td>27273.255833</td>\n",
       "      <td>27126.052917</td>\n",
       "      <td>1941.200239</td>\n",
       "      <td>5.274801e+07</td>\n",
       "      <td>915.111177</td>\n",
       "      <td>2.485391e+07</td>\n",
       "      <td>27763.775416</td>\n",
       "    </tr>\n",
       "  </tbody>\n",
       "</table>\n",
       "<p>250 rows × 8 columns</p>\n",
       "</div>"
      ],
      "text/plain": [
       "              open          high           low        volume  quote_volume  \\\n",
       "997   19093.700417  19142.074167  19015.950833   9979.023644  1.903720e+08   \n",
       "998   18978.675417  19035.545000  18913.307917   7966.310383  1.510474e+08   \n",
       "999   19006.716250  19106.247500  18929.165833  18301.634143  3.482063e+08   \n",
       "1000  19746.612083  19867.830833  19609.894167  24719.197567  4.877404e+08   \n",
       "1001  19111.386250  19241.439583  19004.565000  21724.393978  4.151858e+08   \n",
       "...            ...           ...           ...           ...           ...   \n",
       "1242  26715.187083  26756.950417  26684.626667    628.986946  1.680572e+07   \n",
       "1243  27281.582083  27402.955833  27251.260833   1829.833690  5.024010e+07   \n",
       "1244  27863.837917  27929.289583  27789.503750   1766.059144  4.927827e+07   \n",
       "1245  27778.508333  27848.399583  27708.763750   1361.948071  3.786058e+07   \n",
       "1246  27216.077917  27273.255833  27126.052917   1941.200239  5.274801e+07   \n",
       "\n",
       "      taker_buy_volume  taker_buy_quote_volume  Daily_Forecast_ARIMA  \n",
       "997        5020.887738            9.579082e+07          19051.010007  \n",
       "998        3957.891519            7.505123e+07          19084.216627  \n",
       "999        9192.637464            1.749169e+08          18956.064212  \n",
       "1000      12363.654608            2.440269e+08          19032.708982  \n",
       "1001      10872.682549            2.078431e+08          19863.129809  \n",
       "...                ...                     ...                   ...  \n",
       "1242        298.012532            7.963192e+06          26614.262273  \n",
       "1243        972.773278            2.670289e+07          26748.529021  \n",
       "1244        841.660555            2.348842e+07          27439.966563  \n",
       "1245        633.188516            1.760161e+07          27941.828688  \n",
       "1246        915.111177            2.485391e+07          27763.775416  \n",
       "\n",
       "[250 rows x 8 columns]"
      ]
     },
     "execution_count": 24,
     "metadata": {},
     "output_type": "execute_result"
    }
   ],
   "source": [
    "X_test['Daily_Forecast_ARIMA']= daily_predictions\n",
    "\n",
    "X_test"
   ]
  },
  {
   "cell_type": "code",
   "execution_count": 25,
   "metadata": {
    "colab": {
     "base_uri": "https://localhost:8080/",
     "height": 423
    },
    "id": "FgXVMSgXE992",
    "outputId": "4d0eb411-ea4f-4dc4-c45d-caa634a4fe3a"
   },
   "outputs": [
    {
     "data": {
      "text/html": [
       "<div>\n",
       "<style scoped>\n",
       "    .dataframe tbody tr th:only-of-type {\n",
       "        vertical-align: middle;\n",
       "    }\n",
       "\n",
       "    .dataframe tbody tr th {\n",
       "        vertical-align: top;\n",
       "    }\n",
       "\n",
       "    .dataframe thead th {\n",
       "        text-align: right;\n",
       "    }\n",
       "</style>\n",
       "<table border=\"1\" class=\"dataframe\">\n",
       "  <thead>\n",
       "    <tr style=\"text-align: right;\">\n",
       "      <th></th>\n",
       "      <th>date</th>\n",
       "      <th>close</th>\n",
       "      <th>Daily_Forecast_ARIMA</th>\n",
       "    </tr>\n",
       "  </thead>\n",
       "  <tbody>\n",
       "    <tr>\n",
       "      <th>997</th>\n",
       "      <td>2022-09-24</td>\n",
       "      <td>19078.284167</td>\n",
       "      <td>19051.010007</td>\n",
       "    </tr>\n",
       "    <tr>\n",
       "      <th>998</th>\n",
       "      <td>2022-09-25</td>\n",
       "      <td>18973.875000</td>\n",
       "      <td>19084.216627</td>\n",
       "    </tr>\n",
       "    <tr>\n",
       "      <th>999</th>\n",
       "      <td>2022-09-26</td>\n",
       "      <td>19024.135417</td>\n",
       "      <td>18956.064212</td>\n",
       "    </tr>\n",
       "    <tr>\n",
       "      <th>1000</th>\n",
       "      <td>2022-09-27</td>\n",
       "      <td>19740.849167</td>\n",
       "      <td>19032.708982</td>\n",
       "    </tr>\n",
       "    <tr>\n",
       "      <th>1001</th>\n",
       "      <td>2022-09-28</td>\n",
       "      <td>19125.247500</td>\n",
       "      <td>19863.129809</td>\n",
       "    </tr>\n",
       "    <tr>\n",
       "      <th>...</th>\n",
       "      <td>...</td>\n",
       "      <td>...</td>\n",
       "      <td>...</td>\n",
       "    </tr>\n",
       "    <tr>\n",
       "      <th>1242</th>\n",
       "      <td>2023-05-27</td>\n",
       "      <td>26721.367917</td>\n",
       "      <td>26614.262273</td>\n",
       "    </tr>\n",
       "    <tr>\n",
       "      <th>1243</th>\n",
       "      <td>2023-05-28</td>\n",
       "      <td>27332.027917</td>\n",
       "      <td>26748.529021</td>\n",
       "    </tr>\n",
       "    <tr>\n",
       "      <th>1244</th>\n",
       "      <td>2023-05-29</td>\n",
       "      <td>27850.146250</td>\n",
       "      <td>27439.966563</td>\n",
       "    </tr>\n",
       "    <tr>\n",
       "      <th>1245</th>\n",
       "      <td>2023-05-30</td>\n",
       "      <td>27776.757083</td>\n",
       "      <td>27941.828688</td>\n",
       "    </tr>\n",
       "    <tr>\n",
       "      <th>1246</th>\n",
       "      <td>2023-05-31</td>\n",
       "      <td>27195.912083</td>\n",
       "      <td>27763.775416</td>\n",
       "    </tr>\n",
       "  </tbody>\n",
       "</table>\n",
       "<p>250 rows × 3 columns</p>\n",
       "</div>"
      ],
      "text/plain": [
       "           date         close  Daily_Forecast_ARIMA\n",
       "997  2022-09-24  19078.284167          19051.010007\n",
       "998  2022-09-25  18973.875000          19084.216627\n",
       "999  2022-09-26  19024.135417          18956.064212\n",
       "1000 2022-09-27  19740.849167          19032.708982\n",
       "1001 2022-09-28  19125.247500          19863.129809\n",
       "...         ...           ...                   ...\n",
       "1242 2023-05-27  26721.367917          26614.262273\n",
       "1243 2023-05-28  27332.027917          26748.529021\n",
       "1244 2023-05-29  27850.146250          27439.966563\n",
       "1245 2023-05-30  27776.757083          27941.828688\n",
       "1246 2023-05-31  27195.912083          27763.775416\n",
       "\n",
       "[250 rows x 3 columns]"
      ]
     },
     "execution_count": 25,
     "metadata": {},
     "output_type": "execute_result"
    }
   ],
   "source": [
    "merged_df = pd.merge(bitcoin_daily[[\"date\", \"close\"]], X_test['Daily_Forecast_ARIMA'], left_index=True, right_index=True)\n",
    "\n",
    "merged_df"
   ]
  },
  {
   "cell_type": "code",
   "execution_count": 26,
   "metadata": {
    "colab": {
     "base_uri": "https://localhost:8080/",
     "height": 480
    },
    "id": "NyeAyDh3YDUm",
    "outputId": "6ca72b8d-50b8-45fd-81f8-06c236589110"
   },
   "outputs": [
    {
     "data": {
      "image/png": "[encoded data removed]",
      "text/plain": [
       "<Figure size 1500x500 with 1 Axes>"
      ]
     },
     "metadata": {},
     "output_type": "display_data"
    }
   ],
   "source": [
    "plt.figure(figsize=(15, 5))\n",
    "\n",
    "plt.plot(merged_df['date'], merged_df['close'], label='Actual Closing Price')\n",
    "plt.plot(merged_df['date'], merged_df['Daily_Forecast_ARIMA'], label='Forecasted Price')\n",
    "\n",
    "plt.xlabel('Date')\n",
    "plt.ylabel('Price')\n",
    "\n",
    "plt.title('Actual Closing Price vs. Forecasted Price (Hourly)')\n",
    "\n",
    "plt.legend()\n",
    "\n",
    "plt.show()"
   ]
  },
  {
   "cell_type": "code",
   "execution_count": 27,
   "metadata": {
    "colab": {
     "base_uri": "https://localhost:8080/"
    },
    "id": "fm1pP9iB9VSM",
    "outputId": "2962a2db-c1ca-47db-c6a2-f4624cfc50cc"
   },
   "outputs": [
    {
     "name": "stdout",
     "output_type": "stream",
     "text": [
      "test MAE ARIMA : 310\n",
      "test RMSE ARIMA : 471\n",
      "test R2 ARIMA : 98.88\n"
     ]
    }
   ],
   "source": [
    "# Results ARIMA Daily Model\n",
    "\n",
    "test_mae_ar_d = round(mean_absolute_error(merged_df['close'], merged_df['Daily_Forecast_ARIMA']))\n",
    "test_rmse_ar_d = round(np.sqrt(mean_squared_error(merged_df['close'], merged_df['Daily_Forecast_ARIMA'])))\n",
    "test_r2_ar_d = round((r2_score(merged_df['close'], merged_df['Daily_Forecast_ARIMA']))*100, 2)\n",
    "\n",
    "print(f\"test MAE ARIMA : {test_mae_ar_d}\")\n",
    "print(f\"test RMSE ARIMA : {test_rmse_ar_d}\")\n",
    "print(f\"test R2 ARIMA : {test_r2_ar_d}\")"
   ]
  },
  {
   "cell_type": "markdown",
   "metadata": {
    "id": "tj3o2yPh-cN3"
   },
   "source": [
    "## Results Modeling"
   ]
  },
  {
   "cell_type": "code",
   "execution_count": 28,
   "metadata": {
    "colab": {
     "base_uri": "https://localhost:8080/",
     "height": 143
    },
    "id": "ES9WngVh8Nvo",
    "outputId": "7810f2e7-5447-4233-96b1-d8253283f847"
   },
   "outputs": [
    {
     "data": {
      "text/html": [
       "<div>\n",
       "<style scoped>\n",
       "    .dataframe tbody tr th:only-of-type {\n",
       "        vertical-align: middle;\n",
       "    }\n",
       "\n",
       "    .dataframe tbody tr th {\n",
       "        vertical-align: top;\n",
       "    }\n",
       "\n",
       "    .dataframe thead th {\n",
       "        text-align: right;\n",
       "    }\n",
       "</style>\n",
       "<table border=\"1\" class=\"dataframe\">\n",
       "  <thead>\n",
       "    <tr style=\"text-align: right;\">\n",
       "      <th></th>\n",
       "      <th>METRIC</th>\n",
       "      <th>ARIMA_Daily</th>\n",
       "      <th>ARIMA_Hourly</th>\n",
       "    </tr>\n",
       "  </thead>\n",
       "  <tbody>\n",
       "    <tr>\n",
       "      <th>0</th>\n",
       "      <td>MAE</td>\n",
       "      <td>310.00</td>\n",
       "      <td>77.00</td>\n",
       "    </tr>\n",
       "    <tr>\n",
       "      <th>1</th>\n",
       "      <td>RMSE</td>\n",
       "      <td>471.00</td>\n",
       "      <td>131.00</td>\n",
       "    </tr>\n",
       "    <tr>\n",
       "      <th>2</th>\n",
       "      <td>R2</td>\n",
       "      <td>98.88</td>\n",
       "      <td>98.86</td>\n",
       "    </tr>\n",
       "  </tbody>\n",
       "</table>\n",
       "</div>"
      ],
      "text/plain": [
       "  METRIC  ARIMA_Daily  ARIMA_Hourly\n",
       "0    MAE       310.00         77.00\n",
       "1   RMSE       471.00        131.00\n",
       "2     R2        98.88         98.86"
      ]
     },
     "execution_count": 28,
     "metadata": {},
     "output_type": "execute_result"
    }
   ],
   "source": [
    "# Overall Results\n",
    "\n",
    "results = {\n",
    "    \"METRIC\": [\"MAE\", \"RMSE\", \"R2\"],\n",
    "    \"ARIMA_Daily\": [test_mae_ar_d, test_rmse_ar_d, test_r2_ar_d],\n",
    "    \"ARIMA_Hourly\": [test_mae_ar_h, test_rmse_ar_h, test_r2_ar_h]\n",
    "\n",
    "}\n",
    "\n",
    "df_results = pd.DataFrame(results)\n",
    "df_results"
   ]
  }
 ],
 "metadata": {
  "accelerator": "GPU",
  "colab": {
   "gpuType": "T4",
   "provenance": [],
   "toc_visible": true
  },
  "kernelspec": {
   "display_name": "Python 3 (ipykernel)",
   "language": "python",
   "name": "python3"
  },
  "language_info": {
   "codemirror_mode": {
    "name": "ipython",
    "version": 3
   },
   "file_extension": ".py",
   "mimetype": "text/x-python",
   "name": "python",
   "nbconvert_exporter": "python",
   "pygments_lexer": "ipython3",
   "version": "3.9.17"
  }
 },
 "nbformat": 4,
 "nbformat_minor": 4
}
